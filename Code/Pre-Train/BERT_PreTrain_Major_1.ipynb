{
  "nbformat": 4,
  "nbformat_minor": 0,
  "metadata": {
    "colab": {
      "provenance": []
    },
    "kernelspec": {
      "name": "python3",
      "display_name": "Python 3"
    },
    "language_info": {
      "name": "python"
    },
    "widgets": {
      "application/vnd.jupyter.widget-state+json": {
        "8eb982bb8be8485cbad5645c28589caa": {
          "model_module": "@jupyter-widgets/controls",
          "model_name": "HBoxModel",
          "model_module_version": "1.5.0",
          "state": {
            "_dom_classes": [],
            "_model_module": "@jupyter-widgets/controls",
            "_model_module_version": "1.5.0",
            "_model_name": "HBoxModel",
            "_view_count": null,
            "_view_module": "@jupyter-widgets/controls",
            "_view_module_version": "1.5.0",
            "_view_name": "HBoxView",
            "box_style": "",
            "children": [
              "IPY_MODEL_a2273a34d27140a6b4f4a033a94bee7a",
              "IPY_MODEL_bd6278604e8a4a08870c5f8b23b06734",
              "IPY_MODEL_39d207fa39744d75bacb6dc36527f6de"
            ],
            "layout": "IPY_MODEL_06496409398c4da89b5ff152fee38fd4"
          }
        },
        "a2273a34d27140a6b4f4a033a94bee7a": {
          "model_module": "@jupyter-widgets/controls",
          "model_name": "HTMLModel",
          "model_module_version": "1.5.0",
          "state": {
            "_dom_classes": [],
            "_model_module": "@jupyter-widgets/controls",
            "_model_module_version": "1.5.0",
            "_model_name": "HTMLModel",
            "_view_count": null,
            "_view_module": "@jupyter-widgets/controls",
            "_view_module_version": "1.5.0",
            "_view_name": "HTMLView",
            "description": "",
            "description_tooltip": null,
            "layout": "IPY_MODEL_c488eba411974618b0d1f8b169b4e07e",
            "placeholder": "​",
            "style": "IPY_MODEL_49bf6259f7224cc5a26db85d46d549da",
            "value": "config.json: 100%"
          }
        },
        "bd6278604e8a4a08870c5f8b23b06734": {
          "model_module": "@jupyter-widgets/controls",
          "model_name": "FloatProgressModel",
          "model_module_version": "1.5.0",
          "state": {
            "_dom_classes": [],
            "_model_module": "@jupyter-widgets/controls",
            "_model_module_version": "1.5.0",
            "_model_name": "FloatProgressModel",
            "_view_count": null,
            "_view_module": "@jupyter-widgets/controls",
            "_view_module_version": "1.5.0",
            "_view_name": "ProgressView",
            "bar_style": "success",
            "description": "",
            "description_tooltip": null,
            "layout": "IPY_MODEL_c93f5da012f242488eb51b6c347f1bdb",
            "max": 629,
            "min": 0,
            "orientation": "horizontal",
            "style": "IPY_MODEL_d514616ee9324780944373d8ed76c4c3",
            "value": 629
          }
        },
        "39d207fa39744d75bacb6dc36527f6de": {
          "model_module": "@jupyter-widgets/controls",
          "model_name": "HTMLModel",
          "model_module_version": "1.5.0",
          "state": {
            "_dom_classes": [],
            "_model_module": "@jupyter-widgets/controls",
            "_model_module_version": "1.5.0",
            "_model_name": "HTMLModel",
            "_view_count": null,
            "_view_module": "@jupyter-widgets/controls",
            "_view_module_version": "1.5.0",
            "_view_name": "HTMLView",
            "description": "",
            "description_tooltip": null,
            "layout": "IPY_MODEL_8f5108806bb94a1f84cd66bdbef931ff",
            "placeholder": "​",
            "style": "IPY_MODEL_5ba595a021ea4047b2b8e93bacd70701",
            "value": " 629/629 [00:00&lt;00:00, 22.0kB/s]"
          }
        },
        "06496409398c4da89b5ff152fee38fd4": {
          "model_module": "@jupyter-widgets/base",
          "model_name": "LayoutModel",
          "model_module_version": "1.2.0",
          "state": {
            "_model_module": "@jupyter-widgets/base",
            "_model_module_version": "1.2.0",
            "_model_name": "LayoutModel",
            "_view_count": null,
            "_view_module": "@jupyter-widgets/base",
            "_view_module_version": "1.2.0",
            "_view_name": "LayoutView",
            "align_content": null,
            "align_items": null,
            "align_self": null,
            "border": null,
            "bottom": null,
            "display": null,
            "flex": null,
            "flex_flow": null,
            "grid_area": null,
            "grid_auto_columns": null,
            "grid_auto_flow": null,
            "grid_auto_rows": null,
            "grid_column": null,
            "grid_gap": null,
            "grid_row": null,
            "grid_template_areas": null,
            "grid_template_columns": null,
            "grid_template_rows": null,
            "height": null,
            "justify_content": null,
            "justify_items": null,
            "left": null,
            "margin": null,
            "max_height": null,
            "max_width": null,
            "min_height": null,
            "min_width": null,
            "object_fit": null,
            "object_position": null,
            "order": null,
            "overflow": null,
            "overflow_x": null,
            "overflow_y": null,
            "padding": null,
            "right": null,
            "top": null,
            "visibility": null,
            "width": null
          }
        },
        "c488eba411974618b0d1f8b169b4e07e": {
          "model_module": "@jupyter-widgets/base",
          "model_name": "LayoutModel",
          "model_module_version": "1.2.0",
          "state": {
            "_model_module": "@jupyter-widgets/base",
            "_model_module_version": "1.2.0",
            "_model_name": "LayoutModel",
            "_view_count": null,
            "_view_module": "@jupyter-widgets/base",
            "_view_module_version": "1.2.0",
            "_view_name": "LayoutView",
            "align_content": null,
            "align_items": null,
            "align_self": null,
            "border": null,
            "bottom": null,
            "display": null,
            "flex": null,
            "flex_flow": null,
            "grid_area": null,
            "grid_auto_columns": null,
            "grid_auto_flow": null,
            "grid_auto_rows": null,
            "grid_column": null,
            "grid_gap": null,
            "grid_row": null,
            "grid_template_areas": null,
            "grid_template_columns": null,
            "grid_template_rows": null,
            "height": null,
            "justify_content": null,
            "justify_items": null,
            "left": null,
            "margin": null,
            "max_height": null,
            "max_width": null,
            "min_height": null,
            "min_width": null,
            "object_fit": null,
            "object_position": null,
            "order": null,
            "overflow": null,
            "overflow_x": null,
            "overflow_y": null,
            "padding": null,
            "right": null,
            "top": null,
            "visibility": null,
            "width": null
          }
        },
        "49bf6259f7224cc5a26db85d46d549da": {
          "model_module": "@jupyter-widgets/controls",
          "model_name": "DescriptionStyleModel",
          "model_module_version": "1.5.0",
          "state": {
            "_model_module": "@jupyter-widgets/controls",
            "_model_module_version": "1.5.0",
            "_model_name": "DescriptionStyleModel",
            "_view_count": null,
            "_view_module": "@jupyter-widgets/base",
            "_view_module_version": "1.2.0",
            "_view_name": "StyleView",
            "description_width": ""
          }
        },
        "c93f5da012f242488eb51b6c347f1bdb": {
          "model_module": "@jupyter-widgets/base",
          "model_name": "LayoutModel",
          "model_module_version": "1.2.0",
          "state": {
            "_model_module": "@jupyter-widgets/base",
            "_model_module_version": "1.2.0",
            "_model_name": "LayoutModel",
            "_view_count": null,
            "_view_module": "@jupyter-widgets/base",
            "_view_module_version": "1.2.0",
            "_view_name": "LayoutView",
            "align_content": null,
            "align_items": null,
            "align_self": null,
            "border": null,
            "bottom": null,
            "display": null,
            "flex": null,
            "flex_flow": null,
            "grid_area": null,
            "grid_auto_columns": null,
            "grid_auto_flow": null,
            "grid_auto_rows": null,
            "grid_column": null,
            "grid_gap": null,
            "grid_row": null,
            "grid_template_areas": null,
            "grid_template_columns": null,
            "grid_template_rows": null,
            "height": null,
            "justify_content": null,
            "justify_items": null,
            "left": null,
            "margin": null,
            "max_height": null,
            "max_width": null,
            "min_height": null,
            "min_width": null,
            "object_fit": null,
            "object_position": null,
            "order": null,
            "overflow": null,
            "overflow_x": null,
            "overflow_y": null,
            "padding": null,
            "right": null,
            "top": null,
            "visibility": null,
            "width": null
          }
        },
        "d514616ee9324780944373d8ed76c4c3": {
          "model_module": "@jupyter-widgets/controls",
          "model_name": "ProgressStyleModel",
          "model_module_version": "1.5.0",
          "state": {
            "_model_module": "@jupyter-widgets/controls",
            "_model_module_version": "1.5.0",
            "_model_name": "ProgressStyleModel",
            "_view_count": null,
            "_view_module": "@jupyter-widgets/base",
            "_view_module_version": "1.2.0",
            "_view_name": "StyleView",
            "bar_color": null,
            "description_width": ""
          }
        },
        "8f5108806bb94a1f84cd66bdbef931ff": {
          "model_module": "@jupyter-widgets/base",
          "model_name": "LayoutModel",
          "model_module_version": "1.2.0",
          "state": {
            "_model_module": "@jupyter-widgets/base",
            "_model_module_version": "1.2.0",
            "_model_name": "LayoutModel",
            "_view_count": null,
            "_view_module": "@jupyter-widgets/base",
            "_view_module_version": "1.2.0",
            "_view_name": "LayoutView",
            "align_content": null,
            "align_items": null,
            "align_self": null,
            "border": null,
            "bottom": null,
            "display": null,
            "flex": null,
            "flex_flow": null,
            "grid_area": null,
            "grid_auto_columns": null,
            "grid_auto_flow": null,
            "grid_auto_rows": null,
            "grid_column": null,
            "grid_gap": null,
            "grid_row": null,
            "grid_template_areas": null,
            "grid_template_columns": null,
            "grid_template_rows": null,
            "height": null,
            "justify_content": null,
            "justify_items": null,
            "left": null,
            "margin": null,
            "max_height": null,
            "max_width": null,
            "min_height": null,
            "min_width": null,
            "object_fit": null,
            "object_position": null,
            "order": null,
            "overflow": null,
            "overflow_x": null,
            "overflow_y": null,
            "padding": null,
            "right": null,
            "top": null,
            "visibility": null,
            "width": null
          }
        },
        "5ba595a021ea4047b2b8e93bacd70701": {
          "model_module": "@jupyter-widgets/controls",
          "model_name": "DescriptionStyleModel",
          "model_module_version": "1.5.0",
          "state": {
            "_model_module": "@jupyter-widgets/controls",
            "_model_module_version": "1.5.0",
            "_model_name": "DescriptionStyleModel",
            "_view_count": null,
            "_view_module": "@jupyter-widgets/base",
            "_view_module_version": "1.2.0",
            "_view_name": "StyleView",
            "description_width": ""
          }
        },
        "05df80ac84d249fa8c748a8688bfe3f4": {
          "model_module": "@jupyter-widgets/controls",
          "model_name": "HBoxModel",
          "model_module_version": "1.5.0",
          "state": {
            "_dom_classes": [],
            "_model_module": "@jupyter-widgets/controls",
            "_model_module_version": "1.5.0",
            "_model_name": "HBoxModel",
            "_view_count": null,
            "_view_module": "@jupyter-widgets/controls",
            "_view_module_version": "1.5.0",
            "_view_name": "HBoxView",
            "box_style": "",
            "children": [
              "IPY_MODEL_94002e8aebfd4ef693f8598295c694ce",
              "IPY_MODEL_0f682436ad1e432496c06630d3529688",
              "IPY_MODEL_fcbc633f9f254d2095f786d9b49d0436"
            ],
            "layout": "IPY_MODEL_2703bd97af4f42f3983b57684f8725f7"
          }
        },
        "94002e8aebfd4ef693f8598295c694ce": {
          "model_module": "@jupyter-widgets/controls",
          "model_name": "HTMLModel",
          "model_module_version": "1.5.0",
          "state": {
            "_dom_classes": [],
            "_model_module": "@jupyter-widgets/controls",
            "_model_module_version": "1.5.0",
            "_model_name": "HTMLModel",
            "_view_count": null,
            "_view_module": "@jupyter-widgets/controls",
            "_view_module_version": "1.5.0",
            "_view_name": "HTMLView",
            "description": "",
            "description_tooltip": null,
            "layout": "IPY_MODEL_e0454cb5d3234c8aa96449238bd0a18a",
            "placeholder": "​",
            "style": "IPY_MODEL_f60cb7ba05d849a9816d0d7a3b5f26ef",
            "value": "model.safetensors: 100%"
          }
        },
        "0f682436ad1e432496c06630d3529688": {
          "model_module": "@jupyter-widgets/controls",
          "model_name": "FloatProgressModel",
          "model_module_version": "1.5.0",
          "state": {
            "_dom_classes": [],
            "_model_module": "@jupyter-widgets/controls",
            "_model_module_version": "1.5.0",
            "_model_name": "FloatProgressModel",
            "_view_count": null,
            "_view_module": "@jupyter-widgets/controls",
            "_view_module_version": "1.5.0",
            "_view_name": "ProgressView",
            "bar_style": "success",
            "description": "",
            "description_tooltip": null,
            "layout": "IPY_MODEL_8a96445a82934210aeccabc6b56c4c6f",
            "max": 267832558,
            "min": 0,
            "orientation": "horizontal",
            "style": "IPY_MODEL_d111c85c013148349b3a9fa5ba0bde21",
            "value": 267832558
          }
        },
        "fcbc633f9f254d2095f786d9b49d0436": {
          "model_module": "@jupyter-widgets/controls",
          "model_name": "HTMLModel",
          "model_module_version": "1.5.0",
          "state": {
            "_dom_classes": [],
            "_model_module": "@jupyter-widgets/controls",
            "_model_module_version": "1.5.0",
            "_model_name": "HTMLModel",
            "_view_count": null,
            "_view_module": "@jupyter-widgets/controls",
            "_view_module_version": "1.5.0",
            "_view_name": "HTMLView",
            "description": "",
            "description_tooltip": null,
            "layout": "IPY_MODEL_874d043d050947caba6a9280938033a8",
            "placeholder": "​",
            "style": "IPY_MODEL_3560cff528a14b3493e7e88157ef9ee1",
            "value": " 268M/268M [00:02&lt;00:00, 109MB/s]"
          }
        },
        "2703bd97af4f42f3983b57684f8725f7": {
          "model_module": "@jupyter-widgets/base",
          "model_name": "LayoutModel",
          "model_module_version": "1.2.0",
          "state": {
            "_model_module": "@jupyter-widgets/base",
            "_model_module_version": "1.2.0",
            "_model_name": "LayoutModel",
            "_view_count": null,
            "_view_module": "@jupyter-widgets/base",
            "_view_module_version": "1.2.0",
            "_view_name": "LayoutView",
            "align_content": null,
            "align_items": null,
            "align_self": null,
            "border": null,
            "bottom": null,
            "display": null,
            "flex": null,
            "flex_flow": null,
            "grid_area": null,
            "grid_auto_columns": null,
            "grid_auto_flow": null,
            "grid_auto_rows": null,
            "grid_column": null,
            "grid_gap": null,
            "grid_row": null,
            "grid_template_areas": null,
            "grid_template_columns": null,
            "grid_template_rows": null,
            "height": null,
            "justify_content": null,
            "justify_items": null,
            "left": null,
            "margin": null,
            "max_height": null,
            "max_width": null,
            "min_height": null,
            "min_width": null,
            "object_fit": null,
            "object_position": null,
            "order": null,
            "overflow": null,
            "overflow_x": null,
            "overflow_y": null,
            "padding": null,
            "right": null,
            "top": null,
            "visibility": null,
            "width": null
          }
        },
        "e0454cb5d3234c8aa96449238bd0a18a": {
          "model_module": "@jupyter-widgets/base",
          "model_name": "LayoutModel",
          "model_module_version": "1.2.0",
          "state": {
            "_model_module": "@jupyter-widgets/base",
            "_model_module_version": "1.2.0",
            "_model_name": "LayoutModel",
            "_view_count": null,
            "_view_module": "@jupyter-widgets/base",
            "_view_module_version": "1.2.0",
            "_view_name": "LayoutView",
            "align_content": null,
            "align_items": null,
            "align_self": null,
            "border": null,
            "bottom": null,
            "display": null,
            "flex": null,
            "flex_flow": null,
            "grid_area": null,
            "grid_auto_columns": null,
            "grid_auto_flow": null,
            "grid_auto_rows": null,
            "grid_column": null,
            "grid_gap": null,
            "grid_row": null,
            "grid_template_areas": null,
            "grid_template_columns": null,
            "grid_template_rows": null,
            "height": null,
            "justify_content": null,
            "justify_items": null,
            "left": null,
            "margin": null,
            "max_height": null,
            "max_width": null,
            "min_height": null,
            "min_width": null,
            "object_fit": null,
            "object_position": null,
            "order": null,
            "overflow": null,
            "overflow_x": null,
            "overflow_y": null,
            "padding": null,
            "right": null,
            "top": null,
            "visibility": null,
            "width": null
          }
        },
        "f60cb7ba05d849a9816d0d7a3b5f26ef": {
          "model_module": "@jupyter-widgets/controls",
          "model_name": "DescriptionStyleModel",
          "model_module_version": "1.5.0",
          "state": {
            "_model_module": "@jupyter-widgets/controls",
            "_model_module_version": "1.5.0",
            "_model_name": "DescriptionStyleModel",
            "_view_count": null,
            "_view_module": "@jupyter-widgets/base",
            "_view_module_version": "1.2.0",
            "_view_name": "StyleView",
            "description_width": ""
          }
        },
        "8a96445a82934210aeccabc6b56c4c6f": {
          "model_module": "@jupyter-widgets/base",
          "model_name": "LayoutModel",
          "model_module_version": "1.2.0",
          "state": {
            "_model_module": "@jupyter-widgets/base",
            "_model_module_version": "1.2.0",
            "_model_name": "LayoutModel",
            "_view_count": null,
            "_view_module": "@jupyter-widgets/base",
            "_view_module_version": "1.2.0",
            "_view_name": "LayoutView",
            "align_content": null,
            "align_items": null,
            "align_self": null,
            "border": null,
            "bottom": null,
            "display": null,
            "flex": null,
            "flex_flow": null,
            "grid_area": null,
            "grid_auto_columns": null,
            "grid_auto_flow": null,
            "grid_auto_rows": null,
            "grid_column": null,
            "grid_gap": null,
            "grid_row": null,
            "grid_template_areas": null,
            "grid_template_columns": null,
            "grid_template_rows": null,
            "height": null,
            "justify_content": null,
            "justify_items": null,
            "left": null,
            "margin": null,
            "max_height": null,
            "max_width": null,
            "min_height": null,
            "min_width": null,
            "object_fit": null,
            "object_position": null,
            "order": null,
            "overflow": null,
            "overflow_x": null,
            "overflow_y": null,
            "padding": null,
            "right": null,
            "top": null,
            "visibility": null,
            "width": null
          }
        },
        "d111c85c013148349b3a9fa5ba0bde21": {
          "model_module": "@jupyter-widgets/controls",
          "model_name": "ProgressStyleModel",
          "model_module_version": "1.5.0",
          "state": {
            "_model_module": "@jupyter-widgets/controls",
            "_model_module_version": "1.5.0",
            "_model_name": "ProgressStyleModel",
            "_view_count": null,
            "_view_module": "@jupyter-widgets/base",
            "_view_module_version": "1.2.0",
            "_view_name": "StyleView",
            "bar_color": null,
            "description_width": ""
          }
        },
        "874d043d050947caba6a9280938033a8": {
          "model_module": "@jupyter-widgets/base",
          "model_name": "LayoutModel",
          "model_module_version": "1.2.0",
          "state": {
            "_model_module": "@jupyter-widgets/base",
            "_model_module_version": "1.2.0",
            "_model_name": "LayoutModel",
            "_view_count": null,
            "_view_module": "@jupyter-widgets/base",
            "_view_module_version": "1.2.0",
            "_view_name": "LayoutView",
            "align_content": null,
            "align_items": null,
            "align_self": null,
            "border": null,
            "bottom": null,
            "display": null,
            "flex": null,
            "flex_flow": null,
            "grid_area": null,
            "grid_auto_columns": null,
            "grid_auto_flow": null,
            "grid_auto_rows": null,
            "grid_column": null,
            "grid_gap": null,
            "grid_row": null,
            "grid_template_areas": null,
            "grid_template_columns": null,
            "grid_template_rows": null,
            "height": null,
            "justify_content": null,
            "justify_items": null,
            "left": null,
            "margin": null,
            "max_height": null,
            "max_width": null,
            "min_height": null,
            "min_width": null,
            "object_fit": null,
            "object_position": null,
            "order": null,
            "overflow": null,
            "overflow_x": null,
            "overflow_y": null,
            "padding": null,
            "right": null,
            "top": null,
            "visibility": null,
            "width": null
          }
        },
        "3560cff528a14b3493e7e88157ef9ee1": {
          "model_module": "@jupyter-widgets/controls",
          "model_name": "DescriptionStyleModel",
          "model_module_version": "1.5.0",
          "state": {
            "_model_module": "@jupyter-widgets/controls",
            "_model_module_version": "1.5.0",
            "_model_name": "DescriptionStyleModel",
            "_view_count": null,
            "_view_module": "@jupyter-widgets/base",
            "_view_module_version": "1.2.0",
            "_view_name": "StyleView",
            "description_width": ""
          }
        },
        "0bb3fef355e7464f895f430b4dcd5747": {
          "model_module": "@jupyter-widgets/controls",
          "model_name": "HBoxModel",
          "model_module_version": "1.5.0",
          "state": {
            "_dom_classes": [],
            "_model_module": "@jupyter-widgets/controls",
            "_model_module_version": "1.5.0",
            "_model_name": "HBoxModel",
            "_view_count": null,
            "_view_module": "@jupyter-widgets/controls",
            "_view_module_version": "1.5.0",
            "_view_name": "HBoxView",
            "box_style": "",
            "children": [
              "IPY_MODEL_716745e80154473d921d7f027835aaf9",
              "IPY_MODEL_9432a21ba0c84d0e8205423f88180179",
              "IPY_MODEL_ceeb8a6b1aa54cd4a8cd2746be8a26c7"
            ],
            "layout": "IPY_MODEL_ac2e64d20992498eaff0d602addc6e0a"
          }
        },
        "716745e80154473d921d7f027835aaf9": {
          "model_module": "@jupyter-widgets/controls",
          "model_name": "HTMLModel",
          "model_module_version": "1.5.0",
          "state": {
            "_dom_classes": [],
            "_model_module": "@jupyter-widgets/controls",
            "_model_module_version": "1.5.0",
            "_model_name": "HTMLModel",
            "_view_count": null,
            "_view_module": "@jupyter-widgets/controls",
            "_view_module_version": "1.5.0",
            "_view_name": "HTMLView",
            "description": "",
            "description_tooltip": null,
            "layout": "IPY_MODEL_da9f4cc0cc8842789eef4df4f1e93c32",
            "placeholder": "​",
            "style": "IPY_MODEL_25bf89e96d9f4f7eb406262bf49b4c1a",
            "value": "tokenizer_config.json: 100%"
          }
        },
        "9432a21ba0c84d0e8205423f88180179": {
          "model_module": "@jupyter-widgets/controls",
          "model_name": "FloatProgressModel",
          "model_module_version": "1.5.0",
          "state": {
            "_dom_classes": [],
            "_model_module": "@jupyter-widgets/controls",
            "_model_module_version": "1.5.0",
            "_model_name": "FloatProgressModel",
            "_view_count": null,
            "_view_module": "@jupyter-widgets/controls",
            "_view_module_version": "1.5.0",
            "_view_name": "ProgressView",
            "bar_style": "success",
            "description": "",
            "description_tooltip": null,
            "layout": "IPY_MODEL_9ef96760352e494eac0d59cd12e11d0c",
            "max": 48,
            "min": 0,
            "orientation": "horizontal",
            "style": "IPY_MODEL_0959ac40f1fb4722b0673244bf716692",
            "value": 48
          }
        },
        "ceeb8a6b1aa54cd4a8cd2746be8a26c7": {
          "model_module": "@jupyter-widgets/controls",
          "model_name": "HTMLModel",
          "model_module_version": "1.5.0",
          "state": {
            "_dom_classes": [],
            "_model_module": "@jupyter-widgets/controls",
            "_model_module_version": "1.5.0",
            "_model_name": "HTMLModel",
            "_view_count": null,
            "_view_module": "@jupyter-widgets/controls",
            "_view_module_version": "1.5.0",
            "_view_name": "HTMLView",
            "description": "",
            "description_tooltip": null,
            "layout": "IPY_MODEL_14dc82f3e9e64a3cae33e1860e924569",
            "placeholder": "​",
            "style": "IPY_MODEL_17f02bfc5d55458b919d033135fe37f8",
            "value": " 48.0/48.0 [00:00&lt;00:00, 2.89kB/s]"
          }
        },
        "ac2e64d20992498eaff0d602addc6e0a": {
          "model_module": "@jupyter-widgets/base",
          "model_name": "LayoutModel",
          "model_module_version": "1.2.0",
          "state": {
            "_model_module": "@jupyter-widgets/base",
            "_model_module_version": "1.2.0",
            "_model_name": "LayoutModel",
            "_view_count": null,
            "_view_module": "@jupyter-widgets/base",
            "_view_module_version": "1.2.0",
            "_view_name": "LayoutView",
            "align_content": null,
            "align_items": null,
            "align_self": null,
            "border": null,
            "bottom": null,
            "display": null,
            "flex": null,
            "flex_flow": null,
            "grid_area": null,
            "grid_auto_columns": null,
            "grid_auto_flow": null,
            "grid_auto_rows": null,
            "grid_column": null,
            "grid_gap": null,
            "grid_row": null,
            "grid_template_areas": null,
            "grid_template_columns": null,
            "grid_template_rows": null,
            "height": null,
            "justify_content": null,
            "justify_items": null,
            "left": null,
            "margin": null,
            "max_height": null,
            "max_width": null,
            "min_height": null,
            "min_width": null,
            "object_fit": null,
            "object_position": null,
            "order": null,
            "overflow": null,
            "overflow_x": null,
            "overflow_y": null,
            "padding": null,
            "right": null,
            "top": null,
            "visibility": null,
            "width": null
          }
        },
        "da9f4cc0cc8842789eef4df4f1e93c32": {
          "model_module": "@jupyter-widgets/base",
          "model_name": "LayoutModel",
          "model_module_version": "1.2.0",
          "state": {
            "_model_module": "@jupyter-widgets/base",
            "_model_module_version": "1.2.0",
            "_model_name": "LayoutModel",
            "_view_count": null,
            "_view_module": "@jupyter-widgets/base",
            "_view_module_version": "1.2.0",
            "_view_name": "LayoutView",
            "align_content": null,
            "align_items": null,
            "align_self": null,
            "border": null,
            "bottom": null,
            "display": null,
            "flex": null,
            "flex_flow": null,
            "grid_area": null,
            "grid_auto_columns": null,
            "grid_auto_flow": null,
            "grid_auto_rows": null,
            "grid_column": null,
            "grid_gap": null,
            "grid_row": null,
            "grid_template_areas": null,
            "grid_template_columns": null,
            "grid_template_rows": null,
            "height": null,
            "justify_content": null,
            "justify_items": null,
            "left": null,
            "margin": null,
            "max_height": null,
            "max_width": null,
            "min_height": null,
            "min_width": null,
            "object_fit": null,
            "object_position": null,
            "order": null,
            "overflow": null,
            "overflow_x": null,
            "overflow_y": null,
            "padding": null,
            "right": null,
            "top": null,
            "visibility": null,
            "width": null
          }
        },
        "25bf89e96d9f4f7eb406262bf49b4c1a": {
          "model_module": "@jupyter-widgets/controls",
          "model_name": "DescriptionStyleModel",
          "model_module_version": "1.5.0",
          "state": {
            "_model_module": "@jupyter-widgets/controls",
            "_model_module_version": "1.5.0",
            "_model_name": "DescriptionStyleModel",
            "_view_count": null,
            "_view_module": "@jupyter-widgets/base",
            "_view_module_version": "1.2.0",
            "_view_name": "StyleView",
            "description_width": ""
          }
        },
        "9ef96760352e494eac0d59cd12e11d0c": {
          "model_module": "@jupyter-widgets/base",
          "model_name": "LayoutModel",
          "model_module_version": "1.2.0",
          "state": {
            "_model_module": "@jupyter-widgets/base",
            "_model_module_version": "1.2.0",
            "_model_name": "LayoutModel",
            "_view_count": null,
            "_view_module": "@jupyter-widgets/base",
            "_view_module_version": "1.2.0",
            "_view_name": "LayoutView",
            "align_content": null,
            "align_items": null,
            "align_self": null,
            "border": null,
            "bottom": null,
            "display": null,
            "flex": null,
            "flex_flow": null,
            "grid_area": null,
            "grid_auto_columns": null,
            "grid_auto_flow": null,
            "grid_auto_rows": null,
            "grid_column": null,
            "grid_gap": null,
            "grid_row": null,
            "grid_template_areas": null,
            "grid_template_columns": null,
            "grid_template_rows": null,
            "height": null,
            "justify_content": null,
            "justify_items": null,
            "left": null,
            "margin": null,
            "max_height": null,
            "max_width": null,
            "min_height": null,
            "min_width": null,
            "object_fit": null,
            "object_position": null,
            "order": null,
            "overflow": null,
            "overflow_x": null,
            "overflow_y": null,
            "padding": null,
            "right": null,
            "top": null,
            "visibility": null,
            "width": null
          }
        },
        "0959ac40f1fb4722b0673244bf716692": {
          "model_module": "@jupyter-widgets/controls",
          "model_name": "ProgressStyleModel",
          "model_module_version": "1.5.0",
          "state": {
            "_model_module": "@jupyter-widgets/controls",
            "_model_module_version": "1.5.0",
            "_model_name": "ProgressStyleModel",
            "_view_count": null,
            "_view_module": "@jupyter-widgets/base",
            "_view_module_version": "1.2.0",
            "_view_name": "StyleView",
            "bar_color": null,
            "description_width": ""
          }
        },
        "14dc82f3e9e64a3cae33e1860e924569": {
          "model_module": "@jupyter-widgets/base",
          "model_name": "LayoutModel",
          "model_module_version": "1.2.0",
          "state": {
            "_model_module": "@jupyter-widgets/base",
            "_model_module_version": "1.2.0",
            "_model_name": "LayoutModel",
            "_view_count": null,
            "_view_module": "@jupyter-widgets/base",
            "_view_module_version": "1.2.0",
            "_view_name": "LayoutView",
            "align_content": null,
            "align_items": null,
            "align_self": null,
            "border": null,
            "bottom": null,
            "display": null,
            "flex": null,
            "flex_flow": null,
            "grid_area": null,
            "grid_auto_columns": null,
            "grid_auto_flow": null,
            "grid_auto_rows": null,
            "grid_column": null,
            "grid_gap": null,
            "grid_row": null,
            "grid_template_areas": null,
            "grid_template_columns": null,
            "grid_template_rows": null,
            "height": null,
            "justify_content": null,
            "justify_items": null,
            "left": null,
            "margin": null,
            "max_height": null,
            "max_width": null,
            "min_height": null,
            "min_width": null,
            "object_fit": null,
            "object_position": null,
            "order": null,
            "overflow": null,
            "overflow_x": null,
            "overflow_y": null,
            "padding": null,
            "right": null,
            "top": null,
            "visibility": null,
            "width": null
          }
        },
        "17f02bfc5d55458b919d033135fe37f8": {
          "model_module": "@jupyter-widgets/controls",
          "model_name": "DescriptionStyleModel",
          "model_module_version": "1.5.0",
          "state": {
            "_model_module": "@jupyter-widgets/controls",
            "_model_module_version": "1.5.0",
            "_model_name": "DescriptionStyleModel",
            "_view_count": null,
            "_view_module": "@jupyter-widgets/base",
            "_view_module_version": "1.2.0",
            "_view_name": "StyleView",
            "description_width": ""
          }
        },
        "a9587c47c1554a008bb0ae68f1950895": {
          "model_module": "@jupyter-widgets/controls",
          "model_name": "HBoxModel",
          "model_module_version": "1.5.0",
          "state": {
            "_dom_classes": [],
            "_model_module": "@jupyter-widgets/controls",
            "_model_module_version": "1.5.0",
            "_model_name": "HBoxModel",
            "_view_count": null,
            "_view_module": "@jupyter-widgets/controls",
            "_view_module_version": "1.5.0",
            "_view_name": "HBoxView",
            "box_style": "",
            "children": [
              "IPY_MODEL_f4db404d302d4ab295d2a8355276b7d5",
              "IPY_MODEL_782e1479c3184b2ebed73f63d0f25202",
              "IPY_MODEL_143dab13f0a44651bf8c0bd06e9937d2"
            ],
            "layout": "IPY_MODEL_aa3890db0bc141d58394e980deeafe55"
          }
        },
        "f4db404d302d4ab295d2a8355276b7d5": {
          "model_module": "@jupyter-widgets/controls",
          "model_name": "HTMLModel",
          "model_module_version": "1.5.0",
          "state": {
            "_dom_classes": [],
            "_model_module": "@jupyter-widgets/controls",
            "_model_module_version": "1.5.0",
            "_model_name": "HTMLModel",
            "_view_count": null,
            "_view_module": "@jupyter-widgets/controls",
            "_view_module_version": "1.5.0",
            "_view_name": "HTMLView",
            "description": "",
            "description_tooltip": null,
            "layout": "IPY_MODEL_cea928ed715e4d9da495612582c60c5b",
            "placeholder": "​",
            "style": "IPY_MODEL_92a138c2e62e44c2be5f1438b69dc279",
            "value": "vocab.txt: 100%"
          }
        },
        "782e1479c3184b2ebed73f63d0f25202": {
          "model_module": "@jupyter-widgets/controls",
          "model_name": "FloatProgressModel",
          "model_module_version": "1.5.0",
          "state": {
            "_dom_classes": [],
            "_model_module": "@jupyter-widgets/controls",
            "_model_module_version": "1.5.0",
            "_model_name": "FloatProgressModel",
            "_view_count": null,
            "_view_module": "@jupyter-widgets/controls",
            "_view_module_version": "1.5.0",
            "_view_name": "ProgressView",
            "bar_style": "success",
            "description": "",
            "description_tooltip": null,
            "layout": "IPY_MODEL_4021db24cc5d403f8466dc4630f84629",
            "max": 231508,
            "min": 0,
            "orientation": "horizontal",
            "style": "IPY_MODEL_e0ffdcae627c4d22aba999127dd7d9b3",
            "value": 231508
          }
        },
        "143dab13f0a44651bf8c0bd06e9937d2": {
          "model_module": "@jupyter-widgets/controls",
          "model_name": "HTMLModel",
          "model_module_version": "1.5.0",
          "state": {
            "_dom_classes": [],
            "_model_module": "@jupyter-widgets/controls",
            "_model_module_version": "1.5.0",
            "_model_name": "HTMLModel",
            "_view_count": null,
            "_view_module": "@jupyter-widgets/controls",
            "_view_module_version": "1.5.0",
            "_view_name": "HTMLView",
            "description": "",
            "description_tooltip": null,
            "layout": "IPY_MODEL_c421444dd0664c228613f19b7a6c18d5",
            "placeholder": "​",
            "style": "IPY_MODEL_cab073f1ee5b41a5ac091e1f53f16839",
            "value": " 232k/232k [00:00&lt;00:00, 2.43MB/s]"
          }
        },
        "aa3890db0bc141d58394e980deeafe55": {
          "model_module": "@jupyter-widgets/base",
          "model_name": "LayoutModel",
          "model_module_version": "1.2.0",
          "state": {
            "_model_module": "@jupyter-widgets/base",
            "_model_module_version": "1.2.0",
            "_model_name": "LayoutModel",
            "_view_count": null,
            "_view_module": "@jupyter-widgets/base",
            "_view_module_version": "1.2.0",
            "_view_name": "LayoutView",
            "align_content": null,
            "align_items": null,
            "align_self": null,
            "border": null,
            "bottom": null,
            "display": null,
            "flex": null,
            "flex_flow": null,
            "grid_area": null,
            "grid_auto_columns": null,
            "grid_auto_flow": null,
            "grid_auto_rows": null,
            "grid_column": null,
            "grid_gap": null,
            "grid_row": null,
            "grid_template_areas": null,
            "grid_template_columns": null,
            "grid_template_rows": null,
            "height": null,
            "justify_content": null,
            "justify_items": null,
            "left": null,
            "margin": null,
            "max_height": null,
            "max_width": null,
            "min_height": null,
            "min_width": null,
            "object_fit": null,
            "object_position": null,
            "order": null,
            "overflow": null,
            "overflow_x": null,
            "overflow_y": null,
            "padding": null,
            "right": null,
            "top": null,
            "visibility": null,
            "width": null
          }
        },
        "cea928ed715e4d9da495612582c60c5b": {
          "model_module": "@jupyter-widgets/base",
          "model_name": "LayoutModel",
          "model_module_version": "1.2.0",
          "state": {
            "_model_module": "@jupyter-widgets/base",
            "_model_module_version": "1.2.0",
            "_model_name": "LayoutModel",
            "_view_count": null,
            "_view_module": "@jupyter-widgets/base",
            "_view_module_version": "1.2.0",
            "_view_name": "LayoutView",
            "align_content": null,
            "align_items": null,
            "align_self": null,
            "border": null,
            "bottom": null,
            "display": null,
            "flex": null,
            "flex_flow": null,
            "grid_area": null,
            "grid_auto_columns": null,
            "grid_auto_flow": null,
            "grid_auto_rows": null,
            "grid_column": null,
            "grid_gap": null,
            "grid_row": null,
            "grid_template_areas": null,
            "grid_template_columns": null,
            "grid_template_rows": null,
            "height": null,
            "justify_content": null,
            "justify_items": null,
            "left": null,
            "margin": null,
            "max_height": null,
            "max_width": null,
            "min_height": null,
            "min_width": null,
            "object_fit": null,
            "object_position": null,
            "order": null,
            "overflow": null,
            "overflow_x": null,
            "overflow_y": null,
            "padding": null,
            "right": null,
            "top": null,
            "visibility": null,
            "width": null
          }
        },
        "92a138c2e62e44c2be5f1438b69dc279": {
          "model_module": "@jupyter-widgets/controls",
          "model_name": "DescriptionStyleModel",
          "model_module_version": "1.5.0",
          "state": {
            "_model_module": "@jupyter-widgets/controls",
            "_model_module_version": "1.5.0",
            "_model_name": "DescriptionStyleModel",
            "_view_count": null,
            "_view_module": "@jupyter-widgets/base",
            "_view_module_version": "1.2.0",
            "_view_name": "StyleView",
            "description_width": ""
          }
        },
        "4021db24cc5d403f8466dc4630f84629": {
          "model_module": "@jupyter-widgets/base",
          "model_name": "LayoutModel",
          "model_module_version": "1.2.0",
          "state": {
            "_model_module": "@jupyter-widgets/base",
            "_model_module_version": "1.2.0",
            "_model_name": "LayoutModel",
            "_view_count": null,
            "_view_module": "@jupyter-widgets/base",
            "_view_module_version": "1.2.0",
            "_view_name": "LayoutView",
            "align_content": null,
            "align_items": null,
            "align_self": null,
            "border": null,
            "bottom": null,
            "display": null,
            "flex": null,
            "flex_flow": null,
            "grid_area": null,
            "grid_auto_columns": null,
            "grid_auto_flow": null,
            "grid_auto_rows": null,
            "grid_column": null,
            "grid_gap": null,
            "grid_row": null,
            "grid_template_areas": null,
            "grid_template_columns": null,
            "grid_template_rows": null,
            "height": null,
            "justify_content": null,
            "justify_items": null,
            "left": null,
            "margin": null,
            "max_height": null,
            "max_width": null,
            "min_height": null,
            "min_width": null,
            "object_fit": null,
            "object_position": null,
            "order": null,
            "overflow": null,
            "overflow_x": null,
            "overflow_y": null,
            "padding": null,
            "right": null,
            "top": null,
            "visibility": null,
            "width": null
          }
        },
        "e0ffdcae627c4d22aba999127dd7d9b3": {
          "model_module": "@jupyter-widgets/controls",
          "model_name": "ProgressStyleModel",
          "model_module_version": "1.5.0",
          "state": {
            "_model_module": "@jupyter-widgets/controls",
            "_model_module_version": "1.5.0",
            "_model_name": "ProgressStyleModel",
            "_view_count": null,
            "_view_module": "@jupyter-widgets/base",
            "_view_module_version": "1.2.0",
            "_view_name": "StyleView",
            "bar_color": null,
            "description_width": ""
          }
        },
        "c421444dd0664c228613f19b7a6c18d5": {
          "model_module": "@jupyter-widgets/base",
          "model_name": "LayoutModel",
          "model_module_version": "1.2.0",
          "state": {
            "_model_module": "@jupyter-widgets/base",
            "_model_module_version": "1.2.0",
            "_model_name": "LayoutModel",
            "_view_count": null,
            "_view_module": "@jupyter-widgets/base",
            "_view_module_version": "1.2.0",
            "_view_name": "LayoutView",
            "align_content": null,
            "align_items": null,
            "align_self": null,
            "border": null,
            "bottom": null,
            "display": null,
            "flex": null,
            "flex_flow": null,
            "grid_area": null,
            "grid_auto_columns": null,
            "grid_auto_flow": null,
            "grid_auto_rows": null,
            "grid_column": null,
            "grid_gap": null,
            "grid_row": null,
            "grid_template_areas": null,
            "grid_template_columns": null,
            "grid_template_rows": null,
            "height": null,
            "justify_content": null,
            "justify_items": null,
            "left": null,
            "margin": null,
            "max_height": null,
            "max_width": null,
            "min_height": null,
            "min_width": null,
            "object_fit": null,
            "object_position": null,
            "order": null,
            "overflow": null,
            "overflow_x": null,
            "overflow_y": null,
            "padding": null,
            "right": null,
            "top": null,
            "visibility": null,
            "width": null
          }
        },
        "cab073f1ee5b41a5ac091e1f53f16839": {
          "model_module": "@jupyter-widgets/controls",
          "model_name": "DescriptionStyleModel",
          "model_module_version": "1.5.0",
          "state": {
            "_model_module": "@jupyter-widgets/controls",
            "_model_module_version": "1.5.0",
            "_model_name": "DescriptionStyleModel",
            "_view_count": null,
            "_view_module": "@jupyter-widgets/base",
            "_view_module_version": "1.2.0",
            "_view_name": "StyleView",
            "description_width": ""
          }
        },
        "af7fe2e39cda49a78f86f80c1a39c2b5": {
          "model_module": "@jupyter-widgets/controls",
          "model_name": "HBoxModel",
          "model_module_version": "1.5.0",
          "state": {
            "_dom_classes": [],
            "_model_module": "@jupyter-widgets/controls",
            "_model_module_version": "1.5.0",
            "_model_name": "HBoxModel",
            "_view_count": null,
            "_view_module": "@jupyter-widgets/controls",
            "_view_module_version": "1.5.0",
            "_view_name": "HBoxView",
            "box_style": "",
            "children": [
              "IPY_MODEL_5d02fa88143e41c79abd308ae582ced4",
              "IPY_MODEL_bebf0a6044894b0081e558c36a46abc9",
              "IPY_MODEL_763626fbc6974a6392791f37c920c08d"
            ],
            "layout": "IPY_MODEL_2f76b6d4a7d24d6ba93215ece252bf12"
          }
        },
        "5d02fa88143e41c79abd308ae582ced4": {
          "model_module": "@jupyter-widgets/controls",
          "model_name": "HTMLModel",
          "model_module_version": "1.5.0",
          "state": {
            "_dom_classes": [],
            "_model_module": "@jupyter-widgets/controls",
            "_model_module_version": "1.5.0",
            "_model_name": "HTMLModel",
            "_view_count": null,
            "_view_module": "@jupyter-widgets/controls",
            "_view_module_version": "1.5.0",
            "_view_name": "HTMLView",
            "description": "",
            "description_tooltip": null,
            "layout": "IPY_MODEL_1104bc0b8f314ac8b477ffbcd7aae490",
            "placeholder": "​",
            "style": "IPY_MODEL_6883bd7cf4b945d3a5a218189f117dc8",
            "value": "config.json: 100%"
          }
        },
        "bebf0a6044894b0081e558c36a46abc9": {
          "model_module": "@jupyter-widgets/controls",
          "model_name": "FloatProgressModel",
          "model_module_version": "1.5.0",
          "state": {
            "_dom_classes": [],
            "_model_module": "@jupyter-widgets/controls",
            "_model_module_version": "1.5.0",
            "_model_name": "FloatProgressModel",
            "_view_count": null,
            "_view_module": "@jupyter-widgets/controls",
            "_view_module_version": "1.5.0",
            "_view_name": "ProgressView",
            "bar_style": "success",
            "description": "",
            "description_tooltip": null,
            "layout": "IPY_MODEL_ff1a5c149267422b883ebe05fa1dd108",
            "max": 1802,
            "min": 0,
            "orientation": "horizontal",
            "style": "IPY_MODEL_5ee6a74ee69d4cafbc2f6b1c23d7a091",
            "value": 1802
          }
        },
        "763626fbc6974a6392791f37c920c08d": {
          "model_module": "@jupyter-widgets/controls",
          "model_name": "HTMLModel",
          "model_module_version": "1.5.0",
          "state": {
            "_dom_classes": [],
            "_model_module": "@jupyter-widgets/controls",
            "_model_module_version": "1.5.0",
            "_model_name": "HTMLModel",
            "_view_count": null,
            "_view_module": "@jupyter-widgets/controls",
            "_view_module_version": "1.5.0",
            "_view_name": "HTMLView",
            "description": "",
            "description_tooltip": null,
            "layout": "IPY_MODEL_6f58f022cb224a6b87a7c04fc2869750",
            "placeholder": "​",
            "style": "IPY_MODEL_d99b4a9285ac4480b06cb0be62950e75",
            "value": " 1.80k/1.80k [00:00&lt;00:00, 15.0kB/s]"
          }
        },
        "2f76b6d4a7d24d6ba93215ece252bf12": {
          "model_module": "@jupyter-widgets/base",
          "model_name": "LayoutModel",
          "model_module_version": "1.2.0",
          "state": {
            "_model_module": "@jupyter-widgets/base",
            "_model_module_version": "1.2.0",
            "_model_name": "LayoutModel",
            "_view_count": null,
            "_view_module": "@jupyter-widgets/base",
            "_view_module_version": "1.2.0",
            "_view_name": "LayoutView",
            "align_content": null,
            "align_items": null,
            "align_self": null,
            "border": null,
            "bottom": null,
            "display": null,
            "flex": null,
            "flex_flow": null,
            "grid_area": null,
            "grid_auto_columns": null,
            "grid_auto_flow": null,
            "grid_auto_rows": null,
            "grid_column": null,
            "grid_gap": null,
            "grid_row": null,
            "grid_template_areas": null,
            "grid_template_columns": null,
            "grid_template_rows": null,
            "height": null,
            "justify_content": null,
            "justify_items": null,
            "left": null,
            "margin": null,
            "max_height": null,
            "max_width": null,
            "min_height": null,
            "min_width": null,
            "object_fit": null,
            "object_position": null,
            "order": null,
            "overflow": null,
            "overflow_x": null,
            "overflow_y": null,
            "padding": null,
            "right": null,
            "top": null,
            "visibility": null,
            "width": null
          }
        },
        "1104bc0b8f314ac8b477ffbcd7aae490": {
          "model_module": "@jupyter-widgets/base",
          "model_name": "LayoutModel",
          "model_module_version": "1.2.0",
          "state": {
            "_model_module": "@jupyter-widgets/base",
            "_model_module_version": "1.2.0",
            "_model_name": "LayoutModel",
            "_view_count": null,
            "_view_module": "@jupyter-widgets/base",
            "_view_module_version": "1.2.0",
            "_view_name": "LayoutView",
            "align_content": null,
            "align_items": null,
            "align_self": null,
            "border": null,
            "bottom": null,
            "display": null,
            "flex": null,
            "flex_flow": null,
            "grid_area": null,
            "grid_auto_columns": null,
            "grid_auto_flow": null,
            "grid_auto_rows": null,
            "grid_column": null,
            "grid_gap": null,
            "grid_row": null,
            "grid_template_areas": null,
            "grid_template_columns": null,
            "grid_template_rows": null,
            "height": null,
            "justify_content": null,
            "justify_items": null,
            "left": null,
            "margin": null,
            "max_height": null,
            "max_width": null,
            "min_height": null,
            "min_width": null,
            "object_fit": null,
            "object_position": null,
            "order": null,
            "overflow": null,
            "overflow_x": null,
            "overflow_y": null,
            "padding": null,
            "right": null,
            "top": null,
            "visibility": null,
            "width": null
          }
        },
        "6883bd7cf4b945d3a5a218189f117dc8": {
          "model_module": "@jupyter-widgets/controls",
          "model_name": "DescriptionStyleModel",
          "model_module_version": "1.5.0",
          "state": {
            "_model_module": "@jupyter-widgets/controls",
            "_model_module_version": "1.5.0",
            "_model_name": "DescriptionStyleModel",
            "_view_count": null,
            "_view_module": "@jupyter-widgets/base",
            "_view_module_version": "1.2.0",
            "_view_name": "StyleView",
            "description_width": ""
          }
        },
        "ff1a5c149267422b883ebe05fa1dd108": {
          "model_module": "@jupyter-widgets/base",
          "model_name": "LayoutModel",
          "model_module_version": "1.2.0",
          "state": {
            "_model_module": "@jupyter-widgets/base",
            "_model_module_version": "1.2.0",
            "_model_name": "LayoutModel",
            "_view_count": null,
            "_view_module": "@jupyter-widgets/base",
            "_view_module_version": "1.2.0",
            "_view_name": "LayoutView",
            "align_content": null,
            "align_items": null,
            "align_self": null,
            "border": null,
            "bottom": null,
            "display": null,
            "flex": null,
            "flex_flow": null,
            "grid_area": null,
            "grid_auto_columns": null,
            "grid_auto_flow": null,
            "grid_auto_rows": null,
            "grid_column": null,
            "grid_gap": null,
            "grid_row": null,
            "grid_template_areas": null,
            "grid_template_columns": null,
            "grid_template_rows": null,
            "height": null,
            "justify_content": null,
            "justify_items": null,
            "left": null,
            "margin": null,
            "max_height": null,
            "max_width": null,
            "min_height": null,
            "min_width": null,
            "object_fit": null,
            "object_position": null,
            "order": null,
            "overflow": null,
            "overflow_x": null,
            "overflow_y": null,
            "padding": null,
            "right": null,
            "top": null,
            "visibility": null,
            "width": null
          }
        },
        "5ee6a74ee69d4cafbc2f6b1c23d7a091": {
          "model_module": "@jupyter-widgets/controls",
          "model_name": "ProgressStyleModel",
          "model_module_version": "1.5.0",
          "state": {
            "_model_module": "@jupyter-widgets/controls",
            "_model_module_version": "1.5.0",
            "_model_name": "ProgressStyleModel",
            "_view_count": null,
            "_view_module": "@jupyter-widgets/base",
            "_view_module_version": "1.2.0",
            "_view_name": "StyleView",
            "bar_color": null,
            "description_width": ""
          }
        },
        "6f58f022cb224a6b87a7c04fc2869750": {
          "model_module": "@jupyter-widgets/base",
          "model_name": "LayoutModel",
          "model_module_version": "1.2.0",
          "state": {
            "_model_module": "@jupyter-widgets/base",
            "_model_module_version": "1.2.0",
            "_model_name": "LayoutModel",
            "_view_count": null,
            "_view_module": "@jupyter-widgets/base",
            "_view_module_version": "1.2.0",
            "_view_name": "LayoutView",
            "align_content": null,
            "align_items": null,
            "align_self": null,
            "border": null,
            "bottom": null,
            "display": null,
            "flex": null,
            "flex_flow": null,
            "grid_area": null,
            "grid_auto_columns": null,
            "grid_auto_flow": null,
            "grid_auto_rows": null,
            "grid_column": null,
            "grid_gap": null,
            "grid_row": null,
            "grid_template_areas": null,
            "grid_template_columns": null,
            "grid_template_rows": null,
            "height": null,
            "justify_content": null,
            "justify_items": null,
            "left": null,
            "margin": null,
            "max_height": null,
            "max_width": null,
            "min_height": null,
            "min_width": null,
            "object_fit": null,
            "object_position": null,
            "order": null,
            "overflow": null,
            "overflow_x": null,
            "overflow_y": null,
            "padding": null,
            "right": null,
            "top": null,
            "visibility": null,
            "width": null
          }
        },
        "d99b4a9285ac4480b06cb0be62950e75": {
          "model_module": "@jupyter-widgets/controls",
          "model_name": "DescriptionStyleModel",
          "model_module_version": "1.5.0",
          "state": {
            "_model_module": "@jupyter-widgets/controls",
            "_model_module_version": "1.5.0",
            "_model_name": "DescriptionStyleModel",
            "_view_count": null,
            "_view_module": "@jupyter-widgets/base",
            "_view_module_version": "1.2.0",
            "_view_name": "StyleView",
            "description_width": ""
          }
        },
        "985068618a6e4f78b09c053811c5e3ed": {
          "model_module": "@jupyter-widgets/controls",
          "model_name": "HBoxModel",
          "model_module_version": "1.5.0",
          "state": {
            "_dom_classes": [],
            "_model_module": "@jupyter-widgets/controls",
            "_model_module_version": "1.5.0",
            "_model_name": "HBoxModel",
            "_view_count": null,
            "_view_module": "@jupyter-widgets/controls",
            "_view_module_version": "1.5.0",
            "_view_name": "HBoxView",
            "box_style": "",
            "children": [
              "IPY_MODEL_1ae6e0e70fef459b8eb507b6af13099b",
              "IPY_MODEL_d9eb14d30d544601aee2c64ff93ef227",
              "IPY_MODEL_e5e55991e62b41ccacad3b619fc49b49"
            ],
            "layout": "IPY_MODEL_985c084de7194ee58d003e8e3e66c0c7"
          }
        },
        "1ae6e0e70fef459b8eb507b6af13099b": {
          "model_module": "@jupyter-widgets/controls",
          "model_name": "HTMLModel",
          "model_module_version": "1.5.0",
          "state": {
            "_dom_classes": [],
            "_model_module": "@jupyter-widgets/controls",
            "_model_module_version": "1.5.0",
            "_model_name": "HTMLModel",
            "_view_count": null,
            "_view_module": "@jupyter-widgets/controls",
            "_view_module_version": "1.5.0",
            "_view_name": "HTMLView",
            "description": "",
            "description_tooltip": null,
            "layout": "IPY_MODEL_3a6205f1147a433bac74d20eae5b5ca7",
            "placeholder": "​",
            "style": "IPY_MODEL_f88358e3f7944ca78bf97fcf3dfdd758",
            "value": "pytorch_model.bin: 100%"
          }
        },
        "d9eb14d30d544601aee2c64ff93ef227": {
          "model_module": "@jupyter-widgets/controls",
          "model_name": "FloatProgressModel",
          "model_module_version": "1.5.0",
          "state": {
            "_dom_classes": [],
            "_model_module": "@jupyter-widgets/controls",
            "_model_module_version": "1.5.0",
            "_model_name": "FloatProgressModel",
            "_view_count": null,
            "_view_module": "@jupyter-widgets/controls",
            "_view_module_version": "1.5.0",
            "_view_name": "ProgressView",
            "bar_style": "success",
            "description": "",
            "description_tooltip": null,
            "layout": "IPY_MODEL_8c1fb690c9ac4b3ab0c0ee068d5c9142",
            "max": 1222317369,
            "min": 0,
            "orientation": "horizontal",
            "style": "IPY_MODEL_5cc635453a0f4e53befdf3dd2caeb73d",
            "value": 1222317369
          }
        },
        "e5e55991e62b41ccacad3b619fc49b49": {
          "model_module": "@jupyter-widgets/controls",
          "model_name": "HTMLModel",
          "model_module_version": "1.5.0",
          "state": {
            "_dom_classes": [],
            "_model_module": "@jupyter-widgets/controls",
            "_model_module_version": "1.5.0",
            "_model_name": "HTMLModel",
            "_view_count": null,
            "_view_module": "@jupyter-widgets/controls",
            "_view_module_version": "1.5.0",
            "_view_name": "HTMLView",
            "description": "",
            "description_tooltip": null,
            "layout": "IPY_MODEL_28e2c9b214844a5299e7f4bc97a38c28",
            "placeholder": "​",
            "style": "IPY_MODEL_1c0048cc36d241449bdad0ff949c41c9",
            "value": " 1.22G/1.22G [01:04&lt;00:00, 31.4MB/s]"
          }
        },
        "985c084de7194ee58d003e8e3e66c0c7": {
          "model_module": "@jupyter-widgets/base",
          "model_name": "LayoutModel",
          "model_module_version": "1.2.0",
          "state": {
            "_model_module": "@jupyter-widgets/base",
            "_model_module_version": "1.2.0",
            "_model_name": "LayoutModel",
            "_view_count": null,
            "_view_module": "@jupyter-widgets/base",
            "_view_module_version": "1.2.0",
            "_view_name": "LayoutView",
            "align_content": null,
            "align_items": null,
            "align_self": null,
            "border": null,
            "bottom": null,
            "display": null,
            "flex": null,
            "flex_flow": null,
            "grid_area": null,
            "grid_auto_columns": null,
            "grid_auto_flow": null,
            "grid_auto_rows": null,
            "grid_column": null,
            "grid_gap": null,
            "grid_row": null,
            "grid_template_areas": null,
            "grid_template_columns": null,
            "grid_template_rows": null,
            "height": null,
            "justify_content": null,
            "justify_items": null,
            "left": null,
            "margin": null,
            "max_height": null,
            "max_width": null,
            "min_height": null,
            "min_width": null,
            "object_fit": null,
            "object_position": null,
            "order": null,
            "overflow": null,
            "overflow_x": null,
            "overflow_y": null,
            "padding": null,
            "right": null,
            "top": null,
            "visibility": null,
            "width": null
          }
        },
        "3a6205f1147a433bac74d20eae5b5ca7": {
          "model_module": "@jupyter-widgets/base",
          "model_name": "LayoutModel",
          "model_module_version": "1.2.0",
          "state": {
            "_model_module": "@jupyter-widgets/base",
            "_model_module_version": "1.2.0",
            "_model_name": "LayoutModel",
            "_view_count": null,
            "_view_module": "@jupyter-widgets/base",
            "_view_module_version": "1.2.0",
            "_view_name": "LayoutView",
            "align_content": null,
            "align_items": null,
            "align_self": null,
            "border": null,
            "bottom": null,
            "display": null,
            "flex": null,
            "flex_flow": null,
            "grid_area": null,
            "grid_auto_columns": null,
            "grid_auto_flow": null,
            "grid_auto_rows": null,
            "grid_column": null,
            "grid_gap": null,
            "grid_row": null,
            "grid_template_areas": null,
            "grid_template_columns": null,
            "grid_template_rows": null,
            "height": null,
            "justify_content": null,
            "justify_items": null,
            "left": null,
            "margin": null,
            "max_height": null,
            "max_width": null,
            "min_height": null,
            "min_width": null,
            "object_fit": null,
            "object_position": null,
            "order": null,
            "overflow": null,
            "overflow_x": null,
            "overflow_y": null,
            "padding": null,
            "right": null,
            "top": null,
            "visibility": null,
            "width": null
          }
        },
        "f88358e3f7944ca78bf97fcf3dfdd758": {
          "model_module": "@jupyter-widgets/controls",
          "model_name": "DescriptionStyleModel",
          "model_module_version": "1.5.0",
          "state": {
            "_model_module": "@jupyter-widgets/controls",
            "_model_module_version": "1.5.0",
            "_model_name": "DescriptionStyleModel",
            "_view_count": null,
            "_view_module": "@jupyter-widgets/base",
            "_view_module_version": "1.2.0",
            "_view_name": "StyleView",
            "description_width": ""
          }
        },
        "8c1fb690c9ac4b3ab0c0ee068d5c9142": {
          "model_module": "@jupyter-widgets/base",
          "model_name": "LayoutModel",
          "model_module_version": "1.2.0",
          "state": {
            "_model_module": "@jupyter-widgets/base",
            "_model_module_version": "1.2.0",
            "_model_name": "LayoutModel",
            "_view_count": null,
            "_view_module": "@jupyter-widgets/base",
            "_view_module_version": "1.2.0",
            "_view_name": "LayoutView",
            "align_content": null,
            "align_items": null,
            "align_self": null,
            "border": null,
            "bottom": null,
            "display": null,
            "flex": null,
            "flex_flow": null,
            "grid_area": null,
            "grid_auto_columns": null,
            "grid_auto_flow": null,
            "grid_auto_rows": null,
            "grid_column": null,
            "grid_gap": null,
            "grid_row": null,
            "grid_template_areas": null,
            "grid_template_columns": null,
            "grid_template_rows": null,
            "height": null,
            "justify_content": null,
            "justify_items": null,
            "left": null,
            "margin": null,
            "max_height": null,
            "max_width": null,
            "min_height": null,
            "min_width": null,
            "object_fit": null,
            "object_position": null,
            "order": null,
            "overflow": null,
            "overflow_x": null,
            "overflow_y": null,
            "padding": null,
            "right": null,
            "top": null,
            "visibility": null,
            "width": null
          }
        },
        "5cc635453a0f4e53befdf3dd2caeb73d": {
          "model_module": "@jupyter-widgets/controls",
          "model_name": "ProgressStyleModel",
          "model_module_version": "1.5.0",
          "state": {
            "_model_module": "@jupyter-widgets/controls",
            "_model_module_version": "1.5.0",
            "_model_name": "ProgressStyleModel",
            "_view_count": null,
            "_view_module": "@jupyter-widgets/base",
            "_view_module_version": "1.2.0",
            "_view_name": "StyleView",
            "bar_color": null,
            "description_width": ""
          }
        },
        "28e2c9b214844a5299e7f4bc97a38c28": {
          "model_module": "@jupyter-widgets/base",
          "model_name": "LayoutModel",
          "model_module_version": "1.2.0",
          "state": {
            "_model_module": "@jupyter-widgets/base",
            "_model_module_version": "1.2.0",
            "_model_name": "LayoutModel",
            "_view_count": null,
            "_view_module": "@jupyter-widgets/base",
            "_view_module_version": "1.2.0",
            "_view_name": "LayoutView",
            "align_content": null,
            "align_items": null,
            "align_self": null,
            "border": null,
            "bottom": null,
            "display": null,
            "flex": null,
            "flex_flow": null,
            "grid_area": null,
            "grid_auto_columns": null,
            "grid_auto_flow": null,
            "grid_auto_rows": null,
            "grid_column": null,
            "grid_gap": null,
            "grid_row": null,
            "grid_template_areas": null,
            "grid_template_columns": null,
            "grid_template_rows": null,
            "height": null,
            "justify_content": null,
            "justify_items": null,
            "left": null,
            "margin": null,
            "max_height": null,
            "max_width": null,
            "min_height": null,
            "min_width": null,
            "object_fit": null,
            "object_position": null,
            "order": null,
            "overflow": null,
            "overflow_x": null,
            "overflow_y": null,
            "padding": null,
            "right": null,
            "top": null,
            "visibility": null,
            "width": null
          }
        },
        "1c0048cc36d241449bdad0ff949c41c9": {
          "model_module": "@jupyter-widgets/controls",
          "model_name": "DescriptionStyleModel",
          "model_module_version": "1.5.0",
          "state": {
            "_model_module": "@jupyter-widgets/controls",
            "_model_module_version": "1.5.0",
            "_model_name": "DescriptionStyleModel",
            "_view_count": null,
            "_view_module": "@jupyter-widgets/base",
            "_view_module_version": "1.2.0",
            "_view_name": "StyleView",
            "description_width": ""
          }
        },
        "714e51092283412692ba89f11555682b": {
          "model_module": "@jupyter-widgets/controls",
          "model_name": "HBoxModel",
          "model_module_version": "1.5.0",
          "state": {
            "_dom_classes": [],
            "_model_module": "@jupyter-widgets/controls",
            "_model_module_version": "1.5.0",
            "_model_name": "HBoxModel",
            "_view_count": null,
            "_view_module": "@jupyter-widgets/controls",
            "_view_module_version": "1.5.0",
            "_view_name": "HBoxView",
            "box_style": "",
            "children": [
              "IPY_MODEL_20c6d0c18bd346729fb2c40d1cdb6e39",
              "IPY_MODEL_723d1f1cfb4a4c15a9092a1ec6229766",
              "IPY_MODEL_b0188443ee524659b37b971922b4d5ca"
            ],
            "layout": "IPY_MODEL_a6aacddf34e84458a380d56974990fd3"
          }
        },
        "20c6d0c18bd346729fb2c40d1cdb6e39": {
          "model_module": "@jupyter-widgets/controls",
          "model_name": "HTMLModel",
          "model_module_version": "1.5.0",
          "state": {
            "_dom_classes": [],
            "_model_module": "@jupyter-widgets/controls",
            "_model_module_version": "1.5.0",
            "_model_name": "HTMLModel",
            "_view_count": null,
            "_view_module": "@jupyter-widgets/controls",
            "_view_module_version": "1.5.0",
            "_view_name": "HTMLView",
            "description": "",
            "description_tooltip": null,
            "layout": "IPY_MODEL_ff050ecf9f36472ea6a318e7b8888af1",
            "placeholder": "​",
            "style": "IPY_MODEL_b2de4ad4102049feb23cda3f2658c582",
            "value": "tokenizer_config.json: 100%"
          }
        },
        "723d1f1cfb4a4c15a9092a1ec6229766": {
          "model_module": "@jupyter-widgets/controls",
          "model_name": "FloatProgressModel",
          "model_module_version": "1.5.0",
          "state": {
            "_dom_classes": [],
            "_model_module": "@jupyter-widgets/controls",
            "_model_module_version": "1.5.0",
            "_model_name": "FloatProgressModel",
            "_view_count": null,
            "_view_module": "@jupyter-widgets/controls",
            "_view_module_version": "1.5.0",
            "_view_name": "ProgressView",
            "bar_style": "success",
            "description": "",
            "description_tooltip": null,
            "layout": "IPY_MODEL_4a6281f203264d858fba98515115ae0d",
            "max": 26,
            "min": 0,
            "orientation": "horizontal",
            "style": "IPY_MODEL_6a704221ee0c433584a8aec9b68303d0",
            "value": 26
          }
        },
        "b0188443ee524659b37b971922b4d5ca": {
          "model_module": "@jupyter-widgets/controls",
          "model_name": "HTMLModel",
          "model_module_version": "1.5.0",
          "state": {
            "_dom_classes": [],
            "_model_module": "@jupyter-widgets/controls",
            "_model_module_version": "1.5.0",
            "_model_name": "HTMLModel",
            "_view_count": null,
            "_view_module": "@jupyter-widgets/controls",
            "_view_module_version": "1.5.0",
            "_view_name": "HTMLView",
            "description": "",
            "description_tooltip": null,
            "layout": "IPY_MODEL_fe399112d03544ba9b0523130642288d",
            "placeholder": "​",
            "style": "IPY_MODEL_055ddd9c1f714589b0ed48673ea9719b",
            "value": " 26.0/26.0 [00:00&lt;00:00, 1.11kB/s]"
          }
        },
        "a6aacddf34e84458a380d56974990fd3": {
          "model_module": "@jupyter-widgets/base",
          "model_name": "LayoutModel",
          "model_module_version": "1.2.0",
          "state": {
            "_model_module": "@jupyter-widgets/base",
            "_model_module_version": "1.2.0",
            "_model_name": "LayoutModel",
            "_view_count": null,
            "_view_module": "@jupyter-widgets/base",
            "_view_module_version": "1.2.0",
            "_view_name": "LayoutView",
            "align_content": null,
            "align_items": null,
            "align_self": null,
            "border": null,
            "bottom": null,
            "display": null,
            "flex": null,
            "flex_flow": null,
            "grid_area": null,
            "grid_auto_columns": null,
            "grid_auto_flow": null,
            "grid_auto_rows": null,
            "grid_column": null,
            "grid_gap": null,
            "grid_row": null,
            "grid_template_areas": null,
            "grid_template_columns": null,
            "grid_template_rows": null,
            "height": null,
            "justify_content": null,
            "justify_items": null,
            "left": null,
            "margin": null,
            "max_height": null,
            "max_width": null,
            "min_height": null,
            "min_width": null,
            "object_fit": null,
            "object_position": null,
            "order": null,
            "overflow": null,
            "overflow_x": null,
            "overflow_y": null,
            "padding": null,
            "right": null,
            "top": null,
            "visibility": null,
            "width": null
          }
        },
        "ff050ecf9f36472ea6a318e7b8888af1": {
          "model_module": "@jupyter-widgets/base",
          "model_name": "LayoutModel",
          "model_module_version": "1.2.0",
          "state": {
            "_model_module": "@jupyter-widgets/base",
            "_model_module_version": "1.2.0",
            "_model_name": "LayoutModel",
            "_view_count": null,
            "_view_module": "@jupyter-widgets/base",
            "_view_module_version": "1.2.0",
            "_view_name": "LayoutView",
            "align_content": null,
            "align_items": null,
            "align_self": null,
            "border": null,
            "bottom": null,
            "display": null,
            "flex": null,
            "flex_flow": null,
            "grid_area": null,
            "grid_auto_columns": null,
            "grid_auto_flow": null,
            "grid_auto_rows": null,
            "grid_column": null,
            "grid_gap": null,
            "grid_row": null,
            "grid_template_areas": null,
            "grid_template_columns": null,
            "grid_template_rows": null,
            "height": null,
            "justify_content": null,
            "justify_items": null,
            "left": null,
            "margin": null,
            "max_height": null,
            "max_width": null,
            "min_height": null,
            "min_width": null,
            "object_fit": null,
            "object_position": null,
            "order": null,
            "overflow": null,
            "overflow_x": null,
            "overflow_y": null,
            "padding": null,
            "right": null,
            "top": null,
            "visibility": null,
            "width": null
          }
        },
        "b2de4ad4102049feb23cda3f2658c582": {
          "model_module": "@jupyter-widgets/controls",
          "model_name": "DescriptionStyleModel",
          "model_module_version": "1.5.0",
          "state": {
            "_model_module": "@jupyter-widgets/controls",
            "_model_module_version": "1.5.0",
            "_model_name": "DescriptionStyleModel",
            "_view_count": null,
            "_view_module": "@jupyter-widgets/base",
            "_view_module_version": "1.2.0",
            "_view_name": "StyleView",
            "description_width": ""
          }
        },
        "4a6281f203264d858fba98515115ae0d": {
          "model_module": "@jupyter-widgets/base",
          "model_name": "LayoutModel",
          "model_module_version": "1.2.0",
          "state": {
            "_model_module": "@jupyter-widgets/base",
            "_model_module_version": "1.2.0",
            "_model_name": "LayoutModel",
            "_view_count": null,
            "_view_module": "@jupyter-widgets/base",
            "_view_module_version": "1.2.0",
            "_view_name": "LayoutView",
            "align_content": null,
            "align_items": null,
            "align_self": null,
            "border": null,
            "bottom": null,
            "display": null,
            "flex": null,
            "flex_flow": null,
            "grid_area": null,
            "grid_auto_columns": null,
            "grid_auto_flow": null,
            "grid_auto_rows": null,
            "grid_column": null,
            "grid_gap": null,
            "grid_row": null,
            "grid_template_areas": null,
            "grid_template_columns": null,
            "grid_template_rows": null,
            "height": null,
            "justify_content": null,
            "justify_items": null,
            "left": null,
            "margin": null,
            "max_height": null,
            "max_width": null,
            "min_height": null,
            "min_width": null,
            "object_fit": null,
            "object_position": null,
            "order": null,
            "overflow": null,
            "overflow_x": null,
            "overflow_y": null,
            "padding": null,
            "right": null,
            "top": null,
            "visibility": null,
            "width": null
          }
        },
        "6a704221ee0c433584a8aec9b68303d0": {
          "model_module": "@jupyter-widgets/controls",
          "model_name": "ProgressStyleModel",
          "model_module_version": "1.5.0",
          "state": {
            "_model_module": "@jupyter-widgets/controls",
            "_model_module_version": "1.5.0",
            "_model_name": "ProgressStyleModel",
            "_view_count": null,
            "_view_module": "@jupyter-widgets/base",
            "_view_module_version": "1.2.0",
            "_view_name": "StyleView",
            "bar_color": null,
            "description_width": ""
          }
        },
        "fe399112d03544ba9b0523130642288d": {
          "model_module": "@jupyter-widgets/base",
          "model_name": "LayoutModel",
          "model_module_version": "1.2.0",
          "state": {
            "_model_module": "@jupyter-widgets/base",
            "_model_module_version": "1.2.0",
            "_model_name": "LayoutModel",
            "_view_count": null,
            "_view_module": "@jupyter-widgets/base",
            "_view_module_version": "1.2.0",
            "_view_name": "LayoutView",
            "align_content": null,
            "align_items": null,
            "align_self": null,
            "border": null,
            "bottom": null,
            "display": null,
            "flex": null,
            "flex_flow": null,
            "grid_area": null,
            "grid_auto_columns": null,
            "grid_auto_flow": null,
            "grid_auto_rows": null,
            "grid_column": null,
            "grid_gap": null,
            "grid_row": null,
            "grid_template_areas": null,
            "grid_template_columns": null,
            "grid_template_rows": null,
            "height": null,
            "justify_content": null,
            "justify_items": null,
            "left": null,
            "margin": null,
            "max_height": null,
            "max_width": null,
            "min_height": null,
            "min_width": null,
            "object_fit": null,
            "object_position": null,
            "order": null,
            "overflow": null,
            "overflow_x": null,
            "overflow_y": null,
            "padding": null,
            "right": null,
            "top": null,
            "visibility": null,
            "width": null
          }
        },
        "055ddd9c1f714589b0ed48673ea9719b": {
          "model_module": "@jupyter-widgets/controls",
          "model_name": "DescriptionStyleModel",
          "model_module_version": "1.5.0",
          "state": {
            "_model_module": "@jupyter-widgets/controls",
            "_model_module_version": "1.5.0",
            "_model_name": "DescriptionStyleModel",
            "_view_count": null,
            "_view_module": "@jupyter-widgets/base",
            "_view_module_version": "1.2.0",
            "_view_name": "StyleView",
            "description_width": ""
          }
        },
        "f9c4e4499a4b40cfbee9e7e40253b2d9": {
          "model_module": "@jupyter-widgets/controls",
          "model_name": "HBoxModel",
          "model_module_version": "1.5.0",
          "state": {
            "_dom_classes": [],
            "_model_module": "@jupyter-widgets/controls",
            "_model_module_version": "1.5.0",
            "_model_name": "HBoxModel",
            "_view_count": null,
            "_view_module": "@jupyter-widgets/controls",
            "_view_module_version": "1.5.0",
            "_view_name": "HBoxView",
            "box_style": "",
            "children": [
              "IPY_MODEL_53d3d77f98164765aa46827be49809a5",
              "IPY_MODEL_5ac4c85e31ef42cd99e6c82251e8ed67",
              "IPY_MODEL_e5417c64c34743e79d4cf4549432c282"
            ],
            "layout": "IPY_MODEL_94c82c5c820f41509f21ecff09b654a1"
          }
        },
        "53d3d77f98164765aa46827be49809a5": {
          "model_module": "@jupyter-widgets/controls",
          "model_name": "HTMLModel",
          "model_module_version": "1.5.0",
          "state": {
            "_dom_classes": [],
            "_model_module": "@jupyter-widgets/controls",
            "_model_module_version": "1.5.0",
            "_model_name": "HTMLModel",
            "_view_count": null,
            "_view_module": "@jupyter-widgets/controls",
            "_view_module_version": "1.5.0",
            "_view_name": "HTMLView",
            "description": "",
            "description_tooltip": null,
            "layout": "IPY_MODEL_9d5d492d41e542cbbc226551155fa011",
            "placeholder": "​",
            "style": "IPY_MODEL_e51e0841761f4278b570e75959d144a5",
            "value": "vocab.json: 100%"
          }
        },
        "5ac4c85e31ef42cd99e6c82251e8ed67": {
          "model_module": "@jupyter-widgets/controls",
          "model_name": "FloatProgressModel",
          "model_module_version": "1.5.0",
          "state": {
            "_dom_classes": [],
            "_model_module": "@jupyter-widgets/controls",
            "_model_module_version": "1.5.0",
            "_model_name": "FloatProgressModel",
            "_view_count": null,
            "_view_module": "@jupyter-widgets/controls",
            "_view_module_version": "1.5.0",
            "_view_name": "ProgressView",
            "bar_style": "success",
            "description": "",
            "description_tooltip": null,
            "layout": "IPY_MODEL_ce41d48a656146458bbc68e577a87168",
            "max": 898822,
            "min": 0,
            "orientation": "horizontal",
            "style": "IPY_MODEL_230d7ab445994644a458bdcb96caba1d",
            "value": 898822
          }
        },
        "e5417c64c34743e79d4cf4549432c282": {
          "model_module": "@jupyter-widgets/controls",
          "model_name": "HTMLModel",
          "model_module_version": "1.5.0",
          "state": {
            "_dom_classes": [],
            "_model_module": "@jupyter-widgets/controls",
            "_model_module_version": "1.5.0",
            "_model_name": "HTMLModel",
            "_view_count": null,
            "_view_module": "@jupyter-widgets/controls",
            "_view_module_version": "1.5.0",
            "_view_name": "HTMLView",
            "description": "",
            "description_tooltip": null,
            "layout": "IPY_MODEL_a8037ce6e7fb493ab46695963b829e54",
            "placeholder": "​",
            "style": "IPY_MODEL_a4b18c8e32b147b7a8621524896f50d8",
            "value": " 899k/899k [00:00&lt;00:00, 18.7MB/s]"
          }
        },
        "94c82c5c820f41509f21ecff09b654a1": {
          "model_module": "@jupyter-widgets/base",
          "model_name": "LayoutModel",
          "model_module_version": "1.2.0",
          "state": {
            "_model_module": "@jupyter-widgets/base",
            "_model_module_version": "1.2.0",
            "_model_name": "LayoutModel",
            "_view_count": null,
            "_view_module": "@jupyter-widgets/base",
            "_view_module_version": "1.2.0",
            "_view_name": "LayoutView",
            "align_content": null,
            "align_items": null,
            "align_self": null,
            "border": null,
            "bottom": null,
            "display": null,
            "flex": null,
            "flex_flow": null,
            "grid_area": null,
            "grid_auto_columns": null,
            "grid_auto_flow": null,
            "grid_auto_rows": null,
            "grid_column": null,
            "grid_gap": null,
            "grid_row": null,
            "grid_template_areas": null,
            "grid_template_columns": null,
            "grid_template_rows": null,
            "height": null,
            "justify_content": null,
            "justify_items": null,
            "left": null,
            "margin": null,
            "max_height": null,
            "max_width": null,
            "min_height": null,
            "min_width": null,
            "object_fit": null,
            "object_position": null,
            "order": null,
            "overflow": null,
            "overflow_x": null,
            "overflow_y": null,
            "padding": null,
            "right": null,
            "top": null,
            "visibility": null,
            "width": null
          }
        },
        "9d5d492d41e542cbbc226551155fa011": {
          "model_module": "@jupyter-widgets/base",
          "model_name": "LayoutModel",
          "model_module_version": "1.2.0",
          "state": {
            "_model_module": "@jupyter-widgets/base",
            "_model_module_version": "1.2.0",
            "_model_name": "LayoutModel",
            "_view_count": null,
            "_view_module": "@jupyter-widgets/base",
            "_view_module_version": "1.2.0",
            "_view_name": "LayoutView",
            "align_content": null,
            "align_items": null,
            "align_self": null,
            "border": null,
            "bottom": null,
            "display": null,
            "flex": null,
            "flex_flow": null,
            "grid_area": null,
            "grid_auto_columns": null,
            "grid_auto_flow": null,
            "grid_auto_rows": null,
            "grid_column": null,
            "grid_gap": null,
            "grid_row": null,
            "grid_template_areas": null,
            "grid_template_columns": null,
            "grid_template_rows": null,
            "height": null,
            "justify_content": null,
            "justify_items": null,
            "left": null,
            "margin": null,
            "max_height": null,
            "max_width": null,
            "min_height": null,
            "min_width": null,
            "object_fit": null,
            "object_position": null,
            "order": null,
            "overflow": null,
            "overflow_x": null,
            "overflow_y": null,
            "padding": null,
            "right": null,
            "top": null,
            "visibility": null,
            "width": null
          }
        },
        "e51e0841761f4278b570e75959d144a5": {
          "model_module": "@jupyter-widgets/controls",
          "model_name": "DescriptionStyleModel",
          "model_module_version": "1.5.0",
          "state": {
            "_model_module": "@jupyter-widgets/controls",
            "_model_module_version": "1.5.0",
            "_model_name": "DescriptionStyleModel",
            "_view_count": null,
            "_view_module": "@jupyter-widgets/base",
            "_view_module_version": "1.2.0",
            "_view_name": "StyleView",
            "description_width": ""
          }
        },
        "ce41d48a656146458bbc68e577a87168": {
          "model_module": "@jupyter-widgets/base",
          "model_name": "LayoutModel",
          "model_module_version": "1.2.0",
          "state": {
            "_model_module": "@jupyter-widgets/base",
            "_model_module_version": "1.2.0",
            "_model_name": "LayoutModel",
            "_view_count": null,
            "_view_module": "@jupyter-widgets/base",
            "_view_module_version": "1.2.0",
            "_view_name": "LayoutView",
            "align_content": null,
            "align_items": null,
            "align_self": null,
            "border": null,
            "bottom": null,
            "display": null,
            "flex": null,
            "flex_flow": null,
            "grid_area": null,
            "grid_auto_columns": null,
            "grid_auto_flow": null,
            "grid_auto_rows": null,
            "grid_column": null,
            "grid_gap": null,
            "grid_row": null,
            "grid_template_areas": null,
            "grid_template_columns": null,
            "grid_template_rows": null,
            "height": null,
            "justify_content": null,
            "justify_items": null,
            "left": null,
            "margin": null,
            "max_height": null,
            "max_width": null,
            "min_height": null,
            "min_width": null,
            "object_fit": null,
            "object_position": null,
            "order": null,
            "overflow": null,
            "overflow_x": null,
            "overflow_y": null,
            "padding": null,
            "right": null,
            "top": null,
            "visibility": null,
            "width": null
          }
        },
        "230d7ab445994644a458bdcb96caba1d": {
          "model_module": "@jupyter-widgets/controls",
          "model_name": "ProgressStyleModel",
          "model_module_version": "1.5.0",
          "state": {
            "_model_module": "@jupyter-widgets/controls",
            "_model_module_version": "1.5.0",
            "_model_name": "ProgressStyleModel",
            "_view_count": null,
            "_view_module": "@jupyter-widgets/base",
            "_view_module_version": "1.2.0",
            "_view_name": "StyleView",
            "bar_color": null,
            "description_width": ""
          }
        },
        "a8037ce6e7fb493ab46695963b829e54": {
          "model_module": "@jupyter-widgets/base",
          "model_name": "LayoutModel",
          "model_module_version": "1.2.0",
          "state": {
            "_model_module": "@jupyter-widgets/base",
            "_model_module_version": "1.2.0",
            "_model_name": "LayoutModel",
            "_view_count": null,
            "_view_module": "@jupyter-widgets/base",
            "_view_module_version": "1.2.0",
            "_view_name": "LayoutView",
            "align_content": null,
            "align_items": null,
            "align_self": null,
            "border": null,
            "bottom": null,
            "display": null,
            "flex": null,
            "flex_flow": null,
            "grid_area": null,
            "grid_auto_columns": null,
            "grid_auto_flow": null,
            "grid_auto_rows": null,
            "grid_column": null,
            "grid_gap": null,
            "grid_row": null,
            "grid_template_areas": null,
            "grid_template_columns": null,
            "grid_template_rows": null,
            "height": null,
            "justify_content": null,
            "justify_items": null,
            "left": null,
            "margin": null,
            "max_height": null,
            "max_width": null,
            "min_height": null,
            "min_width": null,
            "object_fit": null,
            "object_position": null,
            "order": null,
            "overflow": null,
            "overflow_x": null,
            "overflow_y": null,
            "padding": null,
            "right": null,
            "top": null,
            "visibility": null,
            "width": null
          }
        },
        "a4b18c8e32b147b7a8621524896f50d8": {
          "model_module": "@jupyter-widgets/controls",
          "model_name": "DescriptionStyleModel",
          "model_module_version": "1.5.0",
          "state": {
            "_model_module": "@jupyter-widgets/controls",
            "_model_module_version": "1.5.0",
            "_model_name": "DescriptionStyleModel",
            "_view_count": null,
            "_view_module": "@jupyter-widgets/base",
            "_view_module_version": "1.2.0",
            "_view_name": "StyleView",
            "description_width": ""
          }
        },
        "682019824e084088ba5ed6b3569dd918": {
          "model_module": "@jupyter-widgets/controls",
          "model_name": "HBoxModel",
          "model_module_version": "1.5.0",
          "state": {
            "_dom_classes": [],
            "_model_module": "@jupyter-widgets/controls",
            "_model_module_version": "1.5.0",
            "_model_name": "HBoxModel",
            "_view_count": null,
            "_view_module": "@jupyter-widgets/controls",
            "_view_module_version": "1.5.0",
            "_view_name": "HBoxView",
            "box_style": "",
            "children": [
              "IPY_MODEL_e22c0357389649bbb0f8afb4e89b1cc6",
              "IPY_MODEL_2488dda5ccbd4037a4089a39b6fbc572",
              "IPY_MODEL_fcde3a410d0846628ae4c333a3c50dfd"
            ],
            "layout": "IPY_MODEL_75d114ba24c04a17bc6fe769c61122d5"
          }
        },
        "e22c0357389649bbb0f8afb4e89b1cc6": {
          "model_module": "@jupyter-widgets/controls",
          "model_name": "HTMLModel",
          "model_module_version": "1.5.0",
          "state": {
            "_dom_classes": [],
            "_model_module": "@jupyter-widgets/controls",
            "_model_module_version": "1.5.0",
            "_model_name": "HTMLModel",
            "_view_count": null,
            "_view_module": "@jupyter-widgets/controls",
            "_view_module_version": "1.5.0",
            "_view_name": "HTMLView",
            "description": "",
            "description_tooltip": null,
            "layout": "IPY_MODEL_6f45eb48e1c545efacd6c16283fc62e2",
            "placeholder": "​",
            "style": "IPY_MODEL_24d46be43df84527a00d59cb037f3b19",
            "value": "merges.txt: 100%"
          }
        },
        "2488dda5ccbd4037a4089a39b6fbc572": {
          "model_module": "@jupyter-widgets/controls",
          "model_name": "FloatProgressModel",
          "model_module_version": "1.5.0",
          "state": {
            "_dom_classes": [],
            "_model_module": "@jupyter-widgets/controls",
            "_model_module_version": "1.5.0",
            "_model_name": "FloatProgressModel",
            "_view_count": null,
            "_view_module": "@jupyter-widgets/controls",
            "_view_module_version": "1.5.0",
            "_view_name": "ProgressView",
            "bar_style": "success",
            "description": "",
            "description_tooltip": null,
            "layout": "IPY_MODEL_bfb39e78cad34b1ab4541c745d54228e",
            "max": 456318,
            "min": 0,
            "orientation": "horizontal",
            "style": "IPY_MODEL_d610599bb1b04e968ae0ca2ec03d7635",
            "value": 456318
          }
        },
        "fcde3a410d0846628ae4c333a3c50dfd": {
          "model_module": "@jupyter-widgets/controls",
          "model_name": "HTMLModel",
          "model_module_version": "1.5.0",
          "state": {
            "_dom_classes": [],
            "_model_module": "@jupyter-widgets/controls",
            "_model_module_version": "1.5.0",
            "_model_name": "HTMLModel",
            "_view_count": null,
            "_view_module": "@jupyter-widgets/controls",
            "_view_module_version": "1.5.0",
            "_view_name": "HTMLView",
            "description": "",
            "description_tooltip": null,
            "layout": "IPY_MODEL_6e77a5f960af4ee69fe4ab8c84f0b0be",
            "placeholder": "​",
            "style": "IPY_MODEL_df3e1900ac2549d38342bea55ada519c",
            "value": " 456k/456k [00:00&lt;00:00, 14.8MB/s]"
          }
        },
        "75d114ba24c04a17bc6fe769c61122d5": {
          "model_module": "@jupyter-widgets/base",
          "model_name": "LayoutModel",
          "model_module_version": "1.2.0",
          "state": {
            "_model_module": "@jupyter-widgets/base",
            "_model_module_version": "1.2.0",
            "_model_name": "LayoutModel",
            "_view_count": null,
            "_view_module": "@jupyter-widgets/base",
            "_view_module_version": "1.2.0",
            "_view_name": "LayoutView",
            "align_content": null,
            "align_items": null,
            "align_self": null,
            "border": null,
            "bottom": null,
            "display": null,
            "flex": null,
            "flex_flow": null,
            "grid_area": null,
            "grid_auto_columns": null,
            "grid_auto_flow": null,
            "grid_auto_rows": null,
            "grid_column": null,
            "grid_gap": null,
            "grid_row": null,
            "grid_template_areas": null,
            "grid_template_columns": null,
            "grid_template_rows": null,
            "height": null,
            "justify_content": null,
            "justify_items": null,
            "left": null,
            "margin": null,
            "max_height": null,
            "max_width": null,
            "min_height": null,
            "min_width": null,
            "object_fit": null,
            "object_position": null,
            "order": null,
            "overflow": null,
            "overflow_x": null,
            "overflow_y": null,
            "padding": null,
            "right": null,
            "top": null,
            "visibility": null,
            "width": null
          }
        },
        "6f45eb48e1c545efacd6c16283fc62e2": {
          "model_module": "@jupyter-widgets/base",
          "model_name": "LayoutModel",
          "model_module_version": "1.2.0",
          "state": {
            "_model_module": "@jupyter-widgets/base",
            "_model_module_version": "1.2.0",
            "_model_name": "LayoutModel",
            "_view_count": null,
            "_view_module": "@jupyter-widgets/base",
            "_view_module_version": "1.2.0",
            "_view_name": "LayoutView",
            "align_content": null,
            "align_items": null,
            "align_self": null,
            "border": null,
            "bottom": null,
            "display": null,
            "flex": null,
            "flex_flow": null,
            "grid_area": null,
            "grid_auto_columns": null,
            "grid_auto_flow": null,
            "grid_auto_rows": null,
            "grid_column": null,
            "grid_gap": null,
            "grid_row": null,
            "grid_template_areas": null,
            "grid_template_columns": null,
            "grid_template_rows": null,
            "height": null,
            "justify_content": null,
            "justify_items": null,
            "left": null,
            "margin": null,
            "max_height": null,
            "max_width": null,
            "min_height": null,
            "min_width": null,
            "object_fit": null,
            "object_position": null,
            "order": null,
            "overflow": null,
            "overflow_x": null,
            "overflow_y": null,
            "padding": null,
            "right": null,
            "top": null,
            "visibility": null,
            "width": null
          }
        },
        "24d46be43df84527a00d59cb037f3b19": {
          "model_module": "@jupyter-widgets/controls",
          "model_name": "DescriptionStyleModel",
          "model_module_version": "1.5.0",
          "state": {
            "_model_module": "@jupyter-widgets/controls",
            "_model_module_version": "1.5.0",
            "_model_name": "DescriptionStyleModel",
            "_view_count": null,
            "_view_module": "@jupyter-widgets/base",
            "_view_module_version": "1.2.0",
            "_view_name": "StyleView",
            "description_width": ""
          }
        },
        "bfb39e78cad34b1ab4541c745d54228e": {
          "model_module": "@jupyter-widgets/base",
          "model_name": "LayoutModel",
          "model_module_version": "1.2.0",
          "state": {
            "_model_module": "@jupyter-widgets/base",
            "_model_module_version": "1.2.0",
            "_model_name": "LayoutModel",
            "_view_count": null,
            "_view_module": "@jupyter-widgets/base",
            "_view_module_version": "1.2.0",
            "_view_name": "LayoutView",
            "align_content": null,
            "align_items": null,
            "align_self": null,
            "border": null,
            "bottom": null,
            "display": null,
            "flex": null,
            "flex_flow": null,
            "grid_area": null,
            "grid_auto_columns": null,
            "grid_auto_flow": null,
            "grid_auto_rows": null,
            "grid_column": null,
            "grid_gap": null,
            "grid_row": null,
            "grid_template_areas": null,
            "grid_template_columns": null,
            "grid_template_rows": null,
            "height": null,
            "justify_content": null,
            "justify_items": null,
            "left": null,
            "margin": null,
            "max_height": null,
            "max_width": null,
            "min_height": null,
            "min_width": null,
            "object_fit": null,
            "object_position": null,
            "order": null,
            "overflow": null,
            "overflow_x": null,
            "overflow_y": null,
            "padding": null,
            "right": null,
            "top": null,
            "visibility": null,
            "width": null
          }
        },
        "d610599bb1b04e968ae0ca2ec03d7635": {
          "model_module": "@jupyter-widgets/controls",
          "model_name": "ProgressStyleModel",
          "model_module_version": "1.5.0",
          "state": {
            "_model_module": "@jupyter-widgets/controls",
            "_model_module_version": "1.5.0",
            "_model_name": "ProgressStyleModel",
            "_view_count": null,
            "_view_module": "@jupyter-widgets/base",
            "_view_module_version": "1.2.0",
            "_view_name": "StyleView",
            "bar_color": null,
            "description_width": ""
          }
        },
        "6e77a5f960af4ee69fe4ab8c84f0b0be": {
          "model_module": "@jupyter-widgets/base",
          "model_name": "LayoutModel",
          "model_module_version": "1.2.0",
          "state": {
            "_model_module": "@jupyter-widgets/base",
            "_model_module_version": "1.2.0",
            "_model_name": "LayoutModel",
            "_view_count": null,
            "_view_module": "@jupyter-widgets/base",
            "_view_module_version": "1.2.0",
            "_view_name": "LayoutView",
            "align_content": null,
            "align_items": null,
            "align_self": null,
            "border": null,
            "bottom": null,
            "display": null,
            "flex": null,
            "flex_flow": null,
            "grid_area": null,
            "grid_auto_columns": null,
            "grid_auto_flow": null,
            "grid_auto_rows": null,
            "grid_column": null,
            "grid_gap": null,
            "grid_row": null,
            "grid_template_areas": null,
            "grid_template_columns": null,
            "grid_template_rows": null,
            "height": null,
            "justify_content": null,
            "justify_items": null,
            "left": null,
            "margin": null,
            "max_height": null,
            "max_width": null,
            "min_height": null,
            "min_width": null,
            "object_fit": null,
            "object_position": null,
            "order": null,
            "overflow": null,
            "overflow_x": null,
            "overflow_y": null,
            "padding": null,
            "right": null,
            "top": null,
            "visibility": null,
            "width": null
          }
        },
        "df3e1900ac2549d38342bea55ada519c": {
          "model_module": "@jupyter-widgets/controls",
          "model_name": "DescriptionStyleModel",
          "model_module_version": "1.5.0",
          "state": {
            "_model_module": "@jupyter-widgets/controls",
            "_model_module_version": "1.5.0",
            "_model_name": "DescriptionStyleModel",
            "_view_count": null,
            "_view_module": "@jupyter-widgets/base",
            "_view_module_version": "1.2.0",
            "_view_name": "StyleView",
            "description_width": ""
          }
        },
        "787d0e9fc9334bb5b047c32cf0b0d099": {
          "model_module": "@jupyter-widgets/controls",
          "model_name": "HBoxModel",
          "model_module_version": "1.5.0",
          "state": {
            "_dom_classes": [],
            "_model_module": "@jupyter-widgets/controls",
            "_model_module_version": "1.5.0",
            "_model_name": "HBoxModel",
            "_view_count": null,
            "_view_module": "@jupyter-widgets/controls",
            "_view_module_version": "1.5.0",
            "_view_name": "HBoxView",
            "box_style": "",
            "children": [
              "IPY_MODEL_84d19b9f642a4a83bd029edf3ca186be",
              "IPY_MODEL_c9b59b91ecad404181ea8c37d141b3bb",
              "IPY_MODEL_ca7f5f87f3614822a5f4e92b1215126b"
            ],
            "layout": "IPY_MODEL_19319bc4225542ee9783f80652ecb5d7"
          }
        },
        "84d19b9f642a4a83bd029edf3ca186be": {
          "model_module": "@jupyter-widgets/controls",
          "model_name": "HTMLModel",
          "model_module_version": "1.5.0",
          "state": {
            "_dom_classes": [],
            "_model_module": "@jupyter-widgets/controls",
            "_model_module_version": "1.5.0",
            "_model_name": "HTMLModel",
            "_view_count": null,
            "_view_module": "@jupyter-widgets/controls",
            "_view_module_version": "1.5.0",
            "_view_name": "HTMLView",
            "description": "",
            "description_tooltip": null,
            "layout": "IPY_MODEL_19d780ba308042fdab0502450b5b02e4",
            "placeholder": "​",
            "style": "IPY_MODEL_ba5ec4240e014156a13e85490556a45d",
            "value": "config.json: 100%"
          }
        },
        "c9b59b91ecad404181ea8c37d141b3bb": {
          "model_module": "@jupyter-widgets/controls",
          "model_name": "FloatProgressModel",
          "model_module_version": "1.5.0",
          "state": {
            "_dom_classes": [],
            "_model_module": "@jupyter-widgets/controls",
            "_model_module_version": "1.5.0",
            "_model_name": "FloatProgressModel",
            "_view_count": null,
            "_view_module": "@jupyter-widgets/controls",
            "_view_module_version": "1.5.0",
            "_view_name": "ProgressView",
            "bar_style": "success",
            "description": "",
            "description_tooltip": null,
            "layout": "IPY_MODEL_998fb52e1f1c4f2daeaa8c4b81ac8077",
            "max": 473,
            "min": 0,
            "orientation": "horizontal",
            "style": "IPY_MODEL_c4c3300f83654c6e94c1743bdc615aec",
            "value": 473
          }
        },
        "ca7f5f87f3614822a5f4e92b1215126b": {
          "model_module": "@jupyter-widgets/controls",
          "model_name": "HTMLModel",
          "model_module_version": "1.5.0",
          "state": {
            "_dom_classes": [],
            "_model_module": "@jupyter-widgets/controls",
            "_model_module_version": "1.5.0",
            "_model_name": "HTMLModel",
            "_view_count": null,
            "_view_module": "@jupyter-widgets/controls",
            "_view_module_version": "1.5.0",
            "_view_name": "HTMLView",
            "description": "",
            "description_tooltip": null,
            "layout": "IPY_MODEL_59d1aadc9c1540a3b9b4ed6ee7706039",
            "placeholder": "​",
            "style": "IPY_MODEL_dca3b230e7164aab9ac793f60d363583",
            "value": " 473/473 [00:00&lt;00:00, 26.5kB/s]"
          }
        },
        "19319bc4225542ee9783f80652ecb5d7": {
          "model_module": "@jupyter-widgets/base",
          "model_name": "LayoutModel",
          "model_module_version": "1.2.0",
          "state": {
            "_model_module": "@jupyter-widgets/base",
            "_model_module_version": "1.2.0",
            "_model_name": "LayoutModel",
            "_view_count": null,
            "_view_module": "@jupyter-widgets/base",
            "_view_module_version": "1.2.0",
            "_view_name": "LayoutView",
            "align_content": null,
            "align_items": null,
            "align_self": null,
            "border": null,
            "bottom": null,
            "display": null,
            "flex": null,
            "flex_flow": null,
            "grid_area": null,
            "grid_auto_columns": null,
            "grid_auto_flow": null,
            "grid_auto_rows": null,
            "grid_column": null,
            "grid_gap": null,
            "grid_row": null,
            "grid_template_areas": null,
            "grid_template_columns": null,
            "grid_template_rows": null,
            "height": null,
            "justify_content": null,
            "justify_items": null,
            "left": null,
            "margin": null,
            "max_height": null,
            "max_width": null,
            "min_height": null,
            "min_width": null,
            "object_fit": null,
            "object_position": null,
            "order": null,
            "overflow": null,
            "overflow_x": null,
            "overflow_y": null,
            "padding": null,
            "right": null,
            "top": null,
            "visibility": null,
            "width": null
          }
        },
        "19d780ba308042fdab0502450b5b02e4": {
          "model_module": "@jupyter-widgets/base",
          "model_name": "LayoutModel",
          "model_module_version": "1.2.0",
          "state": {
            "_model_module": "@jupyter-widgets/base",
            "_model_module_version": "1.2.0",
            "_model_name": "LayoutModel",
            "_view_count": null,
            "_view_module": "@jupyter-widgets/base",
            "_view_module_version": "1.2.0",
            "_view_name": "LayoutView",
            "align_content": null,
            "align_items": null,
            "align_self": null,
            "border": null,
            "bottom": null,
            "display": null,
            "flex": null,
            "flex_flow": null,
            "grid_area": null,
            "grid_auto_columns": null,
            "grid_auto_flow": null,
            "grid_auto_rows": null,
            "grid_column": null,
            "grid_gap": null,
            "grid_row": null,
            "grid_template_areas": null,
            "grid_template_columns": null,
            "grid_template_rows": null,
            "height": null,
            "justify_content": null,
            "justify_items": null,
            "left": null,
            "margin": null,
            "max_height": null,
            "max_width": null,
            "min_height": null,
            "min_width": null,
            "object_fit": null,
            "object_position": null,
            "order": null,
            "overflow": null,
            "overflow_x": null,
            "overflow_y": null,
            "padding": null,
            "right": null,
            "top": null,
            "visibility": null,
            "width": null
          }
        },
        "ba5ec4240e014156a13e85490556a45d": {
          "model_module": "@jupyter-widgets/controls",
          "model_name": "DescriptionStyleModel",
          "model_module_version": "1.5.0",
          "state": {
            "_model_module": "@jupyter-widgets/controls",
            "_model_module_version": "1.5.0",
            "_model_name": "DescriptionStyleModel",
            "_view_count": null,
            "_view_module": "@jupyter-widgets/base",
            "_view_module_version": "1.2.0",
            "_view_name": "StyleView",
            "description_width": ""
          }
        },
        "998fb52e1f1c4f2daeaa8c4b81ac8077": {
          "model_module": "@jupyter-widgets/base",
          "model_name": "LayoutModel",
          "model_module_version": "1.2.0",
          "state": {
            "_model_module": "@jupyter-widgets/base",
            "_model_module_version": "1.2.0",
            "_model_name": "LayoutModel",
            "_view_count": null,
            "_view_module": "@jupyter-widgets/base",
            "_view_module_version": "1.2.0",
            "_view_name": "LayoutView",
            "align_content": null,
            "align_items": null,
            "align_self": null,
            "border": null,
            "bottom": null,
            "display": null,
            "flex": null,
            "flex_flow": null,
            "grid_area": null,
            "grid_auto_columns": null,
            "grid_auto_flow": null,
            "grid_auto_rows": null,
            "grid_column": null,
            "grid_gap": null,
            "grid_row": null,
            "grid_template_areas": null,
            "grid_template_columns": null,
            "grid_template_rows": null,
            "height": null,
            "justify_content": null,
            "justify_items": null,
            "left": null,
            "margin": null,
            "max_height": null,
            "max_width": null,
            "min_height": null,
            "min_width": null,
            "object_fit": null,
            "object_position": null,
            "order": null,
            "overflow": null,
            "overflow_x": null,
            "overflow_y": null,
            "padding": null,
            "right": null,
            "top": null,
            "visibility": null,
            "width": null
          }
        },
        "c4c3300f83654c6e94c1743bdc615aec": {
          "model_module": "@jupyter-widgets/controls",
          "model_name": "ProgressStyleModel",
          "model_module_version": "1.5.0",
          "state": {
            "_model_module": "@jupyter-widgets/controls",
            "_model_module_version": "1.5.0",
            "_model_name": "ProgressStyleModel",
            "_view_count": null,
            "_view_module": "@jupyter-widgets/base",
            "_view_module_version": "1.2.0",
            "_view_name": "StyleView",
            "bar_color": null,
            "description_width": ""
          }
        },
        "59d1aadc9c1540a3b9b4ed6ee7706039": {
          "model_module": "@jupyter-widgets/base",
          "model_name": "LayoutModel",
          "model_module_version": "1.2.0",
          "state": {
            "_model_module": "@jupyter-widgets/base",
            "_model_module_version": "1.2.0",
            "_model_name": "LayoutModel",
            "_view_count": null,
            "_view_module": "@jupyter-widgets/base",
            "_view_module_version": "1.2.0",
            "_view_name": "LayoutView",
            "align_content": null,
            "align_items": null,
            "align_self": null,
            "border": null,
            "bottom": null,
            "display": null,
            "flex": null,
            "flex_flow": null,
            "grid_area": null,
            "grid_auto_columns": null,
            "grid_auto_flow": null,
            "grid_auto_rows": null,
            "grid_column": null,
            "grid_gap": null,
            "grid_row": null,
            "grid_template_areas": null,
            "grid_template_columns": null,
            "grid_template_rows": null,
            "height": null,
            "justify_content": null,
            "justify_items": null,
            "left": null,
            "margin": null,
            "max_height": null,
            "max_width": null,
            "min_height": null,
            "min_width": null,
            "object_fit": null,
            "object_position": null,
            "order": null,
            "overflow": null,
            "overflow_x": null,
            "overflow_y": null,
            "padding": null,
            "right": null,
            "top": null,
            "visibility": null,
            "width": null
          }
        },
        "dca3b230e7164aab9ac793f60d363583": {
          "model_module": "@jupyter-widgets/controls",
          "model_name": "DescriptionStyleModel",
          "model_module_version": "1.5.0",
          "state": {
            "_model_module": "@jupyter-widgets/controls",
            "_model_module_version": "1.5.0",
            "_model_name": "DescriptionStyleModel",
            "_view_count": null,
            "_view_module": "@jupyter-widgets/base",
            "_view_module_version": "1.2.0",
            "_view_name": "StyleView",
            "description_width": ""
          }
        },
        "256493cb6aaf40278b589b1b0ea6fd14": {
          "model_module": "@jupyter-widgets/controls",
          "model_name": "HBoxModel",
          "model_module_version": "1.5.0",
          "state": {
            "_dom_classes": [],
            "_model_module": "@jupyter-widgets/controls",
            "_model_module_version": "1.5.0",
            "_model_name": "HBoxModel",
            "_view_count": null,
            "_view_module": "@jupyter-widgets/controls",
            "_view_module_version": "1.5.0",
            "_view_name": "HBoxView",
            "box_style": "",
            "children": [
              "IPY_MODEL_5d19ebed410d4316ae95ec889c3c25eb",
              "IPY_MODEL_ae0b1b9a518a457ba882c97898e61932",
              "IPY_MODEL_fb5bb802043e41ccad5507eeac22c83c"
            ],
            "layout": "IPY_MODEL_2e68544c4b524d91a0dc6269dc580fa2"
          }
        },
        "5d19ebed410d4316ae95ec889c3c25eb": {
          "model_module": "@jupyter-widgets/controls",
          "model_name": "HTMLModel",
          "model_module_version": "1.5.0",
          "state": {
            "_dom_classes": [],
            "_model_module": "@jupyter-widgets/controls",
            "_model_module_version": "1.5.0",
            "_model_name": "HTMLModel",
            "_view_count": null,
            "_view_module": "@jupyter-widgets/controls",
            "_view_module_version": "1.5.0",
            "_view_name": "HTMLView",
            "description": "",
            "description_tooltip": null,
            "layout": "IPY_MODEL_ce14699202504bbfbc66b1bd4783b0a1",
            "placeholder": "​",
            "style": "IPY_MODEL_637e01b53e9a44028b3723c642d72a59",
            "value": "model.safetensors: 100%"
          }
        },
        "ae0b1b9a518a457ba882c97898e61932": {
          "model_module": "@jupyter-widgets/controls",
          "model_name": "FloatProgressModel",
          "model_module_version": "1.5.0",
          "state": {
            "_dom_classes": [],
            "_model_module": "@jupyter-widgets/controls",
            "_model_module_version": "1.5.0",
            "_model_name": "FloatProgressModel",
            "_view_count": null,
            "_view_module": "@jupyter-widgets/controls",
            "_view_module_version": "1.5.0",
            "_view_name": "ProgressView",
            "bar_style": "success",
            "description": "",
            "description_tooltip": null,
            "layout": "IPY_MODEL_e2dd114c8fd14b68abdbd681a00bca3b",
            "max": 260782156,
            "min": 0,
            "orientation": "horizontal",
            "style": "IPY_MODEL_85eeb9b2712e4a6d8ef675036d5b9a10",
            "value": 260782156
          }
        },
        "fb5bb802043e41ccad5507eeac22c83c": {
          "model_module": "@jupyter-widgets/controls",
          "model_name": "HTMLModel",
          "model_module_version": "1.5.0",
          "state": {
            "_dom_classes": [],
            "_model_module": "@jupyter-widgets/controls",
            "_model_module_version": "1.5.0",
            "_model_name": "HTMLModel",
            "_view_count": null,
            "_view_module": "@jupyter-widgets/controls",
            "_view_module_version": "1.5.0",
            "_view_name": "HTMLView",
            "description": "",
            "description_tooltip": null,
            "layout": "IPY_MODEL_498ab4a6258d4b0ca33a25bb9384d55a",
            "placeholder": "​",
            "style": "IPY_MODEL_ecad509ec3c14c31be9a79ef6cd1e716",
            "value": " 261M/261M [00:02&lt;00:00, 124MB/s]"
          }
        },
        "2e68544c4b524d91a0dc6269dc580fa2": {
          "model_module": "@jupyter-widgets/base",
          "model_name": "LayoutModel",
          "model_module_version": "1.2.0",
          "state": {
            "_model_module": "@jupyter-widgets/base",
            "_model_module_version": "1.2.0",
            "_model_name": "LayoutModel",
            "_view_count": null,
            "_view_module": "@jupyter-widgets/base",
            "_view_module_version": "1.2.0",
            "_view_name": "LayoutView",
            "align_content": null,
            "align_items": null,
            "align_self": null,
            "border": null,
            "bottom": null,
            "display": null,
            "flex": null,
            "flex_flow": null,
            "grid_area": null,
            "grid_auto_columns": null,
            "grid_auto_flow": null,
            "grid_auto_rows": null,
            "grid_column": null,
            "grid_gap": null,
            "grid_row": null,
            "grid_template_areas": null,
            "grid_template_columns": null,
            "grid_template_rows": null,
            "height": null,
            "justify_content": null,
            "justify_items": null,
            "left": null,
            "margin": null,
            "max_height": null,
            "max_width": null,
            "min_height": null,
            "min_width": null,
            "object_fit": null,
            "object_position": null,
            "order": null,
            "overflow": null,
            "overflow_x": null,
            "overflow_y": null,
            "padding": null,
            "right": null,
            "top": null,
            "visibility": null,
            "width": null
          }
        },
        "ce14699202504bbfbc66b1bd4783b0a1": {
          "model_module": "@jupyter-widgets/base",
          "model_name": "LayoutModel",
          "model_module_version": "1.2.0",
          "state": {
            "_model_module": "@jupyter-widgets/base",
            "_model_module_version": "1.2.0",
            "_model_name": "LayoutModel",
            "_view_count": null,
            "_view_module": "@jupyter-widgets/base",
            "_view_module_version": "1.2.0",
            "_view_name": "LayoutView",
            "align_content": null,
            "align_items": null,
            "align_self": null,
            "border": null,
            "bottom": null,
            "display": null,
            "flex": null,
            "flex_flow": null,
            "grid_area": null,
            "grid_auto_columns": null,
            "grid_auto_flow": null,
            "grid_auto_rows": null,
            "grid_column": null,
            "grid_gap": null,
            "grid_row": null,
            "grid_template_areas": null,
            "grid_template_columns": null,
            "grid_template_rows": null,
            "height": null,
            "justify_content": null,
            "justify_items": null,
            "left": null,
            "margin": null,
            "max_height": null,
            "max_width": null,
            "min_height": null,
            "min_width": null,
            "object_fit": null,
            "object_position": null,
            "order": null,
            "overflow": null,
            "overflow_x": null,
            "overflow_y": null,
            "padding": null,
            "right": null,
            "top": null,
            "visibility": null,
            "width": null
          }
        },
        "637e01b53e9a44028b3723c642d72a59": {
          "model_module": "@jupyter-widgets/controls",
          "model_name": "DescriptionStyleModel",
          "model_module_version": "1.5.0",
          "state": {
            "_model_module": "@jupyter-widgets/controls",
            "_model_module_version": "1.5.0",
            "_model_name": "DescriptionStyleModel",
            "_view_count": null,
            "_view_module": "@jupyter-widgets/base",
            "_view_module_version": "1.2.0",
            "_view_name": "StyleView",
            "description_width": ""
          }
        },
        "e2dd114c8fd14b68abdbd681a00bca3b": {
          "model_module": "@jupyter-widgets/base",
          "model_name": "LayoutModel",
          "model_module_version": "1.2.0",
          "state": {
            "_model_module": "@jupyter-widgets/base",
            "_model_module_version": "1.2.0",
            "_model_name": "LayoutModel",
            "_view_count": null,
            "_view_module": "@jupyter-widgets/base",
            "_view_module_version": "1.2.0",
            "_view_name": "LayoutView",
            "align_content": null,
            "align_items": null,
            "align_self": null,
            "border": null,
            "bottom": null,
            "display": null,
            "flex": null,
            "flex_flow": null,
            "grid_area": null,
            "grid_auto_columns": null,
            "grid_auto_flow": null,
            "grid_auto_rows": null,
            "grid_column": null,
            "grid_gap": null,
            "grid_row": null,
            "grid_template_areas": null,
            "grid_template_columns": null,
            "grid_template_rows": null,
            "height": null,
            "justify_content": null,
            "justify_items": null,
            "left": null,
            "margin": null,
            "max_height": null,
            "max_width": null,
            "min_height": null,
            "min_width": null,
            "object_fit": null,
            "object_position": null,
            "order": null,
            "overflow": null,
            "overflow_x": null,
            "overflow_y": null,
            "padding": null,
            "right": null,
            "top": null,
            "visibility": null,
            "width": null
          }
        },
        "85eeb9b2712e4a6d8ef675036d5b9a10": {
          "model_module": "@jupyter-widgets/controls",
          "model_name": "ProgressStyleModel",
          "model_module_version": "1.5.0",
          "state": {
            "_model_module": "@jupyter-widgets/controls",
            "_model_module_version": "1.5.0",
            "_model_name": "ProgressStyleModel",
            "_view_count": null,
            "_view_module": "@jupyter-widgets/base",
            "_view_module_version": "1.2.0",
            "_view_name": "StyleView",
            "bar_color": null,
            "description_width": ""
          }
        },
        "498ab4a6258d4b0ca33a25bb9384d55a": {
          "model_module": "@jupyter-widgets/base",
          "model_name": "LayoutModel",
          "model_module_version": "1.2.0",
          "state": {
            "_model_module": "@jupyter-widgets/base",
            "_model_module_version": "1.2.0",
            "_model_name": "LayoutModel",
            "_view_count": null,
            "_view_module": "@jupyter-widgets/base",
            "_view_module_version": "1.2.0",
            "_view_name": "LayoutView",
            "align_content": null,
            "align_items": null,
            "align_self": null,
            "border": null,
            "bottom": null,
            "display": null,
            "flex": null,
            "flex_flow": null,
            "grid_area": null,
            "grid_auto_columns": null,
            "grid_auto_flow": null,
            "grid_auto_rows": null,
            "grid_column": null,
            "grid_gap": null,
            "grid_row": null,
            "grid_template_areas": null,
            "grid_template_columns": null,
            "grid_template_rows": null,
            "height": null,
            "justify_content": null,
            "justify_items": null,
            "left": null,
            "margin": null,
            "max_height": null,
            "max_width": null,
            "min_height": null,
            "min_width": null,
            "object_fit": null,
            "object_position": null,
            "order": null,
            "overflow": null,
            "overflow_x": null,
            "overflow_y": null,
            "padding": null,
            "right": null,
            "top": null,
            "visibility": null,
            "width": null
          }
        },
        "ecad509ec3c14c31be9a79ef6cd1e716": {
          "model_module": "@jupyter-widgets/controls",
          "model_name": "DescriptionStyleModel",
          "model_module_version": "1.5.0",
          "state": {
            "_model_module": "@jupyter-widgets/controls",
            "_model_module_version": "1.5.0",
            "_model_name": "DescriptionStyleModel",
            "_view_count": null,
            "_view_module": "@jupyter-widgets/base",
            "_view_module_version": "1.2.0",
            "_view_name": "StyleView",
            "description_width": ""
          }
        },
        "58f50320f8354e64b37d5a262358beff": {
          "model_module": "@jupyter-widgets/controls",
          "model_name": "HBoxModel",
          "model_module_version": "1.5.0",
          "state": {
            "_dom_classes": [],
            "_model_module": "@jupyter-widgets/controls",
            "_model_module_version": "1.5.0",
            "_model_name": "HBoxModel",
            "_view_count": null,
            "_view_module": "@jupyter-widgets/controls",
            "_view_module_version": "1.5.0",
            "_view_name": "HBoxView",
            "box_style": "",
            "children": [
              "IPY_MODEL_d196bf6233684a2abf905c95855da65e",
              "IPY_MODEL_21c10486f52b479d96ef96159ecc6b1d",
              "IPY_MODEL_e5357a940726427a8b4e7d99d732c055"
            ],
            "layout": "IPY_MODEL_6903592bd9e24eae8bfab2bc576e3c20"
          }
        },
        "d196bf6233684a2abf905c95855da65e": {
          "model_module": "@jupyter-widgets/controls",
          "model_name": "HTMLModel",
          "model_module_version": "1.5.0",
          "state": {
            "_dom_classes": [],
            "_model_module": "@jupyter-widgets/controls",
            "_model_module_version": "1.5.0",
            "_model_name": "HTMLModel",
            "_view_count": null,
            "_view_module": "@jupyter-widgets/controls",
            "_view_module_version": "1.5.0",
            "_view_name": "HTMLView",
            "description": "",
            "description_tooltip": null,
            "layout": "IPY_MODEL_0ae3214ef5b44b6c97348aab4cabdc30",
            "placeholder": "​",
            "style": "IPY_MODEL_1832939102904393bd3140f641c7a127",
            "value": "tokenizer_config.json: 100%"
          }
        },
        "21c10486f52b479d96ef96159ecc6b1d": {
          "model_module": "@jupyter-widgets/controls",
          "model_name": "FloatProgressModel",
          "model_module_version": "1.5.0",
          "state": {
            "_dom_classes": [],
            "_model_module": "@jupyter-widgets/controls",
            "_model_module_version": "1.5.0",
            "_model_name": "FloatProgressModel",
            "_view_count": null,
            "_view_module": "@jupyter-widgets/controls",
            "_view_module_version": "1.5.0",
            "_view_name": "ProgressView",
            "bar_style": "success",
            "description": "",
            "description_tooltip": null,
            "layout": "IPY_MODEL_42291bcd1da240b6859f29f000af7068",
            "max": 29,
            "min": 0,
            "orientation": "horizontal",
            "style": "IPY_MODEL_cd0796989a3147778d24a1113acb3a53",
            "value": 29
          }
        },
        "e5357a940726427a8b4e7d99d732c055": {
          "model_module": "@jupyter-widgets/controls",
          "model_name": "HTMLModel",
          "model_module_version": "1.5.0",
          "state": {
            "_dom_classes": [],
            "_model_module": "@jupyter-widgets/controls",
            "_model_module_version": "1.5.0",
            "_model_name": "HTMLModel",
            "_view_count": null,
            "_view_module": "@jupyter-widgets/controls",
            "_view_module_version": "1.5.0",
            "_view_name": "HTMLView",
            "description": "",
            "description_tooltip": null,
            "layout": "IPY_MODEL_65d6c4422de94306b4d655b58cc866ba",
            "placeholder": "​",
            "style": "IPY_MODEL_17076e8bddc24bc2a2172ff9bf11ab46",
            "value": " 29.0/29.0 [00:00&lt;00:00, 1.21kB/s]"
          }
        },
        "6903592bd9e24eae8bfab2bc576e3c20": {
          "model_module": "@jupyter-widgets/base",
          "model_name": "LayoutModel",
          "model_module_version": "1.2.0",
          "state": {
            "_model_module": "@jupyter-widgets/base",
            "_model_module_version": "1.2.0",
            "_model_name": "LayoutModel",
            "_view_count": null,
            "_view_module": "@jupyter-widgets/base",
            "_view_module_version": "1.2.0",
            "_view_name": "LayoutView",
            "align_content": null,
            "align_items": null,
            "align_self": null,
            "border": null,
            "bottom": null,
            "display": null,
            "flex": null,
            "flex_flow": null,
            "grid_area": null,
            "grid_auto_columns": null,
            "grid_auto_flow": null,
            "grid_auto_rows": null,
            "grid_column": null,
            "grid_gap": null,
            "grid_row": null,
            "grid_template_areas": null,
            "grid_template_columns": null,
            "grid_template_rows": null,
            "height": null,
            "justify_content": null,
            "justify_items": null,
            "left": null,
            "margin": null,
            "max_height": null,
            "max_width": null,
            "min_height": null,
            "min_width": null,
            "object_fit": null,
            "object_position": null,
            "order": null,
            "overflow": null,
            "overflow_x": null,
            "overflow_y": null,
            "padding": null,
            "right": null,
            "top": null,
            "visibility": null,
            "width": null
          }
        },
        "0ae3214ef5b44b6c97348aab4cabdc30": {
          "model_module": "@jupyter-widgets/base",
          "model_name": "LayoutModel",
          "model_module_version": "1.2.0",
          "state": {
            "_model_module": "@jupyter-widgets/base",
            "_model_module_version": "1.2.0",
            "_model_name": "LayoutModel",
            "_view_count": null,
            "_view_module": "@jupyter-widgets/base",
            "_view_module_version": "1.2.0",
            "_view_name": "LayoutView",
            "align_content": null,
            "align_items": null,
            "align_self": null,
            "border": null,
            "bottom": null,
            "display": null,
            "flex": null,
            "flex_flow": null,
            "grid_area": null,
            "grid_auto_columns": null,
            "grid_auto_flow": null,
            "grid_auto_rows": null,
            "grid_column": null,
            "grid_gap": null,
            "grid_row": null,
            "grid_template_areas": null,
            "grid_template_columns": null,
            "grid_template_rows": null,
            "height": null,
            "justify_content": null,
            "justify_items": null,
            "left": null,
            "margin": null,
            "max_height": null,
            "max_width": null,
            "min_height": null,
            "min_width": null,
            "object_fit": null,
            "object_position": null,
            "order": null,
            "overflow": null,
            "overflow_x": null,
            "overflow_y": null,
            "padding": null,
            "right": null,
            "top": null,
            "visibility": null,
            "width": null
          }
        },
        "1832939102904393bd3140f641c7a127": {
          "model_module": "@jupyter-widgets/controls",
          "model_name": "DescriptionStyleModel",
          "model_module_version": "1.5.0",
          "state": {
            "_model_module": "@jupyter-widgets/controls",
            "_model_module_version": "1.5.0",
            "_model_name": "DescriptionStyleModel",
            "_view_count": null,
            "_view_module": "@jupyter-widgets/base",
            "_view_module_version": "1.2.0",
            "_view_name": "StyleView",
            "description_width": ""
          }
        },
        "42291bcd1da240b6859f29f000af7068": {
          "model_module": "@jupyter-widgets/base",
          "model_name": "LayoutModel",
          "model_module_version": "1.2.0",
          "state": {
            "_model_module": "@jupyter-widgets/base",
            "_model_module_version": "1.2.0",
            "_model_name": "LayoutModel",
            "_view_count": null,
            "_view_module": "@jupyter-widgets/base",
            "_view_module_version": "1.2.0",
            "_view_name": "LayoutView",
            "align_content": null,
            "align_items": null,
            "align_self": null,
            "border": null,
            "bottom": null,
            "display": null,
            "flex": null,
            "flex_flow": null,
            "grid_area": null,
            "grid_auto_columns": null,
            "grid_auto_flow": null,
            "grid_auto_rows": null,
            "grid_column": null,
            "grid_gap": null,
            "grid_row": null,
            "grid_template_areas": null,
            "grid_template_columns": null,
            "grid_template_rows": null,
            "height": null,
            "justify_content": null,
            "justify_items": null,
            "left": null,
            "margin": null,
            "max_height": null,
            "max_width": null,
            "min_height": null,
            "min_width": null,
            "object_fit": null,
            "object_position": null,
            "order": null,
            "overflow": null,
            "overflow_x": null,
            "overflow_y": null,
            "padding": null,
            "right": null,
            "top": null,
            "visibility": null,
            "width": null
          }
        },
        "cd0796989a3147778d24a1113acb3a53": {
          "model_module": "@jupyter-widgets/controls",
          "model_name": "ProgressStyleModel",
          "model_module_version": "1.5.0",
          "state": {
            "_model_module": "@jupyter-widgets/controls",
            "_model_module_version": "1.5.0",
            "_model_name": "ProgressStyleModel",
            "_view_count": null,
            "_view_module": "@jupyter-widgets/base",
            "_view_module_version": "1.2.0",
            "_view_name": "StyleView",
            "bar_color": null,
            "description_width": ""
          }
        },
        "65d6c4422de94306b4d655b58cc866ba": {
          "model_module": "@jupyter-widgets/base",
          "model_name": "LayoutModel",
          "model_module_version": "1.2.0",
          "state": {
            "_model_module": "@jupyter-widgets/base",
            "_model_module_version": "1.2.0",
            "_model_name": "LayoutModel",
            "_view_count": null,
            "_view_module": "@jupyter-widgets/base",
            "_view_module_version": "1.2.0",
            "_view_name": "LayoutView",
            "align_content": null,
            "align_items": null,
            "align_self": null,
            "border": null,
            "bottom": null,
            "display": null,
            "flex": null,
            "flex_flow": null,
            "grid_area": null,
            "grid_auto_columns": null,
            "grid_auto_flow": null,
            "grid_auto_rows": null,
            "grid_column": null,
            "grid_gap": null,
            "grid_row": null,
            "grid_template_areas": null,
            "grid_template_columns": null,
            "grid_template_rows": null,
            "height": null,
            "justify_content": null,
            "justify_items": null,
            "left": null,
            "margin": null,
            "max_height": null,
            "max_width": null,
            "min_height": null,
            "min_width": null,
            "object_fit": null,
            "object_position": null,
            "order": null,
            "overflow": null,
            "overflow_x": null,
            "overflow_y": null,
            "padding": null,
            "right": null,
            "top": null,
            "visibility": null,
            "width": null
          }
        },
        "17076e8bddc24bc2a2172ff9bf11ab46": {
          "model_module": "@jupyter-widgets/controls",
          "model_name": "DescriptionStyleModel",
          "model_module_version": "1.5.0",
          "state": {
            "_model_module": "@jupyter-widgets/controls",
            "_model_module_version": "1.5.0",
            "_model_name": "DescriptionStyleModel",
            "_view_count": null,
            "_view_module": "@jupyter-widgets/base",
            "_view_module_version": "1.2.0",
            "_view_name": "StyleView",
            "description_width": ""
          }
        },
        "a985ce79c8cc47e2880a5769c4e46f76": {
          "model_module": "@jupyter-widgets/controls",
          "model_name": "HBoxModel",
          "model_module_version": "1.5.0",
          "state": {
            "_dom_classes": [],
            "_model_module": "@jupyter-widgets/controls",
            "_model_module_version": "1.5.0",
            "_model_name": "HBoxModel",
            "_view_count": null,
            "_view_module": "@jupyter-widgets/controls",
            "_view_module_version": "1.5.0",
            "_view_name": "HBoxView",
            "box_style": "",
            "children": [
              "IPY_MODEL_bb2606bb9df74b8ba0ebead0c710c7ef",
              "IPY_MODEL_b2a762b962904dbbaaf9fda30e52461d",
              "IPY_MODEL_4503695d17ed457b918150bf5abbcb4c"
            ],
            "layout": "IPY_MODEL_e5a487461094402d9f8a2ed2a9fa9955"
          }
        },
        "bb2606bb9df74b8ba0ebead0c710c7ef": {
          "model_module": "@jupyter-widgets/controls",
          "model_name": "HTMLModel",
          "model_module_version": "1.5.0",
          "state": {
            "_dom_classes": [],
            "_model_module": "@jupyter-widgets/controls",
            "_model_module_version": "1.5.0",
            "_model_name": "HTMLModel",
            "_view_count": null,
            "_view_module": "@jupyter-widgets/controls",
            "_view_module_version": "1.5.0",
            "_view_name": "HTMLView",
            "description": "",
            "description_tooltip": null,
            "layout": "IPY_MODEL_06bf813d43c7403b82c02b11ebea34e5",
            "placeholder": "​",
            "style": "IPY_MODEL_2ce6b0e00766416eb90c7d53de56f35b",
            "value": "vocab.txt: 100%"
          }
        },
        "b2a762b962904dbbaaf9fda30e52461d": {
          "model_module": "@jupyter-widgets/controls",
          "model_name": "FloatProgressModel",
          "model_module_version": "1.5.0",
          "state": {
            "_dom_classes": [],
            "_model_module": "@jupyter-widgets/controls",
            "_model_module_version": "1.5.0",
            "_model_name": "FloatProgressModel",
            "_view_count": null,
            "_view_module": "@jupyter-widgets/controls",
            "_view_module_version": "1.5.0",
            "_view_name": "ProgressView",
            "bar_style": "success",
            "description": "",
            "description_tooltip": null,
            "layout": "IPY_MODEL_348ea390cd9a43bf828c843e09cf8f5f",
            "max": 213450,
            "min": 0,
            "orientation": "horizontal",
            "style": "IPY_MODEL_1ecca8e0d3964fb5a2d744b3d0cb0857",
            "value": 213450
          }
        },
        "4503695d17ed457b918150bf5abbcb4c": {
          "model_module": "@jupyter-widgets/controls",
          "model_name": "HTMLModel",
          "model_module_version": "1.5.0",
          "state": {
            "_dom_classes": [],
            "_model_module": "@jupyter-widgets/controls",
            "_model_module_version": "1.5.0",
            "_model_name": "HTMLModel",
            "_view_count": null,
            "_view_module": "@jupyter-widgets/controls",
            "_view_module_version": "1.5.0",
            "_view_name": "HTMLView",
            "description": "",
            "description_tooltip": null,
            "layout": "IPY_MODEL_94ae030149914f5d902fb98ba46d723c",
            "placeholder": "​",
            "style": "IPY_MODEL_856d8bf6629a4db5973241cbcf7e9566",
            "value": " 213k/213k [00:00&lt;00:00, 7.22MB/s]"
          }
        },
        "e5a487461094402d9f8a2ed2a9fa9955": {
          "model_module": "@jupyter-widgets/base",
          "model_name": "LayoutModel",
          "model_module_version": "1.2.0",
          "state": {
            "_model_module": "@jupyter-widgets/base",
            "_model_module_version": "1.2.0",
            "_model_name": "LayoutModel",
            "_view_count": null,
            "_view_module": "@jupyter-widgets/base",
            "_view_module_version": "1.2.0",
            "_view_name": "LayoutView",
            "align_content": null,
            "align_items": null,
            "align_self": null,
            "border": null,
            "bottom": null,
            "display": null,
            "flex": null,
            "flex_flow": null,
            "grid_area": null,
            "grid_auto_columns": null,
            "grid_auto_flow": null,
            "grid_auto_rows": null,
            "grid_column": null,
            "grid_gap": null,
            "grid_row": null,
            "grid_template_areas": null,
            "grid_template_columns": null,
            "grid_template_rows": null,
            "height": null,
            "justify_content": null,
            "justify_items": null,
            "left": null,
            "margin": null,
            "max_height": null,
            "max_width": null,
            "min_height": null,
            "min_width": null,
            "object_fit": null,
            "object_position": null,
            "order": null,
            "overflow": null,
            "overflow_x": null,
            "overflow_y": null,
            "padding": null,
            "right": null,
            "top": null,
            "visibility": null,
            "width": null
          }
        },
        "06bf813d43c7403b82c02b11ebea34e5": {
          "model_module": "@jupyter-widgets/base",
          "model_name": "LayoutModel",
          "model_module_version": "1.2.0",
          "state": {
            "_model_module": "@jupyter-widgets/base",
            "_model_module_version": "1.2.0",
            "_model_name": "LayoutModel",
            "_view_count": null,
            "_view_module": "@jupyter-widgets/base",
            "_view_module_version": "1.2.0",
            "_view_name": "LayoutView",
            "align_content": null,
            "align_items": null,
            "align_self": null,
            "border": null,
            "bottom": null,
            "display": null,
            "flex": null,
            "flex_flow": null,
            "grid_area": null,
            "grid_auto_columns": null,
            "grid_auto_flow": null,
            "grid_auto_rows": null,
            "grid_column": null,
            "grid_gap": null,
            "grid_row": null,
            "grid_template_areas": null,
            "grid_template_columns": null,
            "grid_template_rows": null,
            "height": null,
            "justify_content": null,
            "justify_items": null,
            "left": null,
            "margin": null,
            "max_height": null,
            "max_width": null,
            "min_height": null,
            "min_width": null,
            "object_fit": null,
            "object_position": null,
            "order": null,
            "overflow": null,
            "overflow_x": null,
            "overflow_y": null,
            "padding": null,
            "right": null,
            "top": null,
            "visibility": null,
            "width": null
          }
        },
        "2ce6b0e00766416eb90c7d53de56f35b": {
          "model_module": "@jupyter-widgets/controls",
          "model_name": "DescriptionStyleModel",
          "model_module_version": "1.5.0",
          "state": {
            "_model_module": "@jupyter-widgets/controls",
            "_model_module_version": "1.5.0",
            "_model_name": "DescriptionStyleModel",
            "_view_count": null,
            "_view_module": "@jupyter-widgets/base",
            "_view_module_version": "1.2.0",
            "_view_name": "StyleView",
            "description_width": ""
          }
        },
        "348ea390cd9a43bf828c843e09cf8f5f": {
          "model_module": "@jupyter-widgets/base",
          "model_name": "LayoutModel",
          "model_module_version": "1.2.0",
          "state": {
            "_model_module": "@jupyter-widgets/base",
            "_model_module_version": "1.2.0",
            "_model_name": "LayoutModel",
            "_view_count": null,
            "_view_module": "@jupyter-widgets/base",
            "_view_module_version": "1.2.0",
            "_view_name": "LayoutView",
            "align_content": null,
            "align_items": null,
            "align_self": null,
            "border": null,
            "bottom": null,
            "display": null,
            "flex": null,
            "flex_flow": null,
            "grid_area": null,
            "grid_auto_columns": null,
            "grid_auto_flow": null,
            "grid_auto_rows": null,
            "grid_column": null,
            "grid_gap": null,
            "grid_row": null,
            "grid_template_areas": null,
            "grid_template_columns": null,
            "grid_template_rows": null,
            "height": null,
            "justify_content": null,
            "justify_items": null,
            "left": null,
            "margin": null,
            "max_height": null,
            "max_width": null,
            "min_height": null,
            "min_width": null,
            "object_fit": null,
            "object_position": null,
            "order": null,
            "overflow": null,
            "overflow_x": null,
            "overflow_y": null,
            "padding": null,
            "right": null,
            "top": null,
            "visibility": null,
            "width": null
          }
        },
        "1ecca8e0d3964fb5a2d744b3d0cb0857": {
          "model_module": "@jupyter-widgets/controls",
          "model_name": "ProgressStyleModel",
          "model_module_version": "1.5.0",
          "state": {
            "_model_module": "@jupyter-widgets/controls",
            "_model_module_version": "1.5.0",
            "_model_name": "ProgressStyleModel",
            "_view_count": null,
            "_view_module": "@jupyter-widgets/base",
            "_view_module_version": "1.2.0",
            "_view_name": "StyleView",
            "bar_color": null,
            "description_width": ""
          }
        },
        "94ae030149914f5d902fb98ba46d723c": {
          "model_module": "@jupyter-widgets/base",
          "model_name": "LayoutModel",
          "model_module_version": "1.2.0",
          "state": {
            "_model_module": "@jupyter-widgets/base",
            "_model_module_version": "1.2.0",
            "_model_name": "LayoutModel",
            "_view_count": null,
            "_view_module": "@jupyter-widgets/base",
            "_view_module_version": "1.2.0",
            "_view_name": "LayoutView",
            "align_content": null,
            "align_items": null,
            "align_self": null,
            "border": null,
            "bottom": null,
            "display": null,
            "flex": null,
            "flex_flow": null,
            "grid_area": null,
            "grid_auto_columns": null,
            "grid_auto_flow": null,
            "grid_auto_rows": null,
            "grid_column": null,
            "grid_gap": null,
            "grid_row": null,
            "grid_template_areas": null,
            "grid_template_columns": null,
            "grid_template_rows": null,
            "height": null,
            "justify_content": null,
            "justify_items": null,
            "left": null,
            "margin": null,
            "max_height": null,
            "max_width": null,
            "min_height": null,
            "min_width": null,
            "object_fit": null,
            "object_position": null,
            "order": null,
            "overflow": null,
            "overflow_x": null,
            "overflow_y": null,
            "padding": null,
            "right": null,
            "top": null,
            "visibility": null,
            "width": null
          }
        },
        "856d8bf6629a4db5973241cbcf7e9566": {
          "model_module": "@jupyter-widgets/controls",
          "model_name": "DescriptionStyleModel",
          "model_module_version": "1.5.0",
          "state": {
            "_model_module": "@jupyter-widgets/controls",
            "_model_module_version": "1.5.0",
            "_model_name": "DescriptionStyleModel",
            "_view_count": null,
            "_view_module": "@jupyter-widgets/base",
            "_view_module_version": "1.2.0",
            "_view_name": "StyleView",
            "description_width": ""
          }
        },
        "cfdecf9d32204c1ca404cea3d8e3611f": {
          "model_module": "@jupyter-widgets/controls",
          "model_name": "HBoxModel",
          "model_module_version": "1.5.0",
          "state": {
            "_dom_classes": [],
            "_model_module": "@jupyter-widgets/controls",
            "_model_module_version": "1.5.0",
            "_model_name": "HBoxModel",
            "_view_count": null,
            "_view_module": "@jupyter-widgets/controls",
            "_view_module_version": "1.5.0",
            "_view_name": "HBoxView",
            "box_style": "",
            "children": [
              "IPY_MODEL_40c3317a2b944c3a9844795fcbec5ae1",
              "IPY_MODEL_dccbcd032f22456ba11cec06aeaea56e",
              "IPY_MODEL_d2f9f3ea4f634ce89c6ede064e994d39"
            ],
            "layout": "IPY_MODEL_1ba1ad83fcfc4aecad7334bd843b0500"
          }
        },
        "40c3317a2b944c3a9844795fcbec5ae1": {
          "model_module": "@jupyter-widgets/controls",
          "model_name": "HTMLModel",
          "model_module_version": "1.5.0",
          "state": {
            "_dom_classes": [],
            "_model_module": "@jupyter-widgets/controls",
            "_model_module_version": "1.5.0",
            "_model_name": "HTMLModel",
            "_view_count": null,
            "_view_module": "@jupyter-widgets/controls",
            "_view_module_version": "1.5.0",
            "_view_name": "HTMLView",
            "description": "",
            "description_tooltip": null,
            "layout": "IPY_MODEL_b5d4ec4d796e4d64b51dc943f4589a5f",
            "placeholder": "​",
            "style": "IPY_MODEL_46db5fe7d9ca4928bcfbecacd3cce2a9",
            "value": "tokenizer.json: 100%"
          }
        },
        "dccbcd032f22456ba11cec06aeaea56e": {
          "model_module": "@jupyter-widgets/controls",
          "model_name": "FloatProgressModel",
          "model_module_version": "1.5.0",
          "state": {
            "_dom_classes": [],
            "_model_module": "@jupyter-widgets/controls",
            "_model_module_version": "1.5.0",
            "_model_name": "FloatProgressModel",
            "_view_count": null,
            "_view_module": "@jupyter-widgets/controls",
            "_view_module_version": "1.5.0",
            "_view_name": "ProgressView",
            "bar_style": "success",
            "description": "",
            "description_tooltip": null,
            "layout": "IPY_MODEL_9692d194158c486ca10b63da7e46e752",
            "max": 435797,
            "min": 0,
            "orientation": "horizontal",
            "style": "IPY_MODEL_896f6c9cca7f448dbfa8e0ec1b1c48ab",
            "value": 435797
          }
        },
        "d2f9f3ea4f634ce89c6ede064e994d39": {
          "model_module": "@jupyter-widgets/controls",
          "model_name": "HTMLModel",
          "model_module_version": "1.5.0",
          "state": {
            "_dom_classes": [],
            "_model_module": "@jupyter-widgets/controls",
            "_model_module_version": "1.5.0",
            "_model_name": "HTMLModel",
            "_view_count": null,
            "_view_module": "@jupyter-widgets/controls",
            "_view_module_version": "1.5.0",
            "_view_name": "HTMLView",
            "description": "",
            "description_tooltip": null,
            "layout": "IPY_MODEL_85ec932ffc3a44639d40188d70137dce",
            "placeholder": "​",
            "style": "IPY_MODEL_094d745f7ae44026b56c2def1b061204",
            "value": " 436k/436k [00:00&lt;00:00, 7.71MB/s]"
          }
        },
        "1ba1ad83fcfc4aecad7334bd843b0500": {
          "model_module": "@jupyter-widgets/base",
          "model_name": "LayoutModel",
          "model_module_version": "1.2.0",
          "state": {
            "_model_module": "@jupyter-widgets/base",
            "_model_module_version": "1.2.0",
            "_model_name": "LayoutModel",
            "_view_count": null,
            "_view_module": "@jupyter-widgets/base",
            "_view_module_version": "1.2.0",
            "_view_name": "LayoutView",
            "align_content": null,
            "align_items": null,
            "align_self": null,
            "border": null,
            "bottom": null,
            "display": null,
            "flex": null,
            "flex_flow": null,
            "grid_area": null,
            "grid_auto_columns": null,
            "grid_auto_flow": null,
            "grid_auto_rows": null,
            "grid_column": null,
            "grid_gap": null,
            "grid_row": null,
            "grid_template_areas": null,
            "grid_template_columns": null,
            "grid_template_rows": null,
            "height": null,
            "justify_content": null,
            "justify_items": null,
            "left": null,
            "margin": null,
            "max_height": null,
            "max_width": null,
            "min_height": null,
            "min_width": null,
            "object_fit": null,
            "object_position": null,
            "order": null,
            "overflow": null,
            "overflow_x": null,
            "overflow_y": null,
            "padding": null,
            "right": null,
            "top": null,
            "visibility": null,
            "width": null
          }
        },
        "b5d4ec4d796e4d64b51dc943f4589a5f": {
          "model_module": "@jupyter-widgets/base",
          "model_name": "LayoutModel",
          "model_module_version": "1.2.0",
          "state": {
            "_model_module": "@jupyter-widgets/base",
            "_model_module_version": "1.2.0",
            "_model_name": "LayoutModel",
            "_view_count": null,
            "_view_module": "@jupyter-widgets/base",
            "_view_module_version": "1.2.0",
            "_view_name": "LayoutView",
            "align_content": null,
            "align_items": null,
            "align_self": null,
            "border": null,
            "bottom": null,
            "display": null,
            "flex": null,
            "flex_flow": null,
            "grid_area": null,
            "grid_auto_columns": null,
            "grid_auto_flow": null,
            "grid_auto_rows": null,
            "grid_column": null,
            "grid_gap": null,
            "grid_row": null,
            "grid_template_areas": null,
            "grid_template_columns": null,
            "grid_template_rows": null,
            "height": null,
            "justify_content": null,
            "justify_items": null,
            "left": null,
            "margin": null,
            "max_height": null,
            "max_width": null,
            "min_height": null,
            "min_width": null,
            "object_fit": null,
            "object_position": null,
            "order": null,
            "overflow": null,
            "overflow_x": null,
            "overflow_y": null,
            "padding": null,
            "right": null,
            "top": null,
            "visibility": null,
            "width": null
          }
        },
        "46db5fe7d9ca4928bcfbecacd3cce2a9": {
          "model_module": "@jupyter-widgets/controls",
          "model_name": "DescriptionStyleModel",
          "model_module_version": "1.5.0",
          "state": {
            "_model_module": "@jupyter-widgets/controls",
            "_model_module_version": "1.5.0",
            "_model_name": "DescriptionStyleModel",
            "_view_count": null,
            "_view_module": "@jupyter-widgets/base",
            "_view_module_version": "1.2.0",
            "_view_name": "StyleView",
            "description_width": ""
          }
        },
        "9692d194158c486ca10b63da7e46e752": {
          "model_module": "@jupyter-widgets/base",
          "model_name": "LayoutModel",
          "model_module_version": "1.2.0",
          "state": {
            "_model_module": "@jupyter-widgets/base",
            "_model_module_version": "1.2.0",
            "_model_name": "LayoutModel",
            "_view_count": null,
            "_view_module": "@jupyter-widgets/base",
            "_view_module_version": "1.2.0",
            "_view_name": "LayoutView",
            "align_content": null,
            "align_items": null,
            "align_self": null,
            "border": null,
            "bottom": null,
            "display": null,
            "flex": null,
            "flex_flow": null,
            "grid_area": null,
            "grid_auto_columns": null,
            "grid_auto_flow": null,
            "grid_auto_rows": null,
            "grid_column": null,
            "grid_gap": null,
            "grid_row": null,
            "grid_template_areas": null,
            "grid_template_columns": null,
            "grid_template_rows": null,
            "height": null,
            "justify_content": null,
            "justify_items": null,
            "left": null,
            "margin": null,
            "max_height": null,
            "max_width": null,
            "min_height": null,
            "min_width": null,
            "object_fit": null,
            "object_position": null,
            "order": null,
            "overflow": null,
            "overflow_x": null,
            "overflow_y": null,
            "padding": null,
            "right": null,
            "top": null,
            "visibility": null,
            "width": null
          }
        },
        "896f6c9cca7f448dbfa8e0ec1b1c48ab": {
          "model_module": "@jupyter-widgets/controls",
          "model_name": "ProgressStyleModel",
          "model_module_version": "1.5.0",
          "state": {
            "_model_module": "@jupyter-widgets/controls",
            "_model_module_version": "1.5.0",
            "_model_name": "ProgressStyleModel",
            "_view_count": null,
            "_view_module": "@jupyter-widgets/base",
            "_view_module_version": "1.2.0",
            "_view_name": "StyleView",
            "bar_color": null,
            "description_width": ""
          }
        },
        "85ec932ffc3a44639d40188d70137dce": {
          "model_module": "@jupyter-widgets/base",
          "model_name": "LayoutModel",
          "model_module_version": "1.2.0",
          "state": {
            "_model_module": "@jupyter-widgets/base",
            "_model_module_version": "1.2.0",
            "_model_name": "LayoutModel",
            "_view_count": null,
            "_view_module": "@jupyter-widgets/base",
            "_view_module_version": "1.2.0",
            "_view_name": "LayoutView",
            "align_content": null,
            "align_items": null,
            "align_self": null,
            "border": null,
            "bottom": null,
            "display": null,
            "flex": null,
            "flex_flow": null,
            "grid_area": null,
            "grid_auto_columns": null,
            "grid_auto_flow": null,
            "grid_auto_rows": null,
            "grid_column": null,
            "grid_gap": null,
            "grid_row": null,
            "grid_template_areas": null,
            "grid_template_columns": null,
            "grid_template_rows": null,
            "height": null,
            "justify_content": null,
            "justify_items": null,
            "left": null,
            "margin": null,
            "max_height": null,
            "max_width": null,
            "min_height": null,
            "min_width": null,
            "object_fit": null,
            "object_position": null,
            "order": null,
            "overflow": null,
            "overflow_x": null,
            "overflow_y": null,
            "padding": null,
            "right": null,
            "top": null,
            "visibility": null,
            "width": null
          }
        },
        "094d745f7ae44026b56c2def1b061204": {
          "model_module": "@jupyter-widgets/controls",
          "model_name": "DescriptionStyleModel",
          "model_module_version": "1.5.0",
          "state": {
            "_model_module": "@jupyter-widgets/controls",
            "_model_module_version": "1.5.0",
            "_model_name": "DescriptionStyleModel",
            "_view_count": null,
            "_view_module": "@jupyter-widgets/base",
            "_view_module_version": "1.2.0",
            "_view_name": "StyleView",
            "description_width": ""
          }
        },
        "8b061764a2c8485899905060dad531fd": {
          "model_module": "@jupyter-widgets/controls",
          "model_name": "HBoxModel",
          "model_module_version": "1.5.0",
          "state": {
            "_dom_classes": [],
            "_model_module": "@jupyter-widgets/controls",
            "_model_module_version": "1.5.0",
            "_model_name": "HBoxModel",
            "_view_count": null,
            "_view_module": "@jupyter-widgets/controls",
            "_view_module_version": "1.5.0",
            "_view_name": "HBoxView",
            "box_style": "",
            "children": [
              "IPY_MODEL_48c465318e3f4169a7b519fe406352d8",
              "IPY_MODEL_26a0ccbb378e43ae92d3f8b44c6bea5e",
              "IPY_MODEL_ddc8610fc75d4e718d3ca3979243dd2e"
            ],
            "layout": "IPY_MODEL_24b70192487a423bbfcfef62c8fd605d"
          }
        },
        "48c465318e3f4169a7b519fe406352d8": {
          "model_module": "@jupyter-widgets/controls",
          "model_name": "HTMLModel",
          "model_module_version": "1.5.0",
          "state": {
            "_dom_classes": [],
            "_model_module": "@jupyter-widgets/controls",
            "_model_module_version": "1.5.0",
            "_model_name": "HTMLModel",
            "_view_count": null,
            "_view_module": "@jupyter-widgets/controls",
            "_view_module_version": "1.5.0",
            "_view_name": "HTMLView",
            "description": "",
            "description_tooltip": null,
            "layout": "IPY_MODEL_a26795b72898459882c4a3a7a9668ced",
            "placeholder": "​",
            "style": "IPY_MODEL_1102ace09f5d401b985d96e3c0cb19ad",
            "value": "Downloading readme: 100%"
          }
        },
        "26a0ccbb378e43ae92d3f8b44c6bea5e": {
          "model_module": "@jupyter-widgets/controls",
          "model_name": "FloatProgressModel",
          "model_module_version": "1.5.0",
          "state": {
            "_dom_classes": [],
            "_model_module": "@jupyter-widgets/controls",
            "_model_module_version": "1.5.0",
            "_model_name": "FloatProgressModel",
            "_view_count": null,
            "_view_module": "@jupyter-widgets/controls",
            "_view_module_version": "1.5.0",
            "_view_name": "ProgressView",
            "bar_style": "success",
            "description": "",
            "description_tooltip": null,
            "layout": "IPY_MODEL_8a2578a2ccd64105a8c84a60a1fd2f6d",
            "max": 7620,
            "min": 0,
            "orientation": "horizontal",
            "style": "IPY_MODEL_bb52f95511034479a5896fd527489c51",
            "value": 7620
          }
        },
        "ddc8610fc75d4e718d3ca3979243dd2e": {
          "model_module": "@jupyter-widgets/controls",
          "model_name": "HTMLModel",
          "model_module_version": "1.5.0",
          "state": {
            "_dom_classes": [],
            "_model_module": "@jupyter-widgets/controls",
            "_model_module_version": "1.5.0",
            "_model_name": "HTMLModel",
            "_view_count": null,
            "_view_module": "@jupyter-widgets/controls",
            "_view_module_version": "1.5.0",
            "_view_name": "HTMLView",
            "description": "",
            "description_tooltip": null,
            "layout": "IPY_MODEL_b66d393eccc747f084e5662b5fa383dd",
            "placeholder": "​",
            "style": "IPY_MODEL_38b5337aabbc437f86979b997ccfa5c8",
            "value": " 7.62k/7.62k [00:00&lt;00:00, 401kB/s]"
          }
        },
        "24b70192487a423bbfcfef62c8fd605d": {
          "model_module": "@jupyter-widgets/base",
          "model_name": "LayoutModel",
          "model_module_version": "1.2.0",
          "state": {
            "_model_module": "@jupyter-widgets/base",
            "_model_module_version": "1.2.0",
            "_model_name": "LayoutModel",
            "_view_count": null,
            "_view_module": "@jupyter-widgets/base",
            "_view_module_version": "1.2.0",
            "_view_name": "LayoutView",
            "align_content": null,
            "align_items": null,
            "align_self": null,
            "border": null,
            "bottom": null,
            "display": null,
            "flex": null,
            "flex_flow": null,
            "grid_area": null,
            "grid_auto_columns": null,
            "grid_auto_flow": null,
            "grid_auto_rows": null,
            "grid_column": null,
            "grid_gap": null,
            "grid_row": null,
            "grid_template_areas": null,
            "grid_template_columns": null,
            "grid_template_rows": null,
            "height": null,
            "justify_content": null,
            "justify_items": null,
            "left": null,
            "margin": null,
            "max_height": null,
            "max_width": null,
            "min_height": null,
            "min_width": null,
            "object_fit": null,
            "object_position": null,
            "order": null,
            "overflow": null,
            "overflow_x": null,
            "overflow_y": null,
            "padding": null,
            "right": null,
            "top": null,
            "visibility": null,
            "width": null
          }
        },
        "a26795b72898459882c4a3a7a9668ced": {
          "model_module": "@jupyter-widgets/base",
          "model_name": "LayoutModel",
          "model_module_version": "1.2.0",
          "state": {
            "_model_module": "@jupyter-widgets/base",
            "_model_module_version": "1.2.0",
            "_model_name": "LayoutModel",
            "_view_count": null,
            "_view_module": "@jupyter-widgets/base",
            "_view_module_version": "1.2.0",
            "_view_name": "LayoutView",
            "align_content": null,
            "align_items": null,
            "align_self": null,
            "border": null,
            "bottom": null,
            "display": null,
            "flex": null,
            "flex_flow": null,
            "grid_area": null,
            "grid_auto_columns": null,
            "grid_auto_flow": null,
            "grid_auto_rows": null,
            "grid_column": null,
            "grid_gap": null,
            "grid_row": null,
            "grid_template_areas": null,
            "grid_template_columns": null,
            "grid_template_rows": null,
            "height": null,
            "justify_content": null,
            "justify_items": null,
            "left": null,
            "margin": null,
            "max_height": null,
            "max_width": null,
            "min_height": null,
            "min_width": null,
            "object_fit": null,
            "object_position": null,
            "order": null,
            "overflow": null,
            "overflow_x": null,
            "overflow_y": null,
            "padding": null,
            "right": null,
            "top": null,
            "visibility": null,
            "width": null
          }
        },
        "1102ace09f5d401b985d96e3c0cb19ad": {
          "model_module": "@jupyter-widgets/controls",
          "model_name": "DescriptionStyleModel",
          "model_module_version": "1.5.0",
          "state": {
            "_model_module": "@jupyter-widgets/controls",
            "_model_module_version": "1.5.0",
            "_model_name": "DescriptionStyleModel",
            "_view_count": null,
            "_view_module": "@jupyter-widgets/base",
            "_view_module_version": "1.2.0",
            "_view_name": "StyleView",
            "description_width": ""
          }
        },
        "8a2578a2ccd64105a8c84a60a1fd2f6d": {
          "model_module": "@jupyter-widgets/base",
          "model_name": "LayoutModel",
          "model_module_version": "1.2.0",
          "state": {
            "_model_module": "@jupyter-widgets/base",
            "_model_module_version": "1.2.0",
            "_model_name": "LayoutModel",
            "_view_count": null,
            "_view_module": "@jupyter-widgets/base",
            "_view_module_version": "1.2.0",
            "_view_name": "LayoutView",
            "align_content": null,
            "align_items": null,
            "align_self": null,
            "border": null,
            "bottom": null,
            "display": null,
            "flex": null,
            "flex_flow": null,
            "grid_area": null,
            "grid_auto_columns": null,
            "grid_auto_flow": null,
            "grid_auto_rows": null,
            "grid_column": null,
            "grid_gap": null,
            "grid_row": null,
            "grid_template_areas": null,
            "grid_template_columns": null,
            "grid_template_rows": null,
            "height": null,
            "justify_content": null,
            "justify_items": null,
            "left": null,
            "margin": null,
            "max_height": null,
            "max_width": null,
            "min_height": null,
            "min_width": null,
            "object_fit": null,
            "object_position": null,
            "order": null,
            "overflow": null,
            "overflow_x": null,
            "overflow_y": null,
            "padding": null,
            "right": null,
            "top": null,
            "visibility": null,
            "width": null
          }
        },
        "bb52f95511034479a5896fd527489c51": {
          "model_module": "@jupyter-widgets/controls",
          "model_name": "ProgressStyleModel",
          "model_module_version": "1.5.0",
          "state": {
            "_model_module": "@jupyter-widgets/controls",
            "_model_module_version": "1.5.0",
            "_model_name": "ProgressStyleModel",
            "_view_count": null,
            "_view_module": "@jupyter-widgets/base",
            "_view_module_version": "1.2.0",
            "_view_name": "StyleView",
            "bar_color": null,
            "description_width": ""
          }
        },
        "b66d393eccc747f084e5662b5fa383dd": {
          "model_module": "@jupyter-widgets/base",
          "model_name": "LayoutModel",
          "model_module_version": "1.2.0",
          "state": {
            "_model_module": "@jupyter-widgets/base",
            "_model_module_version": "1.2.0",
            "_model_name": "LayoutModel",
            "_view_count": null,
            "_view_module": "@jupyter-widgets/base",
            "_view_module_version": "1.2.0",
            "_view_name": "LayoutView",
            "align_content": null,
            "align_items": null,
            "align_self": null,
            "border": null,
            "bottom": null,
            "display": null,
            "flex": null,
            "flex_flow": null,
            "grid_area": null,
            "grid_auto_columns": null,
            "grid_auto_flow": null,
            "grid_auto_rows": null,
            "grid_column": null,
            "grid_gap": null,
            "grid_row": null,
            "grid_template_areas": null,
            "grid_template_columns": null,
            "grid_template_rows": null,
            "height": null,
            "justify_content": null,
            "justify_items": null,
            "left": null,
            "margin": null,
            "max_height": null,
            "max_width": null,
            "min_height": null,
            "min_width": null,
            "object_fit": null,
            "object_position": null,
            "order": null,
            "overflow": null,
            "overflow_x": null,
            "overflow_y": null,
            "padding": null,
            "right": null,
            "top": null,
            "visibility": null,
            "width": null
          }
        },
        "38b5337aabbc437f86979b997ccfa5c8": {
          "model_module": "@jupyter-widgets/controls",
          "model_name": "DescriptionStyleModel",
          "model_module_version": "1.5.0",
          "state": {
            "_model_module": "@jupyter-widgets/controls",
            "_model_module_version": "1.5.0",
            "_model_name": "DescriptionStyleModel",
            "_view_count": null,
            "_view_module": "@jupyter-widgets/base",
            "_view_module_version": "1.2.0",
            "_view_name": "StyleView",
            "description_width": ""
          }
        },
        "a72c0e1eecee4fbe949b1ad174b4488d": {
          "model_module": "@jupyter-widgets/controls",
          "model_name": "HBoxModel",
          "model_module_version": "1.5.0",
          "state": {
            "_dom_classes": [],
            "_model_module": "@jupyter-widgets/controls",
            "_model_module_version": "1.5.0",
            "_model_name": "HBoxModel",
            "_view_count": null,
            "_view_module": "@jupyter-widgets/controls",
            "_view_module_version": "1.5.0",
            "_view_name": "HBoxView",
            "box_style": "",
            "children": [
              "IPY_MODEL_17c5c1b028d24864a53578db64e66090",
              "IPY_MODEL_fbb6c86ce14e4878bfd112ee5896f517",
              "IPY_MODEL_c9063c3894a8429791e7b9f571674343"
            ],
            "layout": "IPY_MODEL_dcfd6c51c36849b683af13c06d9f4b90"
          }
        },
        "17c5c1b028d24864a53578db64e66090": {
          "model_module": "@jupyter-widgets/controls",
          "model_name": "HTMLModel",
          "model_module_version": "1.5.0",
          "state": {
            "_dom_classes": [],
            "_model_module": "@jupyter-widgets/controls",
            "_model_module_version": "1.5.0",
            "_model_name": "HTMLModel",
            "_view_count": null,
            "_view_module": "@jupyter-widgets/controls",
            "_view_module_version": "1.5.0",
            "_view_name": "HTMLView",
            "description": "",
            "description_tooltip": null,
            "layout": "IPY_MODEL_174ac688ec914f7ebee8d0a5debe2f75",
            "placeholder": "​",
            "style": "IPY_MODEL_b493f78c8fd34d8c89701158164a6c91",
            "value": "Downloading data: 100%"
          }
        },
        "fbb6c86ce14e4878bfd112ee5896f517": {
          "model_module": "@jupyter-widgets/controls",
          "model_name": "FloatProgressModel",
          "model_module_version": "1.5.0",
          "state": {
            "_dom_classes": [],
            "_model_module": "@jupyter-widgets/controls",
            "_model_module_version": "1.5.0",
            "_model_name": "FloatProgressModel",
            "_view_count": null,
            "_view_module": "@jupyter-widgets/controls",
            "_view_module_version": "1.5.0",
            "_view_name": "ProgressView",
            "bar_style": "success",
            "description": "",
            "description_tooltip": null,
            "layout": "IPY_MODEL_f34c78b628e743f99e777bcab1ab9480",
            "max": 14458314,
            "min": 0,
            "orientation": "horizontal",
            "style": "IPY_MODEL_59259fdd9a7a4d63b4af55b0b5f409d5",
            "value": 14458314
          }
        },
        "c9063c3894a8429791e7b9f571674343": {
          "model_module": "@jupyter-widgets/controls",
          "model_name": "HTMLModel",
          "model_module_version": "1.5.0",
          "state": {
            "_dom_classes": [],
            "_model_module": "@jupyter-widgets/controls",
            "_model_module_version": "1.5.0",
            "_model_name": "HTMLModel",
            "_view_count": null,
            "_view_module": "@jupyter-widgets/controls",
            "_view_module_version": "1.5.0",
            "_view_name": "HTMLView",
            "description": "",
            "description_tooltip": null,
            "layout": "IPY_MODEL_f402d755bd5a4064b9305f965c30e4af",
            "placeholder": "​",
            "style": "IPY_MODEL_b5c87215de624b119ecad4131e96a722",
            "value": " 14.5M/14.5M [00:00&lt;00:00, 30.0MB/s]"
          }
        },
        "dcfd6c51c36849b683af13c06d9f4b90": {
          "model_module": "@jupyter-widgets/base",
          "model_name": "LayoutModel",
          "model_module_version": "1.2.0",
          "state": {
            "_model_module": "@jupyter-widgets/base",
            "_model_module_version": "1.2.0",
            "_model_name": "LayoutModel",
            "_view_count": null,
            "_view_module": "@jupyter-widgets/base",
            "_view_module_version": "1.2.0",
            "_view_name": "LayoutView",
            "align_content": null,
            "align_items": null,
            "align_self": null,
            "border": null,
            "bottom": null,
            "display": null,
            "flex": null,
            "flex_flow": null,
            "grid_area": null,
            "grid_auto_columns": null,
            "grid_auto_flow": null,
            "grid_auto_rows": null,
            "grid_column": null,
            "grid_gap": null,
            "grid_row": null,
            "grid_template_areas": null,
            "grid_template_columns": null,
            "grid_template_rows": null,
            "height": null,
            "justify_content": null,
            "justify_items": null,
            "left": null,
            "margin": null,
            "max_height": null,
            "max_width": null,
            "min_height": null,
            "min_width": null,
            "object_fit": null,
            "object_position": null,
            "order": null,
            "overflow": null,
            "overflow_x": null,
            "overflow_y": null,
            "padding": null,
            "right": null,
            "top": null,
            "visibility": null,
            "width": null
          }
        },
        "174ac688ec914f7ebee8d0a5debe2f75": {
          "model_module": "@jupyter-widgets/base",
          "model_name": "LayoutModel",
          "model_module_version": "1.2.0",
          "state": {
            "_model_module": "@jupyter-widgets/base",
            "_model_module_version": "1.2.0",
            "_model_name": "LayoutModel",
            "_view_count": null,
            "_view_module": "@jupyter-widgets/base",
            "_view_module_version": "1.2.0",
            "_view_name": "LayoutView",
            "align_content": null,
            "align_items": null,
            "align_self": null,
            "border": null,
            "bottom": null,
            "display": null,
            "flex": null,
            "flex_flow": null,
            "grid_area": null,
            "grid_auto_columns": null,
            "grid_auto_flow": null,
            "grid_auto_rows": null,
            "grid_column": null,
            "grid_gap": null,
            "grid_row": null,
            "grid_template_areas": null,
            "grid_template_columns": null,
            "grid_template_rows": null,
            "height": null,
            "justify_content": null,
            "justify_items": null,
            "left": null,
            "margin": null,
            "max_height": null,
            "max_width": null,
            "min_height": null,
            "min_width": null,
            "object_fit": null,
            "object_position": null,
            "order": null,
            "overflow": null,
            "overflow_x": null,
            "overflow_y": null,
            "padding": null,
            "right": null,
            "top": null,
            "visibility": null,
            "width": null
          }
        },
        "b493f78c8fd34d8c89701158164a6c91": {
          "model_module": "@jupyter-widgets/controls",
          "model_name": "DescriptionStyleModel",
          "model_module_version": "1.5.0",
          "state": {
            "_model_module": "@jupyter-widgets/controls",
            "_model_module_version": "1.5.0",
            "_model_name": "DescriptionStyleModel",
            "_view_count": null,
            "_view_module": "@jupyter-widgets/base",
            "_view_module_version": "1.2.0",
            "_view_name": "StyleView",
            "description_width": ""
          }
        },
        "f34c78b628e743f99e777bcab1ab9480": {
          "model_module": "@jupyter-widgets/base",
          "model_name": "LayoutModel",
          "model_module_version": "1.2.0",
          "state": {
            "_model_module": "@jupyter-widgets/base",
            "_model_module_version": "1.2.0",
            "_model_name": "LayoutModel",
            "_view_count": null,
            "_view_module": "@jupyter-widgets/base",
            "_view_module_version": "1.2.0",
            "_view_name": "LayoutView",
            "align_content": null,
            "align_items": null,
            "align_self": null,
            "border": null,
            "bottom": null,
            "display": null,
            "flex": null,
            "flex_flow": null,
            "grid_area": null,
            "grid_auto_columns": null,
            "grid_auto_flow": null,
            "grid_auto_rows": null,
            "grid_column": null,
            "grid_gap": null,
            "grid_row": null,
            "grid_template_areas": null,
            "grid_template_columns": null,
            "grid_template_rows": null,
            "height": null,
            "justify_content": null,
            "justify_items": null,
            "left": null,
            "margin": null,
            "max_height": null,
            "max_width": null,
            "min_height": null,
            "min_width": null,
            "object_fit": null,
            "object_position": null,
            "order": null,
            "overflow": null,
            "overflow_x": null,
            "overflow_y": null,
            "padding": null,
            "right": null,
            "top": null,
            "visibility": null,
            "width": null
          }
        },
        "59259fdd9a7a4d63b4af55b0b5f409d5": {
          "model_module": "@jupyter-widgets/controls",
          "model_name": "ProgressStyleModel",
          "model_module_version": "1.5.0",
          "state": {
            "_model_module": "@jupyter-widgets/controls",
            "_model_module_version": "1.5.0",
            "_model_name": "ProgressStyleModel",
            "_view_count": null,
            "_view_module": "@jupyter-widgets/base",
            "_view_module_version": "1.2.0",
            "_view_name": "StyleView",
            "bar_color": null,
            "description_width": ""
          }
        },
        "f402d755bd5a4064b9305f965c30e4af": {
          "model_module": "@jupyter-widgets/base",
          "model_name": "LayoutModel",
          "model_module_version": "1.2.0",
          "state": {
            "_model_module": "@jupyter-widgets/base",
            "_model_module_version": "1.2.0",
            "_model_name": "LayoutModel",
            "_view_count": null,
            "_view_module": "@jupyter-widgets/base",
            "_view_module_version": "1.2.0",
            "_view_name": "LayoutView",
            "align_content": null,
            "align_items": null,
            "align_self": null,
            "border": null,
            "bottom": null,
            "display": null,
            "flex": null,
            "flex_flow": null,
            "grid_area": null,
            "grid_auto_columns": null,
            "grid_auto_flow": null,
            "grid_auto_rows": null,
            "grid_column": null,
            "grid_gap": null,
            "grid_row": null,
            "grid_template_areas": null,
            "grid_template_columns": null,
            "grid_template_rows": null,
            "height": null,
            "justify_content": null,
            "justify_items": null,
            "left": null,
            "margin": null,
            "max_height": null,
            "max_width": null,
            "min_height": null,
            "min_width": null,
            "object_fit": null,
            "object_position": null,
            "order": null,
            "overflow": null,
            "overflow_x": null,
            "overflow_y": null,
            "padding": null,
            "right": null,
            "top": null,
            "visibility": null,
            "width": null
          }
        },
        "b5c87215de624b119ecad4131e96a722": {
          "model_module": "@jupyter-widgets/controls",
          "model_name": "DescriptionStyleModel",
          "model_module_version": "1.5.0",
          "state": {
            "_model_module": "@jupyter-widgets/controls",
            "_model_module_version": "1.5.0",
            "_model_name": "DescriptionStyleModel",
            "_view_count": null,
            "_view_module": "@jupyter-widgets/base",
            "_view_module_version": "1.2.0",
            "_view_name": "StyleView",
            "description_width": ""
          }
        },
        "759ad87f30ef497fae996ec11d3940a9": {
          "model_module": "@jupyter-widgets/controls",
          "model_name": "HBoxModel",
          "model_module_version": "1.5.0",
          "state": {
            "_dom_classes": [],
            "_model_module": "@jupyter-widgets/controls",
            "_model_module_version": "1.5.0",
            "_model_name": "HBoxModel",
            "_view_count": null,
            "_view_module": "@jupyter-widgets/controls",
            "_view_module_version": "1.5.0",
            "_view_name": "HBoxView",
            "box_style": "",
            "children": [
              "IPY_MODEL_6bbba41149b3445a9edf9e7f14061332",
              "IPY_MODEL_adf841dc7ef94a4d92de12977eac4e17",
              "IPY_MODEL_7b8801742436472a97f263f339023376"
            ],
            "layout": "IPY_MODEL_6d35b620393e4ef2aec326d8a4671615"
          }
        },
        "6bbba41149b3445a9edf9e7f14061332": {
          "model_module": "@jupyter-widgets/controls",
          "model_name": "HTMLModel",
          "model_module_version": "1.5.0",
          "state": {
            "_dom_classes": [],
            "_model_module": "@jupyter-widgets/controls",
            "_model_module_version": "1.5.0",
            "_model_name": "HTMLModel",
            "_view_count": null,
            "_view_module": "@jupyter-widgets/controls",
            "_view_module_version": "1.5.0",
            "_view_name": "HTMLView",
            "description": "",
            "description_tooltip": null,
            "layout": "IPY_MODEL_bdbf8b3213724d9597af7d8fdc076bc4",
            "placeholder": "​",
            "style": "IPY_MODEL_9b2e90b304bf4866a37510bc9ed3608f",
            "value": "Downloading data: 100%"
          }
        },
        "adf841dc7ef94a4d92de12977eac4e17": {
          "model_module": "@jupyter-widgets/controls",
          "model_name": "FloatProgressModel",
          "model_module_version": "1.5.0",
          "state": {
            "_dom_classes": [],
            "_model_module": "@jupyter-widgets/controls",
            "_model_module_version": "1.5.0",
            "_model_name": "FloatProgressModel",
            "_view_count": null,
            "_view_module": "@jupyter-widgets/controls",
            "_view_module_version": "1.5.0",
            "_view_name": "ProgressView",
            "bar_style": "success",
            "description": "",
            "description_tooltip": null,
            "layout": "IPY_MODEL_0dcc3ce8ec8d417f9fc3805bda87377e",
            "max": 1819889,
            "min": 0,
            "orientation": "horizontal",
            "style": "IPY_MODEL_358358f4a7b54d7c93493320cd05920f",
            "value": 1819889
          }
        },
        "7b8801742436472a97f263f339023376": {
          "model_module": "@jupyter-widgets/controls",
          "model_name": "HTMLModel",
          "model_module_version": "1.5.0",
          "state": {
            "_dom_classes": [],
            "_model_module": "@jupyter-widgets/controls",
            "_model_module_version": "1.5.0",
            "_model_name": "HTMLModel",
            "_view_count": null,
            "_view_module": "@jupyter-widgets/controls",
            "_view_module_version": "1.5.0",
            "_view_name": "HTMLView",
            "description": "",
            "description_tooltip": null,
            "layout": "IPY_MODEL_3ec626ec30c24bf4b64e466a266f9757",
            "placeholder": "​",
            "style": "IPY_MODEL_365e4a11bad94a8f85beafe8c4cdfed8",
            "value": " 1.82M/1.82M [00:00&lt;00:00, 9.73MB/s]"
          }
        },
        "6d35b620393e4ef2aec326d8a4671615": {
          "model_module": "@jupyter-widgets/base",
          "model_name": "LayoutModel",
          "model_module_version": "1.2.0",
          "state": {
            "_model_module": "@jupyter-widgets/base",
            "_model_module_version": "1.2.0",
            "_model_name": "LayoutModel",
            "_view_count": null,
            "_view_module": "@jupyter-widgets/base",
            "_view_module_version": "1.2.0",
            "_view_name": "LayoutView",
            "align_content": null,
            "align_items": null,
            "align_self": null,
            "border": null,
            "bottom": null,
            "display": null,
            "flex": null,
            "flex_flow": null,
            "grid_area": null,
            "grid_auto_columns": null,
            "grid_auto_flow": null,
            "grid_auto_rows": null,
            "grid_column": null,
            "grid_gap": null,
            "grid_row": null,
            "grid_template_areas": null,
            "grid_template_columns": null,
            "grid_template_rows": null,
            "height": null,
            "justify_content": null,
            "justify_items": null,
            "left": null,
            "margin": null,
            "max_height": null,
            "max_width": null,
            "min_height": null,
            "min_width": null,
            "object_fit": null,
            "object_position": null,
            "order": null,
            "overflow": null,
            "overflow_x": null,
            "overflow_y": null,
            "padding": null,
            "right": null,
            "top": null,
            "visibility": null,
            "width": null
          }
        },
        "bdbf8b3213724d9597af7d8fdc076bc4": {
          "model_module": "@jupyter-widgets/base",
          "model_name": "LayoutModel",
          "model_module_version": "1.2.0",
          "state": {
            "_model_module": "@jupyter-widgets/base",
            "_model_module_version": "1.2.0",
            "_model_name": "LayoutModel",
            "_view_count": null,
            "_view_module": "@jupyter-widgets/base",
            "_view_module_version": "1.2.0",
            "_view_name": "LayoutView",
            "align_content": null,
            "align_items": null,
            "align_self": null,
            "border": null,
            "bottom": null,
            "display": null,
            "flex": null,
            "flex_flow": null,
            "grid_area": null,
            "grid_auto_columns": null,
            "grid_auto_flow": null,
            "grid_auto_rows": null,
            "grid_column": null,
            "grid_gap": null,
            "grid_row": null,
            "grid_template_areas": null,
            "grid_template_columns": null,
            "grid_template_rows": null,
            "height": null,
            "justify_content": null,
            "justify_items": null,
            "left": null,
            "margin": null,
            "max_height": null,
            "max_width": null,
            "min_height": null,
            "min_width": null,
            "object_fit": null,
            "object_position": null,
            "order": null,
            "overflow": null,
            "overflow_x": null,
            "overflow_y": null,
            "padding": null,
            "right": null,
            "top": null,
            "visibility": null,
            "width": null
          }
        },
        "9b2e90b304bf4866a37510bc9ed3608f": {
          "model_module": "@jupyter-widgets/controls",
          "model_name": "DescriptionStyleModel",
          "model_module_version": "1.5.0",
          "state": {
            "_model_module": "@jupyter-widgets/controls",
            "_model_module_version": "1.5.0",
            "_model_name": "DescriptionStyleModel",
            "_view_count": null,
            "_view_module": "@jupyter-widgets/base",
            "_view_module_version": "1.2.0",
            "_view_name": "StyleView",
            "description_width": ""
          }
        },
        "0dcc3ce8ec8d417f9fc3805bda87377e": {
          "model_module": "@jupyter-widgets/base",
          "model_name": "LayoutModel",
          "model_module_version": "1.2.0",
          "state": {
            "_model_module": "@jupyter-widgets/base",
            "_model_module_version": "1.2.0",
            "_model_name": "LayoutModel",
            "_view_count": null,
            "_view_module": "@jupyter-widgets/base",
            "_view_module_version": "1.2.0",
            "_view_name": "LayoutView",
            "align_content": null,
            "align_items": null,
            "align_self": null,
            "border": null,
            "bottom": null,
            "display": null,
            "flex": null,
            "flex_flow": null,
            "grid_area": null,
            "grid_auto_columns": null,
            "grid_auto_flow": null,
            "grid_auto_rows": null,
            "grid_column": null,
            "grid_gap": null,
            "grid_row": null,
            "grid_template_areas": null,
            "grid_template_columns": null,
            "grid_template_rows": null,
            "height": null,
            "justify_content": null,
            "justify_items": null,
            "left": null,
            "margin": null,
            "max_height": null,
            "max_width": null,
            "min_height": null,
            "min_width": null,
            "object_fit": null,
            "object_position": null,
            "order": null,
            "overflow": null,
            "overflow_x": null,
            "overflow_y": null,
            "padding": null,
            "right": null,
            "top": null,
            "visibility": null,
            "width": null
          }
        },
        "358358f4a7b54d7c93493320cd05920f": {
          "model_module": "@jupyter-widgets/controls",
          "model_name": "ProgressStyleModel",
          "model_module_version": "1.5.0",
          "state": {
            "_model_module": "@jupyter-widgets/controls",
            "_model_module_version": "1.5.0",
            "_model_name": "ProgressStyleModel",
            "_view_count": null,
            "_view_module": "@jupyter-widgets/base",
            "_view_module_version": "1.2.0",
            "_view_name": "StyleView",
            "bar_color": null,
            "description_width": ""
          }
        },
        "3ec626ec30c24bf4b64e466a266f9757": {
          "model_module": "@jupyter-widgets/base",
          "model_name": "LayoutModel",
          "model_module_version": "1.2.0",
          "state": {
            "_model_module": "@jupyter-widgets/base",
            "_model_module_version": "1.2.0",
            "_model_name": "LayoutModel",
            "_view_count": null,
            "_view_module": "@jupyter-widgets/base",
            "_view_module_version": "1.2.0",
            "_view_name": "LayoutView",
            "align_content": null,
            "align_items": null,
            "align_self": null,
            "border": null,
            "bottom": null,
            "display": null,
            "flex": null,
            "flex_flow": null,
            "grid_area": null,
            "grid_auto_columns": null,
            "grid_auto_flow": null,
            "grid_auto_rows": null,
            "grid_column": null,
            "grid_gap": null,
            "grid_row": null,
            "grid_template_areas": null,
            "grid_template_columns": null,
            "grid_template_rows": null,
            "height": null,
            "justify_content": null,
            "justify_items": null,
            "left": null,
            "margin": null,
            "max_height": null,
            "max_width": null,
            "min_height": null,
            "min_width": null,
            "object_fit": null,
            "object_position": null,
            "order": null,
            "overflow": null,
            "overflow_x": null,
            "overflow_y": null,
            "padding": null,
            "right": null,
            "top": null,
            "visibility": null,
            "width": null
          }
        },
        "365e4a11bad94a8f85beafe8c4cdfed8": {
          "model_module": "@jupyter-widgets/controls",
          "model_name": "DescriptionStyleModel",
          "model_module_version": "1.5.0",
          "state": {
            "_model_module": "@jupyter-widgets/controls",
            "_model_module_version": "1.5.0",
            "_model_name": "DescriptionStyleModel",
            "_view_count": null,
            "_view_module": "@jupyter-widgets/base",
            "_view_module_version": "1.2.0",
            "_view_name": "StyleView",
            "description_width": ""
          }
        },
        "54b2ea502edf4b10821a7da8fbaf09fd": {
          "model_module": "@jupyter-widgets/controls",
          "model_name": "HBoxModel",
          "model_module_version": "1.5.0",
          "state": {
            "_dom_classes": [],
            "_model_module": "@jupyter-widgets/controls",
            "_model_module_version": "1.5.0",
            "_model_name": "HBoxModel",
            "_view_count": null,
            "_view_module": "@jupyter-widgets/controls",
            "_view_module_version": "1.5.0",
            "_view_name": "HBoxView",
            "box_style": "",
            "children": [
              "IPY_MODEL_6c183e0639414c1b92bd83b6bf3e2dc4",
              "IPY_MODEL_4209ffb734d8418289de72114aad2aab",
              "IPY_MODEL_69fee0933d214344a4c02e2f45f95408"
            ],
            "layout": "IPY_MODEL_c96167c0dda2417797b428fa02fb1ffa"
          }
        },
        "6c183e0639414c1b92bd83b6bf3e2dc4": {
          "model_module": "@jupyter-widgets/controls",
          "model_name": "HTMLModel",
          "model_module_version": "1.5.0",
          "state": {
            "_dom_classes": [],
            "_model_module": "@jupyter-widgets/controls",
            "_model_module_version": "1.5.0",
            "_model_name": "HTMLModel",
            "_view_count": null,
            "_view_module": "@jupyter-widgets/controls",
            "_view_module_version": "1.5.0",
            "_view_name": "HTMLView",
            "description": "",
            "description_tooltip": null,
            "layout": "IPY_MODEL_1e7c23f3c088433e972a333a56d857ef",
            "placeholder": "​",
            "style": "IPY_MODEL_0e8949c5f9bd4d24bf022f801542db7c",
            "value": "Generating train split: 100%"
          }
        },
        "4209ffb734d8418289de72114aad2aab": {
          "model_module": "@jupyter-widgets/controls",
          "model_name": "FloatProgressModel",
          "model_module_version": "1.5.0",
          "state": {
            "_dom_classes": [],
            "_model_module": "@jupyter-widgets/controls",
            "_model_module_version": "1.5.0",
            "_model_name": "FloatProgressModel",
            "_view_count": null,
            "_view_module": "@jupyter-widgets/controls",
            "_view_module_version": "1.5.0",
            "_view_name": "ProgressView",
            "bar_style": "success",
            "description": "",
            "description_tooltip": null,
            "layout": "IPY_MODEL_07eeae9e80874b038159cb5c95d3306b",
            "max": 87599,
            "min": 0,
            "orientation": "horizontal",
            "style": "IPY_MODEL_ccd28bcf6ba1431a82bfa8d591b8b65a",
            "value": 87599
          }
        },
        "69fee0933d214344a4c02e2f45f95408": {
          "model_module": "@jupyter-widgets/controls",
          "model_name": "HTMLModel",
          "model_module_version": "1.5.0",
          "state": {
            "_dom_classes": [],
            "_model_module": "@jupyter-widgets/controls",
            "_model_module_version": "1.5.0",
            "_model_name": "HTMLModel",
            "_view_count": null,
            "_view_module": "@jupyter-widgets/controls",
            "_view_module_version": "1.5.0",
            "_view_name": "HTMLView",
            "description": "",
            "description_tooltip": null,
            "layout": "IPY_MODEL_74456b036dce484aabdbe9468f64bf09",
            "placeholder": "​",
            "style": "IPY_MODEL_a4e4119023a24b79a5facc2fdf2db35f",
            "value": " 87599/87599 [00:00&lt;00:00, 262644.88 examples/s]"
          }
        },
        "c96167c0dda2417797b428fa02fb1ffa": {
          "model_module": "@jupyter-widgets/base",
          "model_name": "LayoutModel",
          "model_module_version": "1.2.0",
          "state": {
            "_model_module": "@jupyter-widgets/base",
            "_model_module_version": "1.2.0",
            "_model_name": "LayoutModel",
            "_view_count": null,
            "_view_module": "@jupyter-widgets/base",
            "_view_module_version": "1.2.0",
            "_view_name": "LayoutView",
            "align_content": null,
            "align_items": null,
            "align_self": null,
            "border": null,
            "bottom": null,
            "display": null,
            "flex": null,
            "flex_flow": null,
            "grid_area": null,
            "grid_auto_columns": null,
            "grid_auto_flow": null,
            "grid_auto_rows": null,
            "grid_column": null,
            "grid_gap": null,
            "grid_row": null,
            "grid_template_areas": null,
            "grid_template_columns": null,
            "grid_template_rows": null,
            "height": null,
            "justify_content": null,
            "justify_items": null,
            "left": null,
            "margin": null,
            "max_height": null,
            "max_width": null,
            "min_height": null,
            "min_width": null,
            "object_fit": null,
            "object_position": null,
            "order": null,
            "overflow": null,
            "overflow_x": null,
            "overflow_y": null,
            "padding": null,
            "right": null,
            "top": null,
            "visibility": null,
            "width": null
          }
        },
        "1e7c23f3c088433e972a333a56d857ef": {
          "model_module": "@jupyter-widgets/base",
          "model_name": "LayoutModel",
          "model_module_version": "1.2.0",
          "state": {
            "_model_module": "@jupyter-widgets/base",
            "_model_module_version": "1.2.0",
            "_model_name": "LayoutModel",
            "_view_count": null,
            "_view_module": "@jupyter-widgets/base",
            "_view_module_version": "1.2.0",
            "_view_name": "LayoutView",
            "align_content": null,
            "align_items": null,
            "align_self": null,
            "border": null,
            "bottom": null,
            "display": null,
            "flex": null,
            "flex_flow": null,
            "grid_area": null,
            "grid_auto_columns": null,
            "grid_auto_flow": null,
            "grid_auto_rows": null,
            "grid_column": null,
            "grid_gap": null,
            "grid_row": null,
            "grid_template_areas": null,
            "grid_template_columns": null,
            "grid_template_rows": null,
            "height": null,
            "justify_content": null,
            "justify_items": null,
            "left": null,
            "margin": null,
            "max_height": null,
            "max_width": null,
            "min_height": null,
            "min_width": null,
            "object_fit": null,
            "object_position": null,
            "order": null,
            "overflow": null,
            "overflow_x": null,
            "overflow_y": null,
            "padding": null,
            "right": null,
            "top": null,
            "visibility": null,
            "width": null
          }
        },
        "0e8949c5f9bd4d24bf022f801542db7c": {
          "model_module": "@jupyter-widgets/controls",
          "model_name": "DescriptionStyleModel",
          "model_module_version": "1.5.0",
          "state": {
            "_model_module": "@jupyter-widgets/controls",
            "_model_module_version": "1.5.0",
            "_model_name": "DescriptionStyleModel",
            "_view_count": null,
            "_view_module": "@jupyter-widgets/base",
            "_view_module_version": "1.2.0",
            "_view_name": "StyleView",
            "description_width": ""
          }
        },
        "07eeae9e80874b038159cb5c95d3306b": {
          "model_module": "@jupyter-widgets/base",
          "model_name": "LayoutModel",
          "model_module_version": "1.2.0",
          "state": {
            "_model_module": "@jupyter-widgets/base",
            "_model_module_version": "1.2.0",
            "_model_name": "LayoutModel",
            "_view_count": null,
            "_view_module": "@jupyter-widgets/base",
            "_view_module_version": "1.2.0",
            "_view_name": "LayoutView",
            "align_content": null,
            "align_items": null,
            "align_self": null,
            "border": null,
            "bottom": null,
            "display": null,
            "flex": null,
            "flex_flow": null,
            "grid_area": null,
            "grid_auto_columns": null,
            "grid_auto_flow": null,
            "grid_auto_rows": null,
            "grid_column": null,
            "grid_gap": null,
            "grid_row": null,
            "grid_template_areas": null,
            "grid_template_columns": null,
            "grid_template_rows": null,
            "height": null,
            "justify_content": null,
            "justify_items": null,
            "left": null,
            "margin": null,
            "max_height": null,
            "max_width": null,
            "min_height": null,
            "min_width": null,
            "object_fit": null,
            "object_position": null,
            "order": null,
            "overflow": null,
            "overflow_x": null,
            "overflow_y": null,
            "padding": null,
            "right": null,
            "top": null,
            "visibility": null,
            "width": null
          }
        },
        "ccd28bcf6ba1431a82bfa8d591b8b65a": {
          "model_module": "@jupyter-widgets/controls",
          "model_name": "ProgressStyleModel",
          "model_module_version": "1.5.0",
          "state": {
            "_model_module": "@jupyter-widgets/controls",
            "_model_module_version": "1.5.0",
            "_model_name": "ProgressStyleModel",
            "_view_count": null,
            "_view_module": "@jupyter-widgets/base",
            "_view_module_version": "1.2.0",
            "_view_name": "StyleView",
            "bar_color": null,
            "description_width": ""
          }
        },
        "74456b036dce484aabdbe9468f64bf09": {
          "model_module": "@jupyter-widgets/base",
          "model_name": "LayoutModel",
          "model_module_version": "1.2.0",
          "state": {
            "_model_module": "@jupyter-widgets/base",
            "_model_module_version": "1.2.0",
            "_model_name": "LayoutModel",
            "_view_count": null,
            "_view_module": "@jupyter-widgets/base",
            "_view_module_version": "1.2.0",
            "_view_name": "LayoutView",
            "align_content": null,
            "align_items": null,
            "align_self": null,
            "border": null,
            "bottom": null,
            "display": null,
            "flex": null,
            "flex_flow": null,
            "grid_area": null,
            "grid_auto_columns": null,
            "grid_auto_flow": null,
            "grid_auto_rows": null,
            "grid_column": null,
            "grid_gap": null,
            "grid_row": null,
            "grid_template_areas": null,
            "grid_template_columns": null,
            "grid_template_rows": null,
            "height": null,
            "justify_content": null,
            "justify_items": null,
            "left": null,
            "margin": null,
            "max_height": null,
            "max_width": null,
            "min_height": null,
            "min_width": null,
            "object_fit": null,
            "object_position": null,
            "order": null,
            "overflow": null,
            "overflow_x": null,
            "overflow_y": null,
            "padding": null,
            "right": null,
            "top": null,
            "visibility": null,
            "width": null
          }
        },
        "a4e4119023a24b79a5facc2fdf2db35f": {
          "model_module": "@jupyter-widgets/controls",
          "model_name": "DescriptionStyleModel",
          "model_module_version": "1.5.0",
          "state": {
            "_model_module": "@jupyter-widgets/controls",
            "_model_module_version": "1.5.0",
            "_model_name": "DescriptionStyleModel",
            "_view_count": null,
            "_view_module": "@jupyter-widgets/base",
            "_view_module_version": "1.2.0",
            "_view_name": "StyleView",
            "description_width": ""
          }
        },
        "d73023f44ba148c3a11da14a7a859771": {
          "model_module": "@jupyter-widgets/controls",
          "model_name": "HBoxModel",
          "model_module_version": "1.5.0",
          "state": {
            "_dom_classes": [],
            "_model_module": "@jupyter-widgets/controls",
            "_model_module_version": "1.5.0",
            "_model_name": "HBoxModel",
            "_view_count": null,
            "_view_module": "@jupyter-widgets/controls",
            "_view_module_version": "1.5.0",
            "_view_name": "HBoxView",
            "box_style": "",
            "children": [
              "IPY_MODEL_19b2d4b64dca41ef92a549d911321810",
              "IPY_MODEL_7248dff4eeaa4cbe95cff7f9a451ad8b",
              "IPY_MODEL_de19e4186a0342329f7c9d405222bf36"
            ],
            "layout": "IPY_MODEL_59327a8f972647cfb51e413ac19cdcd2"
          }
        },
        "19b2d4b64dca41ef92a549d911321810": {
          "model_module": "@jupyter-widgets/controls",
          "model_name": "HTMLModel",
          "model_module_version": "1.5.0",
          "state": {
            "_dom_classes": [],
            "_model_module": "@jupyter-widgets/controls",
            "_model_module_version": "1.5.0",
            "_model_name": "HTMLModel",
            "_view_count": null,
            "_view_module": "@jupyter-widgets/controls",
            "_view_module_version": "1.5.0",
            "_view_name": "HTMLView",
            "description": "",
            "description_tooltip": null,
            "layout": "IPY_MODEL_8b597da350d14aaeb8a7dbac2cd6b7ae",
            "placeholder": "​",
            "style": "IPY_MODEL_cf7a8e10bf964aeaa96c928c1cdc4a26",
            "value": "Generating validation split: 100%"
          }
        },
        "7248dff4eeaa4cbe95cff7f9a451ad8b": {
          "model_module": "@jupyter-widgets/controls",
          "model_name": "FloatProgressModel",
          "model_module_version": "1.5.0",
          "state": {
            "_dom_classes": [],
            "_model_module": "@jupyter-widgets/controls",
            "_model_module_version": "1.5.0",
            "_model_name": "FloatProgressModel",
            "_view_count": null,
            "_view_module": "@jupyter-widgets/controls",
            "_view_module_version": "1.5.0",
            "_view_name": "ProgressView",
            "bar_style": "success",
            "description": "",
            "description_tooltip": null,
            "layout": "IPY_MODEL_087ecee089e842cd98c654163201ce15",
            "max": 10570,
            "min": 0,
            "orientation": "horizontal",
            "style": "IPY_MODEL_7defb7a04804415f86251f56e3e9a2f2",
            "value": 10570
          }
        },
        "de19e4186a0342329f7c9d405222bf36": {
          "model_module": "@jupyter-widgets/controls",
          "model_name": "HTMLModel",
          "model_module_version": "1.5.0",
          "state": {
            "_dom_classes": [],
            "_model_module": "@jupyter-widgets/controls",
            "_model_module_version": "1.5.0",
            "_model_name": "HTMLModel",
            "_view_count": null,
            "_view_module": "@jupyter-widgets/controls",
            "_view_module_version": "1.5.0",
            "_view_name": "HTMLView",
            "description": "",
            "description_tooltip": null,
            "layout": "IPY_MODEL_1097e96026e942089b54f0949c1a4cba",
            "placeholder": "​",
            "style": "IPY_MODEL_af0079a2c581457a83b83088d923a35e",
            "value": " 10570/10570 [00:00&lt;00:00, 86145.42 examples/s]"
          }
        },
        "59327a8f972647cfb51e413ac19cdcd2": {
          "model_module": "@jupyter-widgets/base",
          "model_name": "LayoutModel",
          "model_module_version": "1.2.0",
          "state": {
            "_model_module": "@jupyter-widgets/base",
            "_model_module_version": "1.2.0",
            "_model_name": "LayoutModel",
            "_view_count": null,
            "_view_module": "@jupyter-widgets/base",
            "_view_module_version": "1.2.0",
            "_view_name": "LayoutView",
            "align_content": null,
            "align_items": null,
            "align_self": null,
            "border": null,
            "bottom": null,
            "display": null,
            "flex": null,
            "flex_flow": null,
            "grid_area": null,
            "grid_auto_columns": null,
            "grid_auto_flow": null,
            "grid_auto_rows": null,
            "grid_column": null,
            "grid_gap": null,
            "grid_row": null,
            "grid_template_areas": null,
            "grid_template_columns": null,
            "grid_template_rows": null,
            "height": null,
            "justify_content": null,
            "justify_items": null,
            "left": null,
            "margin": null,
            "max_height": null,
            "max_width": null,
            "min_height": null,
            "min_width": null,
            "object_fit": null,
            "object_position": null,
            "order": null,
            "overflow": null,
            "overflow_x": null,
            "overflow_y": null,
            "padding": null,
            "right": null,
            "top": null,
            "visibility": null,
            "width": null
          }
        },
        "8b597da350d14aaeb8a7dbac2cd6b7ae": {
          "model_module": "@jupyter-widgets/base",
          "model_name": "LayoutModel",
          "model_module_version": "1.2.0",
          "state": {
            "_model_module": "@jupyter-widgets/base",
            "_model_module_version": "1.2.0",
            "_model_name": "LayoutModel",
            "_view_count": null,
            "_view_module": "@jupyter-widgets/base",
            "_view_module_version": "1.2.0",
            "_view_name": "LayoutView",
            "align_content": null,
            "align_items": null,
            "align_self": null,
            "border": null,
            "bottom": null,
            "display": null,
            "flex": null,
            "flex_flow": null,
            "grid_area": null,
            "grid_auto_columns": null,
            "grid_auto_flow": null,
            "grid_auto_rows": null,
            "grid_column": null,
            "grid_gap": null,
            "grid_row": null,
            "grid_template_areas": null,
            "grid_template_columns": null,
            "grid_template_rows": null,
            "height": null,
            "justify_content": null,
            "justify_items": null,
            "left": null,
            "margin": null,
            "max_height": null,
            "max_width": null,
            "min_height": null,
            "min_width": null,
            "object_fit": null,
            "object_position": null,
            "order": null,
            "overflow": null,
            "overflow_x": null,
            "overflow_y": null,
            "padding": null,
            "right": null,
            "top": null,
            "visibility": null,
            "width": null
          }
        },
        "cf7a8e10bf964aeaa96c928c1cdc4a26": {
          "model_module": "@jupyter-widgets/controls",
          "model_name": "DescriptionStyleModel",
          "model_module_version": "1.5.0",
          "state": {
            "_model_module": "@jupyter-widgets/controls",
            "_model_module_version": "1.5.0",
            "_model_name": "DescriptionStyleModel",
            "_view_count": null,
            "_view_module": "@jupyter-widgets/base",
            "_view_module_version": "1.2.0",
            "_view_name": "StyleView",
            "description_width": ""
          }
        },
        "087ecee089e842cd98c654163201ce15": {
          "model_module": "@jupyter-widgets/base",
          "model_name": "LayoutModel",
          "model_module_version": "1.2.0",
          "state": {
            "_model_module": "@jupyter-widgets/base",
            "_model_module_version": "1.2.0",
            "_model_name": "LayoutModel",
            "_view_count": null,
            "_view_module": "@jupyter-widgets/base",
            "_view_module_version": "1.2.0",
            "_view_name": "LayoutView",
            "align_content": null,
            "align_items": null,
            "align_self": null,
            "border": null,
            "bottom": null,
            "display": null,
            "flex": null,
            "flex_flow": null,
            "grid_area": null,
            "grid_auto_columns": null,
            "grid_auto_flow": null,
            "grid_auto_rows": null,
            "grid_column": null,
            "grid_gap": null,
            "grid_row": null,
            "grid_template_areas": null,
            "grid_template_columns": null,
            "grid_template_rows": null,
            "height": null,
            "justify_content": null,
            "justify_items": null,
            "left": null,
            "margin": null,
            "max_height": null,
            "max_width": null,
            "min_height": null,
            "min_width": null,
            "object_fit": null,
            "object_position": null,
            "order": null,
            "overflow": null,
            "overflow_x": null,
            "overflow_y": null,
            "padding": null,
            "right": null,
            "top": null,
            "visibility": null,
            "width": null
          }
        },
        "7defb7a04804415f86251f56e3e9a2f2": {
          "model_module": "@jupyter-widgets/controls",
          "model_name": "ProgressStyleModel",
          "model_module_version": "1.5.0",
          "state": {
            "_model_module": "@jupyter-widgets/controls",
            "_model_module_version": "1.5.0",
            "_model_name": "ProgressStyleModel",
            "_view_count": null,
            "_view_module": "@jupyter-widgets/base",
            "_view_module_version": "1.2.0",
            "_view_name": "StyleView",
            "bar_color": null,
            "description_width": ""
          }
        },
        "1097e96026e942089b54f0949c1a4cba": {
          "model_module": "@jupyter-widgets/base",
          "model_name": "LayoutModel",
          "model_module_version": "1.2.0",
          "state": {
            "_model_module": "@jupyter-widgets/base",
            "_model_module_version": "1.2.0",
            "_model_name": "LayoutModel",
            "_view_count": null,
            "_view_module": "@jupyter-widgets/base",
            "_view_module_version": "1.2.0",
            "_view_name": "LayoutView",
            "align_content": null,
            "align_items": null,
            "align_self": null,
            "border": null,
            "bottom": null,
            "display": null,
            "flex": null,
            "flex_flow": null,
            "grid_area": null,
            "grid_auto_columns": null,
            "grid_auto_flow": null,
            "grid_auto_rows": null,
            "grid_column": null,
            "grid_gap": null,
            "grid_row": null,
            "grid_template_areas": null,
            "grid_template_columns": null,
            "grid_template_rows": null,
            "height": null,
            "justify_content": null,
            "justify_items": null,
            "left": null,
            "margin": null,
            "max_height": null,
            "max_width": null,
            "min_height": null,
            "min_width": null,
            "object_fit": null,
            "object_position": null,
            "order": null,
            "overflow": null,
            "overflow_x": null,
            "overflow_y": null,
            "padding": null,
            "right": null,
            "top": null,
            "visibility": null,
            "width": null
          }
        },
        "af0079a2c581457a83b83088d923a35e": {
          "model_module": "@jupyter-widgets/controls",
          "model_name": "DescriptionStyleModel",
          "model_module_version": "1.5.0",
          "state": {
            "_model_module": "@jupyter-widgets/controls",
            "_model_module_version": "1.5.0",
            "_model_name": "DescriptionStyleModel",
            "_view_count": null,
            "_view_module": "@jupyter-widgets/base",
            "_view_module_version": "1.2.0",
            "_view_name": "StyleView",
            "description_width": ""
          }
        },
        "e02a1e3d1f454a0e8e0564e69eca578e": {
          "model_module": "@jupyter-widgets/controls",
          "model_name": "HBoxModel",
          "model_module_version": "1.5.0",
          "state": {
            "_dom_classes": [],
            "_model_module": "@jupyter-widgets/controls",
            "_model_module_version": "1.5.0",
            "_model_name": "HBoxModel",
            "_view_count": null,
            "_view_module": "@jupyter-widgets/controls",
            "_view_module_version": "1.5.0",
            "_view_name": "HBoxView",
            "box_style": "",
            "children": [
              "IPY_MODEL_57aca5635a12411f9003a9398325a6cd",
              "IPY_MODEL_9f175f10a94043718ab721e9b31db1ed",
              "IPY_MODEL_fbbc8cdd456a427f9a4cb7a14708cd52"
            ],
            "layout": "IPY_MODEL_4a9457a02a5545cba1404c4f6da6168f"
          }
        },
        "57aca5635a12411f9003a9398325a6cd": {
          "model_module": "@jupyter-widgets/controls",
          "model_name": "HTMLModel",
          "model_module_version": "1.5.0",
          "state": {
            "_dom_classes": [],
            "_model_module": "@jupyter-widgets/controls",
            "_model_module_version": "1.5.0",
            "_model_name": "HTMLModel",
            "_view_count": null,
            "_view_module": "@jupyter-widgets/controls",
            "_view_module_version": "1.5.0",
            "_view_name": "HTMLView",
            "description": "",
            "description_tooltip": null,
            "layout": "IPY_MODEL_589a030881c74a6da36523b1a53f3ae3",
            "placeholder": "​",
            "style": "IPY_MODEL_a35a98e4241946e5b9700cbdc3d1b7c0",
            "value": "tokenizer_config.json: 100%"
          }
        },
        "9f175f10a94043718ab721e9b31db1ed": {
          "model_module": "@jupyter-widgets/controls",
          "model_name": "FloatProgressModel",
          "model_module_version": "1.5.0",
          "state": {
            "_dom_classes": [],
            "_model_module": "@jupyter-widgets/controls",
            "_model_module_version": "1.5.0",
            "_model_name": "FloatProgressModel",
            "_view_count": null,
            "_view_module": "@jupyter-widgets/controls",
            "_view_module_version": "1.5.0",
            "_view_name": "ProgressView",
            "bar_style": "success",
            "description": "",
            "description_tooltip": null,
            "layout": "IPY_MODEL_9c39694ee0614f28bcc91f38d03a8d73",
            "max": 25,
            "min": 0,
            "orientation": "horizontal",
            "style": "IPY_MODEL_1fc6e2f6fe8c433c99b7c54ec2b3a415",
            "value": 25
          }
        },
        "fbbc8cdd456a427f9a4cb7a14708cd52": {
          "model_module": "@jupyter-widgets/controls",
          "model_name": "HTMLModel",
          "model_module_version": "1.5.0",
          "state": {
            "_dom_classes": [],
            "_model_module": "@jupyter-widgets/controls",
            "_model_module_version": "1.5.0",
            "_model_name": "HTMLModel",
            "_view_count": null,
            "_view_module": "@jupyter-widgets/controls",
            "_view_module_version": "1.5.0",
            "_view_name": "HTMLView",
            "description": "",
            "description_tooltip": null,
            "layout": "IPY_MODEL_ec444bb4bf3847d4a3869e7a3319949e",
            "placeholder": "​",
            "style": "IPY_MODEL_ac623cf297a84180b2d4fe528be2c060",
            "value": " 25.0/25.0 [00:00&lt;00:00, 1.18kB/s]"
          }
        },
        "4a9457a02a5545cba1404c4f6da6168f": {
          "model_module": "@jupyter-widgets/base",
          "model_name": "LayoutModel",
          "model_module_version": "1.2.0",
          "state": {
            "_model_module": "@jupyter-widgets/base",
            "_model_module_version": "1.2.0",
            "_model_name": "LayoutModel",
            "_view_count": null,
            "_view_module": "@jupyter-widgets/base",
            "_view_module_version": "1.2.0",
            "_view_name": "LayoutView",
            "align_content": null,
            "align_items": null,
            "align_self": null,
            "border": null,
            "bottom": null,
            "display": null,
            "flex": null,
            "flex_flow": null,
            "grid_area": null,
            "grid_auto_columns": null,
            "grid_auto_flow": null,
            "grid_auto_rows": null,
            "grid_column": null,
            "grid_gap": null,
            "grid_row": null,
            "grid_template_areas": null,
            "grid_template_columns": null,
            "grid_template_rows": null,
            "height": null,
            "justify_content": null,
            "justify_items": null,
            "left": null,
            "margin": null,
            "max_height": null,
            "max_width": null,
            "min_height": null,
            "min_width": null,
            "object_fit": null,
            "object_position": null,
            "order": null,
            "overflow": null,
            "overflow_x": null,
            "overflow_y": null,
            "padding": null,
            "right": null,
            "top": null,
            "visibility": null,
            "width": null
          }
        },
        "589a030881c74a6da36523b1a53f3ae3": {
          "model_module": "@jupyter-widgets/base",
          "model_name": "LayoutModel",
          "model_module_version": "1.2.0",
          "state": {
            "_model_module": "@jupyter-widgets/base",
            "_model_module_version": "1.2.0",
            "_model_name": "LayoutModel",
            "_view_count": null,
            "_view_module": "@jupyter-widgets/base",
            "_view_module_version": "1.2.0",
            "_view_name": "LayoutView",
            "align_content": null,
            "align_items": null,
            "align_self": null,
            "border": null,
            "bottom": null,
            "display": null,
            "flex": null,
            "flex_flow": null,
            "grid_area": null,
            "grid_auto_columns": null,
            "grid_auto_flow": null,
            "grid_auto_rows": null,
            "grid_column": null,
            "grid_gap": null,
            "grid_row": null,
            "grid_template_areas": null,
            "grid_template_columns": null,
            "grid_template_rows": null,
            "height": null,
            "justify_content": null,
            "justify_items": null,
            "left": null,
            "margin": null,
            "max_height": null,
            "max_width": null,
            "min_height": null,
            "min_width": null,
            "object_fit": null,
            "object_position": null,
            "order": null,
            "overflow": null,
            "overflow_x": null,
            "overflow_y": null,
            "padding": null,
            "right": null,
            "top": null,
            "visibility": null,
            "width": null
          }
        },
        "a35a98e4241946e5b9700cbdc3d1b7c0": {
          "model_module": "@jupyter-widgets/controls",
          "model_name": "DescriptionStyleModel",
          "model_module_version": "1.5.0",
          "state": {
            "_model_module": "@jupyter-widgets/controls",
            "_model_module_version": "1.5.0",
            "_model_name": "DescriptionStyleModel",
            "_view_count": null,
            "_view_module": "@jupyter-widgets/base",
            "_view_module_version": "1.2.0",
            "_view_name": "StyleView",
            "description_width": ""
          }
        },
        "9c39694ee0614f28bcc91f38d03a8d73": {
          "model_module": "@jupyter-widgets/base",
          "model_name": "LayoutModel",
          "model_module_version": "1.2.0",
          "state": {
            "_model_module": "@jupyter-widgets/base",
            "_model_module_version": "1.2.0",
            "_model_name": "LayoutModel",
            "_view_count": null,
            "_view_module": "@jupyter-widgets/base",
            "_view_module_version": "1.2.0",
            "_view_name": "LayoutView",
            "align_content": null,
            "align_items": null,
            "align_self": null,
            "border": null,
            "bottom": null,
            "display": null,
            "flex": null,
            "flex_flow": null,
            "grid_area": null,
            "grid_auto_columns": null,
            "grid_auto_flow": null,
            "grid_auto_rows": null,
            "grid_column": null,
            "grid_gap": null,
            "grid_row": null,
            "grid_template_areas": null,
            "grid_template_columns": null,
            "grid_template_rows": null,
            "height": null,
            "justify_content": null,
            "justify_items": null,
            "left": null,
            "margin": null,
            "max_height": null,
            "max_width": null,
            "min_height": null,
            "min_width": null,
            "object_fit": null,
            "object_position": null,
            "order": null,
            "overflow": null,
            "overflow_x": null,
            "overflow_y": null,
            "padding": null,
            "right": null,
            "top": null,
            "visibility": null,
            "width": null
          }
        },
        "1fc6e2f6fe8c433c99b7c54ec2b3a415": {
          "model_module": "@jupyter-widgets/controls",
          "model_name": "ProgressStyleModel",
          "model_module_version": "1.5.0",
          "state": {
            "_model_module": "@jupyter-widgets/controls",
            "_model_module_version": "1.5.0",
            "_model_name": "ProgressStyleModel",
            "_view_count": null,
            "_view_module": "@jupyter-widgets/base",
            "_view_module_version": "1.2.0",
            "_view_name": "StyleView",
            "bar_color": null,
            "description_width": ""
          }
        },
        "ec444bb4bf3847d4a3869e7a3319949e": {
          "model_module": "@jupyter-widgets/base",
          "model_name": "LayoutModel",
          "model_module_version": "1.2.0",
          "state": {
            "_model_module": "@jupyter-widgets/base",
            "_model_module_version": "1.2.0",
            "_model_name": "LayoutModel",
            "_view_count": null,
            "_view_module": "@jupyter-widgets/base",
            "_view_module_version": "1.2.0",
            "_view_name": "LayoutView",
            "align_content": null,
            "align_items": null,
            "align_self": null,
            "border": null,
            "bottom": null,
            "display": null,
            "flex": null,
            "flex_flow": null,
            "grid_area": null,
            "grid_auto_columns": null,
            "grid_auto_flow": null,
            "grid_auto_rows": null,
            "grid_column": null,
            "grid_gap": null,
            "grid_row": null,
            "grid_template_areas": null,
            "grid_template_columns": null,
            "grid_template_rows": null,
            "height": null,
            "justify_content": null,
            "justify_items": null,
            "left": null,
            "margin": null,
            "max_height": null,
            "max_width": null,
            "min_height": null,
            "min_width": null,
            "object_fit": null,
            "object_position": null,
            "order": null,
            "overflow": null,
            "overflow_x": null,
            "overflow_y": null,
            "padding": null,
            "right": null,
            "top": null,
            "visibility": null,
            "width": null
          }
        },
        "ac623cf297a84180b2d4fe528be2c060": {
          "model_module": "@jupyter-widgets/controls",
          "model_name": "DescriptionStyleModel",
          "model_module_version": "1.5.0",
          "state": {
            "_model_module": "@jupyter-widgets/controls",
            "_model_module_version": "1.5.0",
            "_model_name": "DescriptionStyleModel",
            "_view_count": null,
            "_view_module": "@jupyter-widgets/base",
            "_view_module_version": "1.2.0",
            "_view_name": "StyleView",
            "description_width": ""
          }
        },
        "6485a520c3f14e4089d7c584dae9bf75": {
          "model_module": "@jupyter-widgets/controls",
          "model_name": "HBoxModel",
          "model_module_version": "1.5.0",
          "state": {
            "_dom_classes": [],
            "_model_module": "@jupyter-widgets/controls",
            "_model_module_version": "1.5.0",
            "_model_name": "HBoxModel",
            "_view_count": null,
            "_view_module": "@jupyter-widgets/controls",
            "_view_module_version": "1.5.0",
            "_view_name": "HBoxView",
            "box_style": "",
            "children": [
              "IPY_MODEL_a1f7231d4c5a4e90b6e8cdc10129ec28",
              "IPY_MODEL_8dd1689745194e3c9701aa81330a906e",
              "IPY_MODEL_61aa94bfea8641fcab6459b10dd67fc7"
            ],
            "layout": "IPY_MODEL_d52532a16a6844318cea5361e122224c"
          }
        },
        "a1f7231d4c5a4e90b6e8cdc10129ec28": {
          "model_module": "@jupyter-widgets/controls",
          "model_name": "HTMLModel",
          "model_module_version": "1.5.0",
          "state": {
            "_dom_classes": [],
            "_model_module": "@jupyter-widgets/controls",
            "_model_module_version": "1.5.0",
            "_model_name": "HTMLModel",
            "_view_count": null,
            "_view_module": "@jupyter-widgets/controls",
            "_view_module_version": "1.5.0",
            "_view_name": "HTMLView",
            "description": "",
            "description_tooltip": null,
            "layout": "IPY_MODEL_a8ee3848b8fc4d45b5c2af790899ad70",
            "placeholder": "​",
            "style": "IPY_MODEL_5f159ba8977f4084a1a69473a2ea04fa",
            "value": "config.json: 100%"
          }
        },
        "8dd1689745194e3c9701aa81330a906e": {
          "model_module": "@jupyter-widgets/controls",
          "model_name": "FloatProgressModel",
          "model_module_version": "1.5.0",
          "state": {
            "_dom_classes": [],
            "_model_module": "@jupyter-widgets/controls",
            "_model_module_version": "1.5.0",
            "_model_name": "FloatProgressModel",
            "_view_count": null,
            "_view_module": "@jupyter-widgets/controls",
            "_view_module_version": "1.5.0",
            "_view_name": "ProgressView",
            "bar_style": "success",
            "description": "",
            "description_tooltip": null,
            "layout": "IPY_MODEL_188d4fab89074262b5c5b0e11a1479c0",
            "max": 480,
            "min": 0,
            "orientation": "horizontal",
            "style": "IPY_MODEL_c67b8ecf5f7042b5ac5f4607b2d38751",
            "value": 480
          }
        },
        "61aa94bfea8641fcab6459b10dd67fc7": {
          "model_module": "@jupyter-widgets/controls",
          "model_name": "HTMLModel",
          "model_module_version": "1.5.0",
          "state": {
            "_dom_classes": [],
            "_model_module": "@jupyter-widgets/controls",
            "_model_module_version": "1.5.0",
            "_model_name": "HTMLModel",
            "_view_count": null,
            "_view_module": "@jupyter-widgets/controls",
            "_view_module_version": "1.5.0",
            "_view_name": "HTMLView",
            "description": "",
            "description_tooltip": null,
            "layout": "IPY_MODEL_d9bd00c5ffcc40028ee85db3db9505b7",
            "placeholder": "​",
            "style": "IPY_MODEL_b27bf2383af74d47a419ecdaa550f719",
            "value": " 480/480 [00:00&lt;00:00, 22.0kB/s]"
          }
        },
        "d52532a16a6844318cea5361e122224c": {
          "model_module": "@jupyter-widgets/base",
          "model_name": "LayoutModel",
          "model_module_version": "1.2.0",
          "state": {
            "_model_module": "@jupyter-widgets/base",
            "_model_module_version": "1.2.0",
            "_model_name": "LayoutModel",
            "_view_count": null,
            "_view_module": "@jupyter-widgets/base",
            "_view_module_version": "1.2.0",
            "_view_name": "LayoutView",
            "align_content": null,
            "align_items": null,
            "align_self": null,
            "border": null,
            "bottom": null,
            "display": null,
            "flex": null,
            "flex_flow": null,
            "grid_area": null,
            "grid_auto_columns": null,
            "grid_auto_flow": null,
            "grid_auto_rows": null,
            "grid_column": null,
            "grid_gap": null,
            "grid_row": null,
            "grid_template_areas": null,
            "grid_template_columns": null,
            "grid_template_rows": null,
            "height": null,
            "justify_content": null,
            "justify_items": null,
            "left": null,
            "margin": null,
            "max_height": null,
            "max_width": null,
            "min_height": null,
            "min_width": null,
            "object_fit": null,
            "object_position": null,
            "order": null,
            "overflow": null,
            "overflow_x": null,
            "overflow_y": null,
            "padding": null,
            "right": null,
            "top": null,
            "visibility": null,
            "width": null
          }
        },
        "a8ee3848b8fc4d45b5c2af790899ad70": {
          "model_module": "@jupyter-widgets/base",
          "model_name": "LayoutModel",
          "model_module_version": "1.2.0",
          "state": {
            "_model_module": "@jupyter-widgets/base",
            "_model_module_version": "1.2.0",
            "_model_name": "LayoutModel",
            "_view_count": null,
            "_view_module": "@jupyter-widgets/base",
            "_view_module_version": "1.2.0",
            "_view_name": "LayoutView",
            "align_content": null,
            "align_items": null,
            "align_self": null,
            "border": null,
            "bottom": null,
            "display": null,
            "flex": null,
            "flex_flow": null,
            "grid_area": null,
            "grid_auto_columns": null,
            "grid_auto_flow": null,
            "grid_auto_rows": null,
            "grid_column": null,
            "grid_gap": null,
            "grid_row": null,
            "grid_template_areas": null,
            "grid_template_columns": null,
            "grid_template_rows": null,
            "height": null,
            "justify_content": null,
            "justify_items": null,
            "left": null,
            "margin": null,
            "max_height": null,
            "max_width": null,
            "min_height": null,
            "min_width": null,
            "object_fit": null,
            "object_position": null,
            "order": null,
            "overflow": null,
            "overflow_x": null,
            "overflow_y": null,
            "padding": null,
            "right": null,
            "top": null,
            "visibility": null,
            "width": null
          }
        },
        "5f159ba8977f4084a1a69473a2ea04fa": {
          "model_module": "@jupyter-widgets/controls",
          "model_name": "DescriptionStyleModel",
          "model_module_version": "1.5.0",
          "state": {
            "_model_module": "@jupyter-widgets/controls",
            "_model_module_version": "1.5.0",
            "_model_name": "DescriptionStyleModel",
            "_view_count": null,
            "_view_module": "@jupyter-widgets/base",
            "_view_module_version": "1.2.0",
            "_view_name": "StyleView",
            "description_width": ""
          }
        },
        "188d4fab89074262b5c5b0e11a1479c0": {
          "model_module": "@jupyter-widgets/base",
          "model_name": "LayoutModel",
          "model_module_version": "1.2.0",
          "state": {
            "_model_module": "@jupyter-widgets/base",
            "_model_module_version": "1.2.0",
            "_model_name": "LayoutModel",
            "_view_count": null,
            "_view_module": "@jupyter-widgets/base",
            "_view_module_version": "1.2.0",
            "_view_name": "LayoutView",
            "align_content": null,
            "align_items": null,
            "align_self": null,
            "border": null,
            "bottom": null,
            "display": null,
            "flex": null,
            "flex_flow": null,
            "grid_area": null,
            "grid_auto_columns": null,
            "grid_auto_flow": null,
            "grid_auto_rows": null,
            "grid_column": null,
            "grid_gap": null,
            "grid_row": null,
            "grid_template_areas": null,
            "grid_template_columns": null,
            "grid_template_rows": null,
            "height": null,
            "justify_content": null,
            "justify_items": null,
            "left": null,
            "margin": null,
            "max_height": null,
            "max_width": null,
            "min_height": null,
            "min_width": null,
            "object_fit": null,
            "object_position": null,
            "order": null,
            "overflow": null,
            "overflow_x": null,
            "overflow_y": null,
            "padding": null,
            "right": null,
            "top": null,
            "visibility": null,
            "width": null
          }
        },
        "c67b8ecf5f7042b5ac5f4607b2d38751": {
          "model_module": "@jupyter-widgets/controls",
          "model_name": "ProgressStyleModel",
          "model_module_version": "1.5.0",
          "state": {
            "_model_module": "@jupyter-widgets/controls",
            "_model_module_version": "1.5.0",
            "_model_name": "ProgressStyleModel",
            "_view_count": null,
            "_view_module": "@jupyter-widgets/base",
            "_view_module_version": "1.2.0",
            "_view_name": "StyleView",
            "bar_color": null,
            "description_width": ""
          }
        },
        "d9bd00c5ffcc40028ee85db3db9505b7": {
          "model_module": "@jupyter-widgets/base",
          "model_name": "LayoutModel",
          "model_module_version": "1.2.0",
          "state": {
            "_model_module": "@jupyter-widgets/base",
            "_model_module_version": "1.2.0",
            "_model_name": "LayoutModel",
            "_view_count": null,
            "_view_module": "@jupyter-widgets/base",
            "_view_module_version": "1.2.0",
            "_view_name": "LayoutView",
            "align_content": null,
            "align_items": null,
            "align_self": null,
            "border": null,
            "bottom": null,
            "display": null,
            "flex": null,
            "flex_flow": null,
            "grid_area": null,
            "grid_auto_columns": null,
            "grid_auto_flow": null,
            "grid_auto_rows": null,
            "grid_column": null,
            "grid_gap": null,
            "grid_row": null,
            "grid_template_areas": null,
            "grid_template_columns": null,
            "grid_template_rows": null,
            "height": null,
            "justify_content": null,
            "justify_items": null,
            "left": null,
            "margin": null,
            "max_height": null,
            "max_width": null,
            "min_height": null,
            "min_width": null,
            "object_fit": null,
            "object_position": null,
            "order": null,
            "overflow": null,
            "overflow_x": null,
            "overflow_y": null,
            "padding": null,
            "right": null,
            "top": null,
            "visibility": null,
            "width": null
          }
        },
        "b27bf2383af74d47a419ecdaa550f719": {
          "model_module": "@jupyter-widgets/controls",
          "model_name": "DescriptionStyleModel",
          "model_module_version": "1.5.0",
          "state": {
            "_model_module": "@jupyter-widgets/controls",
            "_model_module_version": "1.5.0",
            "_model_name": "DescriptionStyleModel",
            "_view_count": null,
            "_view_module": "@jupyter-widgets/base",
            "_view_module_version": "1.2.0",
            "_view_name": "StyleView",
            "description_width": ""
          }
        },
        "81cf11a1a9434bb6885452623569e125": {
          "model_module": "@jupyter-widgets/controls",
          "model_name": "HBoxModel",
          "model_module_version": "1.5.0",
          "state": {
            "_dom_classes": [],
            "_model_module": "@jupyter-widgets/controls",
            "_model_module_version": "1.5.0",
            "_model_name": "HBoxModel",
            "_view_count": null,
            "_view_module": "@jupyter-widgets/controls",
            "_view_module_version": "1.5.0",
            "_view_name": "HBoxView",
            "box_style": "",
            "children": [
              "IPY_MODEL_0f281048261248dca5d02fa4213eba67",
              "IPY_MODEL_4d3370ffbc65411d967b91753aacd9fd",
              "IPY_MODEL_9464c8a5288644f39bf8714cf0116bb9"
            ],
            "layout": "IPY_MODEL_38b25fcd82e54d819cb04182f08d51e0"
          }
        },
        "0f281048261248dca5d02fa4213eba67": {
          "model_module": "@jupyter-widgets/controls",
          "model_name": "HTMLModel",
          "model_module_version": "1.5.0",
          "state": {
            "_dom_classes": [],
            "_model_module": "@jupyter-widgets/controls",
            "_model_module_version": "1.5.0",
            "_model_name": "HTMLModel",
            "_view_count": null,
            "_view_module": "@jupyter-widgets/controls",
            "_view_module_version": "1.5.0",
            "_view_name": "HTMLView",
            "description": "",
            "description_tooltip": null,
            "layout": "IPY_MODEL_4002dd1d0f4d4509a47eb92f74df91d3",
            "placeholder": "​",
            "style": "IPY_MODEL_ce19d85a648a4dbb82be19f69eea67c6",
            "value": "vocab.json: 100%"
          }
        },
        "4d3370ffbc65411d967b91753aacd9fd": {
          "model_module": "@jupyter-widgets/controls",
          "model_name": "FloatProgressModel",
          "model_module_version": "1.5.0",
          "state": {
            "_dom_classes": [],
            "_model_module": "@jupyter-widgets/controls",
            "_model_module_version": "1.5.0",
            "_model_name": "FloatProgressModel",
            "_view_count": null,
            "_view_module": "@jupyter-widgets/controls",
            "_view_module_version": "1.5.0",
            "_view_name": "ProgressView",
            "bar_style": "success",
            "description": "",
            "description_tooltip": null,
            "layout": "IPY_MODEL_e9cc588494774eb3822e6cfe49dbb405",
            "max": 898823,
            "min": 0,
            "orientation": "horizontal",
            "style": "IPY_MODEL_2483f7ffe9a14e6198340bba27ebbe1e",
            "value": 898823
          }
        },
        "9464c8a5288644f39bf8714cf0116bb9": {
          "model_module": "@jupyter-widgets/controls",
          "model_name": "HTMLModel",
          "model_module_version": "1.5.0",
          "state": {
            "_dom_classes": [],
            "_model_module": "@jupyter-widgets/controls",
            "_model_module_version": "1.5.0",
            "_model_name": "HTMLModel",
            "_view_count": null,
            "_view_module": "@jupyter-widgets/controls",
            "_view_module_version": "1.5.0",
            "_view_name": "HTMLView",
            "description": "",
            "description_tooltip": null,
            "layout": "IPY_MODEL_c1489d95a2894fa3aa9dd3f33be38bcd",
            "placeholder": "​",
            "style": "IPY_MODEL_0a7ee402dce04fdb97ec9c75f9e5883f",
            "value": " 899k/899k [00:00&lt;00:00, 32.2MB/s]"
          }
        },
        "38b25fcd82e54d819cb04182f08d51e0": {
          "model_module": "@jupyter-widgets/base",
          "model_name": "LayoutModel",
          "model_module_version": "1.2.0",
          "state": {
            "_model_module": "@jupyter-widgets/base",
            "_model_module_version": "1.2.0",
            "_model_name": "LayoutModel",
            "_view_count": null,
            "_view_module": "@jupyter-widgets/base",
            "_view_module_version": "1.2.0",
            "_view_name": "LayoutView",
            "align_content": null,
            "align_items": null,
            "align_self": null,
            "border": null,
            "bottom": null,
            "display": null,
            "flex": null,
            "flex_flow": null,
            "grid_area": null,
            "grid_auto_columns": null,
            "grid_auto_flow": null,
            "grid_auto_rows": null,
            "grid_column": null,
            "grid_gap": null,
            "grid_row": null,
            "grid_template_areas": null,
            "grid_template_columns": null,
            "grid_template_rows": null,
            "height": null,
            "justify_content": null,
            "justify_items": null,
            "left": null,
            "margin": null,
            "max_height": null,
            "max_width": null,
            "min_height": null,
            "min_width": null,
            "object_fit": null,
            "object_position": null,
            "order": null,
            "overflow": null,
            "overflow_x": null,
            "overflow_y": null,
            "padding": null,
            "right": null,
            "top": null,
            "visibility": null,
            "width": null
          }
        },
        "4002dd1d0f4d4509a47eb92f74df91d3": {
          "model_module": "@jupyter-widgets/base",
          "model_name": "LayoutModel",
          "model_module_version": "1.2.0",
          "state": {
            "_model_module": "@jupyter-widgets/base",
            "_model_module_version": "1.2.0",
            "_model_name": "LayoutModel",
            "_view_count": null,
            "_view_module": "@jupyter-widgets/base",
            "_view_module_version": "1.2.0",
            "_view_name": "LayoutView",
            "align_content": null,
            "align_items": null,
            "align_self": null,
            "border": null,
            "bottom": null,
            "display": null,
            "flex": null,
            "flex_flow": null,
            "grid_area": null,
            "grid_auto_columns": null,
            "grid_auto_flow": null,
            "grid_auto_rows": null,
            "grid_column": null,
            "grid_gap": null,
            "grid_row": null,
            "grid_template_areas": null,
            "grid_template_columns": null,
            "grid_template_rows": null,
            "height": null,
            "justify_content": null,
            "justify_items": null,
            "left": null,
            "margin": null,
            "max_height": null,
            "max_width": null,
            "min_height": null,
            "min_width": null,
            "object_fit": null,
            "object_position": null,
            "order": null,
            "overflow": null,
            "overflow_x": null,
            "overflow_y": null,
            "padding": null,
            "right": null,
            "top": null,
            "visibility": null,
            "width": null
          }
        },
        "ce19d85a648a4dbb82be19f69eea67c6": {
          "model_module": "@jupyter-widgets/controls",
          "model_name": "DescriptionStyleModel",
          "model_module_version": "1.5.0",
          "state": {
            "_model_module": "@jupyter-widgets/controls",
            "_model_module_version": "1.5.0",
            "_model_name": "DescriptionStyleModel",
            "_view_count": null,
            "_view_module": "@jupyter-widgets/base",
            "_view_module_version": "1.2.0",
            "_view_name": "StyleView",
            "description_width": ""
          }
        },
        "e9cc588494774eb3822e6cfe49dbb405": {
          "model_module": "@jupyter-widgets/base",
          "model_name": "LayoutModel",
          "model_module_version": "1.2.0",
          "state": {
            "_model_module": "@jupyter-widgets/base",
            "_model_module_version": "1.2.0",
            "_model_name": "LayoutModel",
            "_view_count": null,
            "_view_module": "@jupyter-widgets/base",
            "_view_module_version": "1.2.0",
            "_view_name": "LayoutView",
            "align_content": null,
            "align_items": null,
            "align_self": null,
            "border": null,
            "bottom": null,
            "display": null,
            "flex": null,
            "flex_flow": null,
            "grid_area": null,
            "grid_auto_columns": null,
            "grid_auto_flow": null,
            "grid_auto_rows": null,
            "grid_column": null,
            "grid_gap": null,
            "grid_row": null,
            "grid_template_areas": null,
            "grid_template_columns": null,
            "grid_template_rows": null,
            "height": null,
            "justify_content": null,
            "justify_items": null,
            "left": null,
            "margin": null,
            "max_height": null,
            "max_width": null,
            "min_height": null,
            "min_width": null,
            "object_fit": null,
            "object_position": null,
            "order": null,
            "overflow": null,
            "overflow_x": null,
            "overflow_y": null,
            "padding": null,
            "right": null,
            "top": null,
            "visibility": null,
            "width": null
          }
        },
        "2483f7ffe9a14e6198340bba27ebbe1e": {
          "model_module": "@jupyter-widgets/controls",
          "model_name": "ProgressStyleModel",
          "model_module_version": "1.5.0",
          "state": {
            "_model_module": "@jupyter-widgets/controls",
            "_model_module_version": "1.5.0",
            "_model_name": "ProgressStyleModel",
            "_view_count": null,
            "_view_module": "@jupyter-widgets/base",
            "_view_module_version": "1.2.0",
            "_view_name": "StyleView",
            "bar_color": null,
            "description_width": ""
          }
        },
        "c1489d95a2894fa3aa9dd3f33be38bcd": {
          "model_module": "@jupyter-widgets/base",
          "model_name": "LayoutModel",
          "model_module_version": "1.2.0",
          "state": {
            "_model_module": "@jupyter-widgets/base",
            "_model_module_version": "1.2.0",
            "_model_name": "LayoutModel",
            "_view_count": null,
            "_view_module": "@jupyter-widgets/base",
            "_view_module_version": "1.2.0",
            "_view_name": "LayoutView",
            "align_content": null,
            "align_items": null,
            "align_self": null,
            "border": null,
            "bottom": null,
            "display": null,
            "flex": null,
            "flex_flow": null,
            "grid_area": null,
            "grid_auto_columns": null,
            "grid_auto_flow": null,
            "grid_auto_rows": null,
            "grid_column": null,
            "grid_gap": null,
            "grid_row": null,
            "grid_template_areas": null,
            "grid_template_columns": null,
            "grid_template_rows": null,
            "height": null,
            "justify_content": null,
            "justify_items": null,
            "left": null,
            "margin": null,
            "max_height": null,
            "max_width": null,
            "min_height": null,
            "min_width": null,
            "object_fit": null,
            "object_position": null,
            "order": null,
            "overflow": null,
            "overflow_x": null,
            "overflow_y": null,
            "padding": null,
            "right": null,
            "top": null,
            "visibility": null,
            "width": null
          }
        },
        "0a7ee402dce04fdb97ec9c75f9e5883f": {
          "model_module": "@jupyter-widgets/controls",
          "model_name": "DescriptionStyleModel",
          "model_module_version": "1.5.0",
          "state": {
            "_model_module": "@jupyter-widgets/controls",
            "_model_module_version": "1.5.0",
            "_model_name": "DescriptionStyleModel",
            "_view_count": null,
            "_view_module": "@jupyter-widgets/base",
            "_view_module_version": "1.2.0",
            "_view_name": "StyleView",
            "description_width": ""
          }
        },
        "9d4f0dab7d5f4f42bd86eea5bb8d257a": {
          "model_module": "@jupyter-widgets/controls",
          "model_name": "HBoxModel",
          "model_module_version": "1.5.0",
          "state": {
            "_dom_classes": [],
            "_model_module": "@jupyter-widgets/controls",
            "_model_module_version": "1.5.0",
            "_model_name": "HBoxModel",
            "_view_count": null,
            "_view_module": "@jupyter-widgets/controls",
            "_view_module_version": "1.5.0",
            "_view_name": "HBoxView",
            "box_style": "",
            "children": [
              "IPY_MODEL_faf2adda561742c4b13ec7ab0d2a2895",
              "IPY_MODEL_59c3af575814444b9337d84d00d2ce9f",
              "IPY_MODEL_5bdfab2894334ea495ce47ac63a1256b"
            ],
            "layout": "IPY_MODEL_10486888beef40d5ba44a4ddbce85063"
          }
        },
        "faf2adda561742c4b13ec7ab0d2a2895": {
          "model_module": "@jupyter-widgets/controls",
          "model_name": "HTMLModel",
          "model_module_version": "1.5.0",
          "state": {
            "_dom_classes": [],
            "_model_module": "@jupyter-widgets/controls",
            "_model_module_version": "1.5.0",
            "_model_name": "HTMLModel",
            "_view_count": null,
            "_view_module": "@jupyter-widgets/controls",
            "_view_module_version": "1.5.0",
            "_view_name": "HTMLView",
            "description": "",
            "description_tooltip": null,
            "layout": "IPY_MODEL_ea79824ca48142c08ca00aa368e37b13",
            "placeholder": "​",
            "style": "IPY_MODEL_4efd7f3bc6114dce9ba7e99e5bb0cd76",
            "value": "merges.txt: 100%"
          }
        },
        "59c3af575814444b9337d84d00d2ce9f": {
          "model_module": "@jupyter-widgets/controls",
          "model_name": "FloatProgressModel",
          "model_module_version": "1.5.0",
          "state": {
            "_dom_classes": [],
            "_model_module": "@jupyter-widgets/controls",
            "_model_module_version": "1.5.0",
            "_model_name": "FloatProgressModel",
            "_view_count": null,
            "_view_module": "@jupyter-widgets/controls",
            "_view_module_version": "1.5.0",
            "_view_name": "ProgressView",
            "bar_style": "success",
            "description": "",
            "description_tooltip": null,
            "layout": "IPY_MODEL_93c3e132d6654fb5b54726c03c7e21da",
            "max": 456318,
            "min": 0,
            "orientation": "horizontal",
            "style": "IPY_MODEL_3d183d3dddea43bf998b27d7cd4a3ecf",
            "value": 456318
          }
        },
        "5bdfab2894334ea495ce47ac63a1256b": {
          "model_module": "@jupyter-widgets/controls",
          "model_name": "HTMLModel",
          "model_module_version": "1.5.0",
          "state": {
            "_dom_classes": [],
            "_model_module": "@jupyter-widgets/controls",
            "_model_module_version": "1.5.0",
            "_model_name": "HTMLModel",
            "_view_count": null,
            "_view_module": "@jupyter-widgets/controls",
            "_view_module_version": "1.5.0",
            "_view_name": "HTMLView",
            "description": "",
            "description_tooltip": null,
            "layout": "IPY_MODEL_93a4a2697d4e467f9103aebf8737b89a",
            "placeholder": "​",
            "style": "IPY_MODEL_c9ac7cb311e44c798b6b3caadaab3486",
            "value": " 456k/456k [00:00&lt;00:00, 13.7MB/s]"
          }
        },
        "10486888beef40d5ba44a4ddbce85063": {
          "model_module": "@jupyter-widgets/base",
          "model_name": "LayoutModel",
          "model_module_version": "1.2.0",
          "state": {
            "_model_module": "@jupyter-widgets/base",
            "_model_module_version": "1.2.0",
            "_model_name": "LayoutModel",
            "_view_count": null,
            "_view_module": "@jupyter-widgets/base",
            "_view_module_version": "1.2.0",
            "_view_name": "LayoutView",
            "align_content": null,
            "align_items": null,
            "align_self": null,
            "border": null,
            "bottom": null,
            "display": null,
            "flex": null,
            "flex_flow": null,
            "grid_area": null,
            "grid_auto_columns": null,
            "grid_auto_flow": null,
            "grid_auto_rows": null,
            "grid_column": null,
            "grid_gap": null,
            "grid_row": null,
            "grid_template_areas": null,
            "grid_template_columns": null,
            "grid_template_rows": null,
            "height": null,
            "justify_content": null,
            "justify_items": null,
            "left": null,
            "margin": null,
            "max_height": null,
            "max_width": null,
            "min_height": null,
            "min_width": null,
            "object_fit": null,
            "object_position": null,
            "order": null,
            "overflow": null,
            "overflow_x": null,
            "overflow_y": null,
            "padding": null,
            "right": null,
            "top": null,
            "visibility": null,
            "width": null
          }
        },
        "ea79824ca48142c08ca00aa368e37b13": {
          "model_module": "@jupyter-widgets/base",
          "model_name": "LayoutModel",
          "model_module_version": "1.2.0",
          "state": {
            "_model_module": "@jupyter-widgets/base",
            "_model_module_version": "1.2.0",
            "_model_name": "LayoutModel",
            "_view_count": null,
            "_view_module": "@jupyter-widgets/base",
            "_view_module_version": "1.2.0",
            "_view_name": "LayoutView",
            "align_content": null,
            "align_items": null,
            "align_self": null,
            "border": null,
            "bottom": null,
            "display": null,
            "flex": null,
            "flex_flow": null,
            "grid_area": null,
            "grid_auto_columns": null,
            "grid_auto_flow": null,
            "grid_auto_rows": null,
            "grid_column": null,
            "grid_gap": null,
            "grid_row": null,
            "grid_template_areas": null,
            "grid_template_columns": null,
            "grid_template_rows": null,
            "height": null,
            "justify_content": null,
            "justify_items": null,
            "left": null,
            "margin": null,
            "max_height": null,
            "max_width": null,
            "min_height": null,
            "min_width": null,
            "object_fit": null,
            "object_position": null,
            "order": null,
            "overflow": null,
            "overflow_x": null,
            "overflow_y": null,
            "padding": null,
            "right": null,
            "top": null,
            "visibility": null,
            "width": null
          }
        },
        "4efd7f3bc6114dce9ba7e99e5bb0cd76": {
          "model_module": "@jupyter-widgets/controls",
          "model_name": "DescriptionStyleModel",
          "model_module_version": "1.5.0",
          "state": {
            "_model_module": "@jupyter-widgets/controls",
            "_model_module_version": "1.5.0",
            "_model_name": "DescriptionStyleModel",
            "_view_count": null,
            "_view_module": "@jupyter-widgets/base",
            "_view_module_version": "1.2.0",
            "_view_name": "StyleView",
            "description_width": ""
          }
        },
        "93c3e132d6654fb5b54726c03c7e21da": {
          "model_module": "@jupyter-widgets/base",
          "model_name": "LayoutModel",
          "model_module_version": "1.2.0",
          "state": {
            "_model_module": "@jupyter-widgets/base",
            "_model_module_version": "1.2.0",
            "_model_name": "LayoutModel",
            "_view_count": null,
            "_view_module": "@jupyter-widgets/base",
            "_view_module_version": "1.2.0",
            "_view_name": "LayoutView",
            "align_content": null,
            "align_items": null,
            "align_self": null,
            "border": null,
            "bottom": null,
            "display": null,
            "flex": null,
            "flex_flow": null,
            "grid_area": null,
            "grid_auto_columns": null,
            "grid_auto_flow": null,
            "grid_auto_rows": null,
            "grid_column": null,
            "grid_gap": null,
            "grid_row": null,
            "grid_template_areas": null,
            "grid_template_columns": null,
            "grid_template_rows": null,
            "height": null,
            "justify_content": null,
            "justify_items": null,
            "left": null,
            "margin": null,
            "max_height": null,
            "max_width": null,
            "min_height": null,
            "min_width": null,
            "object_fit": null,
            "object_position": null,
            "order": null,
            "overflow": null,
            "overflow_x": null,
            "overflow_y": null,
            "padding": null,
            "right": null,
            "top": null,
            "visibility": null,
            "width": null
          }
        },
        "3d183d3dddea43bf998b27d7cd4a3ecf": {
          "model_module": "@jupyter-widgets/controls",
          "model_name": "ProgressStyleModel",
          "model_module_version": "1.5.0",
          "state": {
            "_model_module": "@jupyter-widgets/controls",
            "_model_module_version": "1.5.0",
            "_model_name": "ProgressStyleModel",
            "_view_count": null,
            "_view_module": "@jupyter-widgets/base",
            "_view_module_version": "1.2.0",
            "_view_name": "StyleView",
            "bar_color": null,
            "description_width": ""
          }
        },
        "93a4a2697d4e467f9103aebf8737b89a": {
          "model_module": "@jupyter-widgets/base",
          "model_name": "LayoutModel",
          "model_module_version": "1.2.0",
          "state": {
            "_model_module": "@jupyter-widgets/base",
            "_model_module_version": "1.2.0",
            "_model_name": "LayoutModel",
            "_view_count": null,
            "_view_module": "@jupyter-widgets/base",
            "_view_module_version": "1.2.0",
            "_view_name": "LayoutView",
            "align_content": null,
            "align_items": null,
            "align_self": null,
            "border": null,
            "bottom": null,
            "display": null,
            "flex": null,
            "flex_flow": null,
            "grid_area": null,
            "grid_auto_columns": null,
            "grid_auto_flow": null,
            "grid_auto_rows": null,
            "grid_column": null,
            "grid_gap": null,
            "grid_row": null,
            "grid_template_areas": null,
            "grid_template_columns": null,
            "grid_template_rows": null,
            "height": null,
            "justify_content": null,
            "justify_items": null,
            "left": null,
            "margin": null,
            "max_height": null,
            "max_width": null,
            "min_height": null,
            "min_width": null,
            "object_fit": null,
            "object_position": null,
            "order": null,
            "overflow": null,
            "overflow_x": null,
            "overflow_y": null,
            "padding": null,
            "right": null,
            "top": null,
            "visibility": null,
            "width": null
          }
        },
        "c9ac7cb311e44c798b6b3caadaab3486": {
          "model_module": "@jupyter-widgets/controls",
          "model_name": "DescriptionStyleModel",
          "model_module_version": "1.5.0",
          "state": {
            "_model_module": "@jupyter-widgets/controls",
            "_model_module_version": "1.5.0",
            "_model_name": "DescriptionStyleModel",
            "_view_count": null,
            "_view_module": "@jupyter-widgets/base",
            "_view_module_version": "1.2.0",
            "_view_name": "StyleView",
            "description_width": ""
          }
        },
        "a16e2b90a16447eb9619ccc8fab963b6": {
          "model_module": "@jupyter-widgets/controls",
          "model_name": "HBoxModel",
          "model_module_version": "1.5.0",
          "state": {
            "_dom_classes": [],
            "_model_module": "@jupyter-widgets/controls",
            "_model_module_version": "1.5.0",
            "_model_name": "HBoxModel",
            "_view_count": null,
            "_view_module": "@jupyter-widgets/controls",
            "_view_module_version": "1.5.0",
            "_view_name": "HBoxView",
            "box_style": "",
            "children": [
              "IPY_MODEL_44058fcfc0004268bc1f45a8e85611c6",
              "IPY_MODEL_6183e77c9a724f6bad3878cb48ffa32e",
              "IPY_MODEL_68d803b9d63844c3baa8c8b0ac76a1ba"
            ],
            "layout": "IPY_MODEL_eb01d74488bd4565966c6f0ea4769cae"
          }
        },
        "44058fcfc0004268bc1f45a8e85611c6": {
          "model_module": "@jupyter-widgets/controls",
          "model_name": "HTMLModel",
          "model_module_version": "1.5.0",
          "state": {
            "_dom_classes": [],
            "_model_module": "@jupyter-widgets/controls",
            "_model_module_version": "1.5.0",
            "_model_name": "HTMLModel",
            "_view_count": null,
            "_view_module": "@jupyter-widgets/controls",
            "_view_module_version": "1.5.0",
            "_view_name": "HTMLView",
            "description": "",
            "description_tooltip": null,
            "layout": "IPY_MODEL_9bf9df82029d4ccea1b1f26de104b31d",
            "placeholder": "​",
            "style": "IPY_MODEL_c87bbb3439ef48c5b13ca6287ffb3163",
            "value": "tokenizer.json: 100%"
          }
        },
        "6183e77c9a724f6bad3878cb48ffa32e": {
          "model_module": "@jupyter-widgets/controls",
          "model_name": "FloatProgressModel",
          "model_module_version": "1.5.0",
          "state": {
            "_dom_classes": [],
            "_model_module": "@jupyter-widgets/controls",
            "_model_module_version": "1.5.0",
            "_model_name": "FloatProgressModel",
            "_view_count": null,
            "_view_module": "@jupyter-widgets/controls",
            "_view_module_version": "1.5.0",
            "_view_name": "ProgressView",
            "bar_style": "success",
            "description": "",
            "description_tooltip": null,
            "layout": "IPY_MODEL_7777d7386d7f47a5b82afe2792863fbb",
            "max": 1355863,
            "min": 0,
            "orientation": "horizontal",
            "style": "IPY_MODEL_de870283845c4abaa0e9eba3691ea655",
            "value": 1355863
          }
        },
        "68d803b9d63844c3baa8c8b0ac76a1ba": {
          "model_module": "@jupyter-widgets/controls",
          "model_name": "HTMLModel",
          "model_module_version": "1.5.0",
          "state": {
            "_dom_classes": [],
            "_model_module": "@jupyter-widgets/controls",
            "_model_module_version": "1.5.0",
            "_model_name": "HTMLModel",
            "_view_count": null,
            "_view_module": "@jupyter-widgets/controls",
            "_view_module_version": "1.5.0",
            "_view_name": "HTMLView",
            "description": "",
            "description_tooltip": null,
            "layout": "IPY_MODEL_cfda6eaf11e84cb1999b462a36fe7ab4",
            "placeholder": "​",
            "style": "IPY_MODEL_edd39727c5014c579e980e777c903450",
            "value": " 1.36M/1.36M [00:00&lt;00:00, 25.3MB/s]"
          }
        },
        "eb01d74488bd4565966c6f0ea4769cae": {
          "model_module": "@jupyter-widgets/base",
          "model_name": "LayoutModel",
          "model_module_version": "1.2.0",
          "state": {
            "_model_module": "@jupyter-widgets/base",
            "_model_module_version": "1.2.0",
            "_model_name": "LayoutModel",
            "_view_count": null,
            "_view_module": "@jupyter-widgets/base",
            "_view_module_version": "1.2.0",
            "_view_name": "LayoutView",
            "align_content": null,
            "align_items": null,
            "align_self": null,
            "border": null,
            "bottom": null,
            "display": null,
            "flex": null,
            "flex_flow": null,
            "grid_area": null,
            "grid_auto_columns": null,
            "grid_auto_flow": null,
            "grid_auto_rows": null,
            "grid_column": null,
            "grid_gap": null,
            "grid_row": null,
            "grid_template_areas": null,
            "grid_template_columns": null,
            "grid_template_rows": null,
            "height": null,
            "justify_content": null,
            "justify_items": null,
            "left": null,
            "margin": null,
            "max_height": null,
            "max_width": null,
            "min_height": null,
            "min_width": null,
            "object_fit": null,
            "object_position": null,
            "order": null,
            "overflow": null,
            "overflow_x": null,
            "overflow_y": null,
            "padding": null,
            "right": null,
            "top": null,
            "visibility": null,
            "width": null
          }
        },
        "9bf9df82029d4ccea1b1f26de104b31d": {
          "model_module": "@jupyter-widgets/base",
          "model_name": "LayoutModel",
          "model_module_version": "1.2.0",
          "state": {
            "_model_module": "@jupyter-widgets/base",
            "_model_module_version": "1.2.0",
            "_model_name": "LayoutModel",
            "_view_count": null,
            "_view_module": "@jupyter-widgets/base",
            "_view_module_version": "1.2.0",
            "_view_name": "LayoutView",
            "align_content": null,
            "align_items": null,
            "align_self": null,
            "border": null,
            "bottom": null,
            "display": null,
            "flex": null,
            "flex_flow": null,
            "grid_area": null,
            "grid_auto_columns": null,
            "grid_auto_flow": null,
            "grid_auto_rows": null,
            "grid_column": null,
            "grid_gap": null,
            "grid_row": null,
            "grid_template_areas": null,
            "grid_template_columns": null,
            "grid_template_rows": null,
            "height": null,
            "justify_content": null,
            "justify_items": null,
            "left": null,
            "margin": null,
            "max_height": null,
            "max_width": null,
            "min_height": null,
            "min_width": null,
            "object_fit": null,
            "object_position": null,
            "order": null,
            "overflow": null,
            "overflow_x": null,
            "overflow_y": null,
            "padding": null,
            "right": null,
            "top": null,
            "visibility": null,
            "width": null
          }
        },
        "c87bbb3439ef48c5b13ca6287ffb3163": {
          "model_module": "@jupyter-widgets/controls",
          "model_name": "DescriptionStyleModel",
          "model_module_version": "1.5.0",
          "state": {
            "_model_module": "@jupyter-widgets/controls",
            "_model_module_version": "1.5.0",
            "_model_name": "DescriptionStyleModel",
            "_view_count": null,
            "_view_module": "@jupyter-widgets/base",
            "_view_module_version": "1.2.0",
            "_view_name": "StyleView",
            "description_width": ""
          }
        },
        "7777d7386d7f47a5b82afe2792863fbb": {
          "model_module": "@jupyter-widgets/base",
          "model_name": "LayoutModel",
          "model_module_version": "1.2.0",
          "state": {
            "_model_module": "@jupyter-widgets/base",
            "_model_module_version": "1.2.0",
            "_model_name": "LayoutModel",
            "_view_count": null,
            "_view_module": "@jupyter-widgets/base",
            "_view_module_version": "1.2.0",
            "_view_name": "LayoutView",
            "align_content": null,
            "align_items": null,
            "align_self": null,
            "border": null,
            "bottom": null,
            "display": null,
            "flex": null,
            "flex_flow": null,
            "grid_area": null,
            "grid_auto_columns": null,
            "grid_auto_flow": null,
            "grid_auto_rows": null,
            "grid_column": null,
            "grid_gap": null,
            "grid_row": null,
            "grid_template_areas": null,
            "grid_template_columns": null,
            "grid_template_rows": null,
            "height": null,
            "justify_content": null,
            "justify_items": null,
            "left": null,
            "margin": null,
            "max_height": null,
            "max_width": null,
            "min_height": null,
            "min_width": null,
            "object_fit": null,
            "object_position": null,
            "order": null,
            "overflow": null,
            "overflow_x": null,
            "overflow_y": null,
            "padding": null,
            "right": null,
            "top": null,
            "visibility": null,
            "width": null
          }
        },
        "de870283845c4abaa0e9eba3691ea655": {
          "model_module": "@jupyter-widgets/controls",
          "model_name": "ProgressStyleModel",
          "model_module_version": "1.5.0",
          "state": {
            "_model_module": "@jupyter-widgets/controls",
            "_model_module_version": "1.5.0",
            "_model_name": "ProgressStyleModel",
            "_view_count": null,
            "_view_module": "@jupyter-widgets/base",
            "_view_module_version": "1.2.0",
            "_view_name": "StyleView",
            "bar_color": null,
            "description_width": ""
          }
        },
        "cfda6eaf11e84cb1999b462a36fe7ab4": {
          "model_module": "@jupyter-widgets/base",
          "model_name": "LayoutModel",
          "model_module_version": "1.2.0",
          "state": {
            "_model_module": "@jupyter-widgets/base",
            "_model_module_version": "1.2.0",
            "_model_name": "LayoutModel",
            "_view_count": null,
            "_view_module": "@jupyter-widgets/base",
            "_view_module_version": "1.2.0",
            "_view_name": "LayoutView",
            "align_content": null,
            "align_items": null,
            "align_self": null,
            "border": null,
            "bottom": null,
            "display": null,
            "flex": null,
            "flex_flow": null,
            "grid_area": null,
            "grid_auto_columns": null,
            "grid_auto_flow": null,
            "grid_auto_rows": null,
            "grid_column": null,
            "grid_gap": null,
            "grid_row": null,
            "grid_template_areas": null,
            "grid_template_columns": null,
            "grid_template_rows": null,
            "height": null,
            "justify_content": null,
            "justify_items": null,
            "left": null,
            "margin": null,
            "max_height": null,
            "max_width": null,
            "min_height": null,
            "min_width": null,
            "object_fit": null,
            "object_position": null,
            "order": null,
            "overflow": null,
            "overflow_x": null,
            "overflow_y": null,
            "padding": null,
            "right": null,
            "top": null,
            "visibility": null,
            "width": null
          }
        },
        "edd39727c5014c579e980e777c903450": {
          "model_module": "@jupyter-widgets/controls",
          "model_name": "DescriptionStyleModel",
          "model_module_version": "1.5.0",
          "state": {
            "_model_module": "@jupyter-widgets/controls",
            "_model_module_version": "1.5.0",
            "_model_name": "DescriptionStyleModel",
            "_view_count": null,
            "_view_module": "@jupyter-widgets/base",
            "_view_module_version": "1.2.0",
            "_view_name": "StyleView",
            "description_width": ""
          }
        }
      }
    }
  },
  "cells": [
    {
      "cell_type": "markdown",
      "source": [
        "# Pre-Training BERT"
      ],
      "metadata": {
        "id": "xw1wrhkpgWTR"
      }
    },
    {
      "cell_type": "markdown",
      "source": [
        "**TensorFlow** Implementation of Transformers"
      ],
      "metadata": {
        "id": "i7vYbUEVgdrR"
      }
    },
    {
      "cell_type": "code",
      "execution_count": null,
      "metadata": {
        "id": "1oKNo6rimTHC"
      },
      "outputs": [],
      "source": [
        "import math\n",
        "import numpy as np\n",
        "import tensorflow as tf"
      ]
    },
    {
      "cell_type": "markdown",
      "source": [
        "Using BPEmb (Byte Pair Encoding) Pre-Trained Tokenizer"
      ],
      "metadata": {
        "id": "-5lWzn4PiUYQ"
      }
    },
    {
      "cell_type": "code",
      "source": [
        "!pip install BPEmb\n",
        "\n",
        "from bpemb import BPEmb"
      ],
      "metadata": {
        "colab": {
          "base_uri": "https://localhost:8080/"
        },
        "id": "EQOwi_OfnO3f",
        "outputId": "3b439040-4bc2-4558-8a2f-9c2b8a3999b0"
      },
      "execution_count": null,
      "outputs": [
        {
          "output_type": "stream",
          "name": "stdout",
          "text": [
            "Collecting BPEmb\n",
            "  Downloading bpemb-0.3.4-py3-none-any.whl (19 kB)\n",
            "Requirement already satisfied: gensim in /usr/local/lib/python3.10/dist-packages (from BPEmb) (4.3.2)\n",
            "Requirement already satisfied: numpy in /usr/local/lib/python3.10/dist-packages (from BPEmb) (1.25.2)\n",
            "Requirement already satisfied: requests in /usr/local/lib/python3.10/dist-packages (from BPEmb) (2.31.0)\n",
            "Requirement already satisfied: sentencepiece in /usr/local/lib/python3.10/dist-packages (from BPEmb) (0.1.99)\n",
            "Requirement already satisfied: tqdm in /usr/local/lib/python3.10/dist-packages (from BPEmb) (4.66.2)\n",
            "Requirement already satisfied: scipy>=1.7.0 in /usr/local/lib/python3.10/dist-packages (from gensim->BPEmb) (1.11.4)\n",
            "Requirement already satisfied: smart-open>=1.8.1 in /usr/local/lib/python3.10/dist-packages (from gensim->BPEmb) (6.4.0)\n",
            "Requirement already satisfied: charset-normalizer<4,>=2 in /usr/local/lib/python3.10/dist-packages (from requests->BPEmb) (3.3.2)\n",
            "Requirement already satisfied: idna<4,>=2.5 in /usr/local/lib/python3.10/dist-packages (from requests->BPEmb) (3.6)\n",
            "Requirement already satisfied: urllib3<3,>=1.21.1 in /usr/local/lib/python3.10/dist-packages (from requests->BPEmb) (2.0.7)\n",
            "Requirement already satisfied: certifi>=2017.4.17 in /usr/local/lib/python3.10/dist-packages (from requests->BPEmb) (2024.2.2)\n",
            "Installing collected packages: BPEmb\n",
            "Successfully installed BPEmb-0.3.4\n"
          ]
        }
      ]
    },
    {
      "cell_type": "markdown",
      "source": [
        "# Multi Head Self Attention"
      ],
      "metadata": {
        "id": "Y4jYl5CFikD9"
      }
    },
    {
      "cell_type": "markdown",
      "source": [
        "Attention mechanism allows the model to focus on different parts of input sequence.<br>\n",
        "Different parts of an input sequence weighted based on their relevance."
      ],
      "metadata": {
        "id": "gp-PGzzp1HIH"
      }
    },
    {
      "cell_type": "markdown",
      "source": [
        "**Scaled Dot Product Self Attention**"
      ],
      "metadata": {
        "id": "0T0UmlOBiv4Z"
      }
    },
    {
      "cell_type": "markdown",
      "source": [
        "\n",
        "Inside each attention head is a **Scaled Dot Product Self-Attention** operation. Given *queries*, *keys*, and *values*, the operation returns a new \"mix\" of the values.\n",
        "\n",
        "$$Attention(Q, K, V) = softmax(\\frac{QK^T)}{\\sqrt{d_k}})V$$\n",
        "\n",
        "The following function implements this and also takes a mask to account for padding and for masking future tokens for decoding (i.e. **look-ahead mask**)."
      ],
      "metadata": {
        "id": "rv0FEub1i-w-"
      }
    },
    {
      "cell_type": "code",
      "source": [
        "def scaled_dot_product_attention(query, key, value, mask=None):\n",
        "  # calculate key dimension\n",
        "  key_dim = tf.cast(tf.shape(key)[-1], tf.float32)\n",
        "  # dot product between query and transpose of key tensor & divide result by square root of key dimension\n",
        "  scaled_scores = tf.matmul(query, key, transpose_b=True) / np.sqrt(key_dim)\n",
        "\n",
        "  # if mask provided\n",
        "  if mask is not None:\n",
        "    # set elements of scaled_scores to -np.inf where mask is 0\n",
        "    scaled_scores = tf.where(mask==0, -np.inf, scaled_scores)\n",
        "\n",
        "  # using softmax function from keras library to calculate attention weights\n",
        "  # create instance of softmax\n",
        "  softmax = tf.keras.layers.Softmax()\n",
        "  # calculate attn weights\n",
        "  weights = softmax(scaled_scores)\n",
        "\n",
        "  # multiply computed weights by value tensor to get weighted sum\n",
        "  # return weightedSum, attentionWeights\n",
        "  return tf.matmul(weights, value), weights"
      ],
      "metadata": {
        "id": "AaFkkauSnqWp"
      },
      "execution_count": null,
      "outputs": []
    },
    {
      "cell_type": "markdown",
      "source": [
        "Suppose our *queries*, *keys*, and *values* are each a length of 3 with a dimension of 4."
      ],
      "metadata": {
        "id": "KM5M4WIakAhf"
      }
    },
    {
      "cell_type": "code",
      "source": [
        "seq_len = 3\n",
        "embed_dim = 4\n",
        "\n",
        "# generating random matrices/Tensors for queries, keys, values\n",
        "# each matrix has a dimension of (seq_len * embed_dim)\n",
        "queries = np.random.rand(seq_len, embed_dim)\n",
        "keys = np.random.rand(seq_len, embed_dim)\n",
        "values = np.random.rand(seq_len, embed_dim)\n",
        "\n",
        "print(\"Queries:\\n\", queries)\n",
        "\n",
        "# these matrices are used as inputs"
      ],
      "metadata": {
        "colab": {
          "base_uri": "https://localhost:8080/"
        },
        "id": "EZgUXWhknz1g",
        "outputId": "484269ca-38ff-4961-d874-b971b1d643a4"
      },
      "execution_count": null,
      "outputs": [
        {
          "output_type": "stream",
          "name": "stdout",
          "text": [
            "Queries:\n",
            " [[0.39613475 0.81264126 0.83716696 0.75259084]\n",
            " [0.42993291 0.91525916 0.65473444 0.74614174]\n",
            " [0.41472215 0.22721656 0.87131225 0.33616524]]\n"
          ]
        }
      ]
    },
    {
      "cell_type": "markdown",
      "source": [
        "This would be the self-attention output and weights."
      ],
      "metadata": {
        "id": "S9MdnCPkkOY8"
      }
    },
    {
      "cell_type": "code",
      "source": [
        "#applying scaledDotProductSelfAttention function on the generate tensor matrices\n",
        "output, attn_weights = scaled_dot_product_attention(queries, keys, values)\n",
        "\n",
        "# print the resulting output & attention weights\n",
        "print(\"Output\\n\", output, \"\\n\")\n",
        "print(\"Weights\\n\", attn_weights)\n",
        "\n",
        "# output -> weighted sum\n",
        "# weights -> how much attention each element in input sequence received during attention computation"
      ],
      "metadata": {
        "colab": {
          "base_uri": "https://localhost:8080/"
        },
        "id": "4m9cxv6tn3Eo",
        "outputId": "e370bc1f-19ce-4619-ea1d-4906deef8963"
      },
      "execution_count": null,
      "outputs": [
        {
          "output_type": "stream",
          "name": "stdout",
          "text": [
            "Output\n",
            " tf.Tensor(\n",
            "[[0.91317695 0.3725024  0.5247414  0.45452675]\n",
            " [0.91351223 0.3793069  0.52532786 0.449358  ]\n",
            " [0.9142553  0.37722817 0.52644277 0.4416171 ]], shape=(3, 4), dtype=float32) \n",
            "\n",
            "Weights\n",
            " tf.Tensor(\n",
            "[[0.39150867 0.28246477 0.32602656]\n",
            " [0.38637903 0.2996719  0.31394908]\n",
            " [0.36051583 0.28471372 0.35477048]], shape=(3, 3), dtype=float32)\n"
          ]
        }
      ]
    },
    {
      "cell_type": "markdown",
      "source": [
        "#### Generating queries, keys, and values for multiple heads."
      ],
      "metadata": {
        "id": "Upd-we5Nkdp9"
      }
    },
    {
      "cell_type": "markdown",
      "source": [
        "Now we can calculate self-attention, so we generate the input *queries*, *keys*, and *values* for multiple heads.\n",
        "<br><br>\n",
        "This attention mechanism is then extended to a multi-head self-attention layer, allowing the model to attend to different parts of the input sequence simultaneously.\n",
        "<br><br>\n",
        "Each attention head had its <u>own separate</u> set of *query*, *key*, and *value* weights. Each weight matrix was of dimension $d\\ x \\ d/h$ where h was the number of heads."
      ],
      "metadata": {
        "id": "sJ0Zeej4ki1I"
      }
    },
    {
      "cell_type": "markdown",
      "source": [
        "![](https://drive.google.com/uc?export=view&id=1SLWkHQgy4nQPFvvjG5_V8UTtpSAJ2zrr)"
      ],
      "metadata": {
        "id": "Avw-fVYelFjC"
      }
    },
    {
      "cell_type": "markdown",
      "source": [
        "This way we can certainly code it this way as well. But we can also \"simulate\" different heads with a single query matrix, single key matrix, and single value matrix.\n",
        "<br><br>\n",
        "We'll do both. First we'll create *query*, *key*, and *value* vectors using separate weights per head.\n",
        "<br><br>\n",
        "We use an example of 12 dimensional embeddings processed by \"three attentions heads\"."
      ],
      "metadata": {
        "id": "rGkY_hrMl-ad"
      }
    },
    {
      "cell_type": "code",
      "source": [
        "batch_size = 1\n",
        "# length of each sequence in input data\n",
        "seq_len = 3\n",
        "# each element in sequence represented as a vector of size 12\n",
        "embed_dim = 12\n",
        "# number of attention heads\n",
        "num_heads = 3\n",
        "# dimension of each attention head\n",
        "# here, 12//3 == 4\n",
        "head_dim = embed_dim // num_heads\n",
        "\n",
        "print(f\"Dimension of each head: {head_dim}\")"
      ],
      "metadata": {
        "colab": {
          "base_uri": "https://localhost:8080/"
        },
        "id": "FM4J71XaoGJx",
        "outputId": "8c33d8a3-e614-40d8-c6bd-2eb4a57787b4"
      },
      "execution_count": null,
      "outputs": [
        {
          "output_type": "stream",
          "name": "stdout",
          "text": [
            "Dimension of each head: 4\n"
          ]
        }
      ]
    },
    {
      "cell_type": "markdown",
      "source": [
        "**Using separate weight matrices per head**"
      ],
      "metadata": {
        "id": "zSyPvCuxp6SU"
      }
    },
    {
      "cell_type": "markdown",
      "source": [
        "Suppose these are our input embeddings. Here we have a batch of 1 containing a sequence of length 3, with each element being a 12-dimensional embedding."
      ],
      "metadata": {
        "id": "anmD54j3qSGp"
      }
    },
    {
      "cell_type": "code",
      "source": [
        "# generating a random 3 Dimensional Matrix/Tensor using NumPy\n",
        "# round(1) - rounds each element to 1 decimal place\n",
        "x = np.random.rand(batch_size, seq_len, embed_dim).round(1)\n",
        "print(\"Input shape: \", x.shape, \"\\n\")\n",
        "print(\"Input:\\n\", x)"
      ],
      "metadata": {
        "colab": {
          "base_uri": "https://localhost:8080/"
        },
        "id": "LHKzHYSDoOUW",
        "outputId": "2abaffc6-98c9-4e86-960f-e48e89b9feaf"
      },
      "execution_count": null,
      "outputs": [
        {
          "output_type": "stream",
          "name": "stdout",
          "text": [
            "Input shape:  (1, 3, 12) \n",
            "\n",
            "Input:\n",
            " [[[0.1 0.1 0.5 0.5 0.3 0.9 0.6 0.2 0.9 0.  0.6 0.6]\n",
            "  [0.1 0.4 0.3 0.8 0.9 0.2 0.3 0.1 0.8 0.9 0.4 0. ]\n",
            "  [0.5 0.6 0.3 0.1 0.2 0.1 0.5 0.2 0.2 0.9 0.4 0.2]]]\n"
          ]
        }
      ]
    },
    {
      "cell_type": "markdown",
      "source": [
        "We'll declare three sets of *query* weights (one for each head), three sets of *key* weights, and three sets of *value* weights. Remember each weight matrix should have a dimension of $\\text{d}\\ \\text{x}\\ \\text{d/h}$."
      ],
      "metadata": {
        "id": "CSg1fpfkqZP3"
      }
    },
    {
      "cell_type": "code",
      "source": [
        "# this code initialises weight matrices for queries, keys, values for Multi-Hed Self Attention (MHSA)\n",
        "# The query weights for each head.\n",
        "# three weight matrices for queries in each attention head\n",
        "wq0 = np.random.rand(embed_dim, head_dim).round(1)\n",
        "wq1 = np.random.rand(embed_dim, head_dim).round(1)\n",
        "wq2 = np.random.rand(embed_dim, head_dim).round(1)\n",
        "\n",
        "# The key weights for each head.\n",
        "# three weight matrices for keys in each attention head\n",
        "wk0 = np.random.rand(embed_dim, head_dim).round(1)\n",
        "wk1 = np.random.rand(embed_dim, head_dim).round(1)\n",
        "wk2 = np.random.rand(embed_dim, head_dim).round(1)\n",
        "\n",
        "# The value weights for each head.\n",
        "# three weight matrices for values in each attention head\n",
        "wv0 = np.random.rand(embed_dim, head_dim).round(1)\n",
        "wv1 = np.random.rand(embed_dim, head_dim).round(1)\n",
        "wv2 = np.random.rand(embed_dim, head_dim).round(1)"
      ],
      "metadata": {
        "id": "ufX8b06HoTCC"
      },
      "execution_count": null,
      "outputs": []
    },
    {
      "cell_type": "code",
      "source": [
        "# printing query weight matrices for each attention head\n",
        "print(\"The three sets of query weights (one for each head):\")\n",
        "print(\"wq0:\\n\", wq0)\n",
        "print(\"wq1:\\n\", wq1)\n",
        "print(\"wq2:\\n\", wq2)"
      ],
      "metadata": {
        "colab": {
          "base_uri": "https://localhost:8080/"
        },
        "id": "YhoYXglFoagG",
        "outputId": "b579a436-0634-4bc2-d309-2000ec8d00b2"
      },
      "execution_count": null,
      "outputs": [
        {
          "output_type": "stream",
          "name": "stdout",
          "text": [
            "The three sets of query weights (one for each head):\n",
            "wq0:\n",
            " [[0.6 0.9 0.5 0.2]\n",
            " [0.1 0.6 0.1 0.9]\n",
            " [0.3 0.9 0.3 0.6]\n",
            " [0.9 0.2 0.  0.5]\n",
            " [0.3 0.7 0.7 0.5]\n",
            " [0.6 0.2 0.1 0.9]\n",
            " [0.6 0.3 0.2 0.5]\n",
            " [0.6 0.4 0.1 0.3]\n",
            " [0.8 1.  0.8 0.9]\n",
            " [0.5 0.4 0.5 0.5]\n",
            " [1.  0.5 1.  0.5]\n",
            " [0.9 0.8 0.5 0.9]]\n",
            "wq1:\n",
            " [[0.8 0.6 0.7 0.6]\n",
            " [0.7 0.5 0.7 0.5]\n",
            " [0.2 0.3 0.8 0.8]\n",
            " [0.5 0.1 0.2 0.3]\n",
            " [0.7 0.4 1.  0.6]\n",
            " [0.5 0.2 1.  0.6]\n",
            " [0.1 1.  0.7 0.3]\n",
            " [1.  0.6 0.8 0.3]\n",
            " [0.2 0.8 0.1 0.2]\n",
            " [0.3 0.1 0.7 0.3]\n",
            " [0.7 0.6 0.4 0.3]\n",
            " [0.8 0.3 0.8 0.5]]\n",
            "wq2:\n",
            " [[0.3 0.  0.3 0.1]\n",
            " [0.2 0.  0.5 0.9]\n",
            " [1.  0.8 1.  0. ]\n",
            " [0.7 0.6 0.4 0.2]\n",
            " [0.1 0.5 0.3 0.1]\n",
            " [0.6 1.  0.2 0.1]\n",
            " [0.1 0.7 0.2 0.4]\n",
            " [0.2 0.2 0.1 0.7]\n",
            " [0.5 0.2 0.9 1. ]\n",
            " [0.6 1.  0.5 0.9]\n",
            " [0.4 0.3 0.7 0.5]\n",
            " [0.2 0.8 0.6 0.7]]\n"
          ]
        }
      ]
    },
    {
      "cell_type": "markdown",
      "source": [
        "We generate our *queries*, *keys*, and *values* for each head by multiplying our input by the weights."
      ],
      "metadata": {
        "id": "g21c5zovqgwC"
      }
    },
    {
      "cell_type": "code",
      "source": [
        "# generating queries, keys, values for each attention head using the 3-D matrix 'x' and weight matrices for keys queries values\n",
        "# Genearted queries, keys, and values for the first head.\n",
        "q0 = np.dot(x, wq0)\n",
        "k0 = np.dot(x, wk0)\n",
        "v0 = np.dot(x, wv0)\n",
        "\n",
        "# Generated queries, keys, and values for the second head.\n",
        "q1 = np.dot(x, wq1)\n",
        "k1 = np.dot(x, wk1)\n",
        "v1 = np.dot(x, wv1)\n",
        "\n",
        "# Generated queries, keys, and values for the third head.\n",
        "q2 = np.dot(x, wq2)\n",
        "k2 = np.dot(x, wk2)\n",
        "v2 = np.dot(x, wv2)\n",
        "\n",
        "# done to linearly transform the input for each component allows the model to learn different relationships from input"
      ],
      "metadata": {
        "id": "2XJIt0epog7f"
      },
      "execution_count": null,
      "outputs": []
    },
    {
      "cell_type": "markdown",
      "source": [
        "These are the resulting *query*, *key*, and *value* vectors for the first head."
      ],
      "metadata": {
        "id": "NX6fUY3YqoOc"
      }
    },
    {
      "cell_type": "code",
      "source": [
        "# print matrices q, k, v for the first attention head\n",
        "print(\"Q, K, and V for first head:\\n\")\n",
        "\n",
        "print(f\"q0 {q0.shape}:\\n\", q0, \"\\n\")\n",
        "print(f\"k0 {k0.shape}:\\n\", k0, \"\\n\")\n",
        "print(f\"v0 {v0.shape}:\\n\", v0)"
      ],
      "metadata": {
        "colab": {
          "base_uri": "https://localhost:8080/"
        },
        "id": "mFu70QH8ohCr",
        "outputId": "4d5b44fa-c291-45d8-c501-90c8dff2f5dc"
      },
      "execution_count": null,
      "outputs": [
        {
          "output_type": "stream",
          "name": "stdout",
          "text": [
            "Q, K, and V for first head:\n",
            "\n",
            "q0 (1, 3, 4):\n",
            " [[[3.64 3.03 2.27 3.63]\n",
            "  [3.03 2.92 2.39 3.14]\n",
            "  [2.27 2.41 1.78 2.38]]] \n",
            "\n",
            "k0 (1, 3, 4):\n",
            " [[[2.94 2.45 2.98 2.86]\n",
            "  [2.75 2.99 2.66 2.81]\n",
            "  [2.73 2.81 2.53 2.65]]] \n",
            "\n",
            "v0 (1, 3, 4):\n",
            " [[[2.81 2.74 2.09 2.37]\n",
            "  [2.63 3.11 2.   2.49]\n",
            "  [1.91 2.33 1.83 2.07]]]\n"
          ]
        }
      ]
    },
    {
      "cell_type": "markdown",
      "source": [
        "Now that we have our Q, K, V vectors, we can just pass them to our self-attention operation. Here we're calculating the output and attention weights for the first head."
      ],
      "metadata": {
        "id": "ZAE8eWUAqtA1"
      }
    },
    {
      "cell_type": "code",
      "source": [
        "# applying scaled..... on the queries, keys, values matrix of the first attention head\n",
        "# returns weighted sum, attention weights\n",
        "out0, attn_weights0 = scaled_dot_product_attention(q0, k0, v0)\n",
        "\n",
        "print(\"Output from first attention head: \", out0, \"\\n\")\n",
        "print(\"Attention weights from first head: \", attn_weights0)"
      ],
      "metadata": {
        "colab": {
          "base_uri": "https://localhost:8080/"
        },
        "id": "pJV_lhpuohIV",
        "outputId": "be5d4d1b-55df-43c9-8817-877b769e4e14"
      },
      "execution_count": null,
      "outputs": [
        {
          "output_type": "stream",
          "name": "stdout",
          "text": [
            "Output from first attention head:  tf.Tensor(\n",
            "[[[2.5630581 2.8115747 2.0031862 2.3609881]\n",
            "  [2.5548687 2.8076713 2.000835  2.3581898]\n",
            "  [2.5285792 2.793128  1.9934561 2.3484044]]], shape=(1, 3, 4), dtype=float32) \n",
            "\n",
            "Attention weights from first head:  tf.Tensor(\n",
            "[[[0.39983118 0.40723604 0.19293275]\n",
            "  [0.39103764 0.40685377 0.20210856]\n",
            "  [0.3663709  0.40117428 0.23245482]]], shape=(1, 3, 3), dtype=float32)\n"
          ]
        }
      ]
    },
    {
      "cell_type": "markdown",
      "source": [
        "Here are the other two (attention weights are ignored)."
      ],
      "metadata": {
        "id": "FAGO6zSyq8Rv"
      }
    },
    {
      "cell_type": "code",
      "source": [
        "# generating the output for 2nd & 3rd head of multi head\n",
        "out1, _ = scaled_dot_product_attention(q1, k1, v1)\n",
        "out2, _ = scaled_dot_product_attention(q2, k2, v2)\n",
        "\n",
        "print(\"Output from second attention head: \", out1, \"\\n\")\n",
        "print(\"Output from third attention head: \", out2,)"
      ],
      "metadata": {
        "colab": {
          "base_uri": "https://localhost:8080/"
        },
        "id": "XOrerQcvohKr",
        "outputId": "a7ba7615-b253-417f-e8cc-c8a9a982350e"
      },
      "execution_count": null,
      "outputs": [
        {
          "output_type": "stream",
          "name": "stdout",
          "text": [
            "Output from second attention head:  tf.Tensor(\n",
            "[[[1.9145194 3.2491329 2.9875898 2.4506886]\n",
            "  [1.9267038 3.2466412 2.9838233 2.4539309]\n",
            "  [1.9422966 3.2419016 2.9780555 2.4576366]]], shape=(1, 3, 4), dtype=float32) \n",
            "\n",
            "Output from third attention head:  tf.Tensor(\n",
            "[[[2.9323678 2.5136867 2.0913677 2.5176127]\n",
            "  [2.927381  2.493968  2.078644  2.5378861]\n",
            "  [2.9293537 2.5305955 2.0998046 2.4916778]]], shape=(1, 3, 4), dtype=float32)\n"
          ]
        }
      ]
    },
    {
      "cell_type": "markdown",
      "source": [
        "Once we have each head's output, we concatenate them and then put them through a linear layer for further processing."
      ],
      "metadata": {
        "id": "McrkzWeGrAwv"
      }
    },
    {
      "cell_type": "code",
      "source": [
        "# combine output from all attention heads by concatenating them\n",
        "combined_out_a = np.concatenate((out0, out1, out2), axis=-1)\n",
        "# print shape & combined output\n",
        "print(f\"Combined output from all heads {combined_out_a.shape}:\")\n",
        "print(combined_out_a)\n",
        "\n",
        "# The final step would be to run combined_out_a through a linear/dense layer\n",
        "# for further processing."
      ],
      "metadata": {
        "colab": {
          "base_uri": "https://localhost:8080/"
        },
        "id": "56F-l0ouohM7",
        "outputId": "9bfc9f23-bd57-4369-d6ff-8c746f2fa0b3"
      },
      "execution_count": null,
      "outputs": [
        {
          "output_type": "stream",
          "name": "stdout",
          "text": [
            "Combined output from all heads (1, 3, 12):\n",
            "[[[2.5630581 2.8115747 2.0031862 2.3609881 1.9145194 3.2491329 2.9875898\n",
            "   2.4506886 2.9323678 2.5136867 2.0913677 2.5176127]\n",
            "  [2.5548687 2.8076713 2.000835  2.3581898 1.9267038 3.2466412 2.9838233\n",
            "   2.4539309 2.927381  2.493968  2.078644  2.5378861]\n",
            "  [2.5285792 2.793128  1.9934561 2.3484044 1.9422966 3.2419016 2.9780555\n",
            "   2.4576366 2.9293537 2.5305955 2.0998046 2.4916778]]]\n"
          ]
        }
      ]
    },
    {
      "cell_type": "markdown",
      "source": [
        "So that's a complete run of **multi-head self-attention** using separate sets of weights per head.<br>\n",
        "\n",
        "Let's now get the same thing done using a single query weight matrix, single key weight matrix, and single value weight matrix.<br><br>\n",
        "These were our separate per-head query weights:"
      ],
      "metadata": {
        "id": "G4iksdPUGQ1z"
      }
    },
    {
      "cell_type": "code",
      "source": [
        "# print weight matrices for queries in each attention head\n",
        "print(\"Query weights for first head: \\n\", wq0, \"\\n\")\n",
        "print(\"Query weights for second head: \\n\", wq1, \"\\n\")\n",
        "print(\"Query weights for third head: \\n\", wq2)"
      ],
      "metadata": {
        "colab": {
          "base_uri": "https://localhost:8080/"
        },
        "id": "9WGweIyCohPw",
        "outputId": "124749c0-f095-4e46-98e6-eb952503dd20"
      },
      "execution_count": null,
      "outputs": [
        {
          "output_type": "stream",
          "name": "stdout",
          "text": [
            "Query weights for first head: \n",
            " [[0.6 0.9 0.5 0.2]\n",
            " [0.1 0.6 0.1 0.9]\n",
            " [0.3 0.9 0.3 0.6]\n",
            " [0.9 0.2 0.  0.5]\n",
            " [0.3 0.7 0.7 0.5]\n",
            " [0.6 0.2 0.1 0.9]\n",
            " [0.6 0.3 0.2 0.5]\n",
            " [0.6 0.4 0.1 0.3]\n",
            " [0.8 1.  0.8 0.9]\n",
            " [0.5 0.4 0.5 0.5]\n",
            " [1.  0.5 1.  0.5]\n",
            " [0.9 0.8 0.5 0.9]] \n",
            "\n",
            "Query weights for second head: \n",
            " [[0.8 0.6 0.7 0.6]\n",
            " [0.7 0.5 0.7 0.5]\n",
            " [0.2 0.3 0.8 0.8]\n",
            " [0.5 0.1 0.2 0.3]\n",
            " [0.7 0.4 1.  0.6]\n",
            " [0.5 0.2 1.  0.6]\n",
            " [0.1 1.  0.7 0.3]\n",
            " [1.  0.6 0.8 0.3]\n",
            " [0.2 0.8 0.1 0.2]\n",
            " [0.3 0.1 0.7 0.3]\n",
            " [0.7 0.6 0.4 0.3]\n",
            " [0.8 0.3 0.8 0.5]] \n",
            "\n",
            "Query weights for third head: \n",
            " [[0.3 0.  0.3 0.1]\n",
            " [0.2 0.  0.5 0.9]\n",
            " [1.  0.8 1.  0. ]\n",
            " [0.7 0.6 0.4 0.2]\n",
            " [0.1 0.5 0.3 0.1]\n",
            " [0.6 1.  0.2 0.1]\n",
            " [0.1 0.7 0.2 0.4]\n",
            " [0.2 0.2 0.1 0.7]\n",
            " [0.5 0.2 0.9 1. ]\n",
            " [0.6 1.  0.5 0.9]\n",
            " [0.4 0.3 0.7 0.5]\n",
            " [0.2 0.8 0.6 0.7]]\n"
          ]
        }
      ]
    },
    {
      "cell_type": "markdown",
      "source": [
        "Atlernative approach for handling query weights in MHSA mechanism\n",
        "<br>\n",
        "Suppose instead of declaring three separate query weight matrices, we had declared one. i.e. a single $d\\ x\\ d$ matrix. We're concatenating our per-head query weights here instead of declaring a new set of weights so that we get the same results."
      ],
      "metadata": {
        "id": "Sl0bql2WGf7q"
      }
    },
    {
      "cell_type": "code",
      "source": [
        "# concatenates query weight matrices for each attention head\n",
        "wq = np.concatenate((wq0, wq1, wq2), axis=1)\n",
        "# print shape & the combined query matrix\n",
        "print(f\"Single query weight matrix {wq.shape}: \\n\", wq)"
      ],
      "metadata": {
        "colab": {
          "base_uri": "https://localhost:8080/"
        },
        "id": "KAwgoW_HohSf",
        "outputId": "c4ede07a-1abd-4322-c2e2-94a37561fcff"
      },
      "execution_count": null,
      "outputs": [
        {
          "output_type": "stream",
          "name": "stdout",
          "text": [
            "Single query weight matrix (12, 12): \n",
            " [[0.6 0.9 0.5 0.2 0.8 0.6 0.7 0.6 0.3 0.  0.3 0.1]\n",
            " [0.1 0.6 0.1 0.9 0.7 0.5 0.7 0.5 0.2 0.  0.5 0.9]\n",
            " [0.3 0.9 0.3 0.6 0.2 0.3 0.8 0.8 1.  0.8 1.  0. ]\n",
            " [0.9 0.2 0.  0.5 0.5 0.1 0.2 0.3 0.7 0.6 0.4 0.2]\n",
            " [0.3 0.7 0.7 0.5 0.7 0.4 1.  0.6 0.1 0.5 0.3 0.1]\n",
            " [0.6 0.2 0.1 0.9 0.5 0.2 1.  0.6 0.6 1.  0.2 0.1]\n",
            " [0.6 0.3 0.2 0.5 0.1 1.  0.7 0.3 0.1 0.7 0.2 0.4]\n",
            " [0.6 0.4 0.1 0.3 1.  0.6 0.8 0.3 0.2 0.2 0.1 0.7]\n",
            " [0.8 1.  0.8 0.9 0.2 0.8 0.1 0.2 0.5 0.2 0.9 1. ]\n",
            " [0.5 0.4 0.5 0.5 0.3 0.1 0.7 0.3 0.6 1.  0.5 0.9]\n",
            " [1.  0.5 1.  0.5 0.7 0.6 0.4 0.3 0.4 0.3 0.7 0.5]\n",
            " [0.9 0.8 0.5 0.9 0.8 0.3 0.8 0.5 0.2 0.8 0.6 0.7]]\n"
          ]
        }
      ]
    },
    {
      "cell_type": "markdown",
      "source": [
        "In the same way, pretend we declared a single key weight matrix, and single value weight matrix."
      ],
      "metadata": {
        "id": "_0YxDChrG3N8"
      }
    },
    {
      "cell_type": "code",
      "source": [
        "# similary, concatenating/combining the key and value weight matrices for all 3 attention heads\n",
        "wk = np.concatenate((wk0, wk1, wk2), axis=1)\n",
        "wv = np.concatenate((wv0, wv1, wv2), axis=1)\n",
        "\n",
        "print(f\"Single key weight matrix {wk.shape}:\\n\", wk, \"\\n\")\n",
        "print(f\"Single value weight matrix {wv.shape}:\\n\", wv)\n",
        "\n",
        "# this approach consolidates the parameters for keys, values & queries, potentially reducing the models parameter count"
      ],
      "metadata": {
        "colab": {
          "base_uri": "https://localhost:8080/"
        },
        "id": "_n3h1FXKohUw",
        "outputId": "97b08b4a-ccd3-4999-fef5-4c5b6835bbb5"
      },
      "execution_count": null,
      "outputs": [
        {
          "output_type": "stream",
          "name": "stdout",
          "text": [
            "Single key weight matrix (12, 12):\n",
            " [[0.7 0.9 0.9 0.2 0.2 0.2 0.1 0.1 0.6 0.6 0.1 0.7]\n",
            " [0.5 0.4 0.7 1.  0.1 1.  0.4 0.2 0.3 0.5 0.2 0. ]\n",
            " [0.2 0.3 0.4 0.9 0.7 0.8 0.9 0.6 0.  0.  1.  0.8]\n",
            " [0.3 0.4 0.5 0.3 0.4 0.2 0.3 0.1 0.9 0.9 0.4 0.6]\n",
            " [0.6 0.7 0.  0.6 0.  0.2 0.2 0.8 0.2 0.7 0.8 0.1]\n",
            " [0.4 0.1 0.9 0.7 0.6 0.5 0.5 0.6 0.7 0.2 0.5 0.5]\n",
            " [1.  1.  0.6 0.6 0.5 0.8 0.7 0.5 1.  0.1 0.3 0.8]\n",
            " [0.7 1.  0.3 0.2 0.2 0.3 0.2 0.4 0.2 0.8 0.7 1. ]\n",
            " [0.3 0.3 0.6 0.1 0.7 0.7 0.7 0.8 0.8 0.5 0.1 0.4]\n",
            " [0.7 0.8 0.6 0.8 0.4 0.3 0.1 0.3 0.3 0.7 0.1 0. ]\n",
            " [0.8 0.8 0.9 0.5 0.1 0.  0.4 0.8 0.3 0.8 0.6 0.2]\n",
            " [0.9 0.2 0.1 0.9 0.2 0.2 0.3 0.4 0.8 0.5 0.9 0.2]] \n",
            "\n",
            "Single value weight matrix (12, 12):\n",
            " [[0.6 0.1 0.6 0.8 0.6 0.2 0.5 0.6 0.2 1.  0.9 0.7]\n",
            " [0.4 0.7 0.7 0.2 1.  0.  1.  0.1 0.8 0.  0.4 0.4]\n",
            " [0.4 0.9 0.4 0.1 0.  0.7 0.1 0.5 0.3 0.6 0.7 0.7]\n",
            " [0.3 0.8 0.1 0.1 0.6 0.3 0.8 0.6 0.6 1.  0.7 0.4]\n",
            " [0.8 0.3 0.3 1.  0.6 0.9 0.5 0.4 0.6 0.7 0.9 0. ]\n",
            " [0.1 0.2 0.1 0.6 0.2 1.  0.7 0.1 0.9 0.2 0.1 0.3]\n",
            " [0.6 0.1 0.5 0.6 0.3 0.2 0.9 0.9 0.1 0.5 0.4 0.8]\n",
            " [0.4 0.5 0.  0.5 0.8 0.  0.  0.2 0.8 0.  0.6 0.9]\n",
            " [0.9 0.6 0.7 0.3 0.1 1.  0.8 0.6 0.6 0.2 0.3 0.4]\n",
            " [0.1 0.8 0.2 0.5 0.6 0.7 0.2 0.8 0.9 0.9 0.2 0. ]\n",
            " [0.7 0.8 0.7 0.7 0.6 0.9 0.3 0.2 0.2 0.8 0.2 0.9]\n",
            " [0.6 0.6 0.3 0.3 0.4 0.  0.3 0.6 0.8 0.2 0.1 0.3]]\n"
          ]
        }
      ]
    },
    {
      "cell_type": "markdown",
      "source": [
        "Now we can calculate all our *queries*, *keys*, and *values* with three dot products."
      ],
      "metadata": {
        "id": "3Q3hNFG0HCVD"
      }
    },
    {
      "cell_type": "code",
      "source": [
        "# computing the queries, keys and value matrices using the concatenated/combined weight matrices for all attention heads\n",
        "\n",
        "# by perfoming dot product between input data / 3-D matrix/tensor 'x' and concatenated matrices\n",
        "q_s = np.dot(x, wq)\n",
        "k_s = np.dot(x, wk)\n",
        "v_s = np.dot(x, wv)"
      ],
      "metadata": {
        "id": "aCgPoRqbohWp"
      },
      "execution_count": null,
      "outputs": []
    },
    {
      "cell_type": "markdown",
      "source": [
        "These are our resulting query vectors (we'll call them \"combined queries\"). How do we simulate different heads with this?"
      ],
      "metadata": {
        "id": "fF2ZMSYiHN_H"
      }
    },
    {
      "cell_type": "code",
      "source": [
        "# print shape & the computed query vector\n",
        "print(f\"Query vectors using a single weight matrix {q_s.shape}:\\n\", q_s)"
      ],
      "metadata": {
        "colab": {
          "base_uri": "https://localhost:8080/"
        },
        "id": "2kETkb6eohY7",
        "outputId": "9760d464-6509-41db-9f9c-50ec37b20207"
      },
      "execution_count": null,
      "outputs": [
        {
          "output_type": "stream",
          "name": "stdout",
          "text": [
            "Query vectors using a single weight matrix (1, 3, 12):\n",
            " [[[3.64 3.03 2.27 3.63 2.5  2.59 3.23 2.28 2.38 3.05 2.78 2.32]\n",
            "  [3.03 2.92 2.39 3.14 2.39 2.16 3.01 2.07 2.33 2.78 2.68 2.64]\n",
            "  [2.27 2.41 1.78 2.38 2.12 1.97 2.81 1.79 1.65 2.11 2.02 2.33]]]\n"
          ]
        }
      ]
    },
    {
      "cell_type": "markdown",
      "source": [
        "Somehow, we need to separate these vectors such they're treated like three separate sets by the self-attention operation."
      ],
      "metadata": {
        "id": "LaTPR4uFHX7g"
      }
    },
    {
      "cell_type": "code",
      "source": [
        "# queries for each attention head generated earlier\n",
        "print(q0, \"\\n\")\n",
        "print(q1, \"\\n\")\n",
        "print(q2)"
      ],
      "metadata": {
        "colab": {
          "base_uri": "https://localhost:8080/"
        },
        "id": "4S4XoWFMohbE",
        "outputId": "3a40d290-d85e-4ee6-a4e0-7c879123df47"
      },
      "execution_count": null,
      "outputs": [
        {
          "output_type": "stream",
          "name": "stdout",
          "text": [
            "[[[3.64 3.03 2.27 3.63]\n",
            "  [3.03 2.92 2.39 3.14]\n",
            "  [2.27 2.41 1.78 2.38]]] \n",
            "\n",
            "[[[2.5  2.59 3.23 2.28]\n",
            "  [2.39 2.16 3.01 2.07]\n",
            "  [2.12 1.97 2.81 1.79]]] \n",
            "\n",
            "[[[2.38 3.05 2.78 2.32]\n",
            "  [2.33 2.78 2.68 2.64]\n",
            "  [1.65 2.11 2.02 2.33]]]\n"
          ]
        }
      ]
    },
    {
      "cell_type": "markdown",
      "source": [
        "Notice how each set of per-head queries looks like we took the combined queries, and chopped them vertically every four dimensions.\n",
        "<br><br>\n",
        "We can split our combined queries into $\\text{d}\\ \\text{x}\\ \\text{d/h}$ heads using **reshape** and **transpose**.<br><br>\n",
        "The first step is to *reshape* our combined queries from a shape of:<br>\n",
        "(batch_size, seq_len, embed_dim)<br>\n",
        "\n",
        "into a shape of<br>\n",
        " (batch_size, seq_len, num_heads, head_dim).\n",
        " <br>"
      ],
      "metadata": {
        "id": "68LGEmSaHhpB"
      }
    },
    {
      "cell_type": "markdown",
      "source": [
        "In context of MHSA, 'reshaping' is done to organize combined queries, values & keys into different attention heads"
      ],
      "metadata": {
        "id": "txJQp6AtEZv9"
      }
    },
    {
      "cell_type": "code",
      "source": [
        "# reshaping the combined queries generated from a single weight matrix\n",
        "# reshaping done by tf.reshape\n",
        "# Note: we can achieve the same thing by passing -1 instead of seq_len.\n",
        "\n",
        "# reshapes from (batch_size, seq_len, embed_dim) to (batch_size, seq_len, num_heads, head_dim)\n",
        "q_s_reshaped = tf.reshape(q_s, (batch_size, seq_len, num_heads, head_dim))\n",
        "# print the shape & original combined query matrix\n",
        "print(f\"Combined queries: {q_s.shape}\\n\", q_s, \"\\n\")\n",
        "# print the shape & combined query matrix after reshaping\n",
        "print(f\"Reshaped into separate heads: {q_s_reshaped.shape}\\n\", q_s_reshaped)"
      ],
      "metadata": {
        "colab": {
          "base_uri": "https://localhost:8080/"
        },
        "id": "E2RBFGgbohg3",
        "outputId": "5a826c12-aa38-4d61-e145-67f1fc2aa48d"
      },
      "execution_count": null,
      "outputs": [
        {
          "output_type": "stream",
          "name": "stdout",
          "text": [
            "Combined queries: (1, 3, 12)\n",
            " [[[3.64 3.03 2.27 3.63 2.5  2.59 3.23 2.28 2.38 3.05 2.78 2.32]\n",
            "  [3.03 2.92 2.39 3.14 2.39 2.16 3.01 2.07 2.33 2.78 2.68 2.64]\n",
            "  [2.27 2.41 1.78 2.38 2.12 1.97 2.81 1.79 1.65 2.11 2.02 2.33]]] \n",
            "\n",
            "Reshaped into separate heads: (1, 3, 3, 4)\n",
            " tf.Tensor(\n",
            "[[[[3.64 3.03 2.27 3.63]\n",
            "   [2.5  2.59 3.23 2.28]\n",
            "   [2.38 3.05 2.78 2.32]]\n",
            "\n",
            "  [[3.03 2.92 2.39 3.14]\n",
            "   [2.39 2.16 3.01 2.07]\n",
            "   [2.33 2.78 2.68 2.64]]\n",
            "\n",
            "  [[2.27 2.41 1.78 2.38]\n",
            "   [2.12 1.97 2.81 1.79]\n",
            "   [1.65 2.11 2.02 2.33]]]], shape=(1, 3, 3, 4), dtype=float64)\n"
          ]
        }
      ]
    },
    {
      "cell_type": "markdown",
      "source": [
        "At this point, we have our desired shape. The next step is to *transpose* it such that simulates vertically chopping our combined queries. By transposing, our matrix dimensions become:<br>\n",
        "(batch_size, num_heads, seq_len, head_dim)<br>"
      ],
      "metadata": {
        "id": "O-rUWI_xIs-b"
      }
    },
    {
      "cell_type": "markdown",
      "source": [
        "Transposition simulates the separation of heads, making it easier to perform subsequent operations on each head independently"
      ],
      "metadata": {
        "id": "HhxAXXiZF8C5"
      }
    },
    {
      "cell_type": "code",
      "source": [
        "# transposes the reshaped queries, swapping dimensions to simulate vertical chopping\n",
        "# perm parameter specifies the new order of dimensions. here, swaps the second & third dimensions, simulating the vertical chopping\n",
        "# .numpy to convert it to a numpy array\n",
        "q_s_transposed = tf.transpose(q_s_reshaped, perm=[0, 2, 1, 3]).numpy()\n",
        "\n",
        "# print shape & the transposed query matrix\n",
        "# transposed matrix has the dimensions (batch_size, num_heads, seq_len, head_dim)\n",
        "print(f\"Queries transposed into \\\"separate\\\" heads {q_s_transposed.shape}:\\n\",\n",
        "      q_s_transposed)\n",
        "\n",
        "# transposition simulates"
      ],
      "metadata": {
        "colab": {
          "base_uri": "https://localhost:8080/"
        },
        "id": "esFaEqtUohjB",
        "outputId": "a391975f-c572-43da-db0a-d32d025cca5c"
      },
      "execution_count": null,
      "outputs": [
        {
          "output_type": "stream",
          "name": "stdout",
          "text": [
            "Queries transposed into \"separate\" heads (1, 3, 3, 4):\n",
            " [[[[3.64 3.03 2.27 3.63]\n",
            "   [3.03 2.92 2.39 3.14]\n",
            "   [2.27 2.41 1.78 2.38]]\n",
            "\n",
            "  [[2.5  2.59 3.23 2.28]\n",
            "   [2.39 2.16 3.01 2.07]\n",
            "   [2.12 1.97 2.81 1.79]]\n",
            "\n",
            "  [[2.38 3.05 2.78 2.32]\n",
            "   [2.33 2.78 2.68 2.64]\n",
            "   [1.65 2.11 2.02 2.33]]]]\n"
          ]
        }
      ]
    },
    {
      "cell_type": "markdown",
      "source": [
        "This reshaping and transposition process aligns with the requirements of the attention mechanism, allowing for efficient and parallelized computation of attention scores for each head in the multi-head self-attention model."
      ],
      "metadata": {
        "id": "Cb0aG480GNie"
      }
    },
    {
      "cell_type": "markdown",
      "source": [
        "If we compare this against the separate per-head queries we calculated previously, we see the same result except we now have all our queries in a single matrix."
      ],
      "metadata": {
        "id": "0PAwfympI0fd"
      }
    },
    {
      "cell_type": "code",
      "source": [
        "print(\"The separate per-head query matrices from before: \")\n",
        "print(q0, \"\\n\")\n",
        "print(q1, \"\\n\")\n",
        "print(q2)"
      ],
      "metadata": {
        "colab": {
          "base_uri": "https://localhost:8080/"
        },
        "id": "AwYmVhWCohmM",
        "outputId": "b0b30e77-e15a-4707-e17f-6343430cd477"
      },
      "execution_count": null,
      "outputs": [
        {
          "output_type": "stream",
          "name": "stdout",
          "text": [
            "The separate per-head query matrices from before: \n",
            "[[[3.64 3.03 2.27 3.63]\n",
            "  [3.03 2.92 2.39 3.14]\n",
            "  [2.27 2.41 1.78 2.38]]] \n",
            "\n",
            "[[[2.5  2.59 3.23 2.28]\n",
            "  [2.39 2.16 3.01 2.07]\n",
            "  [2.12 1.97 2.81 1.79]]] \n",
            "\n",
            "[[[2.38 3.05 2.78 2.32]\n",
            "  [2.33 2.78 2.68 2.64]\n",
            "  [1.65 2.11 2.02 2.33]]]\n"
          ]
        }
      ]
    },
    {
      "cell_type": "markdown",
      "source": [
        "Let's do the exact same thing with our combined keys and values."
      ],
      "metadata": {
        "id": "z6j5J8GuJAsg"
      }
    },
    {
      "cell_type": "code",
      "source": [
        "# similarly, transposing & reshaping combined keys & values into separate heads\n",
        "k_s_transposed = tf.transpose(tf.reshape(k_s, (batch_size, -1, num_heads, head_dim)), perm=[0, 2, 1, 3]).numpy()\n",
        "v_s_transposed = tf.transpose(tf.reshape(v_s, (batch_size, -1, num_heads, head_dim)), perm=[0, 2, 1, 3]).numpy()\n",
        "\n",
        "print(f\"Keys for all heads in a single matrix {k_s.shape}: \\n\", k_s_transposed, \"\\n\")\n",
        "print(f\"Values for all heads in a single matrix {v_s.shape}: \\n\", v_s_transposed)\n",
        "\n",
        "# now, the keys & values also are organised into separate heads making it easier to perform independent processing on each head"
      ],
      "metadata": {
        "colab": {
          "base_uri": "https://localhost:8080/"
        },
        "id": "HuqeeSG3ohqp",
        "outputId": "0c9557d4-85b0-4be5-947e-11f1182f9810"
      },
      "execution_count": null,
      "outputs": [
        {
          "output_type": "stream",
          "name": "stdout",
          "text": [
            "Keys for all heads in a single matrix (1, 3, 12): \n",
            " [[[[2.94 2.45 2.98 2.86]\n",
            "   [2.75 2.99 2.66 2.81]\n",
            "   [2.73 2.81 2.53 2.65]]\n",
            "\n",
            "  [[2.27 2.42 2.67 2.98]\n",
            "   [1.84 2.2  2.   2.61]\n",
            "   [1.34 1.96 1.52 1.74]]\n",
            "\n",
            "  [[3.25 2.4  2.73 2.53]\n",
            "   [2.57 3.11 2.1  1.72]\n",
            "   [1.93 2.21 1.54 1.52]]]] \n",
            "\n",
            "Values for all heads in a single matrix (1, 3, 12): \n",
            " [[[[2.81 2.74 2.09 2.37]\n",
            "   [2.63 3.11 2.   2.49]\n",
            "   [1.91 2.33 1.83 2.07]]\n",
            "\n",
            "  [[1.85 3.25 3.   2.43]\n",
            "   [2.55 3.33 2.92 2.68]\n",
            "   [2.29 1.91 2.1  2.19]]\n",
            "\n",
            "  [[2.9  2.37 2.   2.67]\n",
            "   [3.11 3.19 2.53 1.83]\n",
            "   [2.32 2.4  1.82 1.95]]]]\n"
          ]
        }
      ]
    },
    {
      "cell_type": "markdown",
      "source": [
        "Set up this way, we can now calculate the outputs from all attention heads with a single call to our self-attention operation."
      ],
      "metadata": {
        "id": "refKJrxkJL_t"
      }
    },
    {
      "cell_type": "code",
      "source": [
        "# the scaled dot product attention applied to the transposed & reshaped queries, keys & values matrices for all attention heads\n",
        "# returns (weighted sum, attention weights)\n",
        "all_heads_output, all_attn_weights = scaled_dot_product_attention(q_s_transposed,\n",
        "                                                                  k_s_transposed,\n",
        "                                                                  v_s_transposed)\n",
        "print(\"Self attention output:\\n\", all_heads_output)"
      ],
      "metadata": {
        "colab": {
          "base_uri": "https://localhost:8080/"
        },
        "id": "EPO3DXw_pxYq",
        "outputId": "55b672b2-c51a-416c-f88e-3c724acef645"
      },
      "execution_count": null,
      "outputs": [
        {
          "output_type": "stream",
          "name": "stdout",
          "text": [
            "Self attention output:\n",
            " tf.Tensor(\n",
            "[[[[2.5630581 2.811575  2.0031862 2.3609886]\n",
            "   [2.5548687 2.8076713 2.000835  2.3581898]\n",
            "   [2.5285792 2.793128  1.9934561 2.3484044]]\n",
            "\n",
            "  [[1.9145195 3.249133  2.9875898 2.4506888]\n",
            "   [1.9267039 3.2466416 2.9838235 2.4539309]\n",
            "   [1.9422966 3.2419016 2.9780555 2.4576366]]\n",
            "\n",
            "  [[2.9323678 2.5136867 2.0913677 2.5176127]\n",
            "   [2.927381  2.493968  2.078644  2.5378861]\n",
            "   [2.9293537 2.5305955 2.0998046 2.4916778]]]], shape=(1, 3, 3, 4), dtype=float32)\n"
          ]
        }
      ]
    },
    {
      "cell_type": "markdown",
      "source": [
        "As a sanity check, we can compare this against the outputs from individual heads we calculated earlier:"
      ],
      "metadata": {
        "id": "-Vel-unTJW61"
      }
    },
    {
      "cell_type": "code",
      "source": [
        "# printing the previously computed output weighted sum of each attention head computed earlier\n",
        "print(\"Per head outputs from using separate sets of weights per head:\")\n",
        "print(out0, \"\\n\")\n",
        "print(out1, \"\\n\")\n",
        "print(out2)"
      ],
      "metadata": {
        "colab": {
          "base_uri": "https://localhost:8080/"
        },
        "id": "5DQkOrwypxbS",
        "outputId": "c143113c-75e8-47bf-d3f2-0c33f11c0bd5"
      },
      "execution_count": null,
      "outputs": [
        {
          "output_type": "stream",
          "name": "stdout",
          "text": [
            "Per head outputs from using separate sets of weights per head:\n",
            "tf.Tensor(\n",
            "[[[2.5630581 2.8115747 2.0031862 2.3609881]\n",
            "  [2.5548687 2.8076713 2.000835  2.3581898]\n",
            "  [2.5285792 2.793128  1.9934561 2.3484044]]], shape=(1, 3, 4), dtype=float32) \n",
            "\n",
            "tf.Tensor(\n",
            "[[[1.9145194 3.2491329 2.9875898 2.4506886]\n",
            "  [1.9267038 3.2466412 2.9838233 2.4539309]\n",
            "  [1.9422966 3.2419016 2.9780555 2.4576366]]], shape=(1, 3, 4), dtype=float32) \n",
            "\n",
            "tf.Tensor(\n",
            "[[[2.9323678 2.5136867 2.0913677 2.5176127]\n",
            "  [2.927381  2.493968  2.078644  2.5378861]\n",
            "  [2.9293537 2.5305955 2.0998046 2.4916778]]], shape=(1, 3, 4), dtype=float32)\n"
          ]
        }
      ]
    },
    {
      "cell_type": "markdown",
      "source": [
        "To get the final concatenated result, we need to reverse our **reshape** and **transpose** operation, starting with the **transpose** this time."
      ],
      "metadata": {
        "id": "GppPjvsMJeGs"
      }
    },
    {
      "cell_type": "code",
      "source": [
        "# reversing the transpose & reshape operations bringing output back to the original shape\n",
        "combined_out_b = tf.reshape(tf.transpose(all_heads_output, perm=[0, 2, 1, 3]),\n",
        "                            shape=(batch_size, seq_len, embed_dim))\n",
        "print(\"Final output from using single query, key, value matrices:\\n\",\n",
        "      combined_out_b, \"\\n\")\n",
        "print(\"Final output from using separate query, key, value matrices per head:\\n\",\n",
        "      combined_out_a)"
      ],
      "metadata": {
        "colab": {
          "base_uri": "https://localhost:8080/"
        },
        "id": "_3wl-ZJapxds",
        "outputId": "e5f67e00-9335-4fe6-df5e-651ad5199ae3"
      },
      "execution_count": null,
      "outputs": [
        {
          "output_type": "stream",
          "name": "stdout",
          "text": [
            "Final output from using single query, key, value matrices:\n",
            " tf.Tensor(\n",
            "[[[2.5630581 2.811575  2.0031862 2.3609886 1.9145195 3.249133  2.9875898\n",
            "   2.4506888 2.9323678 2.5136867 2.0913677 2.5176127]\n",
            "  [2.5548687 2.8076713 2.000835  2.3581898 1.9267039 3.2466416 2.9838235\n",
            "   2.4539309 2.927381  2.493968  2.078644  2.5378861]\n",
            "  [2.5285792 2.793128  1.9934561 2.3484044 1.9422966 3.2419016 2.9780555\n",
            "   2.4576366 2.9293537 2.5305955 2.0998046 2.4916778]]], shape=(1, 3, 12), dtype=float32) \n",
            "\n",
            "Final output from using separate query, key, value matrices per head:\n",
            " [[[2.5630581 2.8115747 2.0031862 2.3609881 1.9145194 3.2491329 2.9875898\n",
            "   2.4506886 2.9323678 2.5136867 2.0913677 2.5176127]\n",
            "  [2.5548687 2.8076713 2.000835  2.3581898 1.9267038 3.2466412 2.9838233\n",
            "   2.4539309 2.927381  2.493968  2.078644  2.5378861]\n",
            "  [2.5285792 2.793128  1.9934561 2.3484044 1.9422966 3.2419016 2.9780555\n",
            "   2.4576366 2.9293537 2.5305955 2.0998046 2.4916778]]]\n"
          ]
        }
      ]
    },
    {
      "cell_type": "markdown",
      "source": [
        "We can encapsulate everything we just covered in a class."
      ],
      "metadata": {
        "id": "WOaxVQMjJmpx"
      }
    },
    {
      "cell_type": "code",
      "source": [
        "# this code defines a custom Keras layer for MHSA mechanism in Tensorflow\n",
        "class MultiHeadSelfAttention(tf.keras.layers.Layer):\n",
        "  def __init__(self, d_model, num_heads):\n",
        "    super(MultiHeadSelfAttention, self).__init__()\n",
        "    self.d_model = d_model\n",
        "    self.num_heads = num_heads\n",
        "\n",
        "    self.d_head = self.d_model // self.num_heads\n",
        "\n",
        "    self.wq = tf.keras.layers.Dense(self.d_model)\n",
        "    self.wk = tf.keras.layers.Dense(self.d_model)\n",
        "    self.wv = tf.keras.layers.Dense(self.d_model)\n",
        "\n",
        "    # Linear layer to generate the final output.\n",
        "    self.dense = tf.keras.layers.Dense(self.d_model)\n",
        "\n",
        "  def split_heads(self, x):\n",
        "    batch_size = x.shape[0]\n",
        "\n",
        "    split_inputs = tf.reshape(x, (batch_size, -1, self.num_heads, self.d_head))\n",
        "    return tf.transpose(split_inputs, perm=[0, 2, 1, 3])\n",
        "\n",
        "  def merge_heads(self, x):\n",
        "    batch_size = x.shape[0]\n",
        "\n",
        "    merged_inputs = tf.transpose(x, perm=[0, 2, 1, 3])\n",
        "    return tf.reshape(merged_inputs, (batch_size, -1, self.d_model))\n",
        "\n",
        "  def call(self, q, k, v, mask):\n",
        "    qs = self.wq(q)\n",
        "    ks = self.wk(k)\n",
        "    vs = self.wv(v)\n",
        "\n",
        "    qs = self.split_heads(qs)\n",
        "    ks = self.split_heads(ks)\n",
        "    vs = self.split_heads(vs)\n",
        "\n",
        "    output, attn_weights = scaled_dot_product_attention(qs, ks, vs, mask)\n",
        "    output = self.merge_heads(output)\n",
        "\n",
        "    return self.dense(output), attn_weights\n"
      ],
      "metadata": {
        "id": "56DRY1Q2pxft"
      },
      "execution_count": null,
      "outputs": []
    },
    {
      "cell_type": "code",
      "source": [
        "# created object of MHSA class/layer\n",
        "# embedding dimension of 12 & 3 attention heads\n",
        "mhsa = MultiHeadSelfAttention(12, 3)\n",
        "\n",
        "# apply mhsa to the input tensors 'x' and no mask applied\n",
        "output, attn_weights = mhsa(x, x, x, None)\n",
        "print(f\"MHSA output{output.shape}:\")\n",
        "print(output)"
      ],
      "metadata": {
        "colab": {
          "base_uri": "https://localhost:8080/"
        },
        "id": "SENbE9Xzpxhm",
        "outputId": "38f82804-6367-4a58-affb-9739b24ca106"
      },
      "execution_count": null,
      "outputs": [
        {
          "output_type": "stream",
          "name": "stdout",
          "text": [
            "MHSA output(1, 3, 12):\n",
            "tf.Tensor(\n",
            "[[[-0.6346668  -0.20335697 -0.0600321  -0.3117067   0.38744643\n",
            "   -0.1365797   0.23443128 -0.06778473 -0.05833702  0.03529059\n",
            "    0.28844693  0.26457527]\n",
            "  [-0.6898172  -0.20055974 -0.05509949 -0.3106577   0.39296415\n",
            "   -0.13288456  0.2341844  -0.06222748 -0.04691401 -0.00130416\n",
            "    0.29595008  0.2405275 ]\n",
            "  [-0.66887033 -0.20923251 -0.05644313 -0.30885214  0.40852058\n",
            "   -0.1331484   0.23667027 -0.07828202 -0.06305532  0.00413021\n",
            "    0.29170236  0.25428864]]], shape=(1, 3, 12), dtype=float32)\n"
          ]
        }
      ]
    },
    {
      "cell_type": "markdown",
      "source": [
        "## Encoder Block"
      ],
      "metadata": {
        "id": "szSUKsXKJuFw"
      }
    },
    {
      "cell_type": "markdown",
      "source": [
        "We now build our **Encoder Block**. In addition to the **Multi-Head Self Attention** layer, the **Encoder Block** also has **skip connections**, **layer normalization steps**, and a **two-layer feed-forward neural network**.\n",
        "<div>\n",
        "<img src=\"https://drive.google.com/uc?export=view&id=1D8sLDyQMqqhCjHWOn-I7rZKHugWxFyLy\" width=\"500\"/>\n",
        "</div>"
      ],
      "metadata": {
        "id": "7R47L0TKJybR"
      }
    },
    {
      "cell_type": "markdown",
      "source": [
        "The EncoderBlock consists of two main components:\n",
        "- a multi-head self-attention (MHSA) layer &\n",
        "- a feed-forward network (FFN).\n",
        "The purpose of each component is to capture different aspects of the input sequence's information."
      ],
      "metadata": {
        "id": "lHqx5_v5Jsjo"
      }
    },
    {
      "cell_type": "markdown",
      "source": [
        "The **MultiHeadSelfAttention layer** is responsible for capturing relationships and dependencies between different positions in the input sequence. It achieves this by allowing the model to attend to different parts of the input simultaneously through multiple attention heads."
      ],
      "metadata": {
        "id": "Xjf5Dr4AJ0oA"
      }
    },
    {
      "cell_type": "markdown",
      "source": [
        "The **FFN**, consisting of dense layers with rectified linear unit (ReLU) activation, further refines the information obtained from the MHSA layer. Both layers are augmented with dropout for regularization and layer normalization for stabilizing training."
      ],
      "metadata": {
        "id": "-rnQ-qO_J2Am"
      }
    },
    {
      "cell_type": "markdown",
      "source": [
        "**Layer Normalization** is applied after both the MHSA and FFN sub-layers to stabilize the training process and mitigate the vanishing/exploding gradient problem."
      ],
      "metadata": {
        "id": "K5IYRSoLJ4yz"
      }
    },
    {
      "cell_type": "markdown",
      "source": [
        "**Dropout** is used during training to prevent overfitting by randomly setting a fraction of input units to zero."
      ],
      "metadata": {
        "id": "L0DalZtqJ7pi"
      }
    },
    {
      "cell_type": "markdown",
      "source": [
        "Since a two-layer feed forward neural network is used in multiple places in the transformer, here's a function which creates and returns one."
      ],
      "metadata": {
        "id": "zyIDDrTzJ9_x"
      }
    },
    {
      "cell_type": "code",
      "source": [
        "# creating a two layer Feed Forward Neural Network\n",
        "# returns a tf.keras.sequential model with 2 dense layers\n",
        "def feed_forward_network(d_model, hidden_dim):\n",
        "  return tf.keras.Sequential([\n",
        "      # creates first layers with hidden_dim units & ReLu activation function\n",
        "      tf.keras.layers.Dense(hidden_dim, activation='relu'),\n",
        "      # creates second layer with d_model units\n",
        "      tf.keras.layers.Dense(d_model)\n",
        "  ])"
      ],
      "metadata": {
        "id": "UV75wjnFpxjf"
      },
      "execution_count": null,
      "outputs": []
    },
    {
      "cell_type": "markdown",
      "source": [
        "This is our encoder block containing all the layers and steps from the preceding illustration (plus dropout)."
      ],
      "metadata": {
        "id": "CQMZ0nbjKVo4"
      }
    },
    {
      "cell_type": "code",
      "source": [
        "# encoderBlock class that encapsulates the essential components of a transformer encoder block\n",
        "class EncoderBlock(tf.keras.layers.Layer):\n",
        "  def __init__(self, d_model, num_heads, hidden_dim, dropout_rate=0.1):\n",
        "    super(EncoderBlock, self).__init__()\n",
        "\n",
        "    self.mhsa = MultiHeadSelfAttention(d_model, num_heads)\n",
        "    self.ffn = feed_forward_network(d_model, hidden_dim)\n",
        "\n",
        "    self.dropout1 = tf.keras.layers.Dropout(dropout_rate)\n",
        "    self.dropout2 = tf.keras.layers.Dropout(dropout_rate)\n",
        "\n",
        "    self.layernorm1 = tf.keras.layers.LayerNormalization()\n",
        "    self.layernorm2 = tf.keras.layers.LayerNormalization()\n",
        "\n",
        "  def call(self, x, training, mask):\n",
        "    mhsa_output, attn_weights = self.mhsa(x, x, x, mask)\n",
        "    mhsa_output = self.dropout1(mhsa_output, training=training)\n",
        "    mhsa_output = self.layernorm1(x + mhsa_output)\n",
        "\n",
        "    ffn_output = self.ffn(mhsa_output)\n",
        "    ffn_output = self.dropout2(ffn_output, training=training)\n",
        "    output = self.layernorm2(mhsa_output + ffn_output)\n",
        "\n",
        "    return output, attn_weights\n"
      ],
      "metadata": {
        "id": "CrXTvAzepxrt"
      },
      "execution_count": null,
      "outputs": []
    },
    {
      "cell_type": "markdown",
      "source": [
        "Suppose we have an embedding dimension of 12, and we want 3 attention heads and a feed forward network with a hidden dimension of 48 (4x the embedding dimension). We would declare and use a single encoder block like so:"
      ],
      "metadata": {
        "id": "lfHea1zeKnk6"
      }
    },
    {
      "cell_type": "code",
      "source": [
        "# created object of EncodeBlock class and applied it to input tensor 'x'\n",
        "# embedding dimension = 12, attention heads = 3, hidden dimension of 48\n",
        "encoder_block = EncoderBlock(12, 3, 48)\n",
        "\n",
        "block_output,  _ = encoder_block(x, True, None)\n",
        "# print the shape & content of output tensor obtained from encoder block\n",
        "print(f\"Output from single encoder block {block_output.shape}:\")\n",
        "print(block_output)"
      ],
      "metadata": {
        "colab": {
          "base_uri": "https://localhost:8080/"
        },
        "id": "73MSyU9Bpxte",
        "outputId": "0ffda02b-6f26-418b-8db9-5f3c439f9077"
      },
      "execution_count": null,
      "outputs": [
        {
          "output_type": "stream",
          "name": "stdout",
          "text": [
            "Output from single encoder block (1, 3, 12):\n",
            "tf.Tensor(\n",
            "[[[-1.2493317   0.38759702  1.2440519  -1.1951112  -0.07183307\n",
            "    1.6845403  -0.90902734 -0.951247    1.2313206  -0.77939856\n",
            "   -0.15463588  0.7630747 ]\n",
            "  [-1.7343774   0.52169913  0.9838319  -0.4355791   1.1070977\n",
            "    0.6072371  -1.1848614  -1.1338309   1.2120467   1.1051723\n",
            "   -0.4019577  -0.646478  ]\n",
            "  [-1.6065238   1.2915235   1.4564214   0.01678242  0.490191\n",
            "    0.8838099  -1.1751978  -1.472565    0.6701128   0.37640637\n",
            "   -0.35256594 -0.5783942 ]]], shape=(1, 3, 12), dtype=float32)\n"
          ]
        }
      ]
    },
    {
      "cell_type": "markdown",
      "source": [
        "## Word and Positional Embeddings"
      ],
      "metadata": {
        "id": "slvD3SYwLPQ9"
      }
    },
    {
      "cell_type": "markdown",
      "source": [
        "Let's now deal with the actual input to the **initial** encoder block. The inputs are going to be *positional word embeddings*. That is, word embeddings with some positional information added to them.\n",
        "<br>\n",
        "\n",
        "Let's start with **subword** tokenization. For demonstration, we'll use a subword tokenizer called **BPEmb**. It uses **Byte-Pair Encoding** and supports over two hundred languages."
      ],
      "metadata": {
        "id": "us59xjIxLSqT"
      }
    },
    {
      "cell_type": "code",
      "source": [
        "# Load the BPEmb tokenizer for English language.\n",
        "bpemb_en = BPEmb(lang=\"en\")"
      ],
      "metadata": {
        "colab": {
          "base_uri": "https://localhost:8080/"
        },
        "id": "u96zgTjdpxvm",
        "outputId": "6e25ee41-e6e7-4687-888e-a7dbc11846f2"
      },
      "execution_count": null,
      "outputs": [
        {
          "output_type": "stream",
          "name": "stdout",
          "text": [
            "downloading https://nlp.h-its.org/bpemb/en/en.wiki.bpe.vs10000.model\n"
          ]
        },
        {
          "output_type": "stream",
          "name": "stderr",
          "text": [
            "100%|██████████| 400869/400869 [00:00<00:00, 1031209.49B/s]\n"
          ]
        },
        {
          "output_type": "stream",
          "name": "stdout",
          "text": [
            "downloading https://nlp.h-its.org/bpemb/en/en.wiki.bpe.vs10000.d100.w2v.bin.tar.gz\n"
          ]
        },
        {
          "output_type": "stream",
          "name": "stderr",
          "text": [
            "100%|██████████| 3784656/3784656 [00:00<00:00, 5263302.01B/s]\n"
          ]
        }
      ]
    },
    {
      "cell_type": "markdown",
      "source": [
        "The library comes with embeddings for a number of words."
      ],
      "metadata": {
        "id": "GrgndXAKLe4I"
      }
    },
    {
      "cell_type": "markdown",
      "source": [
        "BPEmb capable of breaking down words into subword units"
      ],
      "metadata": {
        "id": "ToARxCeXMUAg"
      }
    },
    {
      "cell_type": "code",
      "source": [
        "# exploring the vocabulary size & embedding size of BPEmb for English\n",
        "bpemb_vocab_size, bpemb_embed_size = bpemb_en.vectors.shape\n",
        "\n",
        "# print the vocabulary size which is the number of unique subword tokens in BPEmb vocabulary\n",
        "print(\"Vocabulary size:\", bpemb_vocab_size)\n",
        "# Print the embedding size which is the dimensionality of embedding for each subword token\n",
        "print(\"Embedding size:\", bpemb_embed_size)"
      ],
      "metadata": {
        "colab": {
          "base_uri": "https://localhost:8080/"
        },
        "id": "mzY1zCJepxxw",
        "outputId": "b4406f1a-229a-4460-9402-04b5a801f0a0"
      },
      "execution_count": null,
      "outputs": [
        {
          "output_type": "stream",
          "name": "stdout",
          "text": [
            "Vocabulary size: 10000\n",
            "Embedding size: 100\n"
          ]
        }
      ]
    },
    {
      "cell_type": "code",
      "source": [
        "# Embedding for the word \"car\".\n",
        "# find index of car in bpemb vocabulary, and retrieve the embedding vector\n",
        "bpemb_en.vectors[bpemb_en.words.index('car')]"
      ],
      "metadata": {
        "colab": {
          "base_uri": "https://localhost:8080/"
        },
        "id": "Djj_BJ8Npx0b",
        "outputId": "0114c659-a3ac-415a-b1ed-abec41a96950"
      },
      "execution_count": null,
      "outputs": [
        {
          "output_type": "execute_result",
          "data": {
            "text/plain": [
              "array([-0.305548, -0.325598, -0.134716, -0.078735, -0.660545,  0.076211,\n",
              "       -0.735487,  0.124533, -0.294402,  0.459688,  0.030137,  0.174041,\n",
              "       -0.224223,  0.486189, -0.504649, -0.459699,  0.315747,  0.477885,\n",
              "        0.091398,  0.427867,  0.016524, -0.076833, -0.899727,  0.493158,\n",
              "       -0.022309, -0.422785, -0.154148,  0.204981,  0.379834,  0.070588,\n",
              "        0.196073, -0.368222,  0.473406,  0.007409,  0.004303, -0.007823,\n",
              "       -0.19103 , -0.202509,  0.109878, -0.224521, -0.35741 , -0.611633,\n",
              "        0.329958, -0.212956, -0.497499, -0.393839, -0.130101, -0.216903,\n",
              "       -0.105595, -0.076007, -0.483942, -0.139704, -0.161647,  0.136985,\n",
              "        0.415363, -0.360143,  0.038601, -0.078804, -0.030421,  0.324129,\n",
              "        0.223378, -0.523636, -0.048317, -0.032248, -0.117367,  0.470519,\n",
              "        0.225816, -0.222065, -0.225007, -0.165904, -0.334389, -0.20157 ,\n",
              "        0.572352, -0.268794,  0.301929, -0.005563,  0.387491,  0.261031,\n",
              "       -0.11613 ,  0.074982, -0.008433,  0.259987, -0.099893, -0.268875,\n",
              "       -0.054047, -0.534776, -0.111101, -0.051742,  0.214114,  0.04293 ,\n",
              "        0.039873, -0.453112,  0.087382, -0.333201, -0.034079, -0.833045,\n",
              "        0.155232, -1.132393, -0.294766,  0.327572], dtype=float32)"
            ]
          },
          "metadata": {},
          "execution_count": 35
        }
      ]
    },
    {
      "cell_type": "markdown",
      "source": [
        "These are the subword tokens. **BPEmb** places underscores in front of any tokens which are whole words or intended to begin words.<br>"
      ],
      "metadata": {
        "id": "5y1vc2fgod3a"
      }
    },
    {
      "cell_type": "code",
      "source": [
        "# encoding a sample sentence using BPEmb\n",
        "sample_sentence = \"Where can I find a pizzeria?\"\n",
        "# list of subword tokens representing the encoded sentence\n",
        "tokens = bpemb_en.encode(sample_sentence)\n",
        "print(tokens)"
      ],
      "metadata": {
        "colab": {
          "base_uri": "https://localhost:8080/"
        },
        "id": "nJlJ1N4upx4G",
        "outputId": "831ca349-9606-43e4-e5ef-aeae4a8e78d9"
      },
      "execution_count": null,
      "outputs": [
        {
          "output_type": "stream",
          "name": "stdout",
          "text": [
            "['▁where', '▁can', '▁i', '▁find', '▁a', '▁p', 'iz', 'zer', 'ia', '?']\n"
          ]
        }
      ]
    },
    {
      "cell_type": "markdown",
      "source": [
        "We can retrieve each subword token's respective id using the *encode_ids* method."
      ],
      "metadata": {
        "id": "RtKALM0Roqk3"
      }
    },
    {
      "cell_type": "code",
      "source": [
        "# encoding a sample sentence and obtaining corresponding token sequence as ID's\n",
        "token_seq = np.array(bpemb_en.encode_ids(\"Where can I find a pizzeria?\"))\n",
        "print(token_seq)"
      ],
      "metadata": {
        "colab": {
          "base_uri": "https://localhost:8080/"
        },
        "id": "_XQoxfvhpx8M",
        "outputId": "50c7f5e6-8090-464a-c7f5-3248414bd9d1"
      },
      "execution_count": null,
      "outputs": [
        {
          "output_type": "stream",
          "name": "stdout",
          "text": [
            "[ 571  280  386 1934    4   24  248 4339  177 9967]\n"
          ]
        }
      ]
    },
    {
      "cell_type": "code",
      "source": [
        "# creating token embedding using a TensorFlow 'Embedding' layer based on BPEmb tokenizer vocabulary & embedding dimension\n",
        "\n",
        "# create an embedding layer using TensorFlow's embedding layer\n",
        "token_embed = tf.keras.layers.Embedding(bpemb_vocab_size, embed_dim)\n",
        "# this line applies the embedding layer to token sequence\n",
        "token_embeddings = token_embed(token_seq)\n",
        "\n",
        "# The untrained embeddings for our sample sentence.\n",
        "print(\"Embeddings for: \", sample_sentence)\n",
        "# output is. matrix where each row is embedding vector for a token in sample sentence\n",
        "print(token_embeddings)"
      ],
      "metadata": {
        "colab": {
          "base_uri": "https://localhost:8080/"
        },
        "id": "ifWx_cOcpx9Y",
        "outputId": "80286c74-f6d2-401a-a8ad-23f549454e17"
      },
      "execution_count": null,
      "outputs": [
        {
          "output_type": "stream",
          "name": "stdout",
          "text": [
            "Embeddings for:  Where can I find a pizzeria?\n",
            "tf.Tensor(\n",
            "[[ 0.01877591  0.04493973 -0.04472575  0.04045472  0.04444433 -0.0323297\n",
            "  -0.03919303 -0.01796792  0.02011057  0.04754338 -0.03064116 -0.03071729]\n",
            " [ 0.0373047  -0.00306307  0.03398528  0.04882057 -0.00872584 -0.03383617\n",
            "   0.03007949 -0.04008768 -0.02609296 -0.03657616 -0.02096267  0.02631446]\n",
            " [ 0.035891    0.01560453 -0.01480514 -0.04102575 -0.04684935  0.00101014\n",
            "   0.02703222 -0.00010967  0.00412986  0.04625067 -0.01408564 -0.0260816 ]\n",
            " [-0.02247748 -0.03394116 -0.04476294  0.0323401  -0.01583917 -0.04266869\n",
            "   0.03968633 -0.03752413 -0.04775747  0.0411106  -0.04240204 -0.0010937 ]\n",
            " [ 0.0335531   0.03205225 -0.03083462 -0.00949649  0.0287616   0.02099172\n",
            "  -0.00950741  0.0219879   0.03931971  0.0407032  -0.02818347  0.00056896]\n",
            " [ 0.02590947 -0.02288081 -0.0368258   0.0169645   0.0479197  -0.04399425\n",
            "  -0.0054667   0.00768536 -0.02416285 -0.04107077  0.03266292  0.02446197]\n",
            " [-0.02521857  0.01569629 -0.02068651 -0.01734277 -0.04254147  0.04898479\n",
            "   0.03534395 -0.02024279  0.00272916  0.03627297 -0.04773751 -0.00742611]\n",
            " [ 0.04615739  0.01205809  0.0186802  -0.01897409  0.02773415  0.03724842\n",
            "   0.01786738  0.03390442  0.01878682  0.03494867  0.00721425  0.04199545]\n",
            " [ 0.0029764  -0.03049684  0.02701401  0.04622567 -0.03004825  0.01423445\n",
            "   0.00261862 -0.03864459  0.03013945 -0.04650667 -0.03132442 -0.02444767]\n",
            " [-0.04075248  0.0474198   0.03889385 -0.01973408  0.01960385 -0.03487196\n",
            "   0.00165187 -0.04005814 -0.00456314  0.04493853  0.01716909  0.00090139]], shape=(10, 12), dtype=float32)\n"
          ]
        }
      ]
    },
    {
      "cell_type": "markdown",
      "source": [
        "Next, we need to add *positional* information to each token embedding.\n",
        "\n",
        "Here, we're declaring an embedding layer with rows equalling a maximum sequence length and columns equalling our token embedding size. We then generate a vector of position ids."
      ],
      "metadata": {
        "id": "54xnAldKo19G"
      }
    },
    {
      "cell_type": "code",
      "source": [
        "max_seq_len = 256\n",
        "# creates an embedding layer for Positional Embeddings\n",
        "pos_embed = tf.keras.layers.Embedding(max_seq_len, embed_dim)\n",
        "\n",
        "# Generate ids for each position of the token sequence.\n",
        "pos_idx = tf.range(len(token_seq))\n",
        "\n",
        "# the output will be a tensor containing indices from 0 to the length of the token sequence minus one,\n",
        "# representing the positions of the tokens. These indices will be used as input to the positional embedding layer.\n",
        "print(pos_idx)"
      ],
      "metadata": {
        "colab": {
          "base_uri": "https://localhost:8080/"
        },
        "id": "6gzgSFsCpyBF",
        "outputId": "e97e9101-993a-4cad-aa37-27012b9f2b8c"
      },
      "execution_count": null,
      "outputs": [
        {
          "output_type": "stream",
          "name": "stdout",
          "text": [
            "tf.Tensor([0 1 2 3 4 5 6 7 8 9], shape=(10,), dtype=int32)\n"
          ]
        }
      ]
    },
    {
      "cell_type": "code",
      "source": [
        "# using the Positional Embedding layer to generate positional embeddings for Input sequence\n",
        "# These are our positon embeddings.\n",
        "position_embeddings = pos_embed(pos_idx)\n",
        "print(\"Position embeddings for the input sequence\\n\", position_embeddings)"
      ],
      "metadata": {
        "colab": {
          "base_uri": "https://localhost:8080/"
        },
        "id": "H66hHlX0pyDo",
        "outputId": "c329849f-c3e8-4788-918a-94c78313dd0b"
      },
      "execution_count": null,
      "outputs": [
        {
          "output_type": "stream",
          "name": "stdout",
          "text": [
            "Position embeddings for the input sequence\n",
            " tf.Tensor(\n",
            "[[ 0.01692391  0.02111561  0.02567815 -0.02572535  0.03261575 -0.02261087\n",
            "   0.03835258  0.02535808  0.02789705 -0.00616636 -0.01751785 -0.01163245]\n",
            " [ 0.04502137  0.03964316  0.02471683  0.03327275 -0.01073105  0.0298312\n",
            "  -0.01978792  0.02136698 -0.04949666 -0.03584696 -0.00270611  0.01852706]\n",
            " [-0.04619611 -0.02274891  0.03636912 -0.00894393  0.04542211 -0.00112689\n",
            "   0.00344551 -0.02542012  0.03489855 -0.03418241 -0.01578061 -0.00894616]\n",
            " [ 0.03370149  0.0258478   0.04965815 -0.03589146  0.03665927 -0.0175827\n",
            "  -0.01707397 -0.0061394   0.02230716  0.04044897 -0.03248759  0.02479071]\n",
            " [ 0.04423285  0.04294313  0.03324581 -0.02127866  0.00896497  0.04663224\n",
            "   0.03240566  0.04757052 -0.01249263  0.03798172 -0.02727319  0.03061387]\n",
            " [-0.03438581  0.03343519  0.04715859 -0.01928452 -0.01002663 -0.00015505\n",
            "   0.00237979  0.00665903 -0.01981593  0.01878598  0.04217824 -0.00211834]\n",
            " [ 0.02412728  0.00867995  0.04168347 -0.0312158  -0.0472385   0.04724086\n",
            "   0.03093114 -0.0465358  -0.04530993  0.03606465  0.03575016 -0.04453061]\n",
            " [-0.03563821 -0.00598156 -0.01433735  0.02937484 -0.03885795  0.00700109\n",
            "   0.04405845 -0.0284747  -0.0389756  -0.03753979  0.04688558 -0.03105012]\n",
            " [ 0.03772451 -0.01538563  0.04263656 -0.00947888  0.00355816 -0.0165521\n",
            "  -0.02415088 -0.0483462   0.03934756 -0.0478082  -0.01484827  0.00929064]\n",
            " [ 0.0305911  -0.01960441  0.00184252 -0.04434543 -0.02226428 -0.03614583\n",
            "  -0.04016287  0.04900083 -0.00904772 -0.00016231  0.04840673  0.01307025]], shape=(10, 12), dtype=float32)\n"
          ]
        }
      ]
    },
    {
      "cell_type": "code",
      "source": [
        "# input to the encoder block is Positional Word Embeddings\n",
        "# combining the token embeddings & positional embeddings to create input for the encoder block\n",
        "\n",
        "# token_embeddings -> represents the token embeddings obtained from the BPEmb tokenizer\n",
        "# position_embeddings -> represents the positional embeddings generated based on position of tokens in the sequence\n",
        "input = token_embeddings + position_embeddings\n",
        "print(\"Input to the initial encoder block:\\n\", input)"
      ],
      "metadata": {
        "colab": {
          "base_uri": "https://localhost:8080/"
        },
        "id": "Jbvtq13_pyFt",
        "outputId": "b550cc11-4e42-4e51-88c6-42cf14e9be05"
      },
      "execution_count": null,
      "outputs": [
        {
          "output_type": "stream",
          "name": "stdout",
          "text": [
            "Input to the initial encoder block:\n",
            " tf.Tensor(\n",
            "[[ 0.03569982  0.06605534 -0.01904761  0.01472937  0.07706008 -0.05494057\n",
            "  -0.00084046  0.00739017  0.04800762  0.04137702 -0.04815902 -0.04234974]\n",
            " [ 0.08232607  0.03658009  0.05870211  0.08209331 -0.0194569  -0.00400498\n",
            "   0.01029157 -0.0187207  -0.07558962 -0.07242312 -0.02366878  0.04484153]\n",
            " [-0.01030511 -0.00714438  0.02156398 -0.04996967 -0.00142724 -0.00011674\n",
            "   0.03047773 -0.02552979  0.03902841  0.01206826 -0.02986624 -0.03502776]\n",
            " [ 0.01122401 -0.00809336  0.00489522 -0.00355136  0.0208201  -0.06025139\n",
            "   0.02261237 -0.04366352 -0.02545031  0.08155958 -0.07488963  0.02369701]\n",
            " [ 0.07778595  0.07499538  0.00241119 -0.03077514  0.03772657  0.06762396\n",
            "   0.02289826  0.06955842  0.02682707  0.07868492 -0.05545666  0.03118284]\n",
            " [-0.00847634  0.01055439  0.01033279 -0.00232002  0.03789307 -0.0441493\n",
            "  -0.00308691  0.01434439 -0.04397879 -0.02228479  0.07484116  0.02234364]\n",
            " [-0.00109129  0.02437624  0.02099696 -0.04855857 -0.08977997  0.09622565\n",
            "   0.06627509 -0.06677859 -0.04258077  0.07233762 -0.01198734 -0.05195671]\n",
            " [ 0.01051917  0.00607653  0.00434285  0.01040075 -0.0111238   0.04424951\n",
            "   0.06192583  0.00542972 -0.02018877 -0.00259112  0.05409983  0.01094533]\n",
            " [ 0.0407009  -0.04588246  0.06965057  0.03674679 -0.02649009 -0.00231765\n",
            "  -0.02153226 -0.08699079  0.06948701 -0.09431487 -0.04617269 -0.01515703]\n",
            " [-0.01016138  0.02781539  0.04073637 -0.06407951 -0.00266043 -0.07101779\n",
            "  -0.038511    0.0089427  -0.01361087  0.04477622  0.06557582  0.01397164]], shape=(10, 12), dtype=float32)\n"
          ]
        }
      ]
    },
    {
      "cell_type": "code",
      "source": [
        "# defining a custom Encoder layer/class in Tensorflow\n",
        "class Encoder(tf.keras.layers.Layer):\n",
        "  # constructor sets up the parameters of the encoder\n",
        "  def __init__(self, num_blocks, d_model, num_heads, hidden_dim, src_vocab_size,\n",
        "               max_seq_len, dropout_rate=0.1):\n",
        "    super(Encoder, self).__init__()\n",
        "\n",
        "    self.d_model = d_model\n",
        "    self.max_seq_len = max_seq_len\n",
        "\n",
        "    # creates layers for token_embeddings & positional_embeddings\n",
        "    self.token_embed = tf.keras.layers.Embedding(src_vocab_size, self.d_model)\n",
        "    self.pos_embed = tf.keras.layers.Embedding(max_seq_len, self.d_model)\n",
        "\n",
        "    # The original Attention Is All You Need paper applied dropout to the\n",
        "    # input before feeding it to the first encoder block.\n",
        "    # dropout layer for regularization\n",
        "    self.dropout = tf.keras.layers.Dropout(dropout_rate)\n",
        "\n",
        "    # Create encoder blocks.\n",
        "    self.blocks = [EncoderBlock(self.d_model, num_heads, hidden_dim, dropout_rate)\n",
        "    for _ in range(num_blocks)]\n",
        "\n",
        "  def call(self, input, training, mask):\n",
        "    token_embeds = self.token_embed(input)\n",
        "\n",
        "    # Generate position indices for a batch of input sequences.\n",
        "    num_pos = input.shape[0] * self.max_seq_len\n",
        "    pos_idx = np.resize(np.arange(self.max_seq_len), num_pos)\n",
        "    pos_idx = np.reshape(pos_idx, input.shape)\n",
        "    pos_embeds = self.pos_embed(pos_idx)\n",
        "\n",
        "    x = self.dropout(token_embeds + pos_embeds, training=training)\n",
        "\n",
        "    # Run input through successive encoder blocks.\n",
        "    for block in self.blocks:\n",
        "      x, weights = block(x, training, mask)\n",
        "\n",
        "    # final output is the encoded sequence along with attention weights obtained from encoder block\n",
        "    return x, weights"
      ],
      "metadata": {
        "id": "t7FTmlvrpyIA"
      },
      "execution_count": null,
      "outputs": []
    },
    {
      "cell_type": "code",
      "source": [
        "# Batch of 3 sequences, each of length 10 (10 is also the\n",
        "# maximum sequence length in this case).\n",
        "# generates numpy array with random integers between [0, 1000) and shape (3, 10)\n",
        "seqs = np.random.randint(0, 10000, size=(3, 10))\n",
        "print(seqs.shape)\n",
        "print(seqs)"
      ],
      "metadata": {
        "colab": {
          "base_uri": "https://localhost:8080/"
        },
        "id": "dakqUQScpyKB",
        "outputId": "b4a76185-dc67-43aa-f686-f4144476ec53"
      },
      "execution_count": null,
      "outputs": [
        {
          "output_type": "stream",
          "name": "stdout",
          "text": [
            "(3, 10)\n",
            "[[4785 5502 4180 6805  103 6090 8835 9747 8568 5881]\n",
            " [8243 8291 9846  738 2440 9254 5446 2755 9005 9694]\n",
            " [6090  194  389 7308 8451 1121  800 1025  459 2237]]\n"
          ]
        }
      ]
    },
    {
      "cell_type": "code",
      "source": [
        "# generating positional indices for a batch of sequences\n",
        "# pos_ids -> 1 dimensional array containing positional indices for all positions\n",
        "pos_ids = np.resize(np.arange(seqs.shape[1]), seqs.shape[0] * seqs.shape[1])\n",
        "print(pos_ids)"
      ],
      "metadata": {
        "colab": {
          "base_uri": "https://localhost:8080/"
        },
        "id": "h18xCoI8pyMK",
        "outputId": "d103e4a0-f89b-4cc4-affa-1e08112f5331"
      },
      "execution_count": null,
      "outputs": [
        {
          "output_type": "stream",
          "name": "stdout",
          "text": [
            "[0 1 2 3 4 5 6 7 8 9 0 1 2 3 4 5 6 7 8 9 0 1 2 3 4 5 6 7 8 9]\n"
          ]
        }
      ]
    },
    {
      "cell_type": "code",
      "source": [
        "# reshaping the previosuly generated positional indices array into 2-d array to match the shape of batch sequence generated earlier\n",
        "pos_ids = np.reshape(pos_ids, (3, 10))\n",
        "print(pos_ids.shape)\n",
        "print(pos_ids)"
      ],
      "metadata": {
        "colab": {
          "base_uri": "https://localhost:8080/"
        },
        "id": "tGYKxQNHrCWW",
        "outputId": "2e4a9a75-1016-4a9b-f954-3f4900aa8fdd"
      },
      "execution_count": null,
      "outputs": [
        {
          "output_type": "stream",
          "name": "stdout",
          "text": [
            "(3, 10)\n",
            "[[0 1 2 3 4 5 6 7 8 9]\n",
            " [0 1 2 3 4 5 6 7 8 9]\n",
            " [0 1 2 3 4 5 6 7 8 9]]\n"
          ]
        }
      ]
    },
    {
      "cell_type": "code",
      "source": [
        "# obtaining the positional embeddings using pos_embed layer defined earlier\n",
        "pos_embed(pos_ids)"
      ],
      "metadata": {
        "colab": {
          "base_uri": "https://localhost:8080/"
        },
        "id": "uV5MnufmrCYf",
        "outputId": "6860c5b0-5c97-4f0c-b11a-9f4e926121dd"
      },
      "execution_count": null,
      "outputs": [
        {
          "output_type": "execute_result",
          "data": {
            "text/plain": [
              "<tf.Tensor: shape=(3, 10, 12), dtype=float32, numpy=\n",
              "array([[[ 0.01692391,  0.02111561,  0.02567815, -0.02572535,\n",
              "          0.03261575, -0.02261087,  0.03835258,  0.02535808,\n",
              "          0.02789705, -0.00616636, -0.01751785, -0.01163245],\n",
              "        [ 0.04502137,  0.03964316,  0.02471683,  0.03327275,\n",
              "         -0.01073105,  0.0298312 , -0.01978792,  0.02136698,\n",
              "         -0.04949666, -0.03584696, -0.00270611,  0.01852706],\n",
              "        [-0.04619611, -0.02274891,  0.03636912, -0.00894393,\n",
              "          0.04542211, -0.00112689,  0.00344551, -0.02542012,\n",
              "          0.03489855, -0.03418241, -0.01578061, -0.00894616],\n",
              "        [ 0.03370149,  0.0258478 ,  0.04965815, -0.03589146,\n",
              "          0.03665927, -0.0175827 , -0.01707397, -0.0061394 ,\n",
              "          0.02230716,  0.04044897, -0.03248759,  0.02479071],\n",
              "        [ 0.04423285,  0.04294313,  0.03324581, -0.02127866,\n",
              "          0.00896497,  0.04663224,  0.03240566,  0.04757052,\n",
              "         -0.01249263,  0.03798172, -0.02727319,  0.03061387],\n",
              "        [-0.03438581,  0.03343519,  0.04715859, -0.01928452,\n",
              "         -0.01002663, -0.00015505,  0.00237979,  0.00665903,\n",
              "         -0.01981593,  0.01878598,  0.04217824, -0.00211834],\n",
              "        [ 0.02412728,  0.00867995,  0.04168347, -0.0312158 ,\n",
              "         -0.0472385 ,  0.04724086,  0.03093114, -0.0465358 ,\n",
              "         -0.04530993,  0.03606465,  0.03575016, -0.04453061],\n",
              "        [-0.03563821, -0.00598156, -0.01433735,  0.02937484,\n",
              "         -0.03885795,  0.00700109,  0.04405845, -0.0284747 ,\n",
              "         -0.0389756 , -0.03753979,  0.04688558, -0.03105012],\n",
              "        [ 0.03772451, -0.01538563,  0.04263656, -0.00947888,\n",
              "          0.00355816, -0.0165521 , -0.02415088, -0.0483462 ,\n",
              "          0.03934756, -0.0478082 , -0.01484827,  0.00929064],\n",
              "        [ 0.0305911 , -0.01960441,  0.00184252, -0.04434543,\n",
              "         -0.02226428, -0.03614583, -0.04016287,  0.04900083,\n",
              "         -0.00904772, -0.00016231,  0.04840673,  0.01307025]],\n",
              "\n",
              "       [[ 0.01692391,  0.02111561,  0.02567815, -0.02572535,\n",
              "          0.03261575, -0.02261087,  0.03835258,  0.02535808,\n",
              "          0.02789705, -0.00616636, -0.01751785, -0.01163245],\n",
              "        [ 0.04502137,  0.03964316,  0.02471683,  0.03327275,\n",
              "         -0.01073105,  0.0298312 , -0.01978792,  0.02136698,\n",
              "         -0.04949666, -0.03584696, -0.00270611,  0.01852706],\n",
              "        [-0.04619611, -0.02274891,  0.03636912, -0.00894393,\n",
              "          0.04542211, -0.00112689,  0.00344551, -0.02542012,\n",
              "          0.03489855, -0.03418241, -0.01578061, -0.00894616],\n",
              "        [ 0.03370149,  0.0258478 ,  0.04965815, -0.03589146,\n",
              "          0.03665927, -0.0175827 , -0.01707397, -0.0061394 ,\n",
              "          0.02230716,  0.04044897, -0.03248759,  0.02479071],\n",
              "        [ 0.04423285,  0.04294313,  0.03324581, -0.02127866,\n",
              "          0.00896497,  0.04663224,  0.03240566,  0.04757052,\n",
              "         -0.01249263,  0.03798172, -0.02727319,  0.03061387],\n",
              "        [-0.03438581,  0.03343519,  0.04715859, -0.01928452,\n",
              "         -0.01002663, -0.00015505,  0.00237979,  0.00665903,\n",
              "         -0.01981593,  0.01878598,  0.04217824, -0.00211834],\n",
              "        [ 0.02412728,  0.00867995,  0.04168347, -0.0312158 ,\n",
              "         -0.0472385 ,  0.04724086,  0.03093114, -0.0465358 ,\n",
              "         -0.04530993,  0.03606465,  0.03575016, -0.04453061],\n",
              "        [-0.03563821, -0.00598156, -0.01433735,  0.02937484,\n",
              "         -0.03885795,  0.00700109,  0.04405845, -0.0284747 ,\n",
              "         -0.0389756 , -0.03753979,  0.04688558, -0.03105012],\n",
              "        [ 0.03772451, -0.01538563,  0.04263656, -0.00947888,\n",
              "          0.00355816, -0.0165521 , -0.02415088, -0.0483462 ,\n",
              "          0.03934756, -0.0478082 , -0.01484827,  0.00929064],\n",
              "        [ 0.0305911 , -0.01960441,  0.00184252, -0.04434543,\n",
              "         -0.02226428, -0.03614583, -0.04016287,  0.04900083,\n",
              "         -0.00904772, -0.00016231,  0.04840673,  0.01307025]],\n",
              "\n",
              "       [[ 0.01692391,  0.02111561,  0.02567815, -0.02572535,\n",
              "          0.03261575, -0.02261087,  0.03835258,  0.02535808,\n",
              "          0.02789705, -0.00616636, -0.01751785, -0.01163245],\n",
              "        [ 0.04502137,  0.03964316,  0.02471683,  0.03327275,\n",
              "         -0.01073105,  0.0298312 , -0.01978792,  0.02136698,\n",
              "         -0.04949666, -0.03584696, -0.00270611,  0.01852706],\n",
              "        [-0.04619611, -0.02274891,  0.03636912, -0.00894393,\n",
              "          0.04542211, -0.00112689,  0.00344551, -0.02542012,\n",
              "          0.03489855, -0.03418241, -0.01578061, -0.00894616],\n",
              "        [ 0.03370149,  0.0258478 ,  0.04965815, -0.03589146,\n",
              "          0.03665927, -0.0175827 , -0.01707397, -0.0061394 ,\n",
              "          0.02230716,  0.04044897, -0.03248759,  0.02479071],\n",
              "        [ 0.04423285,  0.04294313,  0.03324581, -0.02127866,\n",
              "          0.00896497,  0.04663224,  0.03240566,  0.04757052,\n",
              "         -0.01249263,  0.03798172, -0.02727319,  0.03061387],\n",
              "        [-0.03438581,  0.03343519,  0.04715859, -0.01928452,\n",
              "         -0.01002663, -0.00015505,  0.00237979,  0.00665903,\n",
              "         -0.01981593,  0.01878598,  0.04217824, -0.00211834],\n",
              "        [ 0.02412728,  0.00867995,  0.04168347, -0.0312158 ,\n",
              "         -0.0472385 ,  0.04724086,  0.03093114, -0.0465358 ,\n",
              "         -0.04530993,  0.03606465,  0.03575016, -0.04453061],\n",
              "        [-0.03563821, -0.00598156, -0.01433735,  0.02937484,\n",
              "         -0.03885795,  0.00700109,  0.04405845, -0.0284747 ,\n",
              "         -0.0389756 , -0.03753979,  0.04688558, -0.03105012],\n",
              "        [ 0.03772451, -0.01538563,  0.04263656, -0.00947888,\n",
              "          0.00355816, -0.0165521 , -0.02415088, -0.0483462 ,\n",
              "          0.03934756, -0.0478082 , -0.01484827,  0.00929064],\n",
              "        [ 0.0305911 , -0.01960441,  0.00184252, -0.04434543,\n",
              "         -0.02226428, -0.03614583, -0.04016287,  0.04900083,\n",
              "         -0.00904772, -0.00016231,  0.04840673,  0.01307025]]],\n",
              "      dtype=float32)>"
            ]
          },
          "metadata": {},
          "execution_count": 46
        }
      ]
    },
    {
      "cell_type": "code",
      "source": [
        "# using the BPEmb tokenizer to encode a batch of input sequences\n",
        "# list of 3 sentences\n",
        "input_batch = [\n",
        "    \"Where can I find a pizzeria?\",\n",
        "    \"Mass hysteria over listeria.\",\n",
        "    \"I ain't no circle back girl.\"\n",
        "]\n",
        "\n",
        "# encoding the input batch\n",
        "bpemb_en.encode(input_batch)\n",
        "\n",
        "# output will be a list of lists where each list contains subword tokens for each word in a sentence"
      ],
      "metadata": {
        "colab": {
          "base_uri": "https://localhost:8080/"
        },
        "id": "mrgxCiQurCb0",
        "outputId": "f58aafa6-87c9-49cf-b146-49662fd9d949"
      },
      "execution_count": null,
      "outputs": [
        {
          "output_type": "execute_result",
          "data": {
            "text/plain": [
              "[['▁where', '▁can', '▁i', '▁find', '▁a', '▁p', 'iz', 'zer', 'ia', '?'],\n",
              " ['▁mass', '▁hy', 'ster', 'ia', '▁over', '▁l', 'ister', 'ia', '.'],\n",
              " ['▁i', '▁a', 'in', \"'\", 't', '▁no', '▁circle', '▁back', '▁girl', '.']]"
            ]
          },
          "metadata": {},
          "execution_count": 47
        }
      ]
    },
    {
      "cell_type": "code",
      "source": [
        "# converting the tokenized subword sequences into their corresponding numerical ID's\n",
        "# convert each subword token into its corresponding numerical ID\n",
        "input_seqs = bpemb_en.encode_ids(input_batch)\n",
        "print(\"Vectorized inputs:\")\n",
        "input_seqs"
      ],
      "metadata": {
        "colab": {
          "base_uri": "https://localhost:8080/"
        },
        "id": "n2QbFIHJrCd8",
        "outputId": "7dc60df3-aee9-4810-8b77-5410094739c9"
      },
      "execution_count": null,
      "outputs": [
        {
          "output_type": "stream",
          "name": "stdout",
          "text": [
            "Vectorized inputs:\n"
          ]
        },
        {
          "output_type": "execute_result",
          "data": {
            "text/plain": [
              "[[571, 280, 386, 1934, 4, 24, 248, 4339, 177, 9967],\n",
              " [1535, 1354, 1238, 177, 380, 43, 871, 177, 9935],\n",
              " [386, 4, 6, 9937, 9915, 467, 5410, 810, 3692, 9935]]"
            ]
          },
          "metadata": {},
          "execution_count": 48
        }
      ]
    },
    {
      "cell_type": "code",
      "source": [
        "# padding the input sequences to ensure all sequences have the same length\n",
        "# padding using the post padding strategy, which means padding added at the end of each sequence\n",
        "padded_input_seqs = tf.keras.preprocessing.sequence.pad_sequences(input_seqs, padding=\"post\")\n",
        "print(\"Input to the encoder:\")\n",
        "print(padded_input_seqs.shape)\n",
        "print(padded_input_seqs)"
      ],
      "metadata": {
        "colab": {
          "base_uri": "https://localhost:8080/"
        },
        "id": "SPxwzQpLrCgL",
        "outputId": "f62a341f-172e-4f20-fed4-c9b692b8e458"
      },
      "execution_count": null,
      "outputs": [
        {
          "output_type": "stream",
          "name": "stdout",
          "text": [
            "Input to the encoder:\n",
            "(3, 10)\n",
            "[[ 571  280  386 1934    4   24  248 4339  177 9967]\n",
            " [1535 1354 1238  177  380   43  871  177 9935    0]\n",
            " [ 386    4    6 9937 9915  467 5410  810 3692 9935]]\n"
          ]
        }
      ]
    },
    {
      "cell_type": "code",
      "source": [
        "# create an encoder mask based on the input padded sequences to identify positions of padding\n",
        "# to mask out the padding positions during self-attention calculations, ensuring attention not given to padded locations\n",
        "enc_mask = tf.cast(tf.math.not_equal(padded_input_seqs, 0), tf.float32)\n",
        "print(\"Input:\")\n",
        "print(padded_input_seqs, '\\n')\n",
        "print(\"Encoder mask:\")\n",
        "print(enc_mask)"
      ],
      "metadata": {
        "colab": {
          "base_uri": "https://localhost:8080/"
        },
        "id": "ztmMPGRYrCkp",
        "outputId": "fa9b8dbb-1acc-4125-b5a0-e295dcd739d5"
      },
      "execution_count": null,
      "outputs": [
        {
          "output_type": "stream",
          "name": "stdout",
          "text": [
            "Input:\n",
            "[[ 571  280  386 1934    4   24  248 4339  177 9967]\n",
            " [1535 1354 1238  177  380   43  871  177 9935    0]\n",
            " [ 386    4    6 9937 9915  467 5410  810 3692 9935]] \n",
            "\n",
            "Encoder mask:\n",
            "tf.Tensor(\n",
            "[[1. 1. 1. 1. 1. 1. 1. 1. 1. 1.]\n",
            " [1. 1. 1. 1. 1. 1. 1. 1. 1. 0.]\n",
            " [1. 1. 1. 1. 1. 1. 1. 1. 1. 1.]], shape=(3, 10), dtype=float32)\n"
          ]
        }
      ]
    },
    {
      "cell_type": "markdown",
      "source": [
        "Modified the shape of the encoder mask by adding 2 new dimensions"
      ],
      "metadata": {
        "id": "EQoAROiczYMz"
      }
    },
    {
      "cell_type": "code",
      "source": [
        "enc_mask = enc_mask[:, tf.newaxis, tf.newaxis, :]\n",
        "enc_mask"
      ],
      "metadata": {
        "colab": {
          "base_uri": "https://localhost:8080/"
        },
        "id": "xdob3QVFrCm3",
        "outputId": "b8fee283-f837-4c95-fa26-4f3789fb6735"
      },
      "execution_count": null,
      "outputs": [
        {
          "output_type": "execute_result",
          "data": {
            "text/plain": [
              "<tf.Tensor: shape=(3, 1, 1, 10), dtype=float32, numpy=\n",
              "array([[[[1., 1., 1., 1., 1., 1., 1., 1., 1., 1.]]],\n",
              "\n",
              "\n",
              "       [[[1., 1., 1., 1., 1., 1., 1., 1., 1., 0.]]],\n",
              "\n",
              "\n",
              "       [[[1., 1., 1., 1., 1., 1., 1., 1., 1., 1.]]]], dtype=float32)>"
            ]
          },
          "metadata": {},
          "execution_count": 51
        }
      ]
    },
    {
      "cell_type": "markdown",
      "source": [
        "Now we can declare an encoder and pass it batches of vectorized sequences."
      ],
      "metadata": {
        "id": "6tVAnNyhzGro"
      }
    },
    {
      "cell_type": "code",
      "source": [
        "num_encoder_blocks = 6\n",
        "\n",
        "# d_model is the embedding dimension used throughout.\n",
        "d_model = 12\n",
        "\n",
        "num_heads = 3\n",
        "\n",
        "# Feed-forward network hidden dimension width.\n",
        "ffn_hidden_dim = 48\n",
        "\n",
        "src_vocab_size = bpemb_vocab_size\n",
        "max_input_seq_len = padded_input_seqs.shape[1]\n",
        "\n",
        "encoder = Encoder(\n",
        "    num_encoder_blocks,\n",
        "    d_model,\n",
        "    num_heads,\n",
        "    ffn_hidden_dim,\n",
        "    src_vocab_size,\n",
        "    max_input_seq_len)"
      ],
      "metadata": {
        "id": "MIU3yC-urCpR"
      },
      "execution_count": null,
      "outputs": []
    },
    {
      "cell_type": "markdown",
      "source": [
        "We can now pass our input sequences and mask to the encoder."
      ],
      "metadata": {
        "id": "RUbvdaOWzD2I"
      }
    },
    {
      "cell_type": "code",
      "source": [
        "encoder_output, attn_weights = encoder(padded_input_seqs, training=True,\n",
        "                                       mask=enc_mask)\n",
        "print(f\"Encoder output {encoder_output.shape}:\")\n",
        "print(encoder_output)"
      ],
      "metadata": {
        "colab": {
          "base_uri": "https://localhost:8080/"
        },
        "id": "Z_TV9lXXrCry",
        "outputId": "225c25d2-94fd-493e-b3ee-1ada6e5c8167"
      },
      "execution_count": null,
      "outputs": [
        {
          "output_type": "stream",
          "name": "stdout",
          "text": [
            "Encoder output (3, 10, 12):\n",
            "tf.Tensor(\n",
            "[[[-2.3759533e-01 -4.4916460e-01  1.2013686e+00  9.4879550e-01\n",
            "    2.7466428e-01 -8.3624005e-01 -1.7535932e+00 -1.2246120e+00\n",
            "    1.7781190e+00 -2.4413000e-01  8.5013664e-01 -3.0774871e-01]\n",
            "  [-1.6646397e+00 -1.4885356e+00  3.5631502e-01  3.7099501e-01\n",
            "    5.3556651e-02 -7.2502893e-01 -3.3900288e-01  5.2388734e-01\n",
            "    3.7181333e-01 -6.3117099e-01  1.9444393e+00  1.2273716e+00]\n",
            "  [-4.2721343e-01 -9.0052187e-01 -7.9527390e-01  5.6468016e-01\n",
            "   -8.4052050e-01 -1.2944179e+00 -1.3726142e-01 -4.3816757e-01\n",
            "    1.4405066e+00  5.5188495e-01  2.2530291e+00  2.3276091e-02]\n",
            "  [-4.0218192e-03 -7.9066235e-01 -1.4767843e+00  1.6126964e+00\n",
            "   -8.5676950e-01 -9.3014961e-01 -3.7211123e-01  3.3925787e-02\n",
            "    1.1385206e+00 -6.9193947e-01  1.5803269e+00  7.5696856e-01]\n",
            "  [ 2.0184344e-01  8.2230069e-02 -1.6016852e+00  1.3001662e+00\n",
            "   -1.6414717e+00 -1.4324750e+00  3.7385365e-01 -2.1546854e-01\n",
            "    3.3927709e-01  4.7003084e-01  1.3491774e+00  7.7452147e-01]\n",
            "  [-1.0927792e+00 -8.0340630e-01 -3.4061530e-01  2.8371435e-01\n",
            "   -2.1954881e-01 -1.2792944e+00 -3.5068074e-01 -4.5883191e-01\n",
            "    1.8702782e+00  6.1738234e-02  2.0934696e+00  2.3595628e-01]\n",
            "  [-3.0175209e-01 -7.9716647e-01  8.9560419e-01 -2.6265973e-01\n",
            "    8.4401315e-01 -8.2316697e-01 -1.0235101e+00 -1.3199279e+00\n",
            "    2.3735785e+00 -4.2886075e-01  5.6275964e-01  2.8108871e-01]\n",
            "  [-8.3919257e-01 -1.3624276e+00  6.3371325e-01  4.7255971e-02\n",
            "   -1.6719201e+00 -2.2142079e-01  3.0466539e-01  4.0661535e-01\n",
            "    5.5149257e-01 -9.0915507e-01  1.2910411e+00  1.7693326e+00]\n",
            "  [-6.1582202e-01 -1.6578411e+00 -4.6859184e-01  1.2920258e+00\n",
            "    5.3820771e-01 -3.6403412e-01 -1.5003517e+00  7.1190959e-01\n",
            "    9.1271341e-01 -9.0581250e-01  9.1526109e-01  1.1423358e+00]\n",
            "  [-6.8278778e-01 -1.0965041e+00 -1.8490723e+00 -4.2303973e-01\n",
            "   -2.4469587e-01  1.3089094e-01 -2.3201844e-01  4.6676435e-02\n",
            "    1.3426237e+00  6.7624933e-01  2.0638182e+00  2.6785931e-01]]\n",
            "\n",
            " [[-1.1484709e+00 -6.7945784e-01 -5.9254307e-01  5.3229696e-01\n",
            "   -1.0179658e-01 -6.9791579e-01 -6.3031167e-01 -1.5607409e-01\n",
            "    1.8383460e+00 -6.1773467e-01  2.2123897e+00  4.1271877e-02]\n",
            "  [-8.6408710e-01 -9.9171907e-01  1.6798835e-02  7.3188879e-02\n",
            "    1.3541894e-01 -4.2063731e-01  6.9116497e-01 -6.1193866e-01\n",
            "    1.5063219e+00 -1.3854793e+00  2.2110033e+00 -3.6003533e-01]\n",
            "  [-1.2850384e+00 -6.9920450e-01 -2.5758323e-01  8.2417941e-01\n",
            "   -9.1512746e-01 -9.2731029e-01 -2.8589889e-01 -5.7028896e-01\n",
            "    1.1567172e+00  1.1804407e+00  2.0490854e+00 -2.6997045e-01]\n",
            "  [-4.0449163e-01 -1.1817665e+00 -3.3372918e-01  3.4906718e-01\n",
            "   -8.9292669e-01 -5.2835655e-01 -8.3326465e-01 -6.7195570e-01\n",
            "    1.2554054e+00  7.3908931e-01  2.4182642e+00  8.4665500e-02]\n",
            "  [-1.0695277e+00  1.5802760e-01  2.2435483e-01  1.3226487e-01\n",
            "   -8.0546618e-01 -1.9081777e+00  6.4339292e-01 -1.0845920e+00\n",
            "    1.1456705e+00  9.1828328e-01  1.6477041e+00 -1.9336524e-03]\n",
            "  [-1.3064243e+00 -1.4142318e-01 -4.9359828e-01  4.2335087e-01\n",
            "   -8.5004312e-01 -1.6994491e+00  6.9194180e-01  1.4202720e-01\n",
            "    1.4993629e+00  4.0265089e-01  1.7697418e+00 -4.3813729e-01]\n",
            "  [-1.9684111e-01 -1.4830050e-01 -4.5251799e-01 -1.0280650e+00\n",
            "   -1.0806401e+00 -6.5733218e-01 -2.4937643e-01 -1.0759814e+00\n",
            "    1.7430524e+00  1.2217758e+00  1.8182931e+00  1.0593341e-01]\n",
            "  [ 3.4861151e-02 -1.3041012e+00 -9.8508096e-01  1.5941021e+00\n",
            "    1.2072719e+00  9.5405376e-01 -1.2401606e+00 -4.0271569e-02\n",
            "   -8.6766785e-01  9.2963201e-01  6.3686121e-01 -9.1950011e-01]\n",
            "  [-1.2146901e+00 -1.0141842e+00  3.3824065e-01 -1.6145068e-01\n",
            "    4.4698369e-02 -1.1374637e+00 -1.5668188e-01 -5.2385706e-01\n",
            "    1.8734862e+00  2.5681290e-01  2.0183980e+00 -3.2330865e-01]\n",
            "  [-1.6547631e+00 -1.5746832e+00  4.3338141e-01  2.0133704e-01\n",
            "    9.5309407e-01 -3.5483184e-01  1.6406167e-01  8.0194129e-03\n",
            "    7.6096594e-01  2.2039749e-01  1.9216672e+00 -1.0786462e+00]]\n",
            "\n",
            " [[-2.1654305e+00 -8.9295584e-01  1.6953939e+00  4.2564575e-02\n",
            "    1.6738527e+00 -4.7787660e-01 -1.5705778e-01  3.2024798e-01\n",
            "   -7.8196637e-02  5.6551808e-01 -2.9902652e-01 -2.2703312e-01]\n",
            "  [-1.5757282e+00 -1.3801404e+00  3.4587690e-01  1.3367950e+00\n",
            "   -2.7184695e-01 -1.0476887e+00 -2.1168038e-01  8.2578784e-01\n",
            "    9.3206739e-01 -9.3455750e-01  7.7639794e-01  1.2047175e+00]\n",
            "  [-2.3287215e+00  3.6398450e-01  5.0333971e-01  1.2689588e+00\n",
            "    1.3586374e-01 -1.1001527e+00 -7.1443951e-01  1.4354142e+00\n",
            "   -4.7495687e-01  7.2796041e-01  1.0049885e-01  8.2250401e-02]\n",
            "  [-2.0056028e+00  1.2921742e-01  1.5713528e-01  7.7272910e-01\n",
            "    1.5069934e+00 -1.3995299e+00 -1.1891346e-01  6.1302942e-01\n",
            "   -1.0346152e+00  9.5109236e-01 -3.5289371e-01  7.8135788e-01]\n",
            "  [-2.1994397e-01 -1.5471531e-01  1.6294663e+00 -4.7683883e-01\n",
            "   -5.7627000e-02  3.3486117e-02  1.2519443e+00  6.4515406e-01\n",
            "   -3.0646744e-01 -1.1746074e+00 -2.1458120e+00  9.7596139e-01]\n",
            "  [-6.0925640e-02 -6.7144662e-01  5.0711358e-01  4.4986299e-01\n",
            "    2.1213009e+00 -1.2529359e+00  3.4093720e-01  2.6187178e-01\n",
            "    5.0520176e-01  6.0276997e-01 -1.0333915e+00 -1.7703584e+00]\n",
            "  [-1.4072936e+00 -6.9784576e-01  8.1515074e-01  5.3033233e-01\n",
            "    1.6853424e+00 -1.5489773e+00 -9.7678441e-01 -6.1598903e-01\n",
            "    4.4039801e-02  1.2373195e+00  6.0107225e-01  3.3363315e-01]\n",
            "  [-3.5724208e-01 -1.2333515e+00  9.2165792e-01  7.1025985e-01\n",
            "    5.0436091e-01 -2.8387937e-01  1.2771345e+00  1.6950113e+00\n",
            "   -1.1371567e+00 -4.5108339e-01 -1.6266903e+00 -1.9021312e-02]\n",
            "  [-2.2240779e+00 -4.7066486e-01  1.7695287e+00 -1.9236732e-01\n",
            "    1.0948282e+00 -4.9449807e-01 -5.5661231e-01  5.5861360e-01\n",
            "    2.6114649e-01 -9.0497786e-01  4.6412295e-01  6.9495857e-01]\n",
            "  [ 1.7645192e-01 -3.0795997e-01  1.2635888e+00  1.0060510e-01\n",
            "    2.2560332e+00 -1.7386571e+00  3.8296565e-01  1.4245127e-01\n",
            "   -2.9111284e-01 -2.6349410e-01 -1.2731797e+00 -4.4769225e-01]]], shape=(3, 10, 12), dtype=float32)\n"
          ]
        }
      ]
    },
    {
      "cell_type": "markdown",
      "source": [
        "## Decoder Block"
      ],
      "metadata": {
        "id": "G97b8zUey7KQ"
      }
    },
    {
      "cell_type": "markdown",
      "source": [
        "Let's build the **Decoder Block**. Everything we did to create the **encoder** block applies here. The major differences are that the **Decoder Block** has:\n",
        "1. a **Multi-Head Cross-Attention** layer which uses the encoder's outputs as the keys and values.\n",
        "\n",
        "2. an extra skip/residual connection along with an extra layer normalization step.\n",
        "\n",
        "<div>\n",
        "<img src=\"https://drive.google.com/uc?export=view&id=1WVT4SX49bnta4uscOTF4xrsxFI4PbPER\" width=\"500\"/>\n",
        "</div>"
      ],
      "metadata": {
        "id": "hTiLZkWXy8ps"
      }
    },
    {
      "cell_type": "markdown",
      "source": [
        "# Major Part - 2"
      ],
      "metadata": {
        "id": "oX69deWd8uLL"
      }
    },
    {
      "cell_type": "code",
      "source": [
        "class DecoderBlock(tf.keras.layers.Layer):\n",
        "  def __init__(self, d_model, num_heads, hidden_dim, dropout_rate=0.1):\n",
        "    super(DecoderBlock, self).__init__()\n",
        "\n",
        "    self.mhsa1 = MultiHeadSelfAttention(d_model, num_heads)\n",
        "    self.mhsa2 = MultiHeadSelfAttention(d_model, num_heads)\n",
        "\n",
        "    self.ffn = feed_forward_network(d_model, hidden_dim)\n",
        "\n",
        "    self.dropout1 = tf.keras.layers.Dropout(dropout_rate)\n",
        "    self.dropout2 = tf.keras.layers.Dropout(dropout_rate)\n",
        "    self.dropout3 = tf.keras.layers.Dropout(dropout_rate)\n",
        "\n",
        "    self.layernorm1 = tf.keras.layers.LayerNormalization()\n",
        "    self.layernorm2 = tf.keras.layers.LayerNormalization()\n",
        "    self.layernorm3 = tf.keras.layers.LayerNormalization()\n",
        "\n",
        "  # Note the decoder block takes two masks. One for the first MHSA, another\n",
        "  # for the second MHSA.\n",
        "  def call(self, encoder_output, target, training, decoder_mask, memory_mask):\n",
        "    mhsa_output1, attn_weights = self.mhsa1(target, target, target, decoder_mask)\n",
        "    mhsa_output1 = self.dropout1(mhsa_output1, training=training)\n",
        "    mhsa_output1 = self.layernorm1(mhsa_output1 + target)\n",
        "\n",
        "    mhsa_output2, attn_weights = self.mhsa2(mhsa_output1, encoder_output,\n",
        "                                            encoder_output,\n",
        "                                            memory_mask)\n",
        "    mhsa_output2 = self.dropout2(mhsa_output2, training=training)\n",
        "    mhsa_output2 = self.layernorm2(mhsa_output2 + mhsa_output1)\n",
        "\n",
        "    ffn_output = self.ffn(mhsa_output2)\n",
        "    ffn_output = self.dropout3(ffn_output, training=training)\n",
        "    output = self.layernorm3(ffn_output + mhsa_output2)\n",
        "\n",
        "    return output, attn_weights\n"
      ],
      "metadata": {
        "id": "OO2oFIz4rCtW"
      },
      "execution_count": null,
      "outputs": []
    },
    {
      "cell_type": "markdown",
      "source": [
        "## Decoder"
      ],
      "metadata": {
        "id": "8UYBZbyh8anc"
      }
    },
    {
      "cell_type": "markdown",
      "source": [
        "The decoder block generates the output sequence, incorporating multi-head self-attention, multi-head cross attention and feed-forward networks. It also interfaces with the encoder output to understand context."
      ],
      "metadata": {
        "id": "RGGdGQZHHHTs"
      }
    },
    {
      "cell_type": "markdown",
      "source": [
        "The decoder is almost the same as the encoder except it takes the encoder's output as part of its input, and it takes two masks: the decoder mask and memory mask."
      ],
      "metadata": {
        "id": "AE44tqOq8nvQ"
      }
    },
    {
      "cell_type": "code",
      "source": [
        "class Decoder(tf.keras.layers.Layer):\n",
        "  def __init__(self, num_blocks, d_model, num_heads, hidden_dim, target_vocab_size,\n",
        "               max_seq_len, dropout_rate=0.1):\n",
        "    super(Decoder, self).__init__()\n",
        "\n",
        "    self.d_model = d_model\n",
        "    self.max_seq_len = max_seq_len\n",
        "\n",
        "    # creates an embedding layer for target vocabulary\n",
        "    self.token_embed = tf.keras.layers.Embedding(target_vocab_size, self.d_model)\n",
        "    # creates another embedding layer for positional encodings\n",
        "    self.pos_embed = tf.keras.layers.Embedding(max_seq_len, self.d_model)\n",
        "    # creates a dropout layer\n",
        "    self.dropout = tf.keras.layers.Dropout(dropout_rate)\n",
        "\n",
        "    # initialises multiple decoder blocks each containing multiple MHSA & FFN\n",
        "    self.blocks = [DecoderBlock(self.d_model, num_heads, hidden_dim, dropout_rate) for _ in range(num_blocks)]\n",
        "\n",
        "  # call method that executes the forward pass\n",
        "  def call(self, encoder_output, target, training, decoder_mask, memory_mask):\n",
        "    token_embeds = self.token_embed(target)\n",
        "\n",
        "    # Generate position indices.\n",
        "    num_pos = target.shape[0] * self.max_seq_len\n",
        "    pos_idx = np.resize(np.arange(self.max_seq_len), num_pos)\n",
        "    pos_idx = np.reshape(pos_idx, target.shape)\n",
        "\n",
        "    pos_embeds = self.pos_embed(pos_idx)\n",
        "\n",
        "    # combines the token embeddings and positional embeddings applies dropout and assigns result to 'x'\n",
        "    x = self.dropout(token_embeds + pos_embeds, training=training)\n",
        "\n",
        "    # starts a loop over all decoder blocks in the blocks list\n",
        "    for block in self.blocks:\n",
        "      x, weights = block(encoder_output, x, training, decoder_mask, memory_mask)\n",
        "\n",
        "    return x, weights"
      ],
      "metadata": {
        "id": "1ic97kXjrt27"
      },
      "execution_count": null,
      "outputs": []
    },
    {
      "cell_type": "markdown",
      "source": [
        "Before we try the decoder, let's cover the masks involved. The decoder takes two masks:\n",
        "\n",
        "The *decoder mask* which is a <u>combination of two masks</u>: one to account for the padding in target sequences, and the look-ahead mask. This mask is used in the decoder's **first** multi-head self-attention layer.\n",
        "\n",
        "The *memory mask* which is used in the decoder's **second** multi-head self-attention. The keys and values for this layer are going to be the encoder's output, and this mask will ensure the decoder doesn't attend to any encoder output which corresponds to padding."
      ],
      "metadata": {
        "id": "SI-6tOBu9ITw"
      }
    },
    {
      "cell_type": "markdown",
      "source": [
        "Decoder Mask: This mask combines two sub-masks:\n",
        "\n",
        "Padding Mask: This mask is used to ignore padding tokens in the input sequences. It marks the padding positions as 0 and the rest as 1, ensuring that the model doesn't attend to padding tokens during self-attention.\n",
        "\n",
        "Look-ahead Mask: This mask ensures that during training, each position can only attend to previous positions. It prevents the model from peeking at future tokens during training, maintaining the autoregressive property of the decoder."
      ],
      "metadata": {
        "id": "mrLd6VKagGWS"
      }
    },
    {
      "cell_type": "markdown",
      "source": [
        "Memory Mask: This mask is used in the second multi-head self-attention layer of the decoder. It ensures that the decoder doesn't attend to padding positions in the encoder's output."
      ],
      "metadata": {
        "id": "9cG5X4bXgClx"
      }
    },
    {
      "cell_type": "markdown",
      "source": [
        "Now, suppose we have a batch of vectorized target input sequences for the decoder. These values are just made up.\n",
        "\n",
        "These sequences are prepared similarly to the input sequences, with each token represented by its index in the target vocabulary. These masks play crucial roles in guiding the attention mechanism and ensuring that the model attends to the right information while decoding."
      ],
      "metadata": {
        "id": "mlJiR1M3g26T"
      }
    },
    {
      "cell_type": "code",
      "source": [
        "# Made up values.\n",
        "target_input_seqs = [\n",
        "    [1, 652, 723, 123, 62],\n",
        "    [1, 25,  98, 129, 248, 215, 359, 249],\n",
        "    [1, 2369, 1259, 125, 486],\n",
        "]\n",
        "# 1 represents the start of sequence token\n",
        "# rest of the integers represent indices of tokens in the target vocabulary"
      ],
      "metadata": {
        "id": "pkHacSP_rt40"
      },
      "execution_count": null,
      "outputs": []
    },
    {
      "cell_type": "markdown",
      "source": [
        "As we did with the encoder input sequences, we need to pad out this batch so that all sequences within it are the same length."
      ],
      "metadata": {
        "id": "9mt1R5ho9Wxz"
      }
    },
    {
      "cell_type": "code",
      "source": [
        "# To ensure uniformity in length of sequence, pad the input sequences\n",
        "padded_target_input_seqs = tf.keras.preprocessing.sequence.pad_sequences(target_input_seqs, padding=\"post\")\n",
        "\n",
        "# print the padded sequences\n",
        "print(\"Padded target inputs to the decoder:\")\n",
        "print(padded_target_input_seqs.shape)\n",
        "print(padded_target_input_seqs)"
      ],
      "metadata": {
        "id": "S4Ff5Is6rt6_",
        "colab": {
          "base_uri": "https://localhost:8080/"
        },
        "outputId": "8528462c-e76e-4a89-a466-307dbaec8d35"
      },
      "execution_count": null,
      "outputs": [
        {
          "output_type": "stream",
          "name": "stdout",
          "text": [
            "Padded target inputs to the decoder:\n",
            "(3, 8)\n",
            "[[   1  652  723  123   62    0    0    0]\n",
            " [   1   25   98  129  248  215  359  249]\n",
            " [   1 2369 1259  125  486    0    0    0]]\n"
          ]
        }
      ]
    },
    {
      "cell_type": "markdown",
      "source": [
        "We can create the padding mask the same way we did for the encoder."
      ],
      "metadata": {
        "id": "FcrHKY7I9azo"
      }
    },
    {
      "cell_type": "code",
      "source": [
        "# create the padding mask\n",
        "dec_padding_mask = tf.cast(tf.math.not_equal(padded_target_input_seqs, 0), tf.float32)\n",
        "dec_padding_mask = dec_padding_mask[:, tf.newaxis, tf.newaxis, :]\n",
        "print(dec_padding_mask)"
      ],
      "metadata": {
        "id": "6X-wRkiwrt8e",
        "colab": {
          "base_uri": "https://localhost:8080/"
        },
        "outputId": "45c55557-ca44-491c-a68d-80cae04049fb"
      },
      "execution_count": null,
      "outputs": [
        {
          "output_type": "stream",
          "name": "stdout",
          "text": [
            "tf.Tensor(\n",
            "[[[[1. 1. 1. 1. 1. 0. 0. 0.]]]\n",
            "\n",
            "\n",
            " [[[1. 1. 1. 1. 1. 1. 1. 1.]]]\n",
            "\n",
            "\n",
            " [[[1. 1. 1. 1. 1. 0. 0. 0.]]]], shape=(3, 1, 1, 8), dtype=float32)\n"
          ]
        }
      ]
    },
    {
      "cell_type": "markdown",
      "source": [
        "The look-ahead mask is a diagonal where the lower half are 1s and the upper half are zeros. This is easy to create using the *band_part* method:<br>"
      ],
      "metadata": {
        "id": "OUyUIswX9lDu"
      }
    },
    {
      "cell_type": "code",
      "source": [
        "# create the look-ahead mask\n",
        "\n",
        "# get length of target input sequence\n",
        "target_input_seq_len = padded_target_input_seqs.shape[1]\n",
        "# create look-ahead mask using band part\n",
        "look_ahead_mask = tf.linalg.band_part(tf.ones((target_input_seq_len,\n",
        "                                               target_input_seq_len)), -1, 0)\n",
        "# print\n",
        "print(look_ahead_mask)"
      ],
      "metadata": {
        "id": "VoIRvu4FruAB",
        "colab": {
          "base_uri": "https://localhost:8080/"
        },
        "outputId": "d22e47c8-2a5e-430e-f9d9-ca15995dd377"
      },
      "execution_count": null,
      "outputs": [
        {
          "output_type": "stream",
          "name": "stdout",
          "text": [
            "tf.Tensor(\n",
            "[[1. 0. 0. 0. 0. 0. 0. 0.]\n",
            " [1. 1. 0. 0. 0. 0. 0. 0.]\n",
            " [1. 1. 1. 0. 0. 0. 0. 0.]\n",
            " [1. 1. 1. 1. 0. 0. 0. 0.]\n",
            " [1. 1. 1. 1. 1. 0. 0. 0.]\n",
            " [1. 1. 1. 1. 1. 1. 0. 0.]\n",
            " [1. 1. 1. 1. 1. 1. 1. 0.]\n",
            " [1. 1. 1. 1. 1. 1. 1. 1.]], shape=(8, 8), dtype=float32)\n"
          ]
        }
      ]
    },
    {
      "cell_type": "markdown",
      "source": [
        "To create the decoder mask, we just need to combine the padding and look-ahead masks. Note how the columns of the resulting decoder mask are all zero for padding positions."
      ],
      "metadata": {
        "id": "U2-RG3VP9teP"
      }
    },
    {
      "cell_type": "code",
      "source": [
        "# decoder mask = look ahead mask + padding mask\n",
        "dec_mask = tf.minimum(dec_padding_mask, look_ahead_mask)\n",
        "print(\"The decoder mask:\")\n",
        "print(dec_mask)"
      ],
      "metadata": {
        "id": "GhlKq-S3ruBj",
        "colab": {
          "base_uri": "https://localhost:8080/"
        },
        "outputId": "3dd67231-2d3b-4dbc-e89a-5ef26b90fda5"
      },
      "execution_count": null,
      "outputs": [
        {
          "output_type": "stream",
          "name": "stdout",
          "text": [
            "The decoder mask:\n",
            "tf.Tensor(\n",
            "[[[[1. 0. 0. 0. 0. 0. 0. 0.]\n",
            "   [1. 1. 0. 0. 0. 0. 0. 0.]\n",
            "   [1. 1. 1. 0. 0. 0. 0. 0.]\n",
            "   [1. 1. 1. 1. 0. 0. 0. 0.]\n",
            "   [1. 1. 1. 1. 1. 0. 0. 0.]\n",
            "   [1. 1. 1. 1. 1. 0. 0. 0.]\n",
            "   [1. 1. 1. 1. 1. 0. 0. 0.]\n",
            "   [1. 1. 1. 1. 1. 0. 0. 0.]]]\n",
            "\n",
            "\n",
            " [[[1. 0. 0. 0. 0. 0. 0. 0.]\n",
            "   [1. 1. 0. 0. 0. 0. 0. 0.]\n",
            "   [1. 1. 1. 0. 0. 0. 0. 0.]\n",
            "   [1. 1. 1. 1. 0. 0. 0. 0.]\n",
            "   [1. 1. 1. 1. 1. 0. 0. 0.]\n",
            "   [1. 1. 1. 1. 1. 1. 0. 0.]\n",
            "   [1. 1. 1. 1. 1. 1. 1. 0.]\n",
            "   [1. 1. 1. 1. 1. 1. 1. 1.]]]\n",
            "\n",
            "\n",
            " [[[1. 0. 0. 0. 0. 0. 0. 0.]\n",
            "   [1. 1. 0. 0. 0. 0. 0. 0.]\n",
            "   [1. 1. 1. 0. 0. 0. 0. 0.]\n",
            "   [1. 1. 1. 1. 0. 0. 0. 0.]\n",
            "   [1. 1. 1. 1. 1. 0. 0. 0.]\n",
            "   [1. 1. 1. 1. 1. 0. 0. 0.]\n",
            "   [1. 1. 1. 1. 1. 0. 0. 0.]\n",
            "   [1. 1. 1. 1. 1. 0. 0. 0.]]]], shape=(3, 1, 8, 8), dtype=float32)\n"
          ]
        }
      ]
    },
    {
      "cell_type": "markdown",
      "source": [
        "We can now declare a decoder and pass it everything it needs. In our case, the *memory* mask is the same as the *encoder* mask."
      ],
      "metadata": {
        "id": "PDrOy7J19yUn"
      }
    },
    {
      "cell_type": "code",
      "source": [
        "# instantiate a decoder\n",
        "\n",
        "decoder = Decoder(6, 12, 3, 48, 10000, 8)\n",
        "# calling decoder and storing output\n",
        "decoder_output, _ = decoder(encoder_output, padded_target_input_seqs,\n",
        "                            True, dec_mask, enc_mask)\n",
        "# print shape & output\n",
        "print(f\"Decoder output {decoder_output.shape}:\")\n",
        "print(decoder_output)"
      ],
      "metadata": {
        "id": "0OciEhV5ruEc",
        "colab": {
          "base_uri": "https://localhost:8080/"
        },
        "outputId": "e68a3494-8950-4704-e87f-614b9dc3fc8f"
      },
      "execution_count": null,
      "outputs": [
        {
          "output_type": "stream",
          "name": "stdout",
          "text": [
            "Decoder output (3, 8, 12):\n",
            "tf.Tensor(\n",
            "[[[-0.35240224 -0.09255086  0.5981188  -0.47783858  1.0116719\n",
            "   -0.3963539   0.47090745  2.0167794   0.08812489 -1.9566933\n",
            "    0.42447677 -1.3342404 ]\n",
            "  [-0.48240405  0.47164735  0.6342449  -0.93738294  1.1299092\n",
            "   -0.71613     0.7337725   1.787602   -0.04667569 -1.2827796\n",
            "    0.4114582  -1.7032615 ]\n",
            "  [-0.24198036  0.37110245  1.2110438  -0.43743718  0.9916652\n",
            "    0.21136616  0.15086094  0.90416807 -0.68330437 -2.6814625\n",
            "    0.64155674 -0.4375788 ]\n",
            "  [ 0.10134118  0.43719476  0.98255485 -0.2885427   0.5215785\n",
            "   -0.6340626   0.9028189   1.3904239   0.28538805 -2.3567224\n",
            "   -0.04818523 -1.2937874 ]\n",
            "  [ 0.18584651  0.4440183   1.7259588  -0.04739663  0.71059245\n",
            "   -0.666827   -0.65871215  1.0039469   0.1447046  -2.3806698\n",
            "    0.31110364 -0.7725658 ]\n",
            "  [-0.26562467  0.78949165  0.9789169  -1.351448    0.8759295\n",
            "   -1.2489833   0.11377887  1.9083608   0.27124098 -1.4632967\n",
            "   -0.05533588 -0.55303025]\n",
            "  [ 0.35578218  0.5296707   1.6487275   0.07710984  0.93667555\n",
            "   -0.77123946 -0.48052582  0.34834808  0.42073447 -2.527659\n",
            "    0.12798057 -0.665605  ]\n",
            "  [-0.613183    0.11565613  0.6840888  -0.498495    0.4140518\n",
            "   -0.33838388  0.8986132   1.4076957   0.7529051  -2.5951023\n",
            "    0.3742801  -0.60212696]]\n",
            "\n",
            " [[ 0.1788003   1.2620628   1.0102715   0.2827914   1.0208702\n",
            "    0.11927661 -1.713139    0.3621115   0.43997467 -1.9880209\n",
            "    0.02246894 -0.99746805]\n",
            "  [ 0.2523238   0.30610135  1.3270077   0.28013968  1.0169008\n",
            "   -0.2819651   0.3025371   0.5630633   0.16434814 -2.6376946\n",
            "   -0.08052771 -1.2122346 ]\n",
            "  [-1.4308947   0.5633054   0.32545814 -0.28234106  0.9795084\n",
            "    0.10472278 -0.06223032  0.57830703  1.0032228  -2.3196113\n",
            "    1.1625016  -0.6219488 ]\n",
            "  [-0.38483313  1.0551535   0.44551423  0.73730457  1.0664144\n",
            "   -0.2544723  -1.3691996   0.69798976  1.0451984  -1.9797107\n",
            "    0.12163273 -1.1809919 ]\n",
            "  [-0.58806825  0.90851516  1.2222489  -0.05719365  0.4896527\n",
            "    0.34456387 -0.2476926   0.5485102   0.7655766  -2.6122427\n",
            "    0.27852184 -1.0523926 ]\n",
            "  [-0.74233323  0.8238544   0.6413596   1.1476014   1.3810526\n",
            "   -0.55199736 -0.22316219  0.06941807  0.876934   -1.6055865\n",
            "    0.02964304 -1.8467842 ]\n",
            "  [ 0.30715317  0.4130448   1.4757175   0.21090843  0.50655997\n",
            "   -0.8076702  -0.6396989   0.6689614   1.2266525  -2.1045196\n",
            "    0.08088607 -1.3379955 ]\n",
            "  [-0.4707425   0.7494378   0.5210178  -1.0119208   0.67591\n",
            "   -0.12413146  1.2636706   0.84162813  0.7040796  -2.3732119\n",
            "    0.2032541  -0.97899204]]\n",
            "\n",
            " [[ 0.23992969 -0.06542421  1.1745082  -1.3978091  -0.85271615\n",
            "    0.56179523 -0.15280633 -0.823435    0.37935814  1.1859139\n",
            "   -1.7467576   1.4974432 ]\n",
            "  [ 0.24303538  0.16627176  1.0331736  -0.9480618  -1.104674\n",
            "    0.38650015  0.45226967 -0.8710932   0.34574163  0.38593182\n",
            "   -1.9585631   1.8694682 ]\n",
            "  [-0.7423711   0.03852185 -0.731007   -0.13296436  0.93045634\n",
            "    1.3149866   0.7471466   0.07964429 -0.06165246  0.11088763\n",
            "   -2.5795965   1.0259482 ]\n",
            "  [ 0.05098988  0.24437477  0.9492159  -0.87834865  0.43011826\n",
            "    0.15031052  0.07180205 -0.70003223  0.32715586  0.03799215\n",
            "   -2.48721     1.8036318 ]\n",
            "  [-0.50166845 -0.27535605 -0.17494778 -1.0287056  -0.18854713\n",
            "    1.4948667   0.2950657  -0.5334575   1.220262    0.85051006\n",
            "   -2.167309    1.0092871 ]\n",
            "  [-0.07028323  0.48467344  0.9444073  -0.8298809  -0.28899494\n",
            "    1.0057663  -0.18435907 -0.8987765   0.46450996  0.5406948\n",
            "   -2.4598317   1.2920746 ]\n",
            "  [-0.47631195  0.14232798  1.306164   -0.92065936 -0.32300818\n",
            "    0.9148588   1.1078122  -0.6370196  -0.04339171 -0.39505133\n",
            "   -2.1023655   1.4266446 ]\n",
            "  [-0.11043028  0.33077148  1.6152011  -0.4783843  -0.30527434\n",
            "    1.1549854  -0.24579364 -1.0778096   0.48291957 -0.5373021\n",
            "   -2.074014    1.2451309 ]]], shape=(3, 8, 12), dtype=float32)\n"
          ]
        }
      ]
    },
    {
      "cell_type": "markdown",
      "source": [
        "## Transformer"
      ],
      "metadata": {
        "id": "9ISmb6mA96Wi"
      }
    },
    {
      "cell_type": "markdown",
      "source": [
        "Combining all the components to build the **Transformer** architecture."
      ],
      "metadata": {
        "id": "4V7_9Upj9-YV"
      }
    },
    {
      "cell_type": "code",
      "source": [
        "# Transformer class serves as a container for both Encoder & Decoder components of Transformer to create a complete Transformer architecture\n",
        "class Transformer(tf.keras.Model):\n",
        "  # constructor of the transformer class\n",
        "  def __init__(self, num_blocks, d_model, num_heads, hidden_dim, source_vocab_size,\n",
        "               target_vocab_size, max_input_len, max_target_len, dropout_rate=0.1):\n",
        "    super(Transformer, self).__init__()\n",
        "\n",
        "    # instantiate the encoder & decoder objects using parameters\n",
        "    self.encoder = Encoder(num_blocks, d_model, num_heads, hidden_dim, source_vocab_size,\n",
        "                           max_input_len, dropout_rate)\n",
        "\n",
        "    self.decoder = Decoder(num_blocks, d_model, num_heads, hidden_dim, target_vocab_size,\n",
        "                           max_target_len, dropout_rate)\n",
        "\n",
        "    # The final dense layer to generate logits from the decoder output.\n",
        "    # This layer maps the decoder output to the vocabulary size of the target language, allowing us to predict the next token in the sequence.\n",
        "    self.output_layer = tf.keras.layers.Dense(target_vocab_size)\n",
        "\n",
        "  # call method defines the forward pass of the Transformer architecture\n",
        "  def call(self, input_seqs, target_input_seqs, training, encoder_mask,\n",
        "           decoder_mask, memory_mask):\n",
        "    # encoder forward pass\n",
        "    encoder_output, encoder_attn_weights = self.encoder(input_seqs,\n",
        "                                                        training, encoder_mask)\n",
        "    # decoder forward pass\n",
        "    decoder_output, decoder_attn_weights = self.decoder(encoder_output,\n",
        "                                                        target_input_seqs, training,\n",
        "                                                        decoder_mask, memory_mask)\n",
        "\n",
        "    # apply the ouput layer to decoder output\n",
        "    # returns logits along with encoder and decoder attenton weights\n",
        "    return self.output_layer(decoder_output), encoder_attn_weights, decoder_attn_weights\n",
        "\n",
        "# Transformer model inegrates the encoder decoder architecture of the transformer\n",
        "# allowing it to process input sequences and generate predictions\n",
        "\n",
        "# Logits are the raw, unnormalized output values produced by a neural network before being passed through an activation function."
      ],
      "metadata": {
        "id": "SIFDazfIruGd"
      },
      "execution_count": null,
      "outputs": []
    },
    {
      "cell_type": "code",
      "source": [
        "# instantiates the transformer class with specific hyperparameters\n",
        "transformer = Transformer(\n",
        "    num_blocks = 6,\n",
        "    d_model = 12,\n",
        "    num_heads = 3,\n",
        "    hidden_dim = 48,\n",
        "    source_vocab_size = bpemb_vocab_size,\n",
        "    target_vocab_size = 7000, # made-up target vocab size.\n",
        "    max_input_len = padded_input_seqs.shape[1],\n",
        "    max_target_len = padded_target_input_seqs.shape[1])\n",
        "\n",
        "# generating output : pass input sequences, target input sequences, and various masks (such as encoder mask, decoder mask, and memory mask)\n",
        "# to your Transformer instance.\n",
        "# This triggers the call method, which performs the forward pass through the encoder and decoder, ultimately producing transformer output.\n",
        "\n",
        "# output stored in transformers_output which contains the model's predictions\n",
        "transformer_output, _, _ = transformer(padded_input_seqs,\n",
        "                                       padded_target_input_seqs, True,\n",
        "                                       enc_mask, dec_mask, memory_mask=enc_mask)\n",
        "print(f\"Transformer output {transformer_output.shape}:\")\n",
        "print(transformer_output)"
      ],
      "metadata": {
        "id": "qBZnw8BWruIn",
        "colab": {
          "base_uri": "https://localhost:8080/"
        },
        "outputId": "521c9007-fc9f-4c0e-9980-ca9972a9ba0f"
      },
      "execution_count": null,
      "outputs": [
        {
          "output_type": "stream",
          "name": "stdout",
          "text": [
            "Transformer output (3, 8, 7000):\n",
            "tf.Tensor(\n",
            "[[[-0.0140021  -0.11545993  0.06662529 ...  0.10461231 -0.10615893\n",
            "   -0.01917124]\n",
            "  [-0.00456342 -0.09490623  0.02976934 ...  0.11172125 -0.11585973\n",
            "   -0.0071943 ]\n",
            "  [-0.02134351 -0.08947706  0.03839815 ...  0.09047087 -0.105516\n",
            "   -0.00530048]\n",
            "  ...\n",
            "  [-0.01112481 -0.10965801  0.01698265 ...  0.12514165 -0.12168716\n",
            "    0.02929601]\n",
            "  [-0.02983822 -0.07854118  0.01547286 ...  0.12020352 -0.12487702\n",
            "   -0.00868029]\n",
            "  [-0.03109496 -0.09448548 -0.01182013 ...  0.08452792 -0.06810641\n",
            "    0.01057798]]\n",
            "\n",
            " [[-0.05029397 -0.0689783   0.03305322 ...  0.07966007 -0.08178013\n",
            "   -0.03027399]\n",
            "  [-0.021686   -0.06998483  0.03489942 ...  0.1093443  -0.12109461\n",
            "   -0.00352084]\n",
            "  [-0.00988284 -0.10205258  0.03595487 ...  0.11510032 -0.08847072\n",
            "   -0.01084399]\n",
            "  ...\n",
            "  [-0.00725407 -0.10044172  0.01100004 ...  0.10099676 -0.10421087\n",
            "   -0.01658478]\n",
            "  [-0.03886113 -0.0952857   0.00675645 ...  0.08931804 -0.05216002\n",
            "   -0.01157759]\n",
            "  [-0.01030324 -0.09415484  0.01932447 ...  0.10913195 -0.09040655\n",
            "   -0.0095621 ]]\n",
            "\n",
            " [[ 0.02107449 -0.10223927  0.02019801 ...  0.10921437 -0.11749212\n",
            "    0.00112535]\n",
            "  [-0.00860118 -0.09125515  0.017462   ...  0.10809096 -0.11392128\n",
            "    0.00747165]\n",
            "  [-0.01686582 -0.09333043  0.00651015 ...  0.10984148 -0.11138064\n",
            "    0.02126637]\n",
            "  ...\n",
            "  [-0.01035977 -0.08148783 -0.01546242 ...  0.10773114 -0.09097715\n",
            "    0.02430607]\n",
            "  [ 0.00308447 -0.11528017  0.0200878  ...  0.12121776 -0.09952024\n",
            "    0.00701624]\n",
            "  [-0.01262554 -0.09092645  0.00773947 ...  0.1008841  -0.09372277\n",
            "    0.00439936]]], shape=(3, 8, 7000), dtype=float32)\n"
          ]
        }
      ]
    },
    {
      "cell_type": "markdown",
      "source": [
        "That's the whole original transformer from scratch."
      ],
      "metadata": {
        "id": "XyAXxC4z-SlS"
      }
    },
    {
      "cell_type": "markdown",
      "source": [
        "MLM and NSP are pre-training tasks/objectives and are not a part of architecture."
      ],
      "metadata": {
        "id": "hIVnE7GnH2LF"
      }
    },
    {
      "cell_type": "markdown",
      "source": [
        "The model we've trained can perform tasks related to sequence-to-sequence learning, such as machine translation, text summarization, and question answering. It can also be fine-tuned for specific downstream tasks like sentiment analysis, named entity recognition, and text classification. However, without MLM and NSP pre-training objectives, the model may not capture as rich contextual representations of language as models like BERT. Nonetheless, it can still be useful for a wide range of natural language processing tasks."
      ],
      "metadata": {
        "id": "muF63VJOqyuN"
      }
    },
    {
      "cell_type": "markdown",
      "source": [
        "### Hugging Face Pre-Trained Transformers"
      ],
      "metadata": {
        "id": "WDRD39QQ7Omq"
      }
    },
    {
      "cell_type": "markdown",
      "source": [
        "Exploring pre-training and transfer learning using the **Transformers** library from Hugging Face. **Transformers** is an API and toolkit to download pre-trained models and further train them as needed. <br>\n",
        "\n",
        "Starting with the **pipelines** module which abstracts a lot of operations such as tokenization, vectorization, inference, etc.<br>\n",
        "\n",
        "With **Transformers pipelines**, we can just feed text input and get text output. And there are **pipelines** for common tasks including classification, NER, summarization, etc.<br>"
      ],
      "metadata": {
        "id": "oCA55dGT7YQh"
      }
    },
    {
      "cell_type": "markdown",
      "source": [
        "Install Transformers"
      ],
      "metadata": {
        "id": "voTDbDWw7ncv"
      }
    },
    {
      "cell_type": "code",
      "source": [
        "!pip install transformers\n",
        "!pip install datasets"
      ],
      "metadata": {
        "colab": {
          "base_uri": "https://localhost:8080/"
        },
        "id": "C2pHdOYj93CJ",
        "outputId": "2a4355f6-2b56-4b16-be49-b89eb83b37da"
      },
      "execution_count": null,
      "outputs": [
        {
          "output_type": "stream",
          "name": "stdout",
          "text": [
            "Requirement already satisfied: transformers in /usr/local/lib/python3.10/dist-packages (4.38.2)\n",
            "Requirement already satisfied: filelock in /usr/local/lib/python3.10/dist-packages (from transformers) (3.13.1)\n",
            "Requirement already satisfied: huggingface-hub<1.0,>=0.19.3 in /usr/local/lib/python3.10/dist-packages (from transformers) (0.20.3)\n",
            "Requirement already satisfied: numpy>=1.17 in /usr/local/lib/python3.10/dist-packages (from transformers) (1.25.2)\n",
            "Requirement already satisfied: packaging>=20.0 in /usr/local/lib/python3.10/dist-packages (from transformers) (23.2)\n",
            "Requirement already satisfied: pyyaml>=5.1 in /usr/local/lib/python3.10/dist-packages (from transformers) (6.0.1)\n",
            "Requirement already satisfied: regex!=2019.12.17 in /usr/local/lib/python3.10/dist-packages (from transformers) (2023.12.25)\n",
            "Requirement already satisfied: requests in /usr/local/lib/python3.10/dist-packages (from transformers) (2.31.0)\n",
            "Requirement already satisfied: tokenizers<0.19,>=0.14 in /usr/local/lib/python3.10/dist-packages (from transformers) (0.15.2)\n",
            "Requirement already satisfied: safetensors>=0.4.1 in /usr/local/lib/python3.10/dist-packages (from transformers) (0.4.2)\n",
            "Requirement already satisfied: tqdm>=4.27 in /usr/local/lib/python3.10/dist-packages (from transformers) (4.66.2)\n",
            "Requirement already satisfied: fsspec>=2023.5.0 in /usr/local/lib/python3.10/dist-packages (from huggingface-hub<1.0,>=0.19.3->transformers) (2023.6.0)\n",
            "Requirement already satisfied: typing-extensions>=3.7.4.3 in /usr/local/lib/python3.10/dist-packages (from huggingface-hub<1.0,>=0.19.3->transformers) (4.10.0)\n",
            "Requirement already satisfied: charset-normalizer<4,>=2 in /usr/local/lib/python3.10/dist-packages (from requests->transformers) (3.3.2)\n",
            "Requirement already satisfied: idna<4,>=2.5 in /usr/local/lib/python3.10/dist-packages (from requests->transformers) (3.6)\n",
            "Requirement already satisfied: urllib3<3,>=1.21.1 in /usr/local/lib/python3.10/dist-packages (from requests->transformers) (2.0.7)\n",
            "Requirement already satisfied: certifi>=2017.4.17 in /usr/local/lib/python3.10/dist-packages (from requests->transformers) (2024.2.2)\n",
            "Collecting datasets\n",
            "  Downloading datasets-2.18.0-py3-none-any.whl (510 kB)\n",
            "\u001b[2K     \u001b[90m━━━━━━━━━━━━━━━━━━━━━━━━━━━━━━━━━━━━━━━━\u001b[0m \u001b[32m510.5/510.5 kB\u001b[0m \u001b[31m6.8 MB/s\u001b[0m eta \u001b[36m0:00:00\u001b[0m\n",
            "\u001b[?25hRequirement already satisfied: filelock in /usr/local/lib/python3.10/dist-packages (from datasets) (3.13.1)\n",
            "Requirement already satisfied: numpy>=1.17 in /usr/local/lib/python3.10/dist-packages (from datasets) (1.25.2)\n",
            "Requirement already satisfied: pyarrow>=12.0.0 in /usr/local/lib/python3.10/dist-packages (from datasets) (14.0.2)\n",
            "Requirement already satisfied: pyarrow-hotfix in /usr/local/lib/python3.10/dist-packages (from datasets) (0.6)\n",
            "Collecting dill<0.3.9,>=0.3.0 (from datasets)\n",
            "  Downloading dill-0.3.8-py3-none-any.whl (116 kB)\n",
            "\u001b[2K     \u001b[90m━━━━━━━━━━━━━━━━━━━━━━━━━━━━━━━━━━━━━━━━\u001b[0m \u001b[32m116.3/116.3 kB\u001b[0m \u001b[31m11.9 MB/s\u001b[0m eta \u001b[36m0:00:00\u001b[0m\n",
            "\u001b[?25hRequirement already satisfied: pandas in /usr/local/lib/python3.10/dist-packages (from datasets) (1.5.3)\n",
            "Requirement already satisfied: requests>=2.19.0 in /usr/local/lib/python3.10/dist-packages (from datasets) (2.31.0)\n",
            "Requirement already satisfied: tqdm>=4.62.1 in /usr/local/lib/python3.10/dist-packages (from datasets) (4.66.2)\n",
            "Requirement already satisfied: xxhash in /usr/local/lib/python3.10/dist-packages (from datasets) (3.4.1)\n",
            "Collecting multiprocess (from datasets)\n",
            "  Downloading multiprocess-0.70.16-py310-none-any.whl (134 kB)\n",
            "\u001b[2K     \u001b[90m━━━━━━━━━━━━━━━━━━━━━━━━━━━━━━━━━━━━━━━━\u001b[0m \u001b[32m134.8/134.8 kB\u001b[0m \u001b[31m13.6 MB/s\u001b[0m eta \u001b[36m0:00:00\u001b[0m\n",
            "\u001b[?25hRequirement already satisfied: fsspec[http]<=2024.2.0,>=2023.1.0 in /usr/local/lib/python3.10/dist-packages (from datasets) (2023.6.0)\n",
            "Requirement already satisfied: aiohttp in /usr/local/lib/python3.10/dist-packages (from datasets) (3.9.3)\n",
            "Requirement already satisfied: huggingface-hub>=0.19.4 in /usr/local/lib/python3.10/dist-packages (from datasets) (0.20.3)\n",
            "Requirement already satisfied: packaging in /usr/local/lib/python3.10/dist-packages (from datasets) (23.2)\n",
            "Requirement already satisfied: pyyaml>=5.1 in /usr/local/lib/python3.10/dist-packages (from datasets) (6.0.1)\n",
            "Requirement already satisfied: aiosignal>=1.1.2 in /usr/local/lib/python3.10/dist-packages (from aiohttp->datasets) (1.3.1)\n",
            "Requirement already satisfied: attrs>=17.3.0 in /usr/local/lib/python3.10/dist-packages (from aiohttp->datasets) (23.2.0)\n",
            "Requirement already satisfied: frozenlist>=1.1.1 in /usr/local/lib/python3.10/dist-packages (from aiohttp->datasets) (1.4.1)\n",
            "Requirement already satisfied: multidict<7.0,>=4.5 in /usr/local/lib/python3.10/dist-packages (from aiohttp->datasets) (6.0.5)\n",
            "Requirement already satisfied: yarl<2.0,>=1.0 in /usr/local/lib/python3.10/dist-packages (from aiohttp->datasets) (1.9.4)\n",
            "Requirement already satisfied: async-timeout<5.0,>=4.0 in /usr/local/lib/python3.10/dist-packages (from aiohttp->datasets) (4.0.3)\n",
            "Requirement already satisfied: typing-extensions>=3.7.4.3 in /usr/local/lib/python3.10/dist-packages (from huggingface-hub>=0.19.4->datasets) (4.10.0)\n",
            "Requirement already satisfied: charset-normalizer<4,>=2 in /usr/local/lib/python3.10/dist-packages (from requests>=2.19.0->datasets) (3.3.2)\n",
            "Requirement already satisfied: idna<4,>=2.5 in /usr/local/lib/python3.10/dist-packages (from requests>=2.19.0->datasets) (3.6)\n",
            "Requirement already satisfied: urllib3<3,>=1.21.1 in /usr/local/lib/python3.10/dist-packages (from requests>=2.19.0->datasets) (2.0.7)\n",
            "Requirement already satisfied: certifi>=2017.4.17 in /usr/local/lib/python3.10/dist-packages (from requests>=2.19.0->datasets) (2024.2.2)\n",
            "Requirement already satisfied: python-dateutil>=2.8.1 in /usr/local/lib/python3.10/dist-packages (from pandas->datasets) (2.8.2)\n",
            "Requirement already satisfied: pytz>=2020.1 in /usr/local/lib/python3.10/dist-packages (from pandas->datasets) (2023.4)\n",
            "Requirement already satisfied: six>=1.5 in /usr/local/lib/python3.10/dist-packages (from python-dateutil>=2.8.1->pandas->datasets) (1.16.0)\n",
            "Installing collected packages: dill, multiprocess, datasets\n",
            "Successfully installed datasets-2.18.0 dill-0.3.8 multiprocess-0.70.16\n"
          ]
        }
      ]
    },
    {
      "cell_type": "code",
      "source": [
        "import operator\n",
        "import pandas as pd\n",
        "import tensorflow as tf\n",
        "import transformers\n",
        "\n",
        "from datasets import load_dataset\n",
        "from tensorflow import keras\n",
        "from transformers import AutoTokenizer\n",
        "# pipelines allow to perform common NLP tasks such as text summarization, text classification, question answering\n",
        "# pipelines encapsulate operations like vectorization, tokenization\n",
        "from transformers import pipeline\n",
        "from transformers import TFAutoModelForQuestionAnswering"
      ],
      "metadata": {
        "id": "-zhPVEZ893AS"
      },
      "execution_count": null,
      "outputs": []
    },
    {
      "cell_type": "markdown",
      "source": [
        "### Hugging Face Pipelines"
      ],
      "metadata": {
        "id": "6jqE-aML72dd"
      }
    },
    {
      "cell_type": "markdown",
      "source": [
        "Use the **pipeline** (note the singular) abstraction which wraps all the other pipelines. Put simply, it'll be our interface to doing a bunch of NLP tasks."
      ],
      "metadata": {
        "id": "ZBpe3XD-78bV"
      }
    },
    {
      "cell_type": "markdown",
      "source": [
        "Using the **pipeline** abstraction is easy. We can instantiate a pipeline with a particular task, and it'll automatically download a suitable tokenizer and model behind the scenes for us and take care of the input and output operations.<br>"
      ],
      "metadata": {
        "id": "wQtvOU4A8Dg-"
      }
    },
    {
      "cell_type": "markdown",
      "source": [
        "Here, we're retrieving a pipeline for text-classification."
      ],
      "metadata": {
        "id": "K0o-F1F48Kxo"
      }
    },
    {
      "cell_type": "code",
      "source": [
        "# instantiating a pipeline for classification\n",
        "classifier = pipeline(\"text-classification\")"
      ],
      "metadata": {
        "colab": {
          "base_uri": "https://localhost:8080/",
          "height": 308,
          "referenced_widgets": [
            "8eb982bb8be8485cbad5645c28589caa",
            "a2273a34d27140a6b4f4a033a94bee7a",
            "bd6278604e8a4a08870c5f8b23b06734",
            "39d207fa39744d75bacb6dc36527f6de",
            "06496409398c4da89b5ff152fee38fd4",
            "c488eba411974618b0d1f8b169b4e07e",
            "49bf6259f7224cc5a26db85d46d549da",
            "c93f5da012f242488eb51b6c347f1bdb",
            "d514616ee9324780944373d8ed76c4c3",
            "8f5108806bb94a1f84cd66bdbef931ff",
            "5ba595a021ea4047b2b8e93bacd70701",
            "05df80ac84d249fa8c748a8688bfe3f4",
            "94002e8aebfd4ef693f8598295c694ce",
            "0f682436ad1e432496c06630d3529688",
            "fcbc633f9f254d2095f786d9b49d0436",
            "2703bd97af4f42f3983b57684f8725f7",
            "e0454cb5d3234c8aa96449238bd0a18a",
            "f60cb7ba05d849a9816d0d7a3b5f26ef",
            "8a96445a82934210aeccabc6b56c4c6f",
            "d111c85c013148349b3a9fa5ba0bde21",
            "874d043d050947caba6a9280938033a8",
            "3560cff528a14b3493e7e88157ef9ee1",
            "0bb3fef355e7464f895f430b4dcd5747",
            "716745e80154473d921d7f027835aaf9",
            "9432a21ba0c84d0e8205423f88180179",
            "ceeb8a6b1aa54cd4a8cd2746be8a26c7",
            "ac2e64d20992498eaff0d602addc6e0a",
            "da9f4cc0cc8842789eef4df4f1e93c32",
            "25bf89e96d9f4f7eb406262bf49b4c1a",
            "9ef96760352e494eac0d59cd12e11d0c",
            "0959ac40f1fb4722b0673244bf716692",
            "14dc82f3e9e64a3cae33e1860e924569",
            "17f02bfc5d55458b919d033135fe37f8",
            "a9587c47c1554a008bb0ae68f1950895",
            "f4db404d302d4ab295d2a8355276b7d5",
            "782e1479c3184b2ebed73f63d0f25202",
            "143dab13f0a44651bf8c0bd06e9937d2",
            "aa3890db0bc141d58394e980deeafe55",
            "cea928ed715e4d9da495612582c60c5b",
            "92a138c2e62e44c2be5f1438b69dc279",
            "4021db24cc5d403f8466dc4630f84629",
            "e0ffdcae627c4d22aba999127dd7d9b3",
            "c421444dd0664c228613f19b7a6c18d5",
            "cab073f1ee5b41a5ac091e1f53f16839"
          ]
        },
        "id": "GggtekDr929u",
        "outputId": "2ef996a4-0426-4d31-807a-9334615c01b3"
      },
      "execution_count": null,
      "outputs": [
        {
          "output_type": "stream",
          "name": "stderr",
          "text": [
            "No model was supplied, defaulted to distilbert/distilbert-base-uncased-finetuned-sst-2-english and revision af0f99b (https://huggingface.co/distilbert/distilbert-base-uncased-finetuned-sst-2-english).\n",
            "Using a pipeline without specifying a model name and revision in production is not recommended.\n",
            "/usr/local/lib/python3.10/dist-packages/huggingface_hub/utils/_token.py:88: UserWarning: \n",
            "The secret `HF_TOKEN` does not exist in your Colab secrets.\n",
            "To authenticate with the Hugging Face Hub, create a token in your settings tab (https://huggingface.co/settings/tokens), set it as secret in your Google Colab and restart your session.\n",
            "You will be able to reuse this secret in all of your notebooks.\n",
            "Please note that authentication is recommended but still optional to access public models or datasets.\n",
            "  warnings.warn(\n"
          ]
        },
        {
          "output_type": "display_data",
          "data": {
            "text/plain": [
              "config.json:   0%|          | 0.00/629 [00:00<?, ?B/s]"
            ],
            "application/vnd.jupyter.widget-view+json": {
              "version_major": 2,
              "version_minor": 0,
              "model_id": "8eb982bb8be8485cbad5645c28589caa"
            }
          },
          "metadata": {}
        },
        {
          "output_type": "display_data",
          "data": {
            "text/plain": [
              "model.safetensors:   0%|          | 0.00/268M [00:00<?, ?B/s]"
            ],
            "application/vnd.jupyter.widget-view+json": {
              "version_major": 2,
              "version_minor": 0,
              "model_id": "05df80ac84d249fa8c748a8688bfe3f4"
            }
          },
          "metadata": {}
        },
        {
          "output_type": "display_data",
          "data": {
            "text/plain": [
              "tokenizer_config.json:   0%|          | 0.00/48.0 [00:00<?, ?B/s]"
            ],
            "application/vnd.jupyter.widget-view+json": {
              "version_major": 2,
              "version_minor": 0,
              "model_id": "0bb3fef355e7464f895f430b4dcd5747"
            }
          },
          "metadata": {}
        },
        {
          "output_type": "display_data",
          "data": {
            "text/plain": [
              "vocab.txt:   0%|          | 0.00/232k [00:00<?, ?B/s]"
            ],
            "application/vnd.jupyter.widget-view+json": {
              "version_major": 2,
              "version_minor": 0,
              "model_id": "a9587c47c1554a008bb0ae68f1950895"
            }
          },
          "metadata": {}
        }
      ]
    },
    {
      "cell_type": "markdown",
      "source": [
        "We can use the pipeline immediately to classify some text. Tokenization, vectorization, etc is taken care of behind the scenes."
      ],
      "metadata": {
        "id": "3pGnyYYJ8VB7"
      }
    },
    {
      "cell_type": "code",
      "source": [
        "# we use a pipeline and behind the scenes it automatically downloads a suitable tokeniser, and model for text classification\n",
        "classifier(\"Alice was excited to go the island but it didn't live up to the hype.\")"
      ],
      "metadata": {
        "colab": {
          "base_uri": "https://localhost:8080/"
        },
        "id": "wwoXbZlU927o",
        "outputId": "e3eebc79-3df7-4b65-f268-7acc1a3c0727"
      },
      "execution_count": null,
      "outputs": [
        {
          "output_type": "execute_result",
          "data": {
            "text/plain": [
              "[{'label': 'NEGATIVE', 'score': 0.9993934631347656}]"
            ]
          },
          "metadata": {},
          "execution_count": 67
        }
      ]
    },
    {
      "cell_type": "code",
      "source": [
        "classifier(\"Bob doesn't do well in group situations but he said it wasn't bad.\")"
      ],
      "metadata": {
        "colab": {
          "base_uri": "https://localhost:8080/"
        },
        "id": "eE6uT3eB925B",
        "outputId": "af70782d-f7ec-4ea5-cf98-13015f2f4eba"
      },
      "execution_count": null,
      "outputs": [
        {
          "output_type": "execute_result",
          "data": {
            "text/plain": [
              "[{'label': 'POSITIVE', 'score': 0.9946909546852112}]"
            ]
          },
          "metadata": {},
          "execution_count": 68
        }
      ]
    },
    {
      "cell_type": "markdown",
      "source": [
        "Retrieving a pipeline for summarization\n"
      ],
      "metadata": {
        "id": "l1bKuxwQ8dxg"
      }
    },
    {
      "cell_type": "code",
      "source": [
        "# creating instance of summarization pipeline\n",
        "summarizer = pipeline(\"summarization\")"
      ],
      "metadata": {
        "colab": {
          "base_uri": "https://localhost:8080/",
          "height": 268,
          "referenced_widgets": [
            "af7fe2e39cda49a78f86f80c1a39c2b5",
            "5d02fa88143e41c79abd308ae582ced4",
            "bebf0a6044894b0081e558c36a46abc9",
            "763626fbc6974a6392791f37c920c08d",
            "2f76b6d4a7d24d6ba93215ece252bf12",
            "1104bc0b8f314ac8b477ffbcd7aae490",
            "6883bd7cf4b945d3a5a218189f117dc8",
            "ff1a5c149267422b883ebe05fa1dd108",
            "5ee6a74ee69d4cafbc2f6b1c23d7a091",
            "6f58f022cb224a6b87a7c04fc2869750",
            "d99b4a9285ac4480b06cb0be62950e75",
            "985068618a6e4f78b09c053811c5e3ed",
            "1ae6e0e70fef459b8eb507b6af13099b",
            "d9eb14d30d544601aee2c64ff93ef227",
            "e5e55991e62b41ccacad3b619fc49b49",
            "985c084de7194ee58d003e8e3e66c0c7",
            "3a6205f1147a433bac74d20eae5b5ca7",
            "f88358e3f7944ca78bf97fcf3dfdd758",
            "8c1fb690c9ac4b3ab0c0ee068d5c9142",
            "5cc635453a0f4e53befdf3dd2caeb73d",
            "28e2c9b214844a5299e7f4bc97a38c28",
            "1c0048cc36d241449bdad0ff949c41c9",
            "714e51092283412692ba89f11555682b",
            "20c6d0c18bd346729fb2c40d1cdb6e39",
            "723d1f1cfb4a4c15a9092a1ec6229766",
            "b0188443ee524659b37b971922b4d5ca",
            "a6aacddf34e84458a380d56974990fd3",
            "ff050ecf9f36472ea6a318e7b8888af1",
            "b2de4ad4102049feb23cda3f2658c582",
            "4a6281f203264d858fba98515115ae0d",
            "6a704221ee0c433584a8aec9b68303d0",
            "fe399112d03544ba9b0523130642288d",
            "055ddd9c1f714589b0ed48673ea9719b",
            "f9c4e4499a4b40cfbee9e7e40253b2d9",
            "53d3d77f98164765aa46827be49809a5",
            "5ac4c85e31ef42cd99e6c82251e8ed67",
            "e5417c64c34743e79d4cf4549432c282",
            "94c82c5c820f41509f21ecff09b654a1",
            "9d5d492d41e542cbbc226551155fa011",
            "e51e0841761f4278b570e75959d144a5",
            "ce41d48a656146458bbc68e577a87168",
            "230d7ab445994644a458bdcb96caba1d",
            "a8037ce6e7fb493ab46695963b829e54",
            "a4b18c8e32b147b7a8621524896f50d8",
            "682019824e084088ba5ed6b3569dd918",
            "e22c0357389649bbb0f8afb4e89b1cc6",
            "2488dda5ccbd4037a4089a39b6fbc572",
            "fcde3a410d0846628ae4c333a3c50dfd",
            "75d114ba24c04a17bc6fe769c61122d5",
            "6f45eb48e1c545efacd6c16283fc62e2",
            "24d46be43df84527a00d59cb037f3b19",
            "bfb39e78cad34b1ab4541c745d54228e",
            "d610599bb1b04e968ae0ca2ec03d7635",
            "6e77a5f960af4ee69fe4ab8c84f0b0be",
            "df3e1900ac2549d38342bea55ada519c"
          ]
        },
        "id": "8e8S_61c922P",
        "outputId": "ccbdc13e-e32b-4330-c4af-6c39d2bc35e0"
      },
      "execution_count": null,
      "outputs": [
        {
          "output_type": "stream",
          "name": "stderr",
          "text": [
            "No model was supplied, defaulted to sshleifer/distilbart-cnn-12-6 and revision a4f8f3e (https://huggingface.co/sshleifer/distilbart-cnn-12-6).\n",
            "Using a pipeline without specifying a model name and revision in production is not recommended.\n"
          ]
        },
        {
          "output_type": "display_data",
          "data": {
            "text/plain": [
              "config.json:   0%|          | 0.00/1.80k [00:00<?, ?B/s]"
            ],
            "application/vnd.jupyter.widget-view+json": {
              "version_major": 2,
              "version_minor": 0,
              "model_id": "af7fe2e39cda49a78f86f80c1a39c2b5"
            }
          },
          "metadata": {}
        },
        {
          "output_type": "display_data",
          "data": {
            "text/plain": [
              "pytorch_model.bin:   0%|          | 0.00/1.22G [00:00<?, ?B/s]"
            ],
            "application/vnd.jupyter.widget-view+json": {
              "version_major": 2,
              "version_minor": 0,
              "model_id": "985068618a6e4f78b09c053811c5e3ed"
            }
          },
          "metadata": {}
        },
        {
          "output_type": "stream",
          "name": "stderr",
          "text": [
            "/usr/local/lib/python3.10/dist-packages/torch/_utils.py:831: UserWarning: TypedStorage is deprecated. It will be removed in the future and UntypedStorage will be the only storage class. This should only matter to you if you are using storages directly.  To access UntypedStorage directly, use tensor.untyped_storage() instead of tensor.storage()\n",
            "  return self.fget.__get__(instance, owner)()\n"
          ]
        },
        {
          "output_type": "display_data",
          "data": {
            "text/plain": [
              "tokenizer_config.json:   0%|          | 0.00/26.0 [00:00<?, ?B/s]"
            ],
            "application/vnd.jupyter.widget-view+json": {
              "version_major": 2,
              "version_minor": 0,
              "model_id": "714e51092283412692ba89f11555682b"
            }
          },
          "metadata": {}
        },
        {
          "output_type": "display_data",
          "data": {
            "text/plain": [
              "vocab.json:   0%|          | 0.00/899k [00:00<?, ?B/s]"
            ],
            "application/vnd.jupyter.widget-view+json": {
              "version_major": 2,
              "version_minor": 0,
              "model_id": "f9c4e4499a4b40cfbee9e7e40253b2d9"
            }
          },
          "metadata": {}
        },
        {
          "output_type": "display_data",
          "data": {
            "text/plain": [
              "merges.txt:   0%|          | 0.00/456k [00:00<?, ?B/s]"
            ],
            "application/vnd.jupyter.widget-view+json": {
              "version_major": 2,
              "version_minor": 0,
              "model_id": "682019824e084088ba5ed6b3569dd918"
            }
          },
          "metadata": {}
        }
      ]
    },
    {
      "cell_type": "code",
      "source": [
        "text = \"\"\"\n",
        "Hans Niemann is launching a counterattack in his dispute with chess world\n",
        "champion Magnus Carlsen, filing a federal lawsuit that accuses Carlsen of\n",
        "maliciously colluding with others to defame the 19-year-old grandmaster and\n",
        "ruin his career.\n",
        "\n",
        "It's the latest move in a scandal that has injected unprecedented levels of\n",
        "drama into the world of elite chess since early September, when Carlsen\n",
        "suggested Niemann's upset victory over him at the Sinquefield Cup tournament\n",
        "in St. Louis was the result of cheating.\n",
        "\n",
        "Niemann wants a federal court in Missouri's eastern district to award him at\n",
        "least $100 million in damages. Defendants in the lawsuit include Carlsen, his\n",
        "company Play Magnus Group, the online platform Chess.com and its leader, Danny\n",
        "Rensch, along with grandmaster Hikaru Nakamura.\n",
        "\"\"\""
      ],
      "metadata": {
        "id": "IalpbJoq92vL"
      },
      "execution_count": null,
      "outputs": []
    },
    {
      "cell_type": "code",
      "source": [
        "summarizer(text)"
      ],
      "metadata": {
        "colab": {
          "base_uri": "https://localhost:8080/"
        },
        "id": "fZZSx1db92j5",
        "outputId": "210a5f8c-8d40-4ef8-f5ce-30c7dc2b6915"
      },
      "execution_count": null,
      "outputs": [
        {
          "output_type": "execute_result",
          "data": {
            "text/plain": [
              "[{'summary_text': ' Chess grandmaster Hans Niemann files federal lawsuit against Magnus Carlsen . He accuses Carlsen of colluding with others to defame the 19-year-old grandmaster . Defendants in the lawsuit include Carlsen, Play Magnus Group, the online platform Chess.com and its leader, Danny Rensch .'}]"
            ]
          },
          "metadata": {},
          "execution_count": 71
        }
      ]
    },
    {
      "cell_type": "markdown",
      "source": [
        "Retrieving a pipeline for question answering."
      ],
      "metadata": {
        "id": "spt0huwJ8qb_"
      }
    },
    {
      "cell_type": "code",
      "source": [
        "qa = pipeline(\"question-answering\")"
      ],
      "metadata": {
        "colab": {
          "base_uri": "https://localhost:8080/",
          "height": 233,
          "referenced_widgets": [
            "787d0e9fc9334bb5b047c32cf0b0d099",
            "84d19b9f642a4a83bd029edf3ca186be",
            "c9b59b91ecad404181ea8c37d141b3bb",
            "ca7f5f87f3614822a5f4e92b1215126b",
            "19319bc4225542ee9783f80652ecb5d7",
            "19d780ba308042fdab0502450b5b02e4",
            "ba5ec4240e014156a13e85490556a45d",
            "998fb52e1f1c4f2daeaa8c4b81ac8077",
            "c4c3300f83654c6e94c1743bdc615aec",
            "59d1aadc9c1540a3b9b4ed6ee7706039",
            "dca3b230e7164aab9ac793f60d363583",
            "256493cb6aaf40278b589b1b0ea6fd14",
            "5d19ebed410d4316ae95ec889c3c25eb",
            "ae0b1b9a518a457ba882c97898e61932",
            "fb5bb802043e41ccad5507eeac22c83c",
            "2e68544c4b524d91a0dc6269dc580fa2",
            "ce14699202504bbfbc66b1bd4783b0a1",
            "637e01b53e9a44028b3723c642d72a59",
            "e2dd114c8fd14b68abdbd681a00bca3b",
            "85eeb9b2712e4a6d8ef675036d5b9a10",
            "498ab4a6258d4b0ca33a25bb9384d55a",
            "ecad509ec3c14c31be9a79ef6cd1e716",
            "58f50320f8354e64b37d5a262358beff",
            "d196bf6233684a2abf905c95855da65e",
            "21c10486f52b479d96ef96159ecc6b1d",
            "e5357a940726427a8b4e7d99d732c055",
            "6903592bd9e24eae8bfab2bc576e3c20",
            "0ae3214ef5b44b6c97348aab4cabdc30",
            "1832939102904393bd3140f641c7a127",
            "42291bcd1da240b6859f29f000af7068",
            "cd0796989a3147778d24a1113acb3a53",
            "65d6c4422de94306b4d655b58cc866ba",
            "17076e8bddc24bc2a2172ff9bf11ab46",
            "a985ce79c8cc47e2880a5769c4e46f76",
            "bb2606bb9df74b8ba0ebead0c710c7ef",
            "b2a762b962904dbbaaf9fda30e52461d",
            "4503695d17ed457b918150bf5abbcb4c",
            "e5a487461094402d9f8a2ed2a9fa9955",
            "06bf813d43c7403b82c02b11ebea34e5",
            "2ce6b0e00766416eb90c7d53de56f35b",
            "348ea390cd9a43bf828c843e09cf8f5f",
            "1ecca8e0d3964fb5a2d744b3d0cb0857",
            "94ae030149914f5d902fb98ba46d723c",
            "856d8bf6629a4db5973241cbcf7e9566",
            "cfdecf9d32204c1ca404cea3d8e3611f",
            "40c3317a2b944c3a9844795fcbec5ae1",
            "dccbcd032f22456ba11cec06aeaea56e",
            "d2f9f3ea4f634ce89c6ede064e994d39",
            "1ba1ad83fcfc4aecad7334bd843b0500",
            "b5d4ec4d796e4d64b51dc943f4589a5f",
            "46db5fe7d9ca4928bcfbecacd3cce2a9",
            "9692d194158c486ca10b63da7e46e752",
            "896f6c9cca7f448dbfa8e0ec1b1c48ab",
            "85ec932ffc3a44639d40188d70137dce",
            "094d745f7ae44026b56c2def1b061204"
          ]
        },
        "id": "A8QAYEzE8mto",
        "outputId": "81d76315-2a60-4795-d10a-4135e886c004"
      },
      "execution_count": null,
      "outputs": [
        {
          "output_type": "stream",
          "name": "stderr",
          "text": [
            "No model was supplied, defaulted to distilbert/distilbert-base-cased-distilled-squad and revision 626af31 (https://huggingface.co/distilbert/distilbert-base-cased-distilled-squad).\n",
            "Using a pipeline without specifying a model name and revision in production is not recommended.\n"
          ]
        },
        {
          "output_type": "display_data",
          "data": {
            "text/plain": [
              "config.json:   0%|          | 0.00/473 [00:00<?, ?B/s]"
            ],
            "application/vnd.jupyter.widget-view+json": {
              "version_major": 2,
              "version_minor": 0,
              "model_id": "787d0e9fc9334bb5b047c32cf0b0d099"
            }
          },
          "metadata": {}
        },
        {
          "output_type": "display_data",
          "data": {
            "text/plain": [
              "model.safetensors:   0%|          | 0.00/261M [00:00<?, ?B/s]"
            ],
            "application/vnd.jupyter.widget-view+json": {
              "version_major": 2,
              "version_minor": 0,
              "model_id": "256493cb6aaf40278b589b1b0ea6fd14"
            }
          },
          "metadata": {}
        },
        {
          "output_type": "display_data",
          "data": {
            "text/plain": [
              "tokenizer_config.json:   0%|          | 0.00/29.0 [00:00<?, ?B/s]"
            ],
            "application/vnd.jupyter.widget-view+json": {
              "version_major": 2,
              "version_minor": 0,
              "model_id": "58f50320f8354e64b37d5a262358beff"
            }
          },
          "metadata": {}
        },
        {
          "output_type": "display_data",
          "data": {
            "text/plain": [
              "vocab.txt:   0%|          | 0.00/213k [00:00<?, ?B/s]"
            ],
            "application/vnd.jupyter.widget-view+json": {
              "version_major": 2,
              "version_minor": 0,
              "model_id": "a985ce79c8cc47e2880a5769c4e46f76"
            }
          },
          "metadata": {}
        },
        {
          "output_type": "display_data",
          "data": {
            "text/plain": [
              "tokenizer.json:   0%|          | 0.00/436k [00:00<?, ?B/s]"
            ],
            "application/vnd.jupyter.widget-view+json": {
              "version_major": 2,
              "version_minor": 0,
              "model_id": "cfdecf9d32204c1ca404cea3d8e3611f"
            }
          },
          "metadata": {}
        }
      ]
    },
    {
      "cell_type": "code",
      "source": [
        "context=\"\"\"\n",
        "Hugging Face was founded in 2016 by Clément Delangue, Julien Chaumond, and\n",
        "Thomas Wolf originally as a company that developed a chatbot app targeted at\n",
        "teenagers.[2] After open-sourcing the model behind the chatbot, the company\n",
        "pivoted to focus on being a platform for democratizing machine learning. In March\n",
        "2021, Hugging Face raised $40 million in a Series B funding round.\n",
        "\"\"\"\n",
        "\n",
        "question = \"Who are the Hugging Face founders?\"\n",
        "\n",
        "qa(question=question, context=context)"
      ],
      "metadata": {
        "colab": {
          "base_uri": "https://localhost:8080/"
        },
        "id": "ikVicVD9N72Q",
        "outputId": "72bc0b2c-6e5d-4edd-f4d2-e72b8fbd0a23"
      },
      "execution_count": null,
      "outputs": [
        {
          "output_type": "execute_result",
          "data": {
            "text/plain": [
              "{'score': 0.9919217228889465,\n",
              " 'start': 37,\n",
              " 'end': 88,\n",
              " 'answer': 'Clément Delangue, Julien Chaumond, and \\nThomas Wolf'}"
            ]
          },
          "metadata": {},
          "execution_count": 73
        }
      ]
    },
    {
      "cell_type": "markdown",
      "source": [
        "Extractive question-answering models work fine for certain domains, document structures, and questions. But situations that require reasoning, more complex parsing, or contain ambiguity can trip it up."
      ],
      "metadata": {
        "id": "eNJCzgo489mz"
      }
    },
    {
      "cell_type": "code",
      "source": [
        "question = \"What does Hugging Face do?\"\n",
        "qa(question=question, context=context)"
      ],
      "metadata": {
        "colab": {
          "base_uri": "https://localhost:8080/"
        },
        "id": "zuZa0ft78mrz",
        "outputId": "a2988c12-f040-40d0-e65d-86b87f6924c8"
      },
      "execution_count": null,
      "outputs": [
        {
          "output_type": "execute_result",
          "data": {
            "text/plain": [
              "{'score': 0.08730360865592957,\n",
              " 'start': 118,\n",
              " 'end': 164,\n",
              " 'answer': 'developed a chatbot app targeted at \\nteenagers'}"
            ]
          },
          "metadata": {},
          "execution_count": 74
        }
      ]
    },
    {
      "cell_type": "markdown",
      "source": [
        "There are ready made pieplines available for various tasks"
      ],
      "metadata": {
        "id": "6dv3M68F9Gsx"
      }
    },
    {
      "cell_type": "code",
      "source": [],
      "metadata": {
        "id": "nk9bBGU28mqO"
      },
      "execution_count": null,
      "outputs": []
    },
    {
      "cell_type": "markdown",
      "source": [
        "### Pre-Trained Model"
      ],
      "metadata": {
        "id": "YrMCHYODQYQn"
      }
    },
    {
      "cell_type": "markdown",
      "source": [
        "Fine-tuning using a dataset from the **Datasets** hub.<br>\n",
        "\n",
        "Hugging Face provides a **datasets** library to download and interact with the datasets."
      ],
      "metadata": {
        "id": "mR2iUMDOQf01"
      }
    },
    {
      "cell_type": "markdown",
      "source": [
        "The **Datasets** hub holds a bunch of question answering datasets. They differ based on data source, domain, and level of challenge.\n",
        "\n",
        "Using SQuAD, a famous dataset comprised of crowd-sourced questions on a set of Wikipedia articles, and where the answer is a span of text in the article.<br>"
      ],
      "metadata": {
        "id": "HYauz9ewQumA"
      }
    },
    {
      "cell_type": "code",
      "source": [
        "data = load_dataset(\"squad\")"
      ],
      "metadata": {
        "colab": {
          "base_uri": "https://localhost:8080/",
          "height": 177,
          "referenced_widgets": [
            "8b061764a2c8485899905060dad531fd",
            "48c465318e3f4169a7b519fe406352d8",
            "26a0ccbb378e43ae92d3f8b44c6bea5e",
            "ddc8610fc75d4e718d3ca3979243dd2e",
            "24b70192487a423bbfcfef62c8fd605d",
            "a26795b72898459882c4a3a7a9668ced",
            "1102ace09f5d401b985d96e3c0cb19ad",
            "8a2578a2ccd64105a8c84a60a1fd2f6d",
            "bb52f95511034479a5896fd527489c51",
            "b66d393eccc747f084e5662b5fa383dd",
            "38b5337aabbc437f86979b997ccfa5c8",
            "a72c0e1eecee4fbe949b1ad174b4488d",
            "17c5c1b028d24864a53578db64e66090",
            "fbb6c86ce14e4878bfd112ee5896f517",
            "c9063c3894a8429791e7b9f571674343",
            "dcfd6c51c36849b683af13c06d9f4b90",
            "174ac688ec914f7ebee8d0a5debe2f75",
            "b493f78c8fd34d8c89701158164a6c91",
            "f34c78b628e743f99e777bcab1ab9480",
            "59259fdd9a7a4d63b4af55b0b5f409d5",
            "f402d755bd5a4064b9305f965c30e4af",
            "b5c87215de624b119ecad4131e96a722",
            "759ad87f30ef497fae996ec11d3940a9",
            "6bbba41149b3445a9edf9e7f14061332",
            "adf841dc7ef94a4d92de12977eac4e17",
            "7b8801742436472a97f263f339023376",
            "6d35b620393e4ef2aec326d8a4671615",
            "bdbf8b3213724d9597af7d8fdc076bc4",
            "9b2e90b304bf4866a37510bc9ed3608f",
            "0dcc3ce8ec8d417f9fc3805bda87377e",
            "358358f4a7b54d7c93493320cd05920f",
            "3ec626ec30c24bf4b64e466a266f9757",
            "365e4a11bad94a8f85beafe8c4cdfed8",
            "54b2ea502edf4b10821a7da8fbaf09fd",
            "6c183e0639414c1b92bd83b6bf3e2dc4",
            "4209ffb734d8418289de72114aad2aab",
            "69fee0933d214344a4c02e2f45f95408",
            "c96167c0dda2417797b428fa02fb1ffa",
            "1e7c23f3c088433e972a333a56d857ef",
            "0e8949c5f9bd4d24bf022f801542db7c",
            "07eeae9e80874b038159cb5c95d3306b",
            "ccd28bcf6ba1431a82bfa8d591b8b65a",
            "74456b036dce484aabdbe9468f64bf09",
            "a4e4119023a24b79a5facc2fdf2db35f",
            "d73023f44ba148c3a11da14a7a859771",
            "19b2d4b64dca41ef92a549d911321810",
            "7248dff4eeaa4cbe95cff7f9a451ad8b",
            "de19e4186a0342329f7c9d405222bf36",
            "59327a8f972647cfb51e413ac19cdcd2",
            "8b597da350d14aaeb8a7dbac2cd6b7ae",
            "cf7a8e10bf964aeaa96c928c1cdc4a26",
            "087ecee089e842cd98c654163201ce15",
            "7defb7a04804415f86251f56e3e9a2f2",
            "1097e96026e942089b54f0949c1a4cba",
            "af0079a2c581457a83b83088d923a35e"
          ]
        },
        "id": "X3razSGj8moO",
        "outputId": "42efbaa8-ccf3-4e41-b172-669176d93004"
      },
      "execution_count": null,
      "outputs": [
        {
          "output_type": "display_data",
          "data": {
            "text/plain": [
              "Downloading readme:   0%|          | 0.00/7.62k [00:00<?, ?B/s]"
            ],
            "application/vnd.jupyter.widget-view+json": {
              "version_major": 2,
              "version_minor": 0,
              "model_id": "8b061764a2c8485899905060dad531fd"
            }
          },
          "metadata": {}
        },
        {
          "output_type": "display_data",
          "data": {
            "text/plain": [
              "Downloading data:   0%|          | 0.00/14.5M [00:00<?, ?B/s]"
            ],
            "application/vnd.jupyter.widget-view+json": {
              "version_major": 2,
              "version_minor": 0,
              "model_id": "a72c0e1eecee4fbe949b1ad174b4488d"
            }
          },
          "metadata": {}
        },
        {
          "output_type": "display_data",
          "data": {
            "text/plain": [
              "Downloading data:   0%|          | 0.00/1.82M [00:00<?, ?B/s]"
            ],
            "application/vnd.jupyter.widget-view+json": {
              "version_major": 2,
              "version_minor": 0,
              "model_id": "759ad87f30ef497fae996ec11d3940a9"
            }
          },
          "metadata": {}
        },
        {
          "output_type": "display_data",
          "data": {
            "text/plain": [
              "Generating train split:   0%|          | 0/87599 [00:00<?, ? examples/s]"
            ],
            "application/vnd.jupyter.widget-view+json": {
              "version_major": 2,
              "version_minor": 0,
              "model_id": "54b2ea502edf4b10821a7da8fbaf09fd"
            }
          },
          "metadata": {}
        },
        {
          "output_type": "display_data",
          "data": {
            "text/plain": [
              "Generating validation split:   0%|          | 0/10570 [00:00<?, ? examples/s]"
            ],
            "application/vnd.jupyter.widget-view+json": {
              "version_major": 2,
              "version_minor": 0,
              "model_id": "d73023f44ba148c3a11da14a7a859771"
            }
          },
          "metadata": {}
        }
      ]
    },
    {
      "cell_type": "markdown",
      "source": [
        "The **datasets** library downloads and automatically splits the data into train and validation sets. It returns a dictionary of **Dataset** objects:<br>"
      ],
      "metadata": {
        "id": "rXVD_57SRDUm"
      }
    },
    {
      "cell_type": "code",
      "source": [
        "data"
      ],
      "metadata": {
        "colab": {
          "base_uri": "https://localhost:8080/"
        },
        "id": "7Qz02l7e8mmV",
        "outputId": "ef7b9a35-b1ee-47aa-fbdd-16ef6d9d0a43"
      },
      "execution_count": null,
      "outputs": [
        {
          "output_type": "execute_result",
          "data": {
            "text/plain": [
              "DatasetDict({\n",
              "    train: Dataset({\n",
              "        features: ['id', 'title', 'context', 'question', 'answers'],\n",
              "        num_rows: 87599\n",
              "    })\n",
              "    validation: Dataset({\n",
              "        features: ['id', 'title', 'context', 'question', 'answers'],\n",
              "        num_rows: 10570\n",
              "    })\n",
              "})"
            ]
          },
          "metadata": {},
          "execution_count": 76
        }
      ]
    },
    {
      "cell_type": "markdown",
      "source": [
        "Looking at the data, we see every context (Wikipedia passage) is used multiple times. i.e., there are multiple questions and answers for each context.<br>\n",
        "\n",
        "Every answer is a span of text from the context and the character position where the answer starts in the context is given."
      ],
      "metadata": {
        "id": "weMiZRLVRM8N"
      }
    },
    {
      "cell_type": "code",
      "source": [
        "pd.DataFrame(data['train'][0, 1, 2, 100, 101, 102],\n",
        "             columns=[\"context\", \"question\", \"answers\"])"
      ],
      "metadata": {
        "colab": {
          "base_uri": "https://localhost:8080/",
          "height": 238
        },
        "id": "RDkiYgkM8mj_",
        "outputId": "84334dd2-6599-4192-a67d-58d8b6402d40"
      },
      "execution_count": null,
      "outputs": [
        {
          "output_type": "execute_result",
          "data": {
            "text/plain": [
              "                                             context  \\\n",
              "0  Architecturally, the school has a Catholic cha...   \n",
              "1  Architecturally, the school has a Catholic cha...   \n",
              "2  Architecturally, the school has a Catholic cha...   \n",
              "3  One of the main driving forces in the growth o...   \n",
              "4  One of the main driving forces in the growth o...   \n",
              "5  One of the main driving forces in the growth o...   \n",
              "\n",
              "                                            question  \\\n",
              "0  To whom did the Virgin Mary allegedly appear i...   \n",
              "1  What is in front of the Notre Dame Main Building?   \n",
              "2  The Basilica of the Sacred heart at Notre Dame...   \n",
              "3  In what year did the team lead by Knute Rockne...   \n",
              "4  How many years was Knute Rockne head coach at ...   \n",
              "5  How many national titles were won when Knute R...   \n",
              "\n",
              "                                             answers  \n",
              "0  {'text': ['Saint Bernadette Soubirous'], 'answ...  \n",
              "1  {'text': ['a copper statue of Christ'], 'answe...  \n",
              "2  {'text': ['the Main Building'], 'answer_start'...  \n",
              "3          {'text': ['1925'], 'answer_start': [354]}  \n",
              "4            {'text': ['13'], 'answer_start': [251]}  \n",
              "5         {'text': ['three'], 'answer_start': [274]}  "
            ],
            "text/html": [
              "\n",
              "  <div id=\"df-75473497-5d9a-476f-bc91-47f740b34bf4\" class=\"colab-df-container\">\n",
              "    <div>\n",
              "<style scoped>\n",
              "    .dataframe tbody tr th:only-of-type {\n",
              "        vertical-align: middle;\n",
              "    }\n",
              "\n",
              "    .dataframe tbody tr th {\n",
              "        vertical-align: top;\n",
              "    }\n",
              "\n",
              "    .dataframe thead th {\n",
              "        text-align: right;\n",
              "    }\n",
              "</style>\n",
              "<table border=\"1\" class=\"dataframe\">\n",
              "  <thead>\n",
              "    <tr style=\"text-align: right;\">\n",
              "      <th></th>\n",
              "      <th>context</th>\n",
              "      <th>question</th>\n",
              "      <th>answers</th>\n",
              "    </tr>\n",
              "  </thead>\n",
              "  <tbody>\n",
              "    <tr>\n",
              "      <th>0</th>\n",
              "      <td>Architecturally, the school has a Catholic cha...</td>\n",
              "      <td>To whom did the Virgin Mary allegedly appear i...</td>\n",
              "      <td>{'text': ['Saint Bernadette Soubirous'], 'answ...</td>\n",
              "    </tr>\n",
              "    <tr>\n",
              "      <th>1</th>\n",
              "      <td>Architecturally, the school has a Catholic cha...</td>\n",
              "      <td>What is in front of the Notre Dame Main Building?</td>\n",
              "      <td>{'text': ['a copper statue of Christ'], 'answe...</td>\n",
              "    </tr>\n",
              "    <tr>\n",
              "      <th>2</th>\n",
              "      <td>Architecturally, the school has a Catholic cha...</td>\n",
              "      <td>The Basilica of the Sacred heart at Notre Dame...</td>\n",
              "      <td>{'text': ['the Main Building'], 'answer_start'...</td>\n",
              "    </tr>\n",
              "    <tr>\n",
              "      <th>3</th>\n",
              "      <td>One of the main driving forces in the growth o...</td>\n",
              "      <td>In what year did the team lead by Knute Rockne...</td>\n",
              "      <td>{'text': ['1925'], 'answer_start': [354]}</td>\n",
              "    </tr>\n",
              "    <tr>\n",
              "      <th>4</th>\n",
              "      <td>One of the main driving forces in the growth o...</td>\n",
              "      <td>How many years was Knute Rockne head coach at ...</td>\n",
              "      <td>{'text': ['13'], 'answer_start': [251]}</td>\n",
              "    </tr>\n",
              "    <tr>\n",
              "      <th>5</th>\n",
              "      <td>One of the main driving forces in the growth o...</td>\n",
              "      <td>How many national titles were won when Knute R...</td>\n",
              "      <td>{'text': ['three'], 'answer_start': [274]}</td>\n",
              "    </tr>\n",
              "  </tbody>\n",
              "</table>\n",
              "</div>\n",
              "    <div class=\"colab-df-buttons\">\n",
              "\n",
              "  <div class=\"colab-df-container\">\n",
              "    <button class=\"colab-df-convert\" onclick=\"convertToInteractive('df-75473497-5d9a-476f-bc91-47f740b34bf4')\"\n",
              "            title=\"Convert this dataframe to an interactive table.\"\n",
              "            style=\"display:none;\">\n",
              "\n",
              "  <svg xmlns=\"http://www.w3.org/2000/svg\" height=\"24px\" viewBox=\"0 -960 960 960\">\n",
              "    <path d=\"M120-120v-720h720v720H120Zm60-500h600v-160H180v160Zm220 220h160v-160H400v160Zm0 220h160v-160H400v160ZM180-400h160v-160H180v160Zm440 0h160v-160H620v160ZM180-180h160v-160H180v160Zm440 0h160v-160H620v160Z\"/>\n",
              "  </svg>\n",
              "    </button>\n",
              "\n",
              "  <style>\n",
              "    .colab-df-container {\n",
              "      display:flex;\n",
              "      gap: 12px;\n",
              "    }\n",
              "\n",
              "    .colab-df-convert {\n",
              "      background-color: #E8F0FE;\n",
              "      border: none;\n",
              "      border-radius: 50%;\n",
              "      cursor: pointer;\n",
              "      display: none;\n",
              "      fill: #1967D2;\n",
              "      height: 32px;\n",
              "      padding: 0 0 0 0;\n",
              "      width: 32px;\n",
              "    }\n",
              "\n",
              "    .colab-df-convert:hover {\n",
              "      background-color: #E2EBFA;\n",
              "      box-shadow: 0px 1px 2px rgba(60, 64, 67, 0.3), 0px 1px 3px 1px rgba(60, 64, 67, 0.15);\n",
              "      fill: #174EA6;\n",
              "    }\n",
              "\n",
              "    .colab-df-buttons div {\n",
              "      margin-bottom: 4px;\n",
              "    }\n",
              "\n",
              "    [theme=dark] .colab-df-convert {\n",
              "      background-color: #3B4455;\n",
              "      fill: #D2E3FC;\n",
              "    }\n",
              "\n",
              "    [theme=dark] .colab-df-convert:hover {\n",
              "      background-color: #434B5C;\n",
              "      box-shadow: 0px 1px 3px 1px rgba(0, 0, 0, 0.15);\n",
              "      filter: drop-shadow(0px 1px 2px rgba(0, 0, 0, 0.3));\n",
              "      fill: #FFFFFF;\n",
              "    }\n",
              "  </style>\n",
              "\n",
              "    <script>\n",
              "      const buttonEl =\n",
              "        document.querySelector('#df-75473497-5d9a-476f-bc91-47f740b34bf4 button.colab-df-convert');\n",
              "      buttonEl.style.display =\n",
              "        google.colab.kernel.accessAllowed ? 'block' : 'none';\n",
              "\n",
              "      async function convertToInteractive(key) {\n",
              "        const element = document.querySelector('#df-75473497-5d9a-476f-bc91-47f740b34bf4');\n",
              "        const dataTable =\n",
              "          await google.colab.kernel.invokeFunction('convertToInteractive',\n",
              "                                                    [key], {});\n",
              "        if (!dataTable) return;\n",
              "\n",
              "        const docLinkHtml = 'Like what you see? Visit the ' +\n",
              "          '<a target=\"_blank\" href=https://colab.research.google.com/notebooks/data_table.ipynb>data table notebook</a>'\n",
              "          + ' to learn more about interactive tables.';\n",
              "        element.innerHTML = '';\n",
              "        dataTable['output_type'] = 'display_data';\n",
              "        await google.colab.output.renderOutput(dataTable, element);\n",
              "        const docLink = document.createElement('div');\n",
              "        docLink.innerHTML = docLinkHtml;\n",
              "        element.appendChild(docLink);\n",
              "      }\n",
              "    </script>\n",
              "  </div>\n",
              "\n",
              "\n",
              "<div id=\"df-532a5463-bcd6-4a9b-bf7c-98d712875af7\">\n",
              "  <button class=\"colab-df-quickchart\" onclick=\"quickchart('df-532a5463-bcd6-4a9b-bf7c-98d712875af7')\"\n",
              "            title=\"Suggest charts\"\n",
              "            style=\"display:none;\">\n",
              "\n",
              "<svg xmlns=\"http://www.w3.org/2000/svg\" height=\"24px\"viewBox=\"0 0 24 24\"\n",
              "     width=\"24px\">\n",
              "    <g>\n",
              "        <path d=\"M19 3H5c-1.1 0-2 .9-2 2v14c0 1.1.9 2 2 2h14c1.1 0 2-.9 2-2V5c0-1.1-.9-2-2-2zM9 17H7v-7h2v7zm4 0h-2V7h2v10zm4 0h-2v-4h2v4z\"/>\n",
              "    </g>\n",
              "</svg>\n",
              "  </button>\n",
              "\n",
              "<style>\n",
              "  .colab-df-quickchart {\n",
              "      --bg-color: #E8F0FE;\n",
              "      --fill-color: #1967D2;\n",
              "      --hover-bg-color: #E2EBFA;\n",
              "      --hover-fill-color: #174EA6;\n",
              "      --disabled-fill-color: #AAA;\n",
              "      --disabled-bg-color: #DDD;\n",
              "  }\n",
              "\n",
              "  [theme=dark] .colab-df-quickchart {\n",
              "      --bg-color: #3B4455;\n",
              "      --fill-color: #D2E3FC;\n",
              "      --hover-bg-color: #434B5C;\n",
              "      --hover-fill-color: #FFFFFF;\n",
              "      --disabled-bg-color: #3B4455;\n",
              "      --disabled-fill-color: #666;\n",
              "  }\n",
              "\n",
              "  .colab-df-quickchart {\n",
              "    background-color: var(--bg-color);\n",
              "    border: none;\n",
              "    border-radius: 50%;\n",
              "    cursor: pointer;\n",
              "    display: none;\n",
              "    fill: var(--fill-color);\n",
              "    height: 32px;\n",
              "    padding: 0;\n",
              "    width: 32px;\n",
              "  }\n",
              "\n",
              "  .colab-df-quickchart:hover {\n",
              "    background-color: var(--hover-bg-color);\n",
              "    box-shadow: 0 1px 2px rgba(60, 64, 67, 0.3), 0 1px 3px 1px rgba(60, 64, 67, 0.15);\n",
              "    fill: var(--button-hover-fill-color);\n",
              "  }\n",
              "\n",
              "  .colab-df-quickchart-complete:disabled,\n",
              "  .colab-df-quickchart-complete:disabled:hover {\n",
              "    background-color: var(--disabled-bg-color);\n",
              "    fill: var(--disabled-fill-color);\n",
              "    box-shadow: none;\n",
              "  }\n",
              "\n",
              "  .colab-df-spinner {\n",
              "    border: 2px solid var(--fill-color);\n",
              "    border-color: transparent;\n",
              "    border-bottom-color: var(--fill-color);\n",
              "    animation:\n",
              "      spin 1s steps(1) infinite;\n",
              "  }\n",
              "\n",
              "  @keyframes spin {\n",
              "    0% {\n",
              "      border-color: transparent;\n",
              "      border-bottom-color: var(--fill-color);\n",
              "      border-left-color: var(--fill-color);\n",
              "    }\n",
              "    20% {\n",
              "      border-color: transparent;\n",
              "      border-left-color: var(--fill-color);\n",
              "      border-top-color: var(--fill-color);\n",
              "    }\n",
              "    30% {\n",
              "      border-color: transparent;\n",
              "      border-left-color: var(--fill-color);\n",
              "      border-top-color: var(--fill-color);\n",
              "      border-right-color: var(--fill-color);\n",
              "    }\n",
              "    40% {\n",
              "      border-color: transparent;\n",
              "      border-right-color: var(--fill-color);\n",
              "      border-top-color: var(--fill-color);\n",
              "    }\n",
              "    60% {\n",
              "      border-color: transparent;\n",
              "      border-right-color: var(--fill-color);\n",
              "    }\n",
              "    80% {\n",
              "      border-color: transparent;\n",
              "      border-right-color: var(--fill-color);\n",
              "      border-bottom-color: var(--fill-color);\n",
              "    }\n",
              "    90% {\n",
              "      border-color: transparent;\n",
              "      border-bottom-color: var(--fill-color);\n",
              "    }\n",
              "  }\n",
              "</style>\n",
              "\n",
              "  <script>\n",
              "    async function quickchart(key) {\n",
              "      const quickchartButtonEl =\n",
              "        document.querySelector('#' + key + ' button');\n",
              "      quickchartButtonEl.disabled = true;  // To prevent multiple clicks.\n",
              "      quickchartButtonEl.classList.add('colab-df-spinner');\n",
              "      try {\n",
              "        const charts = await google.colab.kernel.invokeFunction(\n",
              "            'suggestCharts', [key], {});\n",
              "      } catch (error) {\n",
              "        console.error('Error during call to suggestCharts:', error);\n",
              "      }\n",
              "      quickchartButtonEl.classList.remove('colab-df-spinner');\n",
              "      quickchartButtonEl.classList.add('colab-df-quickchart-complete');\n",
              "    }\n",
              "    (() => {\n",
              "      let quickchartButtonEl =\n",
              "        document.querySelector('#df-532a5463-bcd6-4a9b-bf7c-98d712875af7 button');\n",
              "      quickchartButtonEl.style.display =\n",
              "        google.colab.kernel.accessAllowed ? 'block' : 'none';\n",
              "    })();\n",
              "  </script>\n",
              "</div>\n",
              "\n",
              "    </div>\n",
              "  </div>\n"
            ],
            "application/vnd.google.colaboratory.intrinsic+json": {
              "type": "dataframe",
              "summary": "{\n  \"name\": \"             columns=[\\\"context\\\", \\\"question\\\", \\\"answers\\\"])\",\n  \"rows\": 6,\n  \"fields\": [\n    {\n      \"column\": \"context\",\n      \"properties\": {\n        \"dtype\": \"category\",\n        \"num_unique_values\": 2,\n        \"samples\": [\n          \"One of the main driving forces in the growth of the University was its football team, the Notre Dame Fighting Irish. Knute Rockne became head coach in 1918. Under Rockne, the Irish would post a record of 105 wins, 12 losses, and five ties. During his 13 years the Irish won three national championships, had five undefeated seasons, won the Rose Bowl in 1925, and produced players such as George Gipp and the \\\"Four Horsemen\\\". Knute Rockne has the highest winning percentage (.881) in NCAA Division I/FBS football history. Rockne's offenses employed the Notre Dame Box and his defenses ran a 7\\u20132\\u20132 scheme. The last game Rockne coached was on December 14, 1930 when he led a group of Notre Dame all-stars against the New York Giants in New York City.\",\n          \"Architecturally, the school has a Catholic character. Atop the Main Building's gold dome is a golden statue of the Virgin Mary. Immediately in front of the Main Building and facing it, is a copper statue of Christ with arms upraised with the legend \\\"Venite Ad Me Omnes\\\". Next to the Main Building is the Basilica of the Sacred Heart. Immediately behind the basilica is the Grotto, a Marian place of prayer and reflection. It is a replica of the grotto at Lourdes, France where the Virgin Mary reputedly appeared to Saint Bernadette Soubirous in 1858. At the end of the main drive (and in a direct line that connects through 3 statues and the Gold Dome), is a simple, modern stone statue of Mary.\"\n        ],\n        \"semantic_type\": \"\",\n        \"description\": \"\"\n      }\n    },\n    {\n      \"column\": \"question\",\n      \"properties\": {\n        \"dtype\": \"string\",\n        \"num_unique_values\": 6,\n        \"samples\": [\n          \"To whom did the Virgin Mary allegedly appear in 1858 in Lourdes France?\",\n          \"What is in front of the Notre Dame Main Building?\"\n        ],\n        \"semantic_type\": \"\",\n        \"description\": \"\"\n      }\n    },\n    {\n      \"column\": \"answers\",\n      \"properties\": {\n        \"dtype\": \"object\",\n        \"semantic_type\": \"\",\n        \"description\": \"\"\n      }\n    }\n  ]\n}"
            }
          },
          "metadata": {},
          "execution_count": 77
        }
      ]
    },
    {
      "cell_type": "markdown",
      "source": [
        "\n",
        "1. Choose a pre-trained model based on what we want to accomplish and our constraints.\n",
        "2. Download the appropriate tokenizer for the pre-trained model.\n",
        "3. Tokenize and vectorize our dataset.\n",
        "4. Mark where each answer starts and ends in our vectorized dataset.\n",
        "5. Download the pre-trained model.\n",
        "6. Fine-tune the pre-trained model with the vectorized dataset."
      ],
      "metadata": {
        "id": "x2DW_0DSRYF9"
      }
    },
    {
      "cell_type": "markdown",
      "source": [
        "*DistilBERT* was created using a technique called *knowledge distillation*. The result is a model that performs almost as well as BERT but is 40% smaller and 60% faster.<br>\n",
        "\n",
        "*distilroberta-base* was created by applying knowledge distillation to *Roberta-Base*, a more powerful model than BERT.<br>\n",
        "\n",
        "The **Transformers** library provides a set of Auto Classes that can automatically retrieve configurations, tokenizers, and models based on a path or a name. We'll use the **AutoTokenizer** class to get the right tokenizer for *distilroberta-base*.<br>"
      ],
      "metadata": {
        "id": "TTADF4J0RjA3"
      }
    },
    {
      "cell_type": "code",
      "source": [
        "model_name = 'distilroberta-base'\n",
        "tokenizer = AutoTokenizer.from_pretrained(model_name)"
      ],
      "metadata": {
        "colab": {
          "base_uri": "https://localhost:8080/",
          "height": 177,
          "referenced_widgets": [
            "e02a1e3d1f454a0e8e0564e69eca578e",
            "57aca5635a12411f9003a9398325a6cd",
            "9f175f10a94043718ab721e9b31db1ed",
            "fbbc8cdd456a427f9a4cb7a14708cd52",
            "4a9457a02a5545cba1404c4f6da6168f",
            "589a030881c74a6da36523b1a53f3ae3",
            "a35a98e4241946e5b9700cbdc3d1b7c0",
            "9c39694ee0614f28bcc91f38d03a8d73",
            "1fc6e2f6fe8c433c99b7c54ec2b3a415",
            "ec444bb4bf3847d4a3869e7a3319949e",
            "ac623cf297a84180b2d4fe528be2c060",
            "6485a520c3f14e4089d7c584dae9bf75",
            "a1f7231d4c5a4e90b6e8cdc10129ec28",
            "8dd1689745194e3c9701aa81330a906e",
            "61aa94bfea8641fcab6459b10dd67fc7",
            "d52532a16a6844318cea5361e122224c",
            "a8ee3848b8fc4d45b5c2af790899ad70",
            "5f159ba8977f4084a1a69473a2ea04fa",
            "188d4fab89074262b5c5b0e11a1479c0",
            "c67b8ecf5f7042b5ac5f4607b2d38751",
            "d9bd00c5ffcc40028ee85db3db9505b7",
            "b27bf2383af74d47a419ecdaa550f719",
            "81cf11a1a9434bb6885452623569e125",
            "0f281048261248dca5d02fa4213eba67",
            "4d3370ffbc65411d967b91753aacd9fd",
            "9464c8a5288644f39bf8714cf0116bb9",
            "38b25fcd82e54d819cb04182f08d51e0",
            "4002dd1d0f4d4509a47eb92f74df91d3",
            "ce19d85a648a4dbb82be19f69eea67c6",
            "e9cc588494774eb3822e6cfe49dbb405",
            "2483f7ffe9a14e6198340bba27ebbe1e",
            "c1489d95a2894fa3aa9dd3f33be38bcd",
            "0a7ee402dce04fdb97ec9c75f9e5883f",
            "9d4f0dab7d5f4f42bd86eea5bb8d257a",
            "faf2adda561742c4b13ec7ab0d2a2895",
            "59c3af575814444b9337d84d00d2ce9f",
            "5bdfab2894334ea495ce47ac63a1256b",
            "10486888beef40d5ba44a4ddbce85063",
            "ea79824ca48142c08ca00aa368e37b13",
            "4efd7f3bc6114dce9ba7e99e5bb0cd76",
            "93c3e132d6654fb5b54726c03c7e21da",
            "3d183d3dddea43bf998b27d7cd4a3ecf",
            "93a4a2697d4e467f9103aebf8737b89a",
            "c9ac7cb311e44c798b6b3caadaab3486",
            "a16e2b90a16447eb9619ccc8fab963b6",
            "44058fcfc0004268bc1f45a8e85611c6",
            "6183e77c9a724f6bad3878cb48ffa32e",
            "68d803b9d63844c3baa8c8b0ac76a1ba",
            "eb01d74488bd4565966c6f0ea4769cae",
            "9bf9df82029d4ccea1b1f26de104b31d",
            "c87bbb3439ef48c5b13ca6287ffb3163",
            "7777d7386d7f47a5b82afe2792863fbb",
            "de870283845c4abaa0e9eba3691ea655",
            "cfda6eaf11e84cb1999b462a36fe7ab4",
            "edd39727c5014c579e980e777c903450"
          ]
        },
        "id": "beYL2ydL8mia",
        "outputId": "a817b617-fe49-49db-c359-ba73f6992f3d"
      },
      "execution_count": null,
      "outputs": [
        {
          "output_type": "display_data",
          "data": {
            "text/plain": [
              "tokenizer_config.json:   0%|          | 0.00/25.0 [00:00<?, ?B/s]"
            ],
            "application/vnd.jupyter.widget-view+json": {
              "version_major": 2,
              "version_minor": 0,
              "model_id": "e02a1e3d1f454a0e8e0564e69eca578e"
            }
          },
          "metadata": {}
        },
        {
          "output_type": "display_data",
          "data": {
            "text/plain": [
              "config.json:   0%|          | 0.00/480 [00:00<?, ?B/s]"
            ],
            "application/vnd.jupyter.widget-view+json": {
              "version_major": 2,
              "version_minor": 0,
              "model_id": "6485a520c3f14e4089d7c584dae9bf75"
            }
          },
          "metadata": {}
        },
        {
          "output_type": "display_data",
          "data": {
            "text/plain": [
              "vocab.json:   0%|          | 0.00/899k [00:00<?, ?B/s]"
            ],
            "application/vnd.jupyter.widget-view+json": {
              "version_major": 2,
              "version_minor": 0,
              "model_id": "81cf11a1a9434bb6885452623569e125"
            }
          },
          "metadata": {}
        },
        {
          "output_type": "display_data",
          "data": {
            "text/plain": [
              "merges.txt:   0%|          | 0.00/456k [00:00<?, ?B/s]"
            ],
            "application/vnd.jupyter.widget-view+json": {
              "version_major": 2,
              "version_minor": 0,
              "model_id": "9d4f0dab7d5f4f42bd86eea5bb8d257a"
            }
          },
          "metadata": {}
        },
        {
          "output_type": "display_data",
          "data": {
            "text/plain": [
              "tokenizer.json:   0%|          | 0.00/1.36M [00:00<?, ?B/s]"
            ],
            "application/vnd.jupyter.widget-view+json": {
              "version_major": 2,
              "version_minor": 0,
              "model_id": "a16e2b90a16447eb9619ccc8fab963b6"
            }
          },
          "metadata": {}
        }
      ]
    },
    {
      "cell_type": "markdown",
      "source": [
        "Calling *encode* converts a string to a sequence of integer token ids.<br>"
      ],
      "metadata": {
        "id": "JfLRMycYRyZD"
      }
    },
    {
      "cell_type": "code",
      "source": [
        "t = \"Where can I find a pizzeria?\"\n",
        "print(tokenizer.encode(t))"
      ],
      "metadata": {
        "colab": {
          "base_uri": "https://localhost:8080/"
        },
        "id": "9fS7wDiS8mgb",
        "outputId": "8c813e26-414a-49d1-df6d-4a7a8f9a28fc"
      },
      "execution_count": null,
      "outputs": [
        {
          "output_type": "stream",
          "name": "stdout",
          "text": [
            "[0, 13841, 64, 38, 465, 10, 26432, 6971, 116, 2]\n"
          ]
        }
      ]
    },
    {
      "cell_type": "markdown",
      "source": [
        "But to tokenize, we call the tokenizer object directly (i.e. using *\\_\\_call\\_\\_*).<br>\n",
        "\n",
        "This returns a sequence of ids and an attention mask in a **BatchEncoding** object:<br>\n",
        "\n",
        "Since there's no padding on this sample string, the mask is all 1s."
      ],
      "metadata": {
        "id": "ES7Dt0i1R4-u"
      }
    },
    {
      "cell_type": "code",
      "source": [
        "encoded_t = tokenizer(t)\n",
        "print(encoded_t)"
      ],
      "metadata": {
        "colab": {
          "base_uri": "https://localhost:8080/"
        },
        "id": "GPDanlQV8meh",
        "outputId": "26a605a7-2bc1-45e7-e28e-db4045ade2d0"
      },
      "execution_count": null,
      "outputs": [
        {
          "output_type": "stream",
          "name": "stdout",
          "text": [
            "{'input_ids': [0, 13841, 64, 38, 465, 10, 26432, 6971, 116, 2], 'attention_mask': [1, 1, 1, 1, 1, 1, 1, 1, 1, 1]}\n"
          ]
        }
      ]
    },
    {
      "cell_type": "markdown",
      "source": [
        "We can convert the ids back to tokens using *convert_ids_to_tokens*.<br>\n",
        "\n",
        "The tokenizer added a start of sequence token (\\<s\\>), end of sequence token (\\</s\\>), and how it uses Ġ to signal a word has preceding whitespace. Keep in mind that what you're seeing here is the output from the *distilroberta-base* tokenizer. Other tokenizers may work differently."
      ],
      "metadata": {
        "id": "6R3vFS1FSEE-"
      }
    },
    {
      "cell_type": "code",
      "source": [
        "print(tokenizer.convert_ids_to_tokens(encoded_t['input_ids']))"
      ],
      "metadata": {
        "colab": {
          "base_uri": "https://localhost:8080/"
        },
        "id": "iT2cFow28mcf",
        "outputId": "985ec76e-50a7-4ba9-f07f-1e6055a3f3e5"
      },
      "execution_count": null,
      "outputs": [
        {
          "output_type": "stream",
          "name": "stdout",
          "text": [
            "['<s>', 'Where', 'Ġcan', 'ĠI', 'Ġfind', 'Ġa', 'Ġpizz', 'eria', '?', '</s>']\n"
          ]
        }
      ]
    },
    {
      "cell_type": "markdown",
      "source": [
        "For question answering, we need to encode the question and context as a pair. In our case, we can do that by passing in both strings separated by a comma."
      ],
      "metadata": {
        "id": "X_MgmP8_SSL8"
      }
    },
    {
      "cell_type": "code",
      "source": [],
      "metadata": {
        "id": "iQBzhcm-8mWP"
      },
      "execution_count": null,
      "outputs": []
    },
    {
      "cell_type": "code",
      "source": [],
      "metadata": {
        "id": "-xiwgOkp8mUv"
      },
      "execution_count": null,
      "outputs": []
    },
    {
      "cell_type": "code",
      "source": [],
      "metadata": {
        "id": "gobpJmI98mTI"
      },
      "execution_count": null,
      "outputs": []
    },
    {
      "cell_type": "code",
      "source": [],
      "metadata": {
        "id": "NZPGeaW08mRR"
      },
      "execution_count": null,
      "outputs": []
    }
  ]
}